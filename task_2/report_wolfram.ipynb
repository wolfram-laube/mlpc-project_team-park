{
 "cells": [
  {
   "cell_type": "markdown",
   "source": [
    "### 1. Data Consistency & Quality\n",
    "\n",
    "#### a. Feature Statistics Analysis\n",
    "- **Method**: Use statistical analysis methods (mean, median, standard deviation, outliers detection via IQR or Z-score) on your feature data to detect inconsistencies.\n",
    "- **Tip**: Highlight any features with high variance or those that deviate significantly from the rest, indicating potential labeling errors or outliers.\n",
    "\n",
    "* Load and Inspect Data: Start by loading the metadata and feature files (.npy format) to understand the structure of your dataset. Inspect the basic statistics (mean, median, standard deviation) of the features to get an initial sense of the data.\n",
    "* Identify Outliers: Look for outliers in the dataset by plotting histograms or using statistical methods (e.g., z-scores, IQR). Outliers might indicate wrongly labeled data or anomalies in the recording process.\n",
    "* Label Consistency: Check if there are any labels that seem inconsistent with the majority of the data. For example, if you have text labels, ensure they are spelled correctly and used consistently.\n",
    "\n",
    "### 1. Loading the Data\n",
    "\n",
    "Given the size of the `.npy` file, it's essential to manage memory usage carefully. `numpy`'s `load` function is quite efficient, but we should ensure the system has enough RAM to handle the data. If memory issues arise, consider processing the data in chunks if possible.\n"
   ],
   "metadata": {
    "collapsed": false
   },
   "id": "1fc402f81a4dc4d8"
  },
  {
   "cell_type": "code",
   "execution_count": 1,
   "outputs": [],
   "source": [
    "import numpy as np\n",
    "\n",
    "# Assuming the path to your file is correct on your local system\n",
    "development_data = np.load('../dataset/development.npy')\n",
    "\n",
    "# Aliases used in the folllowing\n",
    "X = development_data\n",
    "features = development_data"
   ],
   "metadata": {
    "collapsed": false,
    "ExecuteTime": {
     "end_time": "2024-03-27T06:05:55.197228Z",
     "start_time": "2024-03-27T06:05:47.153086Z"
    }
   },
   "id": "184c75537821e434"
  },
  {
   "cell_type": "markdown",
   "source": [
    "\n",
    "### 2. Inspecting the Data\n",
    "\n",
    "After loading the data, you'll want to understand its structure:\n"
   ],
   "metadata": {
    "collapsed": false
   },
   "id": "85bc582d29c094f6"
  },
  {
   "cell_type": "code",
   "execution_count": 2,
   "outputs": [
    {
     "name": "stdout",
     "output_type": "stream",
     "text": [
      "Data Shape: (45296, 175, 44)\n"
     ]
    }
   ],
   "source": [
    "print(f\"Data Shape: {development_data.shape}\")"
   ],
   "metadata": {
    "collapsed": false,
    "ExecuteTime": {
     "end_time": "2024-03-27T06:06:49.365873Z",
     "start_time": "2024-03-27T06:06:49.350552Z"
    }
   },
   "id": "d00a914b8d63eed"
  },
  {
   "cell_type": "markdown",
   "source": [
    "**What is the third dimension?**"
   ],
   "metadata": {
    "collapsed": false
   },
   "id": "b2fef0fe5ec0ca59"
  },
  {
   "cell_type": "markdown",
   "source": [
    "### 3. Basic Statistical Analysis\n",
    "\n",
    "Next, you can perform some basic statistical analyses to understand the data's distribution. Calculating statistics like mean, median, and standard deviation can provide insights into the nature of your features.\n"
   ],
   "metadata": {
    "collapsed": false
   },
   "id": "f2b772e273541f22"
  },
  {
   "cell_type": "code",
   "execution_count": 4,
   "outputs": [
    {
     "name": "stdout",
     "output_type": "stream",
     "text": [
      "Mean Values: [[3.03942693e+03 3.03820133e+03 3.02769718e+03 ... 2.91792958e+03\n",
      "  2.94516913e+03 2.96697957e+03]\n",
      " [2.22088099e+03 2.23360658e+03 2.24139082e+03 ... 1.94952912e+03\n",
      "  1.97629488e+03 1.99801396e+03]\n",
      " [7.11134549e+00 7.10817809e+00 7.16383794e+00 ... 7.39666427e+00\n",
      "  7.29964721e+00 7.22388765e+00]\n",
      " ...\n",
      " [1.43592282e+01 1.56439149e+01 1.69180138e+01 ... 1.07887624e+01\n",
      "  1.06942310e+01 1.06914037e+01]\n",
      " [1.97987934e+03 1.98151096e+03 1.98160459e+03 ... 1.78225132e+03\n",
      "  1.68788109e+03 1.56675985e+03]\n",
      " [1.61030168e-01 1.62471410e-01 1.64848717e-01 ... 1.31244370e-01\n",
      "  1.33132617e-01 1.34781769e-01]]\n",
      "Median Values: [[3.21434719e+03 3.21416410e+03 3.20197752e+03 ... 3.10212236e+03\n",
      "  3.13316382e+03 3.15099551e+03]\n",
      " [2.23431136e+03 2.24250666e+03 2.25138852e+03 ... 1.93898789e+03\n",
      "  1.97984403e+03 2.00690030e+03]\n",
      " [5.91345080e+00 5.93818675e+00 5.93470544e+00 ... 6.16267832e+00\n",
      "  6.06618147e+00 6.02063743e+00]\n",
      " ...\n",
      " [2.43435139e-02 2.61135148e-02 2.79089501e-02 ... 3.80503759e-02\n",
      "  3.37190889e-02 3.05178640e-02]\n",
      " [2.31164651e+02 2.38260971e+02 2.46404154e+02 ... 1.66151113e+02\n",
      "  1.49452819e+02 1.42926248e+02]\n",
      " [1.32500000e-01 1.32500000e-01 1.35000000e-01 ... 1.00000000e-01\n",
      "  1.05000000e-01 1.05000000e-01]]\n",
      "Standard Deviation: [[6.66770221e+02 6.62446877e+02 6.68348180e+02 ... 7.12428697e+02\n",
      "  6.99367822e+02 6.88191067e+02]\n",
      " [9.39259129e+02 9.49556620e+02 9.65097984e+02 ... 8.98969173e+02\n",
      "  8.92476176e+02 8.89081359e+02]\n",
      " [4.96816826e+00 4.93464575e+00 5.02110280e+00 ... 5.16617364e+00\n",
      "  5.11761715e+00 5.04473343e+00]\n",
      " ...\n",
      " [1.56519178e+02 1.60702246e+02 1.71714969e+02 ... 1.12451270e+02\n",
      "  1.25356438e+02 1.45800931e+02]\n",
      " [2.92910438e+03 2.89640443e+03 2.85377344e+03 ... 2.97449087e+03\n",
      "  2.93030693e+03 2.85750529e+03]\n",
      " [1.25755569e-01 1.26739375e-01 1.28686233e-01 ... 1.12002161e-01\n",
      "  1.12114099e-01 1.12267476e-01]]\n"
     ]
    }
   ],
   "source": [
    "# Calculate and print basic statistics\n",
    "mean_values = np.mean(development_data, axis=0)\n",
    "median_values = np.median(development_data, axis=0)\n",
    "std_deviation = np.std(development_data, axis=0)\n",
    "\n",
    "print(f\"Mean Values: {mean_values}\")\n",
    "print(f\"Median Values: {median_values}\")\n",
    "print(f\"Standard Deviation: {std_deviation}\")"
   ],
   "metadata": {
    "collapsed": false,
    "ExecuteTime": {
     "end_time": "2024-03-27T06:07:22.798677Z",
     "start_time": "2024-03-27T06:06:58.697131Z"
    }
   },
   "id": "404f34816ca4043e"
  },
  {
   "cell_type": "markdown",
   "source": [
    "\n",
    "### 4. Identifying Outliers\n",
    "\n",
    "#### **Statistical Methods**\n",
    "\n",
    "##### Z-Score\n",
    "The Z-score represents how many standard deviations away a data point is from the mean. Data points with a Z-score beyond a certain threshold (commonly 3 or -3) are considered outliers.\n"
   ],
   "metadata": {
    "collapsed": false
   },
   "id": "ff7f99f45bfd72c5"
  },
  {
   "cell_type": "code",
   "execution_count": 5,
   "outputs": [],
   "source": [
    "from scipy.stats import zscore\n",
    "\n",
    "# Assuming 'features' is a NumPy array with your data\n",
    "z_scores = np.abs(zscore(features, axis=0))\n",
    "outliers = np.where(z_scores > 3)"
   ],
   "metadata": {
    "collapsed": false,
    "ExecuteTime": {
     "end_time": "2024-03-27T06:07:46.270384Z",
     "start_time": "2024-03-27T06:07:27.954378Z"
    }
   },
   "id": "40853acc44d059ec"
  },
  {
   "cell_type": "markdown",
   "source": [
    "\n",
    "##### Interquartile Range (IQR)\n",
    "The IQR is the difference between the 75th percentile (Q3) and the 25th percentile (Q1). Data points that fall below Q1 - 1.5 * IQR or above Q3 + 1.5 * IQR are considered outliers.\n"
   ],
   "metadata": {
    "collapsed": false
   },
   "id": "8ea08269e751af9e"
  },
  {
   "cell_type": "code",
   "execution_count": 6,
   "outputs": [],
   "source": [
    "Q1 = np.percentile(features, 25, axis=0)\n",
    "Q3 = np.percentile(features, 75, axis=0)\n",
    "IQR = Q3 - Q1\n",
    "\n",
    "# Identifying outliers\n",
    "outlier_condition = ((features < (Q1 - 1.5 * IQR)) | (features > (Q3 + 1.5 * IQR)))\n",
    "outliers = np.where(outlier_condition)"
   ],
   "metadata": {
    "collapsed": false,
    "ExecuteTime": {
     "end_time": "2024-03-27T06:08:37.349282Z",
     "start_time": "2024-03-27T06:07:57.764756Z"
    }
   },
   "id": "dd3b4a89211d87f3"
  },
  {
   "cell_type": "markdown",
   "source": [
    "\n",
    "#### **Visualization**\n",
    "\n",
    "##### Box Plots\n",
    "Box plots visually show the distribution of the data, including outliers. Points that fall outside of the whiskers (1.5 times the IQR) are typically considered outliers.\n"
   ],
   "metadata": {
    "collapsed": false
   },
   "id": "f87817ee86fce1c9"
  },
  {
   "cell_type": "code",
   "execution_count": 7,
   "outputs": [
    {
     "data": {
      "text/plain": "<Figure size 640x480 with 1 Axes>",
      "image/png": "[encoded data removed]"
     },
     "metadata": {},
     "output_type": "display_data"
    }
   ],
   "source": [
    "import matplotlib.pyplot as plt\n",
    "import seaborn as sns\n",
    "\n",
    "# Example for one feature\n",
    "sns.boxplot(x=features[:,2])\n",
    "plt.show()"
   ],
   "metadata": {
    "collapsed": false,
    "ExecuteTime": {
     "end_time": "2024-03-27T06:09:51.213328Z",
     "start_time": "2024-03-27T06:09:47.693501Z"
    }
   },
   "id": "30b316cf45a319a"
  },
  {
   "cell_type": "markdown",
   "source": [
    "\n",
    "##### Scatter Plots\n",
    "Scatter plots can help visualize outliers in the context of two features. Outliers may appear far from the main cluster of data points.\n"
   ],
   "metadata": {
    "collapsed": false
   },
   "id": "47523c83d0762249"
  },
  {
   "cell_type": "code",
   "execution_count": 13,
   "outputs": [
    {
     "data": {
      "text/plain": "<Figure size 640x480 with 1 Axes>",
      "image/png": "[encoded data removed]"
     },
     "metadata": {},
     "output_type": "display_data"
    }
   ],
   "source": [
    "plt.scatter(features[:,2], features[:,5])\n",
    "plt.xlabel('Feature 1')\n",
    "plt.ylabel('Feature 2')\n",
    "plt.show()"
   ],
   "metadata": {
    "collapsed": false,
    "ExecuteTime": {
     "end_time": "2024-03-27T06:12:18.633882Z",
     "start_time": "2024-03-27T06:12:15.649516Z"
    }
   },
   "id": "fbe9c72295da3671"
  },
  {
   "cell_type": "markdown",
   "source": [
    "\n",
    "#### **Domain-Specific Criteria**\n",
    "\n",
    "In some cases, knowledge about the specific domain can help identify outliers. For example, if we know the expected range of feature values for audio energy, we can flag data points that fall outside this range as outliers. Unfortunately, we don't.\n",
    "\n",
    "### Handling Outliers\n",
    "\n",
    "Once identified, there are several options for dealing with outliers:\n",
    "- **Remove**: If we're confident an outlier is due to error or noise, removing it might be best.\n",
    "- **Cap/Floor**: Replace outlier values with the maximum/minimum allowed value.\n",
    "- **Adjust**: For slightly off values, you might adjust them based on domain knowledge or surrounding data points.\n",
    "- **Keep**: Sometimes, what appears to be an outlier is a valid data point that should be included in the analysis.\n"
   ],
   "metadata": {
    "collapsed": false
   },
   "id": "d636c95c761469d6"
  },
  {
   "cell_type": "markdown",
   "source": [
    "\n",
    "### 5. Checking Label Consistency\n",
    "\n",
    "If metadata includes labels, ensure they're consistent (e.g., all labels are correctly spelled and used uniformly). If labels are stored separately, you'd load them similarly and inspect their distribution and consistency.\n",
    "\n",
    "Given the limitations here, this strategy should get you started on your local environment. If you have specific questions about the process, need help with code snippets, or encounter any issues while implementing this, feel free to ask!\n",
    "\n",
    "#### b. Auditory Examination\n",
    "- **Method**: Listen to a random subset of recordings across different labels to assess biases.\n",
    "- **Tip**: Report on accent, age, or background noise biases. Consider if the dataset includes a diverse representation of users and environments.\n",
    "\n",
    "* Sample Recordings: Listen to a small, random set of recordings from each label to get a sense of the data's variety. Pay attention to accents, speech speed, and background noise.\n",
    "* Biases: Note any biases you observe. For example, if all recordings are from speakers with the same accent or if background noise is consistently present, it might limit the model's ability to generalize to other environments.\n",
    "* Representativeness: Consider whether the samples you've listened to seem representative of real-world usage. Are there any speech patterns, background noises, or situations missing that you'd expect in a household setting?\n",
    "\n",
    "#### c. \"Other\" Sounds Classification\n",
    "- **Method**: Categorize the types of \"Other\" sounds identified upon listening.\n",
    "- **Tip**: Discuss whether these sounds are common in household settings and could interfere with command recognition.\n",
    "\n",
    "* Explore \"Other\" Sounds: Listen to several examples from the \"Other\" category to identify the types of sounds included. Are these sounds likely to be encountered in a household environment (e.g., door closing, appliances working, pets)?\n",
    "* Representativeness of \"Other\" Sounds: Determine whether the \"Other\" category is comprehensive enough to include a wide variety of household sounds. This is important for ensuring your model can distinguish between command words and background noise.\n",
    "\n",
    "### 2. Label Characteristics\n",
    "\n",
    "#### a. Grouping Strategy\n",
    "- **Method**: Propose a logical grouping of the 20 words based on their functional use or similarity in sound.\n",
    "- **Tip**: Explain your rationale, focusing on the goal to enhance recognition accuracy or to mitigate confusion between similar commands.\n",
    "\n",
    "#### b. Class Balance Evaluation\n",
    "- **Method**: Calculate the distribution of labels to identify any imbalances.\n",
    "- **Tip**: Discuss potential challenges with unbalanced data, such as model bias towards more frequent labels, and propose strategies to address this (e.g., data augmentation, resampling).\n",
    "\n",
    "### 3. Feature Characteristics\n",
    "\n",
    "#### a. Distribution Analysis\n",
    "- **Method**: Visualize the distributions of pre-computed features using histograms or density plots.\n",
    "- **Tip**: Identify features with skewed or multimodal distributions that might need normalization or transformation.\n",
    "\n",
    "#### b. Correlation Analysis\n",
    "- **Method**: Utilize correlation matrices or scatter plots to identify correlated features.\n",
    "- **Tip**: Suggest if and how you might reduce dimensionality or remove redundant features to improve model efficiency.\n",
    "\n",
    "#### c. Speaker Variation\n",
    "- **Method**: Analyze feature distributions across different speakers.\n",
    "- **Tip**: Discuss if there are noticeable differences that could impact model performance and how speaker normalization could be applied.\n",
    "\n",
    "### 4. Feature / Label Agreement\n",
    "\n",
    "#### a. Feature Usefulness\n",
    "- **Method**: Apply techniques like feature importance from tree-based models or univariate feature selection.\n",
    "- **Tip**: Highlight features with strong correlations to labels and discuss their relevance for classification.\n",
    "\n",
    "#### b. Similar Words Feature Distribution\n",
    "- **Method**: Compare the feature distributions of similar-sounding words.\n",
    "- **Tip**: Explore if these distributions overlap significantly and discuss implications for distinguishing these commands in practice.\n",
    "\n",
    "### 5. Conclusion\n",
    "\n",
    "- **Synthesis**: Bring together your key findings, emphasizing insights on data quality, label and feature characteristics, and their implications for model development.\n",
    "- **Recommendations**: Offer concrete suggestions based on your analysis for improving the dataset or model training approach.\n",
    "\n",
    "### Contribution Statement\n",
    "\n",
    "- Detail each team member's contributions succinctly, ensuring transparency and accountability in your collaborative effort.\n",
    "\n",
    "Remember, your report should not only answer these questions but also be concise, given the page limit. Use visual aids (charts, graphs) effectively to complement your textual analysis, keeping the balance between text and visuals within the prescribed limit."
   ],
   "metadata": {
    "collapsed": false
   },
   "id": "b038c4292c595a0a"
  },
  {
   "cell_type": "code",
   "execution_count": null,
   "outputs": [],
   "source": [],
   "metadata": {
    "collapsed": false
   },
   "id": "805bc040685cd158"
  }
 ],
 "metadata": {
  "kernelspec": {
   "display_name": "Python 3",
   "language": "python",
   "name": "python3"
  },
  "language_info": {
   "codemirror_mode": {
    "name": "ipython",
    "version": 2
   },
   "file_extension": ".py",
   "mimetype": "text/x-python",
   "name": "python",
   "nbconvert_exporter": "python",
   "pygments_lexer": "ipython2",
   "version": "2.7.6"
  }
 },
 "nbformat": 4,
 "nbformat_minor": 5
}
