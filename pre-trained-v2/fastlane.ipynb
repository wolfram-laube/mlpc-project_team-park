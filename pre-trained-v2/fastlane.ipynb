{
  "cells": [
    {
      "cell_type": "markdown",
      "metadata": {
        "id": "view-in-github",
        "colab_type": "text"
      },
      "source": [
        "<a href=\"https://colab.research.google.com/github/wolfram-laube/mlpc-project_team-park/blob/wl/pre-trained-v2/fastlane.ipynb\" target=\"_parent\"><img src=\"https://colab.research.google.com/assets/colab-badge.svg\" alt=\"Open In Colab\"/></a>"
      ]
    },
    {
      "cell_type": "markdown",
      "source": [
        "# All-in-one Pre-trained Word Tokenizer v2"
      ],
      "metadata": {
        "id": "aBqcmGNf6a_6"
      },
      "id": "aBqcmGNf6a_6"
    },
    {
      "metadata": {
        "jupyter": {
          "is_executing": true
        },
        "ExecuteTime": {
          "start_time": "2024-06-12T10:39:20.114229Z"
        },
        "id": "a7e16625c29de281",
        "outputId": "d7e9be1c-4471-4e9b-ddc2-5a6c9c9a21b1",
        "colab": {
          "base_uri": "https://localhost:8080/"
        }
      },
      "cell_type": "code",
      "source": [
        "# Install necessary libraries if not already installed\n",
        "!pip install transformers librosa torch datasets noisereduce evaluate jiwer pandas accelerate\n",
        "\n"
      ],
      "outputs": [
        {
          "output_type": "stream",
          "name": "stdout",
          "text": [
            "Requirement already satisfied: transformers in /usr/local/lib/python3.10/dist-packages (4.41.2)\n",
            "Requirement already satisfied: librosa in /usr/local/lib/python3.10/dist-packages (0.10.2.post1)\n",
            "Requirement already satisfied: torch in /usr/local/lib/python3.10/dist-packages (2.3.0+cu121)\n",
            "Requirement already satisfied: datasets in /usr/local/lib/python3.10/dist-packages (2.19.2)\n",
            "Requirement already satisfied: noisereduce in /usr/local/lib/python3.10/dist-packages (3.0.2)\n",
            "Requirement already satisfied: evaluate in /usr/local/lib/python3.10/dist-packages (0.4.2)\n",
            "Requirement already satisfied: jiwer in /usr/local/lib/python3.10/dist-packages (3.0.4)\n",
            "Requirement already satisfied: pandas in /usr/local/lib/python3.10/dist-packages (2.0.3)\n",
            "Requirement already satisfied: accelerate in /usr/local/lib/python3.10/dist-packages (0.31.0)\n",
            "Requirement already satisfied: filelock in /usr/local/lib/python3.10/dist-packages (from transformers) (3.14.0)\n",
            "Requirement already satisfied: huggingface-hub<1.0,>=0.23.0 in /usr/local/lib/python3.10/dist-packages (from transformers) (0.23.3)\n",
            "Requirement already satisfied: numpy>=1.17 in /usr/local/lib/python3.10/dist-packages (from transformers) (1.25.2)\n",
            "Requirement already satisfied: packaging>=20.0 in /usr/local/lib/python3.10/dist-packages (from transformers) (24.1)\n",
            "Requirement already satisfied: pyyaml>=5.1 in /usr/local/lib/python3.10/dist-packages (from transformers) (6.0.1)\n",
            "Requirement already satisfied: regex!=2019.12.17 in /usr/local/lib/python3.10/dist-packages (from transformers) (2024.5.15)\n",
            "Requirement already satisfied: requests in /usr/local/lib/python3.10/dist-packages (from transformers) (2.32.3)\n",
            "Requirement already satisfied: tokenizers<0.20,>=0.19 in /usr/local/lib/python3.10/dist-packages (from transformers) (0.19.1)\n",
            "Requirement already satisfied: safetensors>=0.4.1 in /usr/local/lib/python3.10/dist-packages (from transformers) (0.4.3)\n",
            "Requirement already satisfied: tqdm>=4.27 in /usr/local/lib/python3.10/dist-packages (from transformers) (4.66.4)\n",
            "Requirement already satisfied: audioread>=2.1.9 in /usr/local/lib/python3.10/dist-packages (from librosa) (3.0.1)\n",
            "Requirement already satisfied: scipy>=1.2.0 in /usr/local/lib/python3.10/dist-packages (from librosa) (1.11.4)\n",
            "Requirement already satisfied: scikit-learn>=0.20.0 in /usr/local/lib/python3.10/dist-packages (from librosa) (1.2.2)\n",
            "Requirement already satisfied: joblib>=0.14 in /usr/local/lib/python3.10/dist-packages (from librosa) (1.4.2)\n",
            "Requirement already satisfied: decorator>=4.3.0 in /usr/local/lib/python3.10/dist-packages (from librosa) (4.4.2)\n",
            "Requirement already satisfied: numba>=0.51.0 in /usr/local/lib/python3.10/dist-packages (from librosa) (0.58.1)\n",
            "Requirement already satisfied: soundfile>=0.12.1 in /usr/local/lib/python3.10/dist-packages (from librosa) (0.12.1)\n",
            "Requirement already satisfied: pooch>=1.1 in /usr/local/lib/python3.10/dist-packages (from librosa) (1.8.2)\n",
            "Requirement already satisfied: soxr>=0.3.2 in /usr/local/lib/python3.10/dist-packages (from librosa) (0.3.7)\n",
            "Requirement already satisfied: typing-extensions>=4.1.1 in /usr/local/lib/python3.10/dist-packages (from librosa) (4.12.2)\n",
            "Requirement already satisfied: lazy-loader>=0.1 in /usr/local/lib/python3.10/dist-packages (from librosa) (0.4)\n",
            "Requirement already satisfied: msgpack>=1.0 in /usr/local/lib/python3.10/dist-packages (from librosa) (1.0.8)\n",
            "Requirement already satisfied: sympy in /usr/local/lib/python3.10/dist-packages (from torch) (1.12.1)\n",
            "Requirement already satisfied: networkx in /usr/local/lib/python3.10/dist-packages (from torch) (3.3)\n",
            "Requirement already satisfied: jinja2 in /usr/local/lib/python3.10/dist-packages (from torch) (3.1.4)\n",
            "Requirement already satisfied: fsspec in /usr/local/lib/python3.10/dist-packages (from torch) (2023.6.0)\n",
            "Requirement already satisfied: nvidia-cuda-nvrtc-cu12==12.1.105 in /usr/local/lib/python3.10/dist-packages (from torch) (12.1.105)\n",
            "Requirement already satisfied: nvidia-cuda-runtime-cu12==12.1.105 in /usr/local/lib/python3.10/dist-packages (from torch) (12.1.105)\n",
            "Requirement already satisfied: nvidia-cuda-cupti-cu12==12.1.105 in /usr/local/lib/python3.10/dist-packages (from torch) (12.1.105)\n",
            "Requirement already satisfied: nvidia-cudnn-cu12==8.9.2.26 in /usr/local/lib/python3.10/dist-packages (from torch) (8.9.2.26)\n",
            "Requirement already satisfied: nvidia-cublas-cu12==12.1.3.1 in /usr/local/lib/python3.10/dist-packages (from torch) (12.1.3.1)\n",
            "Requirement already satisfied: nvidia-cufft-cu12==11.0.2.54 in /usr/local/lib/python3.10/dist-packages (from torch) (11.0.2.54)\n",
            "Requirement already satisfied: nvidia-curand-cu12==10.3.2.106 in /usr/local/lib/python3.10/dist-packages (from torch) (10.3.2.106)\n",
            "Requirement already satisfied: nvidia-cusolver-cu12==11.4.5.107 in /usr/local/lib/python3.10/dist-packages (from torch) (11.4.5.107)\n",
            "Requirement already satisfied: nvidia-cusparse-cu12==12.1.0.106 in /usr/local/lib/python3.10/dist-packages (from torch) (12.1.0.106)\n",
            "Requirement already satisfied: nvidia-nccl-cu12==2.20.5 in /usr/local/lib/python3.10/dist-packages (from torch) (2.20.5)\n",
            "Requirement already satisfied: nvidia-nvtx-cu12==12.1.105 in /usr/local/lib/python3.10/dist-packages (from torch) (12.1.105)\n",
            "Requirement already satisfied: triton==2.3.0 in /usr/local/lib/python3.10/dist-packages (from torch) (2.3.0)\n",
            "Requirement already satisfied: nvidia-nvjitlink-cu12 in /usr/local/lib/python3.10/dist-packages (from nvidia-cusolver-cu12==11.4.5.107->torch) (12.5.40)\n",
            "Requirement already satisfied: pyarrow>=12.0.0 in /usr/local/lib/python3.10/dist-packages (from datasets) (14.0.2)\n",
            "Requirement already satisfied: pyarrow-hotfix in /usr/local/lib/python3.10/dist-packages (from datasets) (0.6)\n",
            "Requirement already satisfied: dill<0.3.9,>=0.3.0 in /usr/local/lib/python3.10/dist-packages (from datasets) (0.3.8)\n",
            "Requirement already satisfied: xxhash in /usr/local/lib/python3.10/dist-packages (from datasets) (3.4.1)\n",
            "Requirement already satisfied: multiprocess in /usr/local/lib/python3.10/dist-packages (from datasets) (0.70.16)\n",
            "Requirement already satisfied: aiohttp in /usr/local/lib/python3.10/dist-packages (from datasets) (3.9.5)\n",
            "Requirement already satisfied: matplotlib in /usr/local/lib/python3.10/dist-packages (from noisereduce) (3.7.1)\n",
            "Requirement already satisfied: click<9.0.0,>=8.1.3 in /usr/local/lib/python3.10/dist-packages (from jiwer) (8.1.7)\n",
            "Requirement already satisfied: rapidfuzz<4,>=3 in /usr/local/lib/python3.10/dist-packages (from jiwer) (3.9.3)\n",
            "Requirement already satisfied: python-dateutil>=2.8.2 in /usr/local/lib/python3.10/dist-packages (from pandas) (2.8.2)\n",
            "Requirement already satisfied: pytz>=2020.1 in /usr/local/lib/python3.10/dist-packages (from pandas) (2023.4)\n",
            "Requirement already satisfied: tzdata>=2022.1 in /usr/local/lib/python3.10/dist-packages (from pandas) (2024.1)\n",
            "Requirement already satisfied: psutil in /usr/local/lib/python3.10/dist-packages (from accelerate) (5.9.5)\n",
            "Requirement already satisfied: aiosignal>=1.1.2 in /usr/local/lib/python3.10/dist-packages (from aiohttp->datasets) (1.3.1)\n",
            "Requirement already satisfied: attrs>=17.3.0 in /usr/local/lib/python3.10/dist-packages (from aiohttp->datasets) (23.2.0)\n",
            "Requirement already satisfied: frozenlist>=1.1.1 in /usr/local/lib/python3.10/dist-packages (from aiohttp->datasets) (1.4.1)\n",
            "Requirement already satisfied: multidict<7.0,>=4.5 in /usr/local/lib/python3.10/dist-packages (from aiohttp->datasets) (6.0.5)\n",
            "Requirement already satisfied: yarl<2.0,>=1.0 in /usr/local/lib/python3.10/dist-packages (from aiohttp->datasets) (1.9.4)\n",
            "Requirement already satisfied: async-timeout<5.0,>=4.0 in /usr/local/lib/python3.10/dist-packages (from aiohttp->datasets) (4.0.3)\n",
            "Requirement already satisfied: llvmlite<0.42,>=0.41.0dev0 in /usr/local/lib/python3.10/dist-packages (from numba>=0.51.0->librosa) (0.41.1)\n",
            "Requirement already satisfied: platformdirs>=2.5.0 in /usr/local/lib/python3.10/dist-packages (from pooch>=1.1->librosa) (4.2.2)\n",
            "Requirement already satisfied: six>=1.5 in /usr/local/lib/python3.10/dist-packages (from python-dateutil>=2.8.2->pandas) (1.16.0)\n",
            "Requirement already satisfied: charset-normalizer<4,>=2 in /usr/local/lib/python3.10/dist-packages (from requests->transformers) (3.3.2)\n",
            "Requirement already satisfied: idna<4,>=2.5 in /usr/local/lib/python3.10/dist-packages (from requests->transformers) (3.7)\n",
            "Requirement already satisfied: urllib3<3,>=1.21.1 in /usr/local/lib/python3.10/dist-packages (from requests->transformers) (2.0.7)\n",
            "Requirement already satisfied: certifi>=2017.4.17 in /usr/local/lib/python3.10/dist-packages (from requests->transformers) (2024.6.2)\n",
            "Requirement already satisfied: threadpoolctl>=2.0.0 in /usr/local/lib/python3.10/dist-packages (from scikit-learn>=0.20.0->librosa) (3.5.0)\n",
            "Requirement already satisfied: cffi>=1.0 in /usr/local/lib/python3.10/dist-packages (from soundfile>=0.12.1->librosa) (1.16.0)\n",
            "Requirement already satisfied: MarkupSafe>=2.0 in /usr/local/lib/python3.10/dist-packages (from jinja2->torch) (2.1.5)\n",
            "Requirement already satisfied: contourpy>=1.0.1 in /usr/local/lib/python3.10/dist-packages (from matplotlib->noisereduce) (1.2.1)\n",
            "Requirement already satisfied: cycler>=0.10 in /usr/local/lib/python3.10/dist-packages (from matplotlib->noisereduce) (0.12.1)\n",
            "Requirement already satisfied: fonttools>=4.22.0 in /usr/local/lib/python3.10/dist-packages (from matplotlib->noisereduce) (4.53.0)\n",
            "Requirement already satisfied: kiwisolver>=1.0.1 in /usr/local/lib/python3.10/dist-packages (from matplotlib->noisereduce) (1.4.5)\n",
            "Requirement already satisfied: pillow>=6.2.0 in /usr/local/lib/python3.10/dist-packages (from matplotlib->noisereduce) (9.4.0)\n",
            "Requirement already satisfied: pyparsing>=2.3.1 in /usr/local/lib/python3.10/dist-packages (from matplotlib->noisereduce) (3.1.2)\n",
            "Requirement already satisfied: mpmath<1.4.0,>=1.1.0 in /usr/local/lib/python3.10/dist-packages (from sympy->torch) (1.3.0)\n",
            "Requirement already satisfied: pycparser in /usr/local/lib/python3.10/dist-packages (from cffi>=1.0->soundfile>=0.12.1->librosa) (2.22)\n"
          ]
        }
      ],
      "execution_count": null,
      "id": "a7e16625c29de281"
    },
    {
      "metadata": {
        "id": "88c0c58ba28be994",
        "ExecuteTime": {
          "end_time": "2024-06-12T15:29:10.169566Z",
          "start_time": "2024-06-12T15:29:10.163939Z"
        }
      },
      "cell_type": "code",
      "source": [
        "data_dir = '/content/dataset'\n",
        "#data_dir = '../dataset'"
      ],
      "outputs": [],
      "execution_count": null,
      "id": "88c0c58ba28be994"
    },
    {
      "cell_type": "markdown",
      "source": [],
      "metadata": {
        "id": "F6hmJFJOT0Le"
      },
      "id": "F6hmJFJOT0Le"
    },
    {
      "metadata": {
        "id": "30ec71c806dc4641"
      },
      "cell_type": "markdown",
      "source": [
        "## Preproccess"
      ],
      "id": "30ec71c806dc4641"
    },
    {
      "cell_type": "markdown",
      "source": [
        "### Load fresh data"
      ],
      "metadata": {
        "id": "otx4q35T9o6p"
      },
      "id": "otx4q35T9o6p"
    },
    {
      "cell_type": "code",
      "source": [
        "import os\n",
        "import sys\n",
        "import shutil\n",
        "\n",
        "# Check if the environment is Google Colab\n",
        "try:\n",
        "    import google.colab\n",
        "    IN_COLAB = True\n",
        "except ImportError:\n",
        "    IN_COLAB = False\n",
        "\n",
        "if IN_COLAB:\n",
        "    # If in Google Colab\n",
        "    from google.colab import drive\n",
        "    import gdown\n",
        "\n",
        "    # Option 1: Download the file by its public link and expand it to the Colab runtime\n",
        "    import urllib.request\n",
        "    import zipfile\n",
        "\n",
        "    scnwavzip_file_id = '1oI1EsH1krrEPbH9MSZRzLHu-_4p6-njR' # https://drive.google.com/file/d/1oI1EsH1krrEPbH9MSZRzLHu-_4p6-njR/view?usp=sharing\n",
        "    scnnpyzip_file_id = '1oKgurvIgT93RGkxvxq8AA423VKlEVT7O' # https://drive.google.com/file/d/1oKgurvIgT93RGkxvxq8AA423VKlEVT7O/view?usp=sharing\n",
        "    wrdwavzip_file_id = '1o1yBqdtqH3tjOHN4GKISJHlY2Qyu_ouX' # https://drive.google.com/file/d/1o1yBqdtqH3tjOHN4GKISJHlY2Qyu_ouX/view?usp=sharing\n",
        "    wrdnpyzip_file_id = '1o2fj6QAM00zg8YMxsHwcNa2lkIXLXDYs' # https://drive.google.com/file/d/1o2fj6QAM00zg8YMxsHwcNa2lkIXLXDYs/view?usp=sharing\n",
        "    annotation_file_id = '1xLxget7c5nCkwYt9Ru2RpYi5rMkk_pl0'  # https://drive.google.com/file/d/1xLxget7c5nCkwYt9Ru2RpYi5rMkk_pl0/view?usp=sharing\n",
        "    scenes_file_id = '1xLgB7-cCz6nReyQbFJJcJGOUKCCbNhCG'  # https://drive.google.com/file/d/1xLgB7-cCz6nReyQbFJJcJGOUKCCbNhCG/view?usp=sharing\n",
        "\n",
        "    scnwavzip_url = f'https://drive.google.com/uc?id={scnwavzip_file_id}'\n",
        "    scnnpyzip_url = f'https://drive.google.com/uc?id={scnnpyzip_file_id}'\n",
        "    wrdwavzip_url = f'https://drive.google.com/uc?id={wrdwavzip_file_id}'\n",
        "    wrdnpyzip_url = f'https://drive.google.com/uc?id={wrdnpyzip_file_id}'\n",
        "    annotation_url = f'https://drive.google.com/uc?id={annotation_file_id}'\n",
        "    scenes_url = f'https://drive.google.com/uc?id={scenes_file_id}'\n",
        "\n",
        "    scnwavzip_path = '/content/scenes_data.zip'\n",
        "    scnnpyzip_path = '/content/scenes_feat.zip'\n",
        "    wrdwavzip_path = '/content/words_data.zip'\n",
        "    wrdnpyzip_path = '/content/words_feat.zip'\n",
        "    data_dir = '/content/dataset'\n",
        "    scenes_dir = f'{data_dir}/scenes'\n",
        "    words_dir = f'{data_dir}/words'\n",
        "    scenes_wav_dir = f'{scenes_dir}/wav'\n",
        "    scenes_npy_dir = f'{scenes_dir}/npy'\n",
        "    words_wav_dir = f'{data_dir}/words'\n",
        "    words_npy_dir = f'{data_dir}/words'\n",
        "\n",
        "    # Download the WAVZIP file\n",
        "    #urllib.request.urlretrieve(wavzip_url, wavzip_path)\n",
        "    gdown.download(scnwavzip_url, scnwavzip_path, quiet=False)\n",
        "\n",
        "    # Unzip the file\n",
        "    with zipfile.ZipFile(scnwavzip_path, 'r') as zip_ref:\n",
        "        zip_ref.extractall(data_dir)\n",
        "\n",
        "    print(f\"Scenes training data extracted to {data_dir}\")\n",
        "\n",
        "     # Create the 'scenes/wav' folder structure\n",
        "    os.makedirs(scenes_wav_dir, exist_ok=True)\n",
        "\n",
        "    # Copy .wav files to 'scenes/wav'\n",
        "    extracted_scenes_dir = os.path.join(data_dir, 'mlpc24_speech_commands', 'scenes')\n",
        "    for root, dirs, files in os.walk(extracted_scenes_dir):\n",
        "        for file in files:\n",
        "            if file.endswith('.wav'):\n",
        "                src_path = os.path.join(root, file)\n",
        "                dst_path = os.path.join(scenes_wav_dir, file)\n",
        "                shutil.copy(src_path, dst_path)\n",
        "\n",
        "    print(f\"Scenes training .wav files moved to {scenes_wav_dir}\")\n",
        "\n",
        "    # Download the SCNNPYZIP file\n",
        "    gdown.download(scnnpyzip_url, scnnpyzip_path, quiet=False)\n",
        "\n",
        "    # Unzip the file\n",
        "    with zipfile.ZipFile(scnnpyzip_path, 'r') as zip_ref:\n",
        "        zip_ref.extractall(data_dir)\n",
        "\n",
        "    print(f\"Scenes training features extracted to {data_dir}\")\n",
        "\n",
        "     # Create the 'scenes/npy' folder structure\n",
        "    os.makedirs(scenes_npy_dir, exist_ok=True)\n",
        "\n",
        "    # Copy .npy files to 'scenes/npy'\n",
        "    extracted_scenes_dir = os.path.join(data_dir, 'development_scenes')\n",
        "    for root, dirs, files in os.walk(extracted_scenes_dir):\n",
        "        for file in files:\n",
        "            if file.endswith('.npy'):\n",
        "                src_path = os.path.join(root, file)\n",
        "                dst_path = os.path.join(scenes_npy_dir, file)\n",
        "                shutil.copy(src_path, dst_path)\n",
        "\n",
        "    print(f\"Scenes training .npy files moved to {scenes_npy_dir}\")\n",
        "\n",
        "    # Download the WRDWAVZIP file\n",
        "    #urllib.request.urlretrieve(wavzip_url, wavzip_path)\n",
        "    gdown.download(wrdwavzip_url, wrdwavzip_path, quiet=False)\n",
        "\n",
        "    # Unzip the file\n",
        "    with zipfile.ZipFile(wrdwavzip_path, 'r') as zip_ref:\n",
        "        zip_ref.extractall(words_wav_dir)\n",
        "\n",
        "    print(f\"Words training data extracted to {words_wav_dir}\")\n",
        "\n",
        "    # Download the WRDNPYZIP file\n",
        "    gdown.download(wrdnpyzip_url, wrdnpyzip_path, quiet=False)\n",
        "\n",
        "    # Unzip the file\n",
        "    with zipfile.ZipFile(wrdnpyzip_path, 'r') as zip_ref:\n",
        "        zip_ref.extractall(words_npy_dir)\n",
        "\n",
        "    print(f\"Words training ,npy files s extracted to {words_npy_dir}\")\n",
        "\n",
        "\n",
        "    # Download the CSV files into the data_dir\n",
        "    annotation_orig_path = os.path.join(data_dir, 'development_scene_annotations.csv.orig') # Keep a backup copy because it needs fixing\n",
        "    annotation_path = os.path.join(data_dir, 'development_scene_annotations.csv')\n",
        "    scenes_path = os.path.join(data_dir, 'development_scenes.csv')\n",
        "\n",
        "    gdown.download(annotation_url, annotation_orig_path, quiet=False)\n",
        "    gdown.download(annotation_url, annotation_path, quiet=False)\n",
        "    gdown.download(scenes_url, scenes_path, quiet=False)\n",
        "\n",
        "    print(f\"CSV files downloaded to {scenes_dir}\")\n",
        "\n",
        "    # Option 2: Mount Google Drive and use the training data\n",
        "    # Note this really takes some time for preprocessing file by file\n",
        "    #drive.mount('/content/drive')\n",
        "    #data_dir = '/content/drive/My Drive/Dropbox/public/mlpc/dataset'\n",
        "\n",
        "    # Use this option to read from Google Drive instead\n",
        "    #print(f\"Using training data from {data_dir}\")\n",
        "else:\n",
        "    # If on local machine\n",
        "    data_dir = '../dataset'\n",
        "    print(f\"Using local training data from {data_dir}\")\n",
        "\n",
        "# Use the data_dir variable as the path to your training data"
      ],
      "metadata": {
        "id": "JwDs51sUeCQC",
        "outputId": "b54e2870-d1f8-4302-8925-5f731f9508b9",
        "colab": {
          "base_uri": "https://localhost:8080/"
        }
      },
      "execution_count": null,
      "outputs": [
        {
          "output_type": "stream",
          "name": "stderr",
          "text": [
            "Downloading...\n",
            "From (original): https://drive.google.com/uc?id=1oI1EsH1krrEPbH9MSZRzLHu-_4p6-njR\n",
            "From (redirected): https://drive.google.com/uc?id=1oI1EsH1krrEPbH9MSZRzLHu-_4p6-njR&confirm=t&uuid=c7689280-3f22-47d2-ab8a-e771d2565daa\n",
            "To: /content/scenes_data.zip\n",
            "100%|██████████| 305M/305M [00:03<00:00, 95.0MB/s]\n"
          ]
        },
        {
          "output_type": "stream",
          "name": "stdout",
          "text": [
            "Scenes training data extracted to /content/dataset\n",
            "Scenes training .wav files moved to /content/dataset/scenes/wav\n"
          ]
        },
        {
          "output_type": "stream",
          "name": "stderr",
          "text": [
            "Downloading...\n",
            "From (original): https://drive.google.com/uc?id=1oKgurvIgT93RGkxvxq8AA423VKlEVT7O\n",
            "From (redirected): https://drive.google.com/uc?id=1oKgurvIgT93RGkxvxq8AA423VKlEVT7O&confirm=t&uuid=3bdb366d-68f8-4696-b132-d6707a45e4ab\n",
            "To: /content/scenes_feat.zip\n",
            "100%|██████████| 422M/422M [00:02<00:00, 198MB/s]\n"
          ]
        },
        {
          "output_type": "stream",
          "name": "stdout",
          "text": [
            "Scenes training features extracted to /content/dataset\n",
            "Scenes training .npy files moved to /content/dataset/scenes/npy\n"
          ]
        },
        {
          "output_type": "stream",
          "name": "stderr",
          "text": [
            "Downloading...\n",
            "From (original): https://drive.google.com/uc?id=1o1yBqdtqH3tjOHN4GKISJHlY2Qyu_ouX\n",
            "From (redirected): https://drive.google.com/uc?id=1o1yBqdtqH3tjOHN4GKISJHlY2Qyu_ouX&confirm=t&uuid=47fe0d8d-9b48-4fae-a2de-428076670047\n",
            "To: /content/words_data.zip\n",
            "100%|██████████| 1.17G/1.17G [00:45<00:00, 25.9MB/s]\n"
          ]
        },
        {
          "output_type": "stream",
          "name": "stdout",
          "text": [
            "Words training data extracted to /content/dataset/words\n"
          ]
        },
        {
          "output_type": "stream",
          "name": "stderr",
          "text": [
            "Downloading...\n",
            "From (original): https://drive.google.com/uc?id=1o2fj6QAM00zg8YMxsHwcNa2lkIXLXDYs\n",
            "From (redirected): https://drive.google.com/uc?id=1o2fj6QAM00zg8YMxsHwcNa2lkIXLXDYs&confirm=t&uuid=690f4a96-d9fc-4dd9-a0a0-7701d65032bf\n",
            "To: /content/words_feat.zip\n",
            "100%|██████████| 1.51G/1.51G [00:58<00:00, 25.6MB/s]\n"
          ]
        },
        {
          "output_type": "stream",
          "name": "stdout",
          "text": [
            "Words training ,npy files s extracted to /content/dataset/words\n"
          ]
        },
        {
          "output_type": "stream",
          "name": "stderr",
          "text": [
            "Downloading...\n",
            "From: https://drive.google.com/uc?id=1xLxget7c5nCkwYt9Ru2RpYi5rMkk_pl0\n",
            "To: /content/dataset/development_scene_annotations.csv.orig\n",
            "100%|██████████| 70.4k/70.4k [00:00<00:00, 54.5MB/s]\n",
            "Downloading...\n",
            "From: https://drive.google.com/uc?id=1xLxget7c5nCkwYt9Ru2RpYi5rMkk_pl0\n",
            "To: /content/dataset/development_scene_annotations.csv\n",
            "100%|██████████| 70.4k/70.4k [00:00<00:00, 63.5MB/s]\n",
            "Downloading...\n",
            "From: https://drive.google.com/uc?id=1xLgB7-cCz6nReyQbFJJcJGOUKCCbNhCG\n",
            "To: /content/dataset/development_scenes.csv\n",
            "100%|██████████| 29.5k/29.5k [00:00<00:00, 37.7MB/s]"
          ]
        },
        {
          "output_type": "stream",
          "name": "stdout",
          "text": [
            "CSV files downloaded to /content/dataset/scenes\n"
          ]
        },
        {
          "output_type": "stream",
          "name": "stderr",
          "text": [
            "\n"
          ]
        }
      ],
      "id": "JwDs51sUeCQC"
    },
    {
      "cell_type": "markdown",
      "source": [
        "### Determine CPU/GPU"
      ],
      "metadata": {
        "id": "gLUlSVPX1-HN"
      },
      "id": "gLUlSVPX1-HN"
    },
    {
      "cell_type": "code",
      "source": [],
      "metadata": {
        "id": "Djbl1OuyUKwt"
      },
      "id": "Djbl1OuyUKwt",
      "execution_count": null,
      "outputs": []
    },
    {
      "cell_type": "code",
      "source": [
        "# Function to check if GPU is available\n",
        "#def is_gpu_available():\n",
        "#    try:\n",
        "#        result = subprocess.run(['nvidia-smi'], stdout=subprocess.PIPE, stderr=subprocess.PIPE)\n",
        "#        return result.returncode == 0\n",
        "#    except FileNotFoundError:\n",
        "#        return False\n",
        "\n",
        "def is_gpu_available():\n",
        "    try:\n",
        "        import torch\n",
        "        is_gpu = torch.cuda.is_available()\n",
        "        print(f'GPU available: {is_gpu}')\n",
        "        return is_gpu\n",
        "    except ImportError as ie:\n",
        "        print(\"No GPU support\", ie)\n",
        "        pass\n",
        "\n",
        "    try:\n",
        "        import tensorflow as tf\n",
        "        is_gpu =  tf.config.list_physical_devices('GPU') != []\n",
        "        print(f'GPU available: {is_gpu}')\n",
        "        return is_gpu\n",
        "    except ImportError as ie:\n",
        "        print(\"No GPU support\", ie)\n",
        "        pass\n",
        "\n",
        "    print(\"No GPU support found\")\n",
        "    return False\n",
        "\n",
        "is_gpu_available()"
      ],
      "metadata": {
        "id": "cUVQBQoa2Bwo",
        "outputId": "e9fc130b-14ec-4ab2-e913-373b48f4fe0c",
        "colab": {
          "base_uri": "https://localhost:8080/"
        }
      },
      "execution_count": null,
      "outputs": [
        {
          "output_type": "stream",
          "name": "stdout",
          "text": [
            "GPU available: True\n"
          ]
        },
        {
          "output_type": "execute_result",
          "data": {
            "text/plain": [
              "True"
            ]
          },
          "metadata": {},
          "execution_count": 4
        }
      ],
      "id": "cUVQBQoa2Bwo"
    },
    {
      "cell_type": "markdown",
      "source": [
        "### Fix erreneous metadata"
      ],
      "metadata": {
        "id": "vHCtYQczy61U"
      },
      "id": "vHCtYQczy61U"
    },
    {
      "cell_type": "markdown",
      "source": [
        "#### Before"
      ],
      "metadata": {
        "id": "itPPcObzUcqH"
      },
      "id": "itPPcObzUcqH"
    },
    {
      "cell_type": "code",
      "source": [
        "import pandas as pd\n",
        "\n",
        "# Load the CSV files\n",
        "scene_annotations_df = pd.read_csv(f'{data_dir}/development_scene_annotations.csv')\n",
        "scenes_df = pd.read_csv(f'{data_dir}/development_scenes.csv')\n",
        "\n",
        "# Check the head of the dataframes to understand their structure\n",
        "print(scene_annotations_df.head())\n",
        "print(scenes_df.head())\n",
        "\n",
        "# Check the distribution of labels in the annotations CSV\n",
        "label_distribution_annotations = scene_annotations_df['command'].value_counts()\n",
        "print(\"Label Distribution in development_scene_annotations.csv:\")\n",
        "print(label_distribution_annotations)\n",
        "\n",
        "# Check the distribution of speaker IDs in the scenes CSV\n",
        "label_distribution_scenes = scenes_df['speaker_id'].value_counts()\n",
        "print(\"Label Distribution in development_scenes.csv:\")\n",
        "print(label_distribution_scenes)\n"
      ],
      "metadata": {
        "id": "5z5d_iVyzFl5",
        "outputId": "72fb453e-0918-4234-e3e4-b45347f6cd3c",
        "colab": {
          "base_uri": "https://localhost:8080/"
        }
      },
      "execution_count": null,
      "outputs": [
        {
          "output_type": "stream",
          "name": "stdout",
          "text": [
            "                        filename         command     start       end\n",
            "0         2_speech_true_Ofen_aus        Ofen aus  11.25230  12.07747\n",
            "1         3_speech_true_Radio_an  Staubsauger an  21.48040  23.18083\n",
            "2         4_speech_true_Alarm_an        Alarm an  14.45720  16.08301\n",
            "3        9_speech_true_Radio_aus  Staubsauger an   3.67909   5.63126\n",
            "4  11_speech_false_Fernseher_aus  Staubsauger an  10.57850  11.67886\n",
            "                        filename  speaker_id\n",
            "0         2_speech_true_Ofen_aus         132\n",
            "1         3_speech_true_Radio_an         132\n",
            "2         4_speech_true_Alarm_an         132\n",
            "3        9_speech_true_Radio_aus         132\n",
            "4  11_speech_false_Fernseher_aus         132\n",
            "Label Distribution in development_scene_annotations.csv:\n",
            "command\n",
            "Staubsauger an     288\n",
            "Licht aus           77\n",
            "Licht an            64\n",
            "Fernseher an        56\n",
            "Alarm an            56\n",
            "Heizung an          55\n",
            "Heizung aus         54\n",
            "Radio aus           53\n",
            "Radio an            52\n",
            "Ofen aus            49\n",
            "Alarm aus           47\n",
            "Lüftung an          46\n",
            "Lüftung aus         43\n",
            "Staubsauger aus     43\n",
            "Ofen an             41\n",
            "Fernseher aus       41\n",
            "Name: count, dtype: int64\n",
            "Label Distribution in development_scenes.csv:\n",
            "speaker_id\n",
            "132    244\n",
            "240      8\n",
            "94       8\n",
            "196      7\n",
            "223      7\n",
            "      ... \n",
            "51       1\n",
            "235      1\n",
            "95       1\n",
            "105      1\n",
            "115      1\n",
            "Name: count, Length: 166, dtype: int64\n"
          ]
        }
      ],
      "id": "5z5d_iVyzFl5"
    },
    {
      "cell_type": "markdown",
      "source": [
        "#### Fix"
      ],
      "metadata": {
        "id": "WZb21UuUUbna"
      },
      "id": "WZb21UuUUbna"
    },
    {
      "cell_type": "code",
      "source": [
        "import os\n",
        "import re\n",
        "import shutil\n",
        "import pandas as pd\n",
        "\n",
        "# Paths to the original and working copy files\n",
        "original_file_path = f'{data_dir}/development_scene_annotations.csv.orig'\n",
        "working_copy_path = f'{data_dir}/development_scene_annotations.csv.0'\n",
        "corrected_file_path = f'{data_dir}/development_scene_annotations.csv'\n",
        "\n",
        "# Step 1: Create a working copy of the original file\n",
        "shutil.copy(original_file_path, working_copy_path)\n",
        "\n",
        "# Step 2: Load the working copy into a DataFrame\n",
        "df = pd.read_csv(working_copy_path)\n",
        "\n",
        "# Define the pattern to parse the filename\n",
        "filename_pattern = re.compile(r'(\\d+)_speech_(true|false)_((?:[a-zA-ZäöüÄÖÜß]+_(?:an|aus)_?)+)', re.UNICODE)\n",
        "\n",
        "# Function to parse filename and extract commands\n",
        "def parse_filename(filename):\n",
        "    match = filename_pattern.match(filename)\n",
        "    if not match:\n",
        "        return []\n",
        "\n",
        "    commands_str = match.group(3)\n",
        "    commands = commands_str.split('_')\n",
        "\n",
        "    command_list = []\n",
        "    for i in range(0, len(commands), 2):\n",
        "        command_list.append(f\"{commands[i]} {commands[i+1]}\")\n",
        "\n",
        "    return command_list\n",
        "\n",
        "# Parse the commands from filenames and add to the DataFrame\n",
        "df['parsed_commands'] = df['filename'].apply(parse_filename)\n",
        "\n",
        "# Step 3: Group by filename and sort by start time\n",
        "grouped = df.groupby('filename').apply(lambda x: x.sort_values(by='start')).reset_index(drop=True)\n",
        "\n",
        "# Step 4: Assign the correct labels based on the order of commands in the filename\n",
        "def assign_labels(group):\n",
        "    commands = group['parsed_commands'].iloc[0]  # get the parsed commands from the first row\n",
        "    group = group.reset_index(drop=True)\n",
        "    for i in range(len(group)):\n",
        "        if i < len(commands):\n",
        "            group.at[i, 'command'] = commands[i]\n",
        "        else:\n",
        "            print(f\"Warning: More segments than commands in {group['filename'].iloc[0]}\")\n",
        "    return group\n",
        "\n",
        "# Apply the label assignment function\n",
        "corrected_df = grouped.groupby('filename').apply(assign_labels).reset_index(drop=True)\n",
        "\n",
        "# Drop the temporary column\n",
        "corrected_df = corrected_df.drop(columns=['parsed_commands'])\n",
        "\n",
        "# Step 5: Save the corrected DataFrame to a new CSV file\n",
        "corrected_df.to_csv(corrected_file_path, index=False)\n",
        "\n",
        "# Verify the saved corrections\n",
        "print(\"Label corrections applied and saved successfully.\")\n",
        "print(corrected_df.head())\n"
      ],
      "metadata": {
        "id": "b1Jmhy83zMRi",
        "outputId": "49e8212b-1083-4f66-b4eb-cbb9082fb07e",
        "colab": {
          "base_uri": "https://localhost:8080/"
        }
      },
      "execution_count": null,
      "outputs": [
        {
          "output_type": "stream",
          "name": "stdout",
          "text": [
            "Label corrections applied and saved successfully.\n",
            "                        filename       command     start       end\n",
            "0    1003_speech_false_Licht_aus     Licht aus  12.20090  13.57599\n",
            "1       1008_speech_true_Ofen_an       Ofen an   6.90112   8.52638\n",
            "2      1010_speech_true_Radio_an      Radio an  13.03100  14.03146\n",
            "3  1011_speech_true_Fernseher_an  Fernseher an  14.11030  15.36121\n",
            "4   1012_speech_true_Heizung_aus   Heizung aus  11.20520  12.70590\n"
          ]
        }
      ],
      "id": "b1Jmhy83zMRi"
    },
    {
      "cell_type": "markdown",
      "source": [
        "#### After"
      ],
      "metadata": {
        "id": "x1I5OgajUZjo"
      },
      "id": "x1I5OgajUZjo"
    },
    {
      "cell_type": "code",
      "source": [
        "import pandas as pd\n",
        "\n",
        "# Load the CSV files\n",
        "scene_annotations_df = pd.read_csv(f'{data_dir}/development_scene_annotations.csv')\n",
        "scenes_df = pd.read_csv(f'{data_dir}/development_scenes.csv')\n",
        "\n",
        "# Check the head of the dataframes to understand their structure\n",
        "print(scene_annotations_df.head())\n",
        "print(scenes_df.head())\n",
        "\n",
        "# Check the distribution of labels in the annotations CSV\n",
        "label_distribution_annotations = scene_annotations_df['command'].value_counts()\n",
        "print(\"Label Distribution in development_scene_annotations.csv:\")\n",
        "print(label_distribution_annotations)\n",
        "\n",
        "# Check the distribution of speaker IDs in the scenes CSV\n",
        "label_distribution_scenes = scenes_df['speaker_id'].value_counts()\n",
        "print(\"Label Distribution in development_scenes.csv:\")\n",
        "print(label_distribution_scenes)\n"
      ],
      "metadata": {
        "id": "aeJL4mIzzYHs",
        "outputId": "515cd260-db17-4196-9fed-dad35cab73e0",
        "colab": {
          "base_uri": "https://localhost:8080/"
        }
      },
      "execution_count": null,
      "outputs": [
        {
          "output_type": "stream",
          "name": "stdout",
          "text": [
            "                        filename       command     start       end\n",
            "0    1003_speech_false_Licht_aus     Licht aus  12.20090  13.57599\n",
            "1       1008_speech_true_Ofen_an       Ofen an   6.90112   8.52638\n",
            "2      1010_speech_true_Radio_an      Radio an  13.03100  14.03146\n",
            "3  1011_speech_true_Fernseher_an  Fernseher an  14.11030  15.36121\n",
            "4   1012_speech_true_Heizung_aus   Heizung aus  11.20520  12.70590\n",
            "                        filename  speaker_id\n",
            "0         2_speech_true_Ofen_aus         132\n",
            "1         3_speech_true_Radio_an         132\n",
            "2         4_speech_true_Alarm_an         132\n",
            "3        9_speech_true_Radio_aus         132\n",
            "4  11_speech_false_Fernseher_aus         132\n",
            "Label Distribution in development_scene_annotations.csv:\n",
            "command\n",
            "Licht aus          86\n",
            "Licht an           78\n",
            "Heizung an         76\n",
            "Fernseher an       74\n",
            "Radio aus          69\n",
            "Heizung aus        67\n",
            "Alarm an           66\n",
            "Radio an           65\n",
            "Lüftung aus        64\n",
            "Ofen aus           64\n",
            "Lüftung an         63\n",
            "Ofen an            63\n",
            "Staubsauger an     63\n",
            "Alarm aus          62\n",
            "Staubsauger aus    56\n",
            "Fernseher aus      49\n",
            "Name: count, dtype: int64\n",
            "Label Distribution in development_scenes.csv:\n",
            "speaker_id\n",
            "132    244\n",
            "240      8\n",
            "94       8\n",
            "196      7\n",
            "223      7\n",
            "      ... \n",
            "51       1\n",
            "235      1\n",
            "95       1\n",
            "105      1\n",
            "115      1\n",
            "Name: count, Length: 166, dtype: int64\n"
          ]
        }
      ],
      "id": "aeJL4mIzzYHs"
    },
    {
      "cell_type": "markdown",
      "source": [
        "### Preprocess audio data"
      ],
      "metadata": {
        "id": "UjHz2fQ4x9z8"
      },
      "id": "UjHz2fQ4x9z8"
    },
    {
      "cell_type": "code",
      "source": [
        "import os\n",
        "import numpy as np\n",
        "import pandas as pd\n",
        "import librosa\n",
        "import soundfile as sf\n",
        "import random\n",
        "from IPython.display import Audio\n",
        "from sklearn.decomposition import FastICA\n",
        "\n",
        "# Function to apply ICA on audio segments\n",
        "def apply_ica(segment, sr):\n",
        "    ica = FastICA(n_components=1, whiten='arbitrary-variance')  # Explicitly set whiten parameter\n",
        "    segment_reshaped = segment.reshape(-1, 1)\n",
        "    segment_ica = ica.fit_transform(segment_reshaped).flatten()\n",
        "    return segment_ica\n",
        "\n",
        "# Function to preprocess segments and optionally save to the filesystem\n",
        "def preprocess_and_save_segments(scenes_dir, annotations_path, save_dir=None, save_to_filesystem=False, apply_ica_flag=False):\n",
        "    # Load the annotations\n",
        "    annotations_df = pd.read_csv(annotations_path)\n",
        "\n",
        "    # Ensure the save directory exists if saving to filesystem\n",
        "    if save_to_filesystem and save_dir is not None:\n",
        "        os.makedirs(save_dir, exist_ok=True)\n",
        "\n",
        "    preprocessed_segments = []\n",
        "\n",
        "    for index, row in annotations_df.iterrows():\n",
        "        filename = row['filename']\n",
        "        command = row['command']\n",
        "        start = row['start']\n",
        "        end = row['end']\n",
        "\n",
        "        # Load the audio file\n",
        "        file_path = os.path.join(scenes_dir, f\"{filename}.wav\")\n",
        "        y, sr = librosa.load(file_path, sr=None)\n",
        "\n",
        "        # Extract the segment\n",
        "        start_sample = int(start * sr)\n",
        "        end_sample = int(end * sr)\n",
        "        segment = y[start_sample:end_sample]\n",
        "\n",
        "        # Normalize the segment\n",
        "        segment = librosa.util.normalize(segment)\n",
        "\n",
        "        # Apply ICA if the flag is set\n",
        "        if apply_ica_flag:\n",
        "            segment = apply_ica(segment, sr)\n",
        "\n",
        "        # Add the segment to the list\n",
        "        preprocessed_segments.append((filename, command, segment, sr))\n",
        "\n",
        "        # Save the segment to the filesystem if required\n",
        "        if save_to_filesystem and save_dir is not None:\n",
        "            save_path = os.path.join(save_dir, f\"{filename}_{start}_{end}.wav\")\n",
        "            sf.write(save_path, segment, sr)\n",
        "\n",
        "    return preprocessed_segments\n",
        "\n",
        "# Function to play a random segment from preprocessed segments\n",
        "def play_random_segment(preprocessed_segments):\n",
        "    # Select a random segment\n",
        "    random_segment = random.choice(preprocessed_segments)\n",
        "\n",
        "    filename, command, audio_data, sample_rate = random_segment\n",
        "\n",
        "    # Print the command and play the audio segment\n",
        "    print(f\"Filename: {filename}\")\n",
        "    print(f\"Command: {command}\")\n",
        "\n",
        "    return Audio(audio_data, rate=sample_rate)\n",
        "\n",
        "# Function to play a random segment from the filesystem\n",
        "def play_random_segment_from_filesystem(save_dir, annotations_path):\n",
        "    # List all the preprocessed segment files\n",
        "    segment_files = [f for f in os.listdir(save_dir) if f.endswith('.wav')]\n",
        "\n",
        "    # Select a random segment file\n",
        "    random_segment_file = random.choice(segment_files)\n",
        "    random_segment_path = os.path.join(save_dir, random_segment_file)\n",
        "\n",
        "    # Extract start and end times from the file name\n",
        "    filename_parts = random_segment_file.split('_')\n",
        "    filename = '_'.join(filename_parts[:-2])\n",
        "    start_time = float(filename_parts[-2])\n",
        "    end_time = float(filename_parts[-1].replace('.wav', ''))\n",
        "\n",
        "    # Find the command in the annotations\n",
        "    annotations_df = pd.read_csv(annotations_path)\n",
        "    command_row = annotations_df[\n",
        "        (annotations_df['filename'] == filename) &\n",
        "        (annotations_df['start'] == start_time) &\n",
        "        (annotations_df['end'] == end_time)\n",
        "    ]\n",
        "\n",
        "    if command_row.empty:\n",
        "        print(f\"No matching annotation found for {random_segment_file}\")\n",
        "        return\n",
        "\n",
        "    command = command_row.iloc[0]['command']\n",
        "\n",
        "    # Load the audio segment\n",
        "    y, sr = librosa.load(random_segment_path, sr=None)\n",
        "\n",
        "    # Print the command and play the audio segment\n",
        "    print(f\"Filename: {filename}\")\n",
        "    print(f\"Command: {command}\")\n",
        "\n",
        "    return Audio(y, rate=sr)\n",
        "\n",
        "# Example usage\n",
        "scenes_dir = f'{data_dir}/scenes/wav'\n",
        "annotations_path = f'{data_dir}/development_scene_annotations.csv'\n",
        "save_dir = f'{data_dir}/clipped_commands'\n",
        "\n",
        "# Preprocess segments and save to filesystem with optional ICA\n",
        "preprocessed_segments = preprocess_and_save_segments(scenes_dir, annotations_path, save_dir, save_to_filesystem=True, apply_ica_flag=True)\n",
        "\n",
        "# Play a random segment from memory\n",
        "audio_memory = play_random_segment(preprocessed_segments)\n",
        "display(audio_memory)\n",
        "\n",
        "# Play a random segment from filesystem\n",
        "audio_filesystem = play_random_segment_from_filesystem(save_dir, annotations_path)\n",
        "display(audio_filesystem)\n"
      ],
      "metadata": {
        "id": "4yIlzfGayA2k",
        "outputId": "dbe6457f-ed9b-49a7-b66f-3583913e89dd",
        "colab": {
          "base_uri": "https://localhost:8080/",
          "height": 203
        }
      },
      "execution_count": null,
      "outputs": [
        {
          "output_type": "stream",
          "name": "stdout",
          "text": [
            "Filename: 27_speech_false_Fernseher_an_Licht_aus\n",
            "Command: Licht aus\n"
          ]
        },
        {
          "output_type": "display_data",
          "data": {
            "text/plain": [
              "<IPython.lib.display.Audio object>"
            ],
            "text/html": [
              "\n",
              "                <audio  controls=\"controls\" >\n",
              "                    <source src=\"data:audio/wav;base64,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\" type=\"audio/wav\" />\n",
              "                    Your browser does not support the audio element.\n",
              "                </audio>\n",
              "              "
            ]
          },
          "metadata": {}
        },
        {
          "output_type": "stream",
          "name": "stdout",
          "text": [
            "Filename: 1444_speech_true_Heizung_aus\n",
            "Command: Heizung aus\n"
          ]
        },
        {
          "output_type": "display_data",
          "data": {
            "text/plain": [
              "<IPython.lib.display.Audio object>"
            ],
            "text/html": [
              "\n",
              "                <audio  controls=\"controls\" >\n",
              "                    <source src=\"data:audio/wav;base64,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\" type=\"audio/wav\" />\n",
              "                    Your browser does not support the audio element.\n",
              "                </audio>\n",
              "              "
            ]
          },
          "metadata": {}
        }
      ],
      "id": "4yIlzfGayA2k"
    },
    {
      "cell_type": "markdown",
      "source": [
        "## Main"
      ],
      "metadata": {
        "id": "SZ7XpL9t9YRP"
      },
      "id": "SZ7XpL9t9YRP"
    },
    {
      "cell_type": "markdown",
      "source": [
        "### Libraries"
      ],
      "metadata": {
        "id": "Rd78588cDwY1"
      },
      "id": "Rd78588cDwY1"
    },
    {
      "cell_type": "markdown",
      "source": [
        "### Training"
      ],
      "metadata": {
        "id": "HuqnWC2N-Y6d"
      },
      "id": "HuqnWC2N-Y6d"
    },
    {
      "cell_type": "code",
      "source": [
        "import os\n",
        "import re\n",
        "import torch\n",
        "import librosa\n",
        "import logging\n",
        "from torch.utils.data import DataLoader, Dataset\n",
        "from transformers import Wav2Vec2Processor, Wav2Vec2ForCTC\n",
        "from tqdm import tqdm\n",
        "\n",
        "# Configure logging\n",
        "logging.basicConfig(level=logging.INFO)\n",
        "logger = logging.getLogger(__name__)\n",
        "\n",
        "# Load pre-trained tokenizer and model\n",
        "def load_model_and_tokenizer(model_name=\"facebook/wav2vec2-large-960h\"):\n",
        "    logger.info(\"Loading model and tokenizer...\")\n",
        "    processor = Wav2Vec2Processor.from_pretrained(model_name)\n",
        "    model = Wav2Vec2ForCTC.from_pretrained(model_name)\n",
        "    logger.info(\"Model and tokenizer loaded successfully.\")\n",
        "    return processor, model\n",
        "\n",
        "# Extract labels from filenames\n",
        "def extract_labels_from_filename(filename):\n",
        "    match = re.search(r'speech_true_(.*)\\.wav', filename)\n",
        "    if match:\n",
        "        words = match.group(1).split('_')\n",
        "        return ' '.join(words)\n",
        "    return ''\n",
        "\n",
        "# Dataset class\n",
        "class AudioDataset(Dataset):\n",
        "    def __init__(self, audio_files, processor):\n",
        "        self.audio_files = audio_files\n",
        "        self.processor = processor\n",
        "\n",
        "    def __len__(self):\n",
        "        return len(self.audio_files)\n",
        "\n",
        "    def __getitem__(self, idx):\n",
        "        file_path, audio, sr = self.audio_files[idx]\n",
        "        inputs = self.processor(audio, return_tensors=\"pt\", padding=\"longest\", sampling_rate=sr)\n",
        "        label = extract_labels_from_filename(os.path.basename(file_path))\n",
        "        label_ids = self.processor.tokenizer(label, return_tensors=\"pt\").input_ids\n",
        "        return inputs.input_values.squeeze(), label_ids.squeeze()\n",
        "\n",
        "# Collate function to handle padding in DataLoader\n",
        "def collate_fn(batch):\n",
        "    input_values = [item[0] for item in batch]\n",
        "    label_ids = [item[1] for item in batch]\n",
        "\n",
        "    input_values = torch.nn.utils.rnn.pad_sequence(input_values, batch_first=True, padding_value=0)\n",
        "    label_ids = torch.nn.utils.rnn.pad_sequence(label_ids, batch_first=True, padding_value=-100)\n",
        "\n",
        "    return input_values, label_ids\n",
        "\n",
        "# Load audio files\n",
        "def load_audio_files(directory):\n",
        "    audio_data = []\n",
        "    logger.info(f\"Loading audio files from {directory}...\")\n",
        "    for root, _, files in os.walk(directory):\n",
        "        for file in files:\n",
        "            if file.endswith('.wav'):\n",
        "                file_path = os.path.join(root, file)\n",
        "                y, sr = librosa.load(file_path, sr=16000)  # Ensuring consistent sampling rate\n",
        "                audio_data.append((file_path, y, sr))\n",
        "    logger.info(f\"Loaded {len(audio_data)} audio files from {directory}.\")\n",
        "    return audio_data\n",
        "\n",
        "# Training function with validation and model checkpointing\n",
        "def train_model(model, processor, train_loader, val_loader, num_epochs=3, lr=5e-5):\n",
        "    model.train()\n",
        "    optimizer = torch.optim.AdamW(model.parameters(), lr=lr)\n",
        "    best_val_loss = float('inf')\n",
        "\n",
        "    for epoch in range(num_epochs):\n",
        "        epoch_loss = 0\n",
        "        logger.info(f\"Starting epoch {epoch + 1}/{num_epochs}...\")\n",
        "        with tqdm(total=len(train_loader), desc=f\"Training Epoch {epoch + 1}\") as pbar:\n",
        "            for input_values, label_ids in train_loader:\n",
        "                optimizer.zero_grad()\n",
        "                outputs = model(input_values)\n",
        "                logits = outputs.logits\n",
        "\n",
        "                # Compute lengths for CTC loss\n",
        "                input_lengths = torch.full((logits.shape[0],), logits.shape[1], dtype=torch.long)\n",
        "                label_lengths = torch.sum(label_ids != -100, dim=1)\n",
        "\n",
        "                loss = torch.nn.CTCLoss()(logits.transpose(0, 1), label_ids, input_lengths, label_lengths)\n",
        "                loss.backward()\n",
        "                optimizer.step()\n",
        "\n",
        "                epoch_loss += loss.item()\n",
        "                pbar.set_postfix({'loss': loss.item()})\n",
        "                pbar.update(1)\n",
        "\n",
        "        val_loss = validate_model(model, val_loader)\n",
        "        logger.info(f\"Epoch {epoch + 1} completed. Training Loss: {epoch_loss / len(train_loader):.4f}, Validation Loss: {val_loss:.4f}\")\n",
        "\n",
        "        # Check if this is the best model so far\n",
        "        if val_loss < best_val_loss:\n",
        "            best_val_loss = val_loss\n",
        "            logger.info(\"Saving the new best model...\")\n",
        "            model.save_pretrained(\"fine_tuned_wav2vec2\")\n",
        "            processor.save_pretrained(\"fine_tuned_wav2vec2\")\n",
        "\n",
        "# Validation function\n",
        "def validate_model(model, val_loader):\n",
        "    model.eval()\n",
        "    val_loss = 0\n",
        "    logger.info(\"Starting validation...\")\n",
        "    with tqdm(total=len(val_loader), desc=\"Validation\") as pbar:\n",
        "        with torch.no_grad():\n",
        "            for input_values, label_ids in val_loader:\n",
        "                outputs = model(input_values)\n",
        "                logits = outputs.logits\n",
        "\n",
        "                # Compute lengths for CTC loss\n",
        "                input_lengths = torch.full((logits.shape[0],), logits.shape[1], dtype=torch.long)\n",
        "                label_lengths = torch.sum(label_ids != -100, dim=1)\n",
        "\n",
        "                loss = torch.nn.CTCLoss()(logits.transpose(0, 1), label_ids, input_lengths, label_lengths)\n",
        "                val_loss += loss.item()\n",
        "                pbar.set_postfix({'loss': loss.item()})\n",
        "                pbar.update(1)\n",
        "    model.train()\n",
        "    return val_loss / len(val_loader)\n",
        "\n",
        "# Inference function with timestamps\n",
        "def infer_with_timestamps(model, processor, audio_file):\n",
        "    y, sr = librosa.load(audio_file, sr=None)\n",
        "    inputs = processor(y, return_tensors=\"pt\", padding=\"longest\", sampling_rate=sr)\n",
        "\n",
        "    with torch.no_grad():\n",
        "        logits = model(inputs.input_values).logits\n",
        "\n",
        "    predicted_ids = torch.argmax(logits, dim=-1)\n",
        "    transcription = processor.batch_decode(predicted_ids)[0]\n",
        "\n",
        "    # Get the frame timestamps\n",
        "    frame_duration = processor.feature_extractor.chunk_length / sr\n",
        "    frame_timestamps = [i * frame_duration for i in range(logits.shape[1])]\n",
        "\n",
        "    # Align the timestamps with the predicted tokens\n",
        "    word_timestamps = []\n",
        "    current_word = \"\"\n",
        "    current_word_start = None\n",
        "\n",
        "    for i, token_id in enumerate(predicted_ids[0]):\n",
        "        token = processor.decode([token_id])\n",
        "        if token.strip() != \"\":\n",
        "            if current_word == \"\":\n",
        "                current_word_start = frame_timestamps[i]\n",
        "            current_word += token\n",
        "        else:\n",
        "            if current_word != \"\":\n",
        "                word_timestamps.append((current_word, current_word_start, frame_timestamps[i]))\n",
        "                current_word = \"\"\n",
        "                current_word_start = None\n",
        "\n",
        "    # Handle last word if any\n",
        "    if current_word != \"\":\n",
        "        word_timestamps.append((current_word, current_word_start, frame_timestamps[-1]))\n",
        "\n",
        "    return transcription, word_timestamps\n",
        "\n",
        "# Main execution\n",
        "if __name__ == \"__main__\":\n",
        "    #data_dir = '../dataset'\n",
        "    scenes_path = f'{data_dir}/scenes/wav'\n",
        "    words_path = f'{data_dir}/words'\n",
        "\n",
        "    scenes_audio = load_audio_files(scenes_path)[:10]  # Using only 10 samples for testing\n",
        "    words_audio = load_audio_files(words_path)[:10]  # Using only 10 samples for testing\n",
        "\n",
        "    processor, model = load_model_and_tokenizer()\n",
        "\n",
        "    val_split = int(len(scenes_audio) * 0.2)\n",
        "    train_dataset = AudioDataset(scenes_audio[val_split:], processor)\n",
        "    val_dataset = AudioDataset(scenes_audio[:val_split], processor)\n",
        "\n",
        "    train_loader = DataLoader(train_dataset, batch_size=2, shuffle=True, collate_fn=collate_fn)\n",
        "    val_loader = DataLoader(val_dataset, batch_size=2, shuffle=False, collate_fn=collate_fn)\n",
        "\n",
        "    train_model(model, processor, train_loader, val_loader, num_epochs=3, lr=5e-5)\n",
        "\n",
        "    unseen_audio_file = f'{scenes_path}/98_speech_true_Alarm_aus_Lüftung_aus_Heizung_aus.wav'\n",
        "    transcription, word_timestamps = infer_with_timestamps(model, processor, unseen_audio_file)\n",
        "\n",
        "    logger.info(\"Transcription: \" + transcription)\n",
        "    logger.info(\"Word Timestamps:\")\n",
        "    for word, start, end in word_timestamps:\n",
        "        logger.info(f\"Word: {word}, Start: {start:.2f}s, End: {end:.2f}s\")\n"
      ],
      "metadata": {
        "id": "_EVLz_QWVCXs"
      },
      "id": "_EVLz_QWVCXs",
      "execution_count": null,
      "outputs": []
    }
  ],
  "metadata": {
    "kernelspec": {
      "display_name": "Python 3",
      "language": "python",
      "name": "python3"
    },
    "language_info": {
      "codemirror_mode": {
        "name": "ipython",
        "version": 2
      },
      "file_extension": ".py",
      "mimetype": "text/x-python",
      "name": "python",
      "nbconvert_exporter": "python",
      "pygments_lexer": "ipython2",
      "version": "2.7.6"
    },
    "colab": {
      "provenance": [],
      "toc_visible": true,
      "include_colab_link": true
    }
  },
  "nbformat": 4,
  "nbformat_minor": 5
}