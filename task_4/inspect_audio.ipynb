{
 "cells": [
  {
   "metadata": {},
   "cell_type": "markdown",
   "source": "### Play an exemplary sound in Jupyter notebook",
   "id": "4e8da56e00945992"
  },
  {
   "cell_type": "code",
   "id": "initial_id",
   "metadata": {
    "collapsed": true,
    "ExecuteTime": {
     "end_time": "2024-05-30T05:16:27.172372Z",
     "start_time": "2024-05-30T05:16:17.226545Z"
    }
   },
   "source": [
    "import numpy as np\n",
    "import librosa\n",
    "from IPython.display import Audio\n",
    "import random\n",
    "\n",
    "# Assume this is your list of preprocessed segments\n",
    "# Each entry is a tuple: (filename, command, audio_data, sample_rate)\n",
    "preprocessed_segments = []\n",
    "\n",
    "# Generate dummy preprocessed segments for demonstration\n",
    "for i in range(10):\n",
    "    y, sr = librosa.load(librosa.ex('trumpet'), sr=None, duration=5)  # Load a sample audio\n",
    "    command = f\"Command {i}\"\n",
    "    filename = f\"file_{i}.wav\"\n",
    "    preprocessed_segments.append((filename, command, y, sr))\n",
    "\n",
    "# Function to play a random segment from the preprocessed segments\n",
    "def play_random_segment(preprocessed_segments):\n",
    "    # Select a random segment\n",
    "    random_segment = random.choice(preprocessed_segments)\n",
    "    \n",
    "    filename, command, audio_data, sample_rate = random_segment\n",
    "    \n",
    "    # Print the command and play the audio segment\n",
    "    print(f\"Filename: {filename}\")\n",
    "    print(f\"Command: {command}\")\n",
    "    \n",
    "    return Audio(audio_data, rate=sample_rate)\n",
    "\n",
    "# Play a random segment\n",
    "audio = play_random_segment(preprocessed_segments)\n",
    "audio\n"
   ],
   "execution_count": 1,
   "outputs": []
  },
  {
   "metadata": {},
   "cell_type": "markdown",
   "source": "### Play a random preprocessed audio segment",
   "id": "7646620b4b092ac5"
  },
  {
   "metadata": {
    "ExecuteTime": {
     "end_time": "2024-05-30T05:49:19.269010Z",
     "start_time": "2024-05-30T05:49:19.258408Z"
    }
   },
   "cell_type": "code",
   "source": [
    "import numpy as np\n",
    "import librosa\n",
    "from IPython.display import Audio\n",
    "import random\n",
    "\n",
    "# Assuming this is your list of preprocessed segments\n",
    "# Each entry is a tuple: (filename, command, audio_data, sample_rate)\n",
    "#preprocessed_segments = [\n",
    "    # Replace these with your actual preprocessed segments\n",
    "    # (filename, command, audio_data, sample_rate)\n",
    "#]\n",
    "\n",
    "# Function to play a random segment from the preprocessed segments\n",
    "def play_random_segment(preprocessed_segments):\n",
    "    # Select a random segment\n",
    "    random_segment = random.choice(preprocessed_segments)\n",
    "    \n",
    "    filename, command, audio_data, sample_rate = random_segment\n",
    "    \n",
    "    # Print the command and play the audio segment\n",
    "    print(f\"Filename: {filename}\")\n",
    "    print(f\"Command: {command}\")\n",
    "    \n",
    "    return Audio(audio_data, rate=sample_rate)\n",
    "\n",
    "# Play a random segment\n",
    "audio = play_random_segment(preprocessed_segments)\n",
    "audio\n"
   ],
   "id": "a304891df60234ec",
   "execution_count": 5,
   "outputs": []
  },
  {
   "metadata": {},
   "cell_type": "code",
   "execution_count": null,
   "source": "",
   "id": "4b43137bb8ee7de7",
   "outputs": []
  }
 ],
 "metadata": {
  "kernelspec": {
   "display_name": "Python 3",
   "language": "python",
   "name": "python3"
  },
  "language_info": {
   "codemirror_mode": {
    "name": "ipython",
    "version": 2
   },
   "file_extension": ".py",
   "mimetype": "text/x-python",
   "name": "python",
   "nbconvert_exporter": "python",
   "pygments_lexer": "ipython2",
   "version": "2.7.6"
  }
 },
 "nbformat": 4,
 "nbformat_minor": 5
}
