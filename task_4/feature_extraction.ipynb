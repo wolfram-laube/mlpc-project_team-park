{
 "cells": [
  {
   "metadata": {
    "ExecuteTime": {
     "end_time": "2024-06-04T11:20:29.498075Z",
     "start_time": "2024-06-04T11:20:29.489221Z"
    }
   },
   "cell_type": "code",
   "source": [
    "import numpy as np\n",
    "import pandas as pd\n",
    "\n",
    "# Load the feature mapping\n",
    "data_dir = '../dataset'\n",
    "feature_mapping_file = f'{data_dir}/meta/idx_to_feature_name.csv'\n",
    "feature_mapping = pd.read_csv(feature_mapping_file)\n",
    "print(feature_mapping.head())\n",
    "\n",
    "# Load an example feature file\n",
    "example_feature_file = f'{data_dir}/scenes/npy/9_speech_true_Radio_aus.npy'\n",
    "features = np.load(example_feature_file)\n",
    "print(f'Feature shape: {features.shape}')\n",
    "print(features)\n"
   ],
   "id": "1f3701f9d756363",
   "outputs": [
    {
     "name": "stdout",
     "output_type": "stream",
     "text": [
      "   index feature_name\n",
      "0      0  bandwidth_0\n",
      "1      1   centroid_0\n",
      "2      2   contrast_0\n",
      "3      3   contrast_1\n",
      "4      4   contrast_2\n",
      "Feature shape: (175, 503)\n",
      "[[0.00000000e+00 0.00000000e+00 3.55572597e+03 ... 3.16909110e+03\n",
      "  3.21029245e+03 3.29810116e+03]\n",
      " [0.00000000e+00 0.00000000e+00 2.94330233e+03 ... 2.32232569e+03\n",
      "  2.16694691e+03 3.32197793e+03]\n",
      " [1.06553228e+01 1.06553228e+01 3.97100957e+00 ... 3.03475966e+00\n",
      "  5.83976492e+00 1.14490307e+00]\n",
      " ...\n",
      " [0.00000000e+00 0.00000000e+00 5.72300705e-05 ... 1.68575775e-02\n",
      "  1.34523511e-02 3.48735875e-06]\n",
      " [8.00000000e+03 1.00000000e+02 8.00000000e+03 ... 1.01880960e+02\n",
      "  1.29330128e+02 8.00000000e+03]\n",
      " [0.00000000e+00 0.00000000e+00 1.22500000e-01 ... 1.47500000e-01\n",
      "  9.00000000e-02 2.00000000e-02]]\n"
     ]
    }
   ],
   "execution_count": 19
  },
  {
   "metadata": {
    "ExecuteTime": {
     "end_time": "2024-06-05T06:45:27.485425Z",
     "start_time": "2024-06-05T06:15:12.163847Z"
    }
   },
   "cell_type": "code",
   "source": [
    "import os\n",
    "import pandas as pd\n",
    "import numpy as np\n",
    "import tensorflow as tf\n",
    "from tensorflow.keras import layers, models, regularizers\n",
    "from tensorflow.keras.utils import to_categorical\n",
    "from tensorflow.keras.callbacks import EarlyStopping, ModelCheckpoint\n",
    "from tqdm import tqdm\n",
    "import logging\n",
    "import matplotlib.pyplot as plt\n",
    "from sklearn.utils import class_weight\n",
    "\n",
    "# Setup logging\n",
    "logging.basicConfig(level=logging.INFO, format='%(asctime)s - %(levelname)s - %(message)s')\n",
    "\n",
    "data_dir = '../dataset'\n",
    "annotations_file = f'{data_dir}/development_scene_annotations.csv'\n",
    "model_save_path = 'best_command_model.keras'\n",
    "\n",
    "# Load annotations\n",
    "logging.info('Loading annotations...')\n",
    "annotations = pd.read_csv(annotations_file)\n",
    "logging.info('Annotations loaded.')\n",
    "\n",
    "# Check class distribution\n",
    "class_counts = annotations['command'].value_counts()\n",
    "plt.figure(figsize=(12, 6))\n",
    "class_counts.plot(kind='bar')\n",
    "plt.title('Class Distribution')\n",
    "plt.xlabel('Commands')\n",
    "plt.ylabel('Count')\n",
    "plt.show()\n",
    "\n",
    "def prepare_feature_data(annotations, data_dir, feature_dir):\n",
    "    command_features = []\n",
    "    command_labels = []\n",
    "    command_mapping = {}  # Mapping of command texts to numerical labels\n",
    "    current_label = 0\n",
    "    max_len = 0  # To determine the maximum length of features\n",
    "\n",
    "    logging.info('Preparing command data...')\n",
    "    for index, row in tqdm(annotations.iterrows(), total=annotations.shape[0]):\n",
    "        feature_path = os.path.join(feature_dir, row['filename'] + '.npy')\n",
    "        features = np.load(feature_path)\n",
    "        max_len = max(max_len, features.shape[1])  # Update max_len\n",
    "        \n",
    "        command_text = row['command']\n",
    "        if command_text not in command_mapping:\n",
    "            command_mapping[command_text] = current_label\n",
    "            current_label += 1\n",
    "        \n",
    "        command_label = command_mapping[command_text]\n",
    "        \n",
    "        command_features.append(features)\n",
    "        command_labels.append(command_label)\n",
    "\n",
    "    # Pad features to the same length\n",
    "    padded_features = []\n",
    "    for feature in command_features:\n",
    "        pad_width = max_len - feature.shape[1]\n",
    "        if pad_width > 0:\n",
    "            feature = np.pad(feature, ((0, 0), (0, pad_width)), mode='constant')\n",
    "        padded_features.append(feature)\n",
    "    \n",
    "    logging.info('Command data prepared.')\n",
    "    return np.array(padded_features), np.array(command_labels), command_mapping\n",
    "\n",
    "# Prepare feature-based command data\n",
    "feature_dir = f'{data_dir}/scenes/npy'\n",
    "command_features, command_labels, command_mapping = prepare_feature_data(annotations, data_dir, feature_dir)\n",
    "\n",
    "# Normalize features across each feature dimension\n",
    "command_features = (command_features - np.mean(command_features, axis=(0, 2), keepdims=True)) / np.std(command_features, axis=(0, 2), keepdims=True)\n",
    "\n",
    "# One-hot encode labels\n",
    "num_classes = len(command_mapping)\n",
    "command_labels = to_categorical(command_labels, num_classes=num_classes)\n",
    "\n",
    "logging.info(f'Command mapping: {command_mapping}')\n",
    "\n",
    "# Data Augmentation Function\n",
    "def augment_data(features, noise_factor=0.005):\n",
    "    noise = np.random.randn(*features.shape) * noise_factor\n",
    "    augmented_features = features + noise\n",
    "    augmented_features = np.clip(augmented_features, -1.0, 1.0)\n",
    "    return augmented_features\n",
    "\n",
    "# Augment the training data\n",
    "augmented_features = augment_data(command_features)\n",
    "combined_features = np.concatenate((command_features, augmented_features), axis=0)\n",
    "combined_labels = np.concatenate((command_labels, command_labels), axis=0)\n",
    "\n",
    "# Calculate class weights\n",
    "class_weights = class_weight.compute_class_weight(class_weight='balanced', classes=np.unique(np.argmax(command_labels, axis=1)), y=np.argmax(command_labels, axis=1))\n",
    "class_weights = dict(enumerate(class_weights))\n",
    "\n",
    "# GRU with Attention Model\n",
    "def attention_block(inputs):\n",
    "    attention = layers.Dense(1, activation='tanh')(inputs)\n",
    "    attention = layers.Flatten()(attention)\n",
    "    attention = layers.Activation('softmax')(attention)\n",
    "    attention = layers.RepeatVector(inputs.shape[-1])(attention)\n",
    "    attention = layers.Permute([2, 1])(attention)\n",
    "    output_attention = layers.Multiply()([inputs, attention])\n",
    "    return output_attention\n",
    "\n",
    "def build_gru_attention_model(input_shape, num_classes):\n",
    "    inputs = layers.Input(shape=input_shape)\n",
    "    x = layers.GRU(128, return_sequences=True)(inputs)\n",
    "    x = layers.Dropout(0.5)(x)\n",
    "    x = layers.GRU(128, return_sequences=True)(x)\n",
    "    x = layers.Dropout(0.5)(x)\n",
    "    x = attention_block(x)\n",
    "    x = layers.Flatten()(x)\n",
    "    x = layers.Dense(256, activation='relu', kernel_regularizer=regularizers.l2(0.01))(x)\n",
    "    x = layers.Dropout(0.5)(x)\n",
    "    outputs = layers.Dense(num_classes, activation='softmax')(x)\n",
    "    model = models.Model(inputs, outputs)\n",
    "    model.compile(optimizer=tf.keras.optimizers.Adam(learning_rate=0.001), loss='categorical_crossentropy', metrics=['accuracy'])\n",
    "    return model\n",
    "\n",
    "input_shape = (command_features.shape[1], command_features.shape[2])\n",
    "command_model = build_gru_attention_model(input_shape, num_classes)\n",
    "\n",
    "logging.info('Training command recognition model...')\n",
    "early_stopping = EarlyStopping(monitor='val_loss', patience=10, restore_best_weights=True)\n",
    "model_checkpoint = ModelCheckpoint(model_save_path, save_best_only=True, monitor='val_loss')\n",
    "\n",
    "history = command_model.fit(combined_features, combined_labels, epochs=50, batch_size=32, validation_split=0.2,\n",
    "                            callbacks=[early_stopping, model_checkpoint], class_weight=class_weights)\n",
    "logging.info('Command recognition model trained.')\n",
    "\n",
    "# Plot training & validation accuracy values\n",
    "plt.plot(history.history['accuracy'])\n",
    "plt.plot(history.history['val_accuracy'])\n",
    "plt.title('Model accuracy')\n",
    "plt.xlabel('Epoch')\n",
    "plt.ylabel('Accuracy')\n",
    "plt.legend(['Train', 'Validation'], loc='upper left')\n",
    "plt.show()\n",
    "\n",
    "# Plot training & validation loss values\n",
    "plt.plot(history.history['loss'])\n",
    "plt.plot(history.history['val_loss'])\n",
    "plt.title('Model loss')\n",
    "plt.xlabel('Epoch')\n",
    "plt.ylabel('Loss')\n",
    "plt.legend(['Train', 'Validation'], loc='upper left')\n",
    "plt.show()\n"
   ],
   "id": "32389aabb5c5f0dc",
   "outputs": [
    {
     "name": "stderr",
     "output_type": "stream",
     "text": [
      "2024-06-05 08:15:12,233 - INFO - Loading annotations...\n",
      "2024-06-05 08:15:12,255 - INFO - Annotations loaded.\n"
     ]
    },
    {
     "data": {
      "text/plain": [
       "<Figure size 1200x600 with 1 Axes>"
      ],
      "image/png": "[encoded data removed]"
     },
     "metadata": {},
     "output_type": "display_data"
    },
    {
     "name": "stderr",
     "output_type": "stream",
     "text": [
      "2024-06-05 08:15:12,579 - INFO - Preparing command data...\n",
      "100%|██████████| 1065/1065 [00:01<00:00, 567.18it/s]\n",
      "2024-06-05 08:15:15,956 - INFO - Command data prepared.\n",
      "2024-06-05 08:15:24,786 - INFO - Command mapping: {'Licht aus': 0, 'Ofen an': 1, 'Radio an': 2, 'Fernseher an': 3, 'Heizung aus': 4, 'Alarm an': 5, 'Lüftung aus': 6, 'Staubsauger aus': 7, 'Heizung an': 8, 'Staubsauger an': 9, 'Alarm aus': 10, 'Licht an': 11, 'Ofen aus': 12, 'Radio aus': 13, 'Lüftung an': 14, 'Fernseher aus': 15}\n",
      "2024-06-05 08:15:38,013 - INFO - Training command recognition model...\n"
     ]
    },
    {
     "name": "stdout",
     "output_type": "stream",
     "text": [
      "Epoch 1/50\n",
      "\u001B[1m54/54\u001B[0m \u001B[32m━━━━━━━━━━━━━━━━━━━━\u001B[0m\u001B[37m\u001B[0m \u001B[1m33s\u001B[0m 527ms/step - accuracy: 0.0543 - loss: 4.2300 - val_accuracy: 0.0704 - val_loss: 2.8035\n",
      "Epoch 2/50\n",
      "\u001B[1m54/54\u001B[0m \u001B[32m━━━━━━━━━━━━━━━━━━━━\u001B[0m\u001B[37m\u001B[0m \u001B[1m27s\u001B[0m 498ms/step - accuracy: 0.0773 - loss: 2.7978 - val_accuracy: 0.0634 - val_loss: 2.8346\n",
      "Epoch 3/50\n",
      "\u001B[1m54/54\u001B[0m \u001B[32m━━━━━━━━━━━━━━━━━━━━\u001B[0m\u001B[37m\u001B[0m \u001B[1m27s\u001B[0m 503ms/step - accuracy: 0.0705 - loss: 2.8442 - val_accuracy: 0.0798 - val_loss: 2.8394\n",
      "Epoch 4/50\n",
      "\u001B[1m54/54\u001B[0m \u001B[32m━━━━━━━━━━━━━━━━━━━━\u001B[0m\u001B[37m\u001B[0m \u001B[1m27s\u001B[0m 496ms/step - accuracy: 0.1075 - loss: 2.8468 - val_accuracy: 0.0563 - val_loss: 2.8720\n",
      "Epoch 5/50\n",
      "\u001B[1m54/54\u001B[0m \u001B[32m━━━━━━━━━━━━━━━━━━━━\u001B[0m\u001B[37m\u001B[0m \u001B[1m29s\u001B[0m 523ms/step - accuracy: 0.0645 - loss: 2.8424 - val_accuracy: 0.0469 - val_loss: 2.8253\n",
      "Epoch 6/50\n",
      "\u001B[1m54/54\u001B[0m \u001B[32m━━━━━━━━━━━━━━━━━━━━\u001B[0m\u001B[37m\u001B[0m \u001B[1m28s\u001B[0m 518ms/step - accuracy: 0.0641 - loss: 2.8241 - val_accuracy: 0.0610 - val_loss: 2.8158\n",
      "Epoch 7/50\n",
      "\u001B[1m54/54\u001B[0m \u001B[32m━━━━━━━━━━━━━━━━━━━━\u001B[0m\u001B[37m\u001B[0m \u001B[1m27s\u001B[0m 499ms/step - accuracy: 0.0586 - loss: 2.8232 - val_accuracy: 0.0681 - val_loss: 2.8417\n",
      "Epoch 8/50\n",
      "\u001B[1m54/54\u001B[0m \u001B[32m━━━━━━━━━━━━━━━━━━━━\u001B[0m\u001B[37m\u001B[0m \u001B[1m27s\u001B[0m 502ms/step - accuracy: 0.0613 - loss: 2.8377 - val_accuracy: 0.0634 - val_loss: 2.8372\n",
      "Epoch 9/50\n",
      "\u001B[1m54/54\u001B[0m \u001B[32m━━━━━━━━━━━━━━━━━━━━\u001B[0m\u001B[37m\u001B[0m \u001B[1m32s\u001B[0m 598ms/step - accuracy: 0.1083 - loss: 2.8065 - val_accuracy: 0.0845 - val_loss: 2.8258\n",
      "Epoch 10/50\n",
      "\u001B[1m54/54\u001B[0m \u001B[32m━━━━━━━━━━━━━━━━━━━━\u001B[0m\u001B[37m\u001B[0m \u001B[1m33s\u001B[0m 611ms/step - accuracy: 0.1193 - loss: 2.7819 - val_accuracy: 0.1221 - val_loss: 2.7768\n",
      "Epoch 11/50\n",
      "\u001B[1m54/54\u001B[0m \u001B[32m━━━━━━━━━━━━━━━━━━━━\u001B[0m\u001B[37m\u001B[0m \u001B[1m32s\u001B[0m 595ms/step - accuracy: 0.1235 - loss: 2.7157 - val_accuracy: 0.1197 - val_loss: 2.7385\n",
      "Epoch 12/50\n",
      "\u001B[1m54/54\u001B[0m \u001B[32m━━━━━━━━━━━━━━━━━━━━\u001B[0m\u001B[37m\u001B[0m \u001B[1m44s\u001B[0m 807ms/step - accuracy: 0.1550 - loss: 2.6399 - val_accuracy: 0.1197 - val_loss: 2.6893\n",
      "Epoch 13/50\n",
      "\u001B[1m54/54\u001B[0m \u001B[32m━━━━━━━━━━━━━━━━━━━━\u001B[0m\u001B[37m\u001B[0m \u001B[1m36s\u001B[0m 661ms/step - accuracy: 0.1387 - loss: 2.5722 - val_accuracy: 0.1408 - val_loss: 2.6907\n",
      "Epoch 14/50\n",
      "\u001B[1m54/54\u001B[0m \u001B[32m━━━━━━━━━━━━━━━━━━━━\u001B[0m\u001B[37m\u001B[0m \u001B[1m31s\u001B[0m 575ms/step - accuracy: 0.1916 - loss: 2.5151 - val_accuracy: 0.1526 - val_loss: 2.5668\n",
      "Epoch 15/50\n",
      "\u001B[1m54/54\u001B[0m \u001B[32m━━━━━━━━━━━━━━━━━━━━\u001B[0m\u001B[37m\u001B[0m \u001B[1m30s\u001B[0m 564ms/step - accuracy: 0.1797 - loss: 2.4773 - val_accuracy: 0.1784 - val_loss: 2.5431\n",
      "Epoch 16/50\n",
      "\u001B[1m54/54\u001B[0m \u001B[32m━━━━━━━━━━━━━━━━━━━━\u001B[0m\u001B[37m\u001B[0m \u001B[1m33s\u001B[0m 605ms/step - accuracy: 0.2175 - loss: 2.3822 - val_accuracy: 0.1901 - val_loss: 2.5103\n",
      "Epoch 17/50\n",
      "\u001B[1m54/54\u001B[0m \u001B[32m━━━━━━━━━━━━━━━━━━━━\u001B[0m\u001B[37m\u001B[0m \u001B[1m34s\u001B[0m 640ms/step - accuracy: 0.2556 - loss: 2.3409 - val_accuracy: 0.2066 - val_loss: 2.4680\n",
      "Epoch 18/50\n",
      "\u001B[1m54/54\u001B[0m \u001B[32m━━━━━━━━━━━━━━━━━━━━\u001B[0m\u001B[37m\u001B[0m \u001B[1m28s\u001B[0m 521ms/step - accuracy: 0.2830 - loss: 2.3257 - val_accuracy: 0.2371 - val_loss: 2.4437\n",
      "Epoch 19/50\n",
      "\u001B[1m54/54\u001B[0m \u001B[32m━━━━━━━━━━━━━━━━━━━━\u001B[0m\u001B[37m\u001B[0m \u001B[1m28s\u001B[0m 525ms/step - accuracy: 0.3267 - loss: 2.2255 - val_accuracy: 0.2559 - val_loss: 2.4023\n",
      "Epoch 20/50\n",
      "\u001B[1m54/54\u001B[0m \u001B[32m━━━━━━━━━━━━━━━━━━━━\u001B[0m\u001B[37m\u001B[0m \u001B[1m27s\u001B[0m 501ms/step - accuracy: 0.3275 - loss: 2.2097 - val_accuracy: 0.2934 - val_loss: 2.3302\n",
      "Epoch 21/50\n",
      "\u001B[1m54/54\u001B[0m \u001B[32m━━━━━━━━━━━━━━━━━━━━\u001B[0m\u001B[37m\u001B[0m \u001B[1m27s\u001B[0m 500ms/step - accuracy: 0.3549 - loss: 2.1811 - val_accuracy: 0.2911 - val_loss: 2.3409\n",
      "Epoch 22/50\n",
      "\u001B[1m54/54\u001B[0m \u001B[32m━━━━━━━━━━━━━━━━━━━━\u001B[0m\u001B[37m\u001B[0m \u001B[1m30s\u001B[0m 550ms/step - accuracy: 0.3663 - loss: 2.1415 - val_accuracy: 0.2934 - val_loss: 2.3959\n",
      "Epoch 23/50\n",
      "\u001B[1m54/54\u001B[0m \u001B[32m━━━━━━━━━━━━━━━━━━━━\u001B[0m\u001B[37m\u001B[0m \u001B[1m30s\u001B[0m 548ms/step - accuracy: 0.3720 - loss: 2.1445 - val_accuracy: 0.3545 - val_loss: 2.2160\n",
      "Epoch 24/50\n",
      "\u001B[1m54/54\u001B[0m \u001B[32m━━━━━━━━━━━━━━━━━━━━\u001B[0m\u001B[37m\u001B[0m \u001B[1m27s\u001B[0m 497ms/step - accuracy: 0.3954 - loss: 2.0961 - val_accuracy: 0.3756 - val_loss: 2.1884\n",
      "Epoch 25/50\n",
      "\u001B[1m54/54\u001B[0m \u001B[32m━━━━━━━━━━━━━━━━━━━━\u001B[0m\u001B[37m\u001B[0m \u001B[1m30s\u001B[0m 556ms/step - accuracy: 0.4272 - loss: 2.0352 - val_accuracy: 0.3568 - val_loss: 2.2165\n",
      "Epoch 26/50\n",
      "\u001B[1m54/54\u001B[0m \u001B[32m━━━━━━━━━━━━━━━━━━━━\u001B[0m\u001B[37m\u001B[0m \u001B[1m33s\u001B[0m 614ms/step - accuracy: 0.4140 - loss: 2.0207 - val_accuracy: 0.3404 - val_loss: 2.3361\n",
      "Epoch 27/50\n",
      "\u001B[1m54/54\u001B[0m \u001B[32m━━━━━━━━━━━━━━━━━━━━\u001B[0m\u001B[37m\u001B[0m \u001B[1m36s\u001B[0m 671ms/step - accuracy: 0.4369 - loss: 2.0056 - val_accuracy: 0.3662 - val_loss: 2.2334\n",
      "Epoch 28/50\n",
      "\u001B[1m54/54\u001B[0m \u001B[32m━━━━━━━━━━━━━━━━━━━━\u001B[0m\u001B[37m\u001B[0m \u001B[1m33s\u001B[0m 602ms/step - accuracy: 0.4689 - loss: 1.9503 - val_accuracy: 0.3779 - val_loss: 2.1348\n",
      "Epoch 29/50\n",
      "\u001B[1m54/54\u001B[0m \u001B[32m━━━━━━━━━━━━━━━━━━━━\u001B[0m\u001B[37m\u001B[0m \u001B[1m32s\u001B[0m 588ms/step - accuracy: 0.4997 - loss: 1.9306 - val_accuracy: 0.4108 - val_loss: 2.1783\n",
      "Epoch 30/50\n",
      "\u001B[1m54/54\u001B[0m \u001B[32m━━━━━━━━━━━━━━━━━━━━\u001B[0m\u001B[37m\u001B[0m \u001B[1m37s\u001B[0m 678ms/step - accuracy: 0.4877 - loss: 1.8972 - val_accuracy: 0.4390 - val_loss: 2.0328\n",
      "Epoch 31/50\n",
      "\u001B[1m54/54\u001B[0m \u001B[32m━━━━━━━━━━━━━━━━━━━━\u001B[0m\u001B[37m\u001B[0m \u001B[1m31s\u001B[0m 575ms/step - accuracy: 0.5363 - loss: 1.8362 - val_accuracy: 0.4437 - val_loss: 2.0511\n",
      "Epoch 32/50\n",
      "\u001B[1m54/54\u001B[0m \u001B[32m━━━━━━━━━━━━━━━━━━━━\u001B[0m\u001B[37m\u001B[0m \u001B[1m32s\u001B[0m 596ms/step - accuracy: 0.5418 - loss: 1.8432 - val_accuracy: 0.4085 - val_loss: 2.0736\n",
      "Epoch 33/50\n",
      "\u001B[1m54/54\u001B[0m \u001B[32m━━━━━━━━━━━━━━━━━━━━\u001B[0m\u001B[37m\u001B[0m \u001B[1m42s\u001B[0m 775ms/step - accuracy: 0.5293 - loss: 1.8532 - val_accuracy: 0.4390 - val_loss: 2.0204\n",
      "Epoch 34/50\n",
      "\u001B[1m54/54\u001B[0m \u001B[32m━━━━━━━━━━━━━━━━━━━━\u001B[0m\u001B[37m\u001B[0m \u001B[1m40s\u001B[0m 742ms/step - accuracy: 0.5561 - loss: 1.7522 - val_accuracy: 0.4202 - val_loss: 2.0148\n",
      "Epoch 35/50\n",
      "\u001B[1m54/54\u001B[0m \u001B[32m━━━━━━━━━━━━━━━━━━━━\u001B[0m\u001B[37m\u001B[0m \u001B[1m35s\u001B[0m 642ms/step - accuracy: 0.5438 - loss: 1.7766 - val_accuracy: 0.4671 - val_loss: 1.9595\n",
      "Epoch 36/50\n",
      "\u001B[1m54/54\u001B[0m \u001B[32m━━━━━━━━━━━━━━━━━━━━\u001B[0m\u001B[37m\u001B[0m \u001B[1m31s\u001B[0m 578ms/step - accuracy: 0.5646 - loss: 1.7633 - val_accuracy: 0.4319 - val_loss: 2.0222\n",
      "Epoch 37/50\n",
      "\u001B[1m54/54\u001B[0m \u001B[32m━━━━━━━━━━━━━━━━━━━━\u001B[0m\u001B[37m\u001B[0m \u001B[1m42s\u001B[0m 773ms/step - accuracy: 0.5597 - loss: 1.7399 - val_accuracy: 0.4577 - val_loss: 1.9755\n",
      "Epoch 38/50\n",
      "\u001B[1m54/54\u001B[0m \u001B[32m━━━━━━━━━━━━━━━━━━━━\u001B[0m\u001B[37m\u001B[0m \u001B[1m46s\u001B[0m 843ms/step - accuracy: 0.5713 - loss: 1.6883 - val_accuracy: 0.5000 - val_loss: 1.8856\n",
      "Epoch 39/50\n",
      "\u001B[1m54/54\u001B[0m \u001B[32m━━━━━━━━━━━━━━━━━━━━\u001B[0m\u001B[37m\u001B[0m \u001B[1m60s\u001B[0m 1s/step - accuracy: 0.6065 - loss: 1.6622 - val_accuracy: 0.4953 - val_loss: 1.9051\n",
      "Epoch 40/50\n",
      "\u001B[1m54/54\u001B[0m \u001B[32m━━━━━━━━━━━━━━━━━━━━\u001B[0m\u001B[37m\u001B[0m \u001B[1m44s\u001B[0m 814ms/step - accuracy: 0.6272 - loss: 1.6391 - val_accuracy: 0.5047 - val_loss: 1.8614\n",
      "Epoch 41/50\n",
      "\u001B[1m54/54\u001B[0m \u001B[32m━━━━━━━━━━━━━━━━━━━━\u001B[0m\u001B[37m\u001B[0m \u001B[1m51s\u001B[0m 947ms/step - accuracy: 0.6045 - loss: 1.6726 - val_accuracy: 0.5352 - val_loss: 1.8429\n",
      "Epoch 42/50\n",
      "\u001B[1m54/54\u001B[0m \u001B[32m━━━━━━━━━━━━━━━━━━━━\u001B[0m\u001B[37m\u001B[0m \u001B[1m44s\u001B[0m 821ms/step - accuracy: 0.6369 - loss: 1.6011 - val_accuracy: 0.5282 - val_loss: 1.8998\n",
      "Epoch 43/50\n",
      "\u001B[1m54/54\u001B[0m \u001B[32m━━━━━━━━━━━━━━━━━━━━\u001B[0m\u001B[37m\u001B[0m \u001B[1m45s\u001B[0m 825ms/step - accuracy: 0.6326 - loss: 1.5442 - val_accuracy: 0.5563 - val_loss: 1.7698\n",
      "Epoch 44/50\n",
      "\u001B[1m54/54\u001B[0m \u001B[32m━━━━━━━━━━━━━━━━━━━━\u001B[0m\u001B[37m\u001B[0m \u001B[1m43s\u001B[0m 806ms/step - accuracy: 0.6305 - loss: 1.5407 - val_accuracy: 0.5587 - val_loss: 1.7394\n",
      "Epoch 45/50\n",
      "\u001B[1m54/54\u001B[0m \u001B[32m━━━━━━━━━━━━━━━━━━━━\u001B[0m\u001B[37m\u001B[0m \u001B[1m44s\u001B[0m 811ms/step - accuracy: 0.6554 - loss: 1.5816 - val_accuracy: 0.5376 - val_loss: 1.7587\n",
      "Epoch 46/50\n",
      "\u001B[1m54/54\u001B[0m \u001B[32m━━━━━━━━━━━━━━━━━━━━\u001B[0m\u001B[37m\u001B[0m \u001B[1m44s\u001B[0m 816ms/step - accuracy: 0.5964 - loss: 1.6017 - val_accuracy: 0.5211 - val_loss: 1.8686\n",
      "Epoch 47/50\n",
      "\u001B[1m54/54\u001B[0m \u001B[32m━━━━━━━━━━━━━━━━━━━━\u001B[0m\u001B[37m\u001B[0m \u001B[1m41s\u001B[0m 757ms/step - accuracy: 0.6373 - loss: 1.5754 - val_accuracy: 0.5211 - val_loss: 1.7842\n",
      "Epoch 48/50\n",
      "\u001B[1m54/54\u001B[0m \u001B[32m━━━━━━━━━━━━━━━━━━━━\u001B[0m\u001B[37m\u001B[0m \u001B[1m48s\u001B[0m 887ms/step - accuracy: 0.6103 - loss: 1.5520 - val_accuracy: 0.5258 - val_loss: 1.7229\n",
      "Epoch 49/50\n",
      "\u001B[1m54/54\u001B[0m \u001B[32m━━━━━━━━━━━━━━━━━━━━\u001B[0m\u001B[37m\u001B[0m \u001B[1m46s\u001B[0m 854ms/step - accuracy: 0.6481 - loss: 1.5299 - val_accuracy: 0.5775 - val_loss: 1.7333\n",
      "Epoch 50/50\n",
      "\u001B[1m54/54\u001B[0m \u001B[32m━━━━━━━━━━━━━━━━━━━━\u001B[0m\u001B[37m\u001B[0m \u001B[1m44s\u001B[0m 809ms/step - accuracy: 0.6198 - loss: 1.5463 - val_accuracy: 0.5681 - val_loss: 1.6533\n"
     ]
    },
    {
     "name": "stderr",
     "output_type": "stream",
     "text": [
      "2024-06-05 08:45:26,300 - INFO - Command recognition model trained.\n"
     ]
    },
    {
     "data": {
      "text/plain": [
       "<Figure size 640x480 with 1 Axes>"
      ],
      "image/png": "[encoded data removed]"
     },
     "metadata": {},
     "output_type": "display_data"
    },
    {
     "data": {
      "text/plain": [
       "<Figure size 640x480 with 1 Axes>"
      ],
      "image/png": "[encoded data removed]"
     },
     "metadata": {},
     "output_type": "display_data"
    }
   ],
   "execution_count": 47
  },
  {
   "metadata": {
    "ExecuteTime": {
     "end_time": "2024-06-05T07:19:51.612447Z",
     "start_time": "2024-06-05T07:19:35.295837Z"
    }
   },
   "cell_type": "code",
   "source": [
    "import os\n",
    "import numpy as np\n",
    "import tensorflow as tf\n",
    "import logging\n",
    "import pandas as pd\n",
    "import random\n",
    "from tqdm import tqdm\n",
    "\n",
    "# Setup logging\n",
    "logging.basicConfig(level=logging.INFO, format='%(asctime)s - %(levelname)s - %(message)s')\n",
    "\n",
    "data_dir = '../dataset'\n",
    "model_save_path = 'best_command_model.keras'\n",
    "annotations_file = f'{data_dir}/development_scene_annotations.csv'\n",
    "\n",
    "# Load annotations to get command mapping\n",
    "logging.info('Loading annotations...')\n",
    "annotations = pd.read_csv(annotations_file)\n",
    "logging.info('Annotations loaded.')\n",
    "\n",
    "# Extract command mapping\n",
    "command_mapping = {}\n",
    "current_label = 0\n",
    "for command in annotations['command'].unique():\n",
    "    command_mapping[command] = current_label\n",
    "    current_label += 1\n",
    "\n",
    "# Reverse command mapping\n",
    "reverse_command_mapping = {v: k for k, v in command_mapping.items()}\n",
    "\n",
    "# Load the best model\n",
    "logging.info('Loading the best model...')\n",
    "command_model = tf.keras.models.load_model(model_save_path)\n",
    "logging.info('Model loaded.')\n",
    "\n",
    "\n",
    "# Function to prepare feature data (from the training script)\n",
    "def prepare_feature_data(annotations, data_dir, feature_dir):\n",
    "    command_features = []\n",
    "    command_labels = []\n",
    "    command_mapping = {}  # Mapping of command texts to numerical labels\n",
    "    current_label = 0\n",
    "    max_len = 0  # To determine the maximum length of features\n",
    "\n",
    "    logging.info('Preparing command data...')\n",
    "    for index, row in tqdm(annotations.iterrows(), total=annotations.shape[0]):\n",
    "        feature_path = os.path.join(feature_dir, row['filename'] + '.npy')\n",
    "        features = np.load(feature_path)\n",
    "        max_len = max(max_len, features.shape[1])  # Update max_len\n",
    "\n",
    "        command_text = row['command']\n",
    "        if command_text not in command_mapping:\n",
    "            command_mapping[command_text] = current_label\n",
    "            current_label += 1\n",
    "\n",
    "        command_label = command_mapping[command_text]\n",
    "\n",
    "        command_features.append(features)\n",
    "        command_labels.append(command_label)\n",
    "\n",
    "    # Pad features to the same length\n",
    "    padded_features = []\n",
    "    for feature in command_features:\n",
    "        pad_width = max_len - feature.shape[1]\n",
    "        if pad_width > 0:\n",
    "            feature = np.pad(feature, ((0, 0), (0, pad_width)), mode='constant')\n",
    "        padded_features.append(feature)\n",
    "\n",
    "    logging.info('Command data prepared.')\n",
    "    return np.array(padded_features), np.array(command_labels), command_mapping, max_len\n",
    "\n",
    "\n",
    "# Calculate mean, std, and max_len from training data\n",
    "feature_dir = f'{data_dir}/scenes/npy'\n",
    "annotations = pd.read_csv(annotations_file)\n",
    "command_features, _, _, max_len = prepare_feature_data(annotations, data_dir, feature_dir)\n",
    "mean = np.mean(command_features, axis=(0, 2), keepdims=True)\n",
    "std = np.std(command_features, axis=(0, 2), keepdims=True)\n",
    "\n",
    "\n",
    "# Function to prepare new data for prediction\n",
    "def prepare_new_data(new_feature_file, mean, std, max_len):\n",
    "    new_features = np.load(new_feature_file)\n",
    "    new_features = np.pad(new_features, ((0, 0), (0, max_len - new_features.shape[1])), mode='constant')\n",
    "    new_features = (new_features - mean) / std\n",
    "    #new_features = new_features.reshape(1, new_features.shape[0], new_features.shape[1])\n",
    "    return new_features\n",
    "\n",
    "\n",
    "# Function to predict and assess accuracy\n",
    "def predict_command(file_path):\n",
    "    new_features = prepare_new_data(file_path, mean, std, max_len)\n",
    "    predicted_command = command_model.predict(new_features)\n",
    "    predicted_label = np.argmax(predicted_command)\n",
    "    confidence = np.max(predicted_command)\n",
    "    predicted_command_text = reverse_command_mapping[predicted_label]\n",
    "    return predicted_command_text, confidence\n",
    "\n",
    "\n",
    "# Loop over random files and assess accuracy\n",
    "num_files_to_evaluate = 100\n",
    "random_files = random.sample(list(annotations['filename'].unique()), num_files_to_evaluate)\n",
    "\n",
    "correct_predictions = 0\n",
    "total_predictions = 0\n",
    "\n",
    "for file_name in random_files:\n",
    "    file_path = os.path.join(feature_dir, f\"{file_name}.npy\")\n",
    "    actual_command = annotations[annotations['filename'] == file_name]['command'].values[0]\n",
    "    predicted_command_text, confidence = predict_command(file_path)\n",
    "\n",
    "    logging.info(f\"File: {file_name}\")\n",
    "    logging.info(f\"Actual Command: {actual_command}\")\n",
    "    logging.info(f\"Predicted Command: {predicted_command_text}\")\n",
    "    logging.info(f\"Confidence: {confidence:.2f}\")\n",
    "\n",
    "    if actual_command == predicted_command_text:\n",
    "        correct_predictions += 1\n",
    "    total_predictions += 1\n",
    "\n",
    "accuracy = correct_predictions / total_predictions\n",
    "logging.info(f\"Overall Accuracy: {accuracy:.2%}\")\n"
   ],
   "id": "c5a1dcf3f55de3bf",
   "outputs": [
    {
     "name": "stderr",
     "output_type": "stream",
     "text": [
      "2024-06-05 09:19:35,332 - INFO - Loading annotations...\n",
      "2024-06-05 09:19:35,348 - INFO - Annotations loaded.\n",
      "2024-06-05 09:19:35,350 - INFO - Loading the best model...\n",
      "2024-06-05 09:19:35,922 - INFO - Model loaded.\n",
      "2024-06-05 09:19:35,927 - INFO - Preparing command data...\n",
      "100%|██████████| 1065/1065 [00:01<00:00, 622.77it/s]\n",
      "2024-06-05 09:19:38,582 - INFO - Command data prepared.\n"
     ]
    },
    {
     "name": "stdout",
     "output_type": "stream",
     "text": [
      "\u001B[1m1/1\u001B[0m \u001B[32m━━━━━━━━━━━━━━━━━━━━\u001B[0m\u001B[37m\u001B[0m \u001B[1m1s\u001B[0m 508ms/step\n"
     ]
    },
    {
     "name": "stderr",
     "output_type": "stream",
     "text": [
      "2024-06-05 09:19:43,051 - INFO - File: 215_speech_false_Heizung_aus_Licht_aus\n",
      "2024-06-05 09:19:43,052 - INFO - Actual Command: Heizung aus\n",
      "2024-06-05 09:19:43,052 - INFO - Predicted Command: Heizung aus\n",
      "2024-06-05 09:19:43,054 - INFO - Confidence: 0.41\n"
     ]
    },
    {
     "name": "stdout",
     "output_type": "stream",
     "text": [
      "\u001B[1m1/1\u001B[0m \u001B[32m━━━━━━━━━━━━━━━━━━━━\u001B[0m\u001B[37m\u001B[0m \u001B[1m0s\u001B[0m 50ms/step\n"
     ]
    },
    {
     "name": "stderr",
     "output_type": "stream",
     "text": [
      "2024-06-05 09:19:43,164 - INFO - File: 1383_speech_false_Alarm_an\n",
      "2024-06-05 09:19:43,165 - INFO - Actual Command: Alarm an\n",
      "2024-06-05 09:19:43,165 - INFO - Predicted Command: Alarm an\n",
      "2024-06-05 09:19:43,165 - INFO - Confidence: 0.83\n"
     ]
    },
    {
     "name": "stdout",
     "output_type": "stream",
     "text": [
      "\u001B[1m1/1\u001B[0m \u001B[32m━━━━━━━━━━━━━━━━━━━━\u001B[0m\u001B[37m\u001B[0m \u001B[1m0s\u001B[0m 46ms/step\n"
     ]
    },
    {
     "name": "stderr",
     "output_type": "stream",
     "text": [
      "2024-06-05 09:19:43,257 - INFO - File: 1726_speech_true_Heizung_aus\n",
      "2024-06-05 09:19:43,258 - INFO - Actual Command: Heizung aus\n",
      "2024-06-05 09:19:43,258 - INFO - Predicted Command: Heizung aus\n",
      "2024-06-05 09:19:43,259 - INFO - Confidence: 0.69\n"
     ]
    },
    {
     "name": "stdout",
     "output_type": "stream",
     "text": [
      "\u001B[1m1/1\u001B[0m \u001B[32m━━━━━━━━━━━━━━━━━━━━\u001B[0m\u001B[37m\u001B[0m \u001B[1m0s\u001B[0m 64ms/step\n"
     ]
    },
    {
     "name": "stderr",
     "output_type": "stream",
     "text": [
      "2024-06-05 09:19:43,376 - INFO - File: 1817_speech_true_Heizung_aus\n",
      "2024-06-05 09:19:43,377 - INFO - Actual Command: Heizung aus\n",
      "2024-06-05 09:19:43,377 - INFO - Predicted Command: Heizung aus\n",
      "2024-06-05 09:19:43,378 - INFO - Confidence: 0.71\n"
     ]
    },
    {
     "name": "stdout",
     "output_type": "stream",
     "text": [
      "\u001B[1m1/1\u001B[0m \u001B[32m━━━━━━━━━━━━━━━━━━━━\u001B[0m\u001B[37m\u001B[0m \u001B[1m0s\u001B[0m 48ms/step\n"
     ]
    },
    {
     "name": "stderr",
     "output_type": "stream",
     "text": [
      "2024-06-05 09:19:43,482 - INFO - File: 560_speech_false_Lüftung_aus\n",
      "2024-06-05 09:19:43,483 - INFO - Actual Command: Lüftung aus\n",
      "2024-06-05 09:19:43,483 - INFO - Predicted Command: Lüftung aus\n",
      "2024-06-05 09:19:43,484 - INFO - Confidence: 0.83\n"
     ]
    },
    {
     "name": "stdout",
     "output_type": "stream",
     "text": [
      "\u001B[1m1/1\u001B[0m \u001B[32m━━━━━━━━━━━━━━━━━━━━\u001B[0m\u001B[37m\u001B[0m \u001B[1m0s\u001B[0m 45ms/step\n"
     ]
    },
    {
     "name": "stderr",
     "output_type": "stream",
     "text": [
      "2024-06-05 09:19:43,584 - INFO - File: 515_speech_false_Alarm_aus_Radio_aus\n",
      "2024-06-05 09:19:43,585 - INFO - Actual Command: Alarm aus\n",
      "2024-06-05 09:19:43,585 - INFO - Predicted Command: Alarm aus\n",
      "2024-06-05 09:19:43,586 - INFO - Confidence: 0.55\n"
     ]
    },
    {
     "name": "stdout",
     "output_type": "stream",
     "text": [
      "\u001B[1m1/1\u001B[0m \u001B[32m━━━━━━━━━━━━━━━━━━━━\u001B[0m\u001B[37m\u001B[0m \u001B[1m0s\u001B[0m 49ms/step\n"
     ]
    },
    {
     "name": "stderr",
     "output_type": "stream",
     "text": [
      "2024-06-05 09:19:43,683 - INFO - File: 1689_speech_true_Ofen_aus\n",
      "2024-06-05 09:19:43,684 - INFO - Actual Command: Ofen aus\n",
      "2024-06-05 09:19:43,684 - INFO - Predicted Command: Ofen aus\n",
      "2024-06-05 09:19:43,685 - INFO - Confidence: 0.77\n"
     ]
    },
    {
     "name": "stdout",
     "output_type": "stream",
     "text": [
      "\u001B[1m1/1\u001B[0m \u001B[32m━━━━━━━━━━━━━━━━━━━━\u001B[0m\u001B[37m\u001B[0m \u001B[1m0s\u001B[0m 56ms/step\n"
     ]
    },
    {
     "name": "stderr",
     "output_type": "stream",
     "text": [
      "2024-06-05 09:19:43,807 - INFO - File: 1708_speech_true_Staubsauger_an\n",
      "2024-06-05 09:19:43,807 - INFO - Actual Command: Staubsauger an\n",
      "2024-06-05 09:19:43,808 - INFO - Predicted Command: Staubsauger an\n",
      "2024-06-05 09:19:43,808 - INFO - Confidence: 0.88\n"
     ]
    },
    {
     "name": "stdout",
     "output_type": "stream",
     "text": [
      "\u001B[1m1/1\u001B[0m \u001B[32m━━━━━━━━━━━━━━━━━━━━\u001B[0m\u001B[37m\u001B[0m \u001B[1m0s\u001B[0m 52ms/step\n"
     ]
    },
    {
     "name": "stderr",
     "output_type": "stream",
     "text": [
      "2024-06-05 09:19:43,916 - INFO - File: 595_speech_false_Fernseher_aus\n",
      "2024-06-05 09:19:43,916 - INFO - Actual Command: Fernseher aus\n",
      "2024-06-05 09:19:43,916 - INFO - Predicted Command: Fernseher aus\n",
      "2024-06-05 09:19:43,917 - INFO - Confidence: 0.89\n"
     ]
    },
    {
     "name": "stdout",
     "output_type": "stream",
     "text": [
      "\u001B[1m1/1\u001B[0m \u001B[32m━━━━━━━━━━━━━━━━━━━━\u001B[0m\u001B[37m\u001B[0m \u001B[1m0s\u001B[0m 55ms/step\n"
     ]
    },
    {
     "name": "stderr",
     "output_type": "stream",
     "text": [
      "2024-06-05 09:19:44,027 - INFO - File: 1148_speech_true_Ofen_aus_Radio_aus_Staubsauger_aus\n",
      "2024-06-05 09:19:44,027 - INFO - Actual Command: Ofen aus\n",
      "2024-06-05 09:19:44,028 - INFO - Predicted Command: Radio aus\n",
      "2024-06-05 09:19:44,028 - INFO - Confidence: 0.33\n"
     ]
    },
    {
     "name": "stdout",
     "output_type": "stream",
     "text": [
      "\u001B[1m1/1\u001B[0m \u001B[32m━━━━━━━━━━━━━━━━━━━━\u001B[0m\u001B[37m\u001B[0m \u001B[1m0s\u001B[0m 55ms/step\n"
     ]
    },
    {
     "name": "stderr",
     "output_type": "stream",
     "text": [
      "2024-06-05 09:19:44,135 - INFO - File: 1909_speech_false_Alarm_aus\n",
      "2024-06-05 09:19:44,135 - INFO - Actual Command: Alarm aus\n",
      "2024-06-05 09:19:44,136 - INFO - Predicted Command: Alarm aus\n",
      "2024-06-05 09:19:44,136 - INFO - Confidence: 0.74\n"
     ]
    },
    {
     "name": "stdout",
     "output_type": "stream",
     "text": [
      "\u001B[1m1/1\u001B[0m \u001B[32m━━━━━━━━━━━━━━━━━━━━\u001B[0m\u001B[37m\u001B[0m \u001B[1m0s\u001B[0m 46ms/step\n"
     ]
    },
    {
     "name": "stderr",
     "output_type": "stream",
     "text": [
      "2024-06-05 09:19:44,235 - INFO - File: 33_speech_false_Staubsauger_an\n",
      "2024-06-05 09:19:44,235 - INFO - Actual Command: Staubsauger an\n",
      "2024-06-05 09:19:44,236 - INFO - Predicted Command: Staubsauger an\n",
      "2024-06-05 09:19:44,236 - INFO - Confidence: 0.90\n"
     ]
    },
    {
     "name": "stdout",
     "output_type": "stream",
     "text": [
      "\u001B[1m1/1\u001B[0m \u001B[32m━━━━━━━━━━━━━━━━━━━━\u001B[0m\u001B[37m\u001B[0m \u001B[1m0s\u001B[0m 46ms/step\n"
     ]
    },
    {
     "name": "stderr",
     "output_type": "stream",
     "text": [
      "2024-06-05 09:19:44,346 - INFO - File: 1752_speech_true_Fernseher_aus_Alarm_aus\n",
      "2024-06-05 09:19:44,347 - INFO - Actual Command: Fernseher aus\n",
      "2024-06-05 09:19:44,347 - INFO - Predicted Command: Fernseher aus\n",
      "2024-06-05 09:19:44,348 - INFO - Confidence: 0.65\n"
     ]
    },
    {
     "name": "stdout",
     "output_type": "stream",
     "text": [
      "\u001B[1m1/1\u001B[0m \u001B[32m━━━━━━━━━━━━━━━━━━━━\u001B[0m\u001B[37m\u001B[0m \u001B[1m0s\u001B[0m 40ms/step\n"
     ]
    },
    {
     "name": "stderr",
     "output_type": "stream",
     "text": [
      "2024-06-05 09:19:44,438 - INFO - File: 382_speech_false_Staubsauger_an\n",
      "2024-06-05 09:19:44,439 - INFO - Actual Command: Staubsauger an\n",
      "2024-06-05 09:19:44,440 - INFO - Predicted Command: Staubsauger an\n",
      "2024-06-05 09:19:44,440 - INFO - Confidence: 0.90\n"
     ]
    },
    {
     "name": "stdout",
     "output_type": "stream",
     "text": [
      "\u001B[1m1/1\u001B[0m \u001B[32m━━━━━━━━━━━━━━━━━━━━\u001B[0m\u001B[37m\u001B[0m \u001B[1m0s\u001B[0m 39ms/step\n"
     ]
    },
    {
     "name": "stderr",
     "output_type": "stream",
     "text": [
      "2024-06-05 09:19:44,524 - INFO - File: 2006_speech_true_Alarm_aus\n",
      "2024-06-05 09:19:44,524 - INFO - Actual Command: Alarm aus\n",
      "2024-06-05 09:19:44,525 - INFO - Predicted Command: Alarm aus\n",
      "2024-06-05 09:19:44,526 - INFO - Confidence: 0.66\n"
     ]
    },
    {
     "name": "stdout",
     "output_type": "stream",
     "text": [
      "\u001B[1m1/1\u001B[0m \u001B[32m━━━━━━━━━━━━━━━━━━━━\u001B[0m\u001B[37m\u001B[0m \u001B[1m0s\u001B[0m 44ms/step\n"
     ]
    },
    {
     "name": "stderr",
     "output_type": "stream",
     "text": [
      "2024-06-05 09:19:44,613 - INFO - File: 1292_speech_false_Ofen_an\n",
      "2024-06-05 09:19:44,614 - INFO - Actual Command: Ofen an\n",
      "2024-06-05 09:19:44,614 - INFO - Predicted Command: Ofen an\n",
      "2024-06-05 09:19:44,615 - INFO - Confidence: 0.82\n"
     ]
    },
    {
     "name": "stdout",
     "output_type": "stream",
     "text": [
      "\u001B[1m1/1\u001B[0m \u001B[32m━━━━━━━━━━━━━━━━━━━━\u001B[0m\u001B[37m\u001B[0m \u001B[1m0s\u001B[0m 39ms/step\n"
     ]
    },
    {
     "name": "stderr",
     "output_type": "stream",
     "text": [
      "2024-06-05 09:19:44,703 - INFO - File: 1822_speech_true_Heizung_an\n",
      "2024-06-05 09:19:44,704 - INFO - Actual Command: Heizung an\n",
      "2024-06-05 09:19:44,704 - INFO - Predicted Command: Heizung an\n",
      "2024-06-05 09:19:44,705 - INFO - Confidence: 0.86\n"
     ]
    },
    {
     "name": "stdout",
     "output_type": "stream",
     "text": [
      "\u001B[1m1/1\u001B[0m \u001B[32m━━━━━━━━━━━━━━━━━━━━\u001B[0m\u001B[37m\u001B[0m \u001B[1m0s\u001B[0m 42ms/step\n"
     ]
    },
    {
     "name": "stderr",
     "output_type": "stream",
     "text": [
      "2024-06-05 09:19:44,785 - INFO - File: 404_speech_true_Lüftung_aus\n",
      "2024-06-05 09:19:44,786 - INFO - Actual Command: Lüftung aus\n",
      "2024-06-05 09:19:44,786 - INFO - Predicted Command: Lüftung aus\n",
      "2024-06-05 09:19:44,787 - INFO - Confidence: 0.84\n"
     ]
    },
    {
     "name": "stdout",
     "output_type": "stream",
     "text": [
      "\u001B[1m1/1\u001B[0m \u001B[32m━━━━━━━━━━━━━━━━━━━━\u001B[0m\u001B[37m\u001B[0m \u001B[1m0s\u001B[0m 41ms/step\n"
     ]
    },
    {
     "name": "stderr",
     "output_type": "stream",
     "text": [
      "2024-06-05 09:19:44,870 - INFO - File: 1039_speech_false_Heizung_an\n",
      "2024-06-05 09:19:44,870 - INFO - Actual Command: Heizung an\n",
      "2024-06-05 09:19:44,871 - INFO - Predicted Command: Heizung an\n",
      "2024-06-05 09:19:44,872 - INFO - Confidence: 0.85\n"
     ]
    },
    {
     "name": "stdout",
     "output_type": "stream",
     "text": [
      "\u001B[1m1/1\u001B[0m \u001B[32m━━━━━━━━━━━━━━━━━━━━\u001B[0m\u001B[37m\u001B[0m \u001B[1m0s\u001B[0m 44ms/step\n"
     ]
    },
    {
     "name": "stderr",
     "output_type": "stream",
     "text": [
      "2024-06-05 09:19:44,960 - INFO - File: 940_speech_true_Lüftung_aus\n",
      "2024-06-05 09:19:44,961 - INFO - Actual Command: Lüftung aus\n",
      "2024-06-05 09:19:44,961 - INFO - Predicted Command: Lüftung aus\n",
      "2024-06-05 09:19:44,962 - INFO - Confidence: 0.78\n"
     ]
    },
    {
     "name": "stdout",
     "output_type": "stream",
     "text": [
      "\u001B[1m1/1\u001B[0m \u001B[32m━━━━━━━━━━━━━━━━━━━━\u001B[0m\u001B[37m\u001B[0m \u001B[1m0s\u001B[0m 39ms/step\n"
     ]
    },
    {
     "name": "stderr",
     "output_type": "stream",
     "text": [
      "2024-06-05 09:19:45,043 - INFO - File: 68_speech_true_Heizung_an\n",
      "2024-06-05 09:19:45,043 - INFO - Actual Command: Heizung an\n",
      "2024-06-05 09:19:45,044 - INFO - Predicted Command: Heizung an\n",
      "2024-06-05 09:19:45,044 - INFO - Confidence: 0.84\n"
     ]
    },
    {
     "name": "stdout",
     "output_type": "stream",
     "text": [
      "\u001B[1m1/1\u001B[0m \u001B[32m━━━━━━━━━━━━━━━━━━━━\u001B[0m\u001B[37m\u001B[0m \u001B[1m0s\u001B[0m 46ms/step\n"
     ]
    },
    {
     "name": "stderr",
     "output_type": "stream",
     "text": [
      "2024-06-05 09:19:45,132 - INFO - File: 644_speech_false_Licht_aus\n",
      "2024-06-05 09:19:45,133 - INFO - Actual Command: Licht aus\n",
      "2024-06-05 09:19:45,133 - INFO - Predicted Command: Licht aus\n",
      "2024-06-05 09:19:45,133 - INFO - Confidence: 0.73\n"
     ]
    },
    {
     "name": "stdout",
     "output_type": "stream",
     "text": [
      "\u001B[1m1/1\u001B[0m \u001B[32m━━━━━━━━━━━━━━━━━━━━\u001B[0m\u001B[37m\u001B[0m \u001B[1m0s\u001B[0m 42ms/step\n"
     ]
    },
    {
     "name": "stderr",
     "output_type": "stream",
     "text": [
      "2024-06-05 09:19:45,216 - INFO - File: 1172_speech_false_Radio_aus_Staubsauger_an\n",
      "2024-06-05 09:19:45,216 - INFO - Actual Command: Radio aus\n",
      "2024-06-05 09:19:45,216 - INFO - Predicted Command: Staubsauger an\n",
      "2024-06-05 09:19:45,217 - INFO - Confidence: 0.15\n"
     ]
    },
    {
     "name": "stdout",
     "output_type": "stream",
     "text": [
      "\u001B[1m1/1\u001B[0m \u001B[32m━━━━━━━━━━━━━━━━━━━━\u001B[0m\u001B[37m\u001B[0m \u001B[1m0s\u001B[0m 43ms/step\n"
     ]
    },
    {
     "name": "stderr",
     "output_type": "stream",
     "text": [
      "2024-06-05 09:19:45,305 - INFO - File: 1452_speech_false_Radio_an\n",
      "2024-06-05 09:19:45,305 - INFO - Actual Command: Radio an\n",
      "2024-06-05 09:19:45,305 - INFO - Predicted Command: Radio an\n",
      "2024-06-05 09:19:45,306 - INFO - Confidence: 0.88\n"
     ]
    },
    {
     "name": "stdout",
     "output_type": "stream",
     "text": [
      "\u001B[1m1/1\u001B[0m \u001B[32m━━━━━━━━━━━━━━━━━━━━\u001B[0m\u001B[37m\u001B[0m \u001B[1m0s\u001B[0m 41ms/step\n"
     ]
    },
    {
     "name": "stderr",
     "output_type": "stream",
     "text": [
      "2024-06-05 09:19:45,389 - INFO - File: 513_speech_false_Staubsauger_aus\n",
      "2024-06-05 09:19:45,389 - INFO - Actual Command: Staubsauger aus\n",
      "2024-06-05 09:19:45,389 - INFO - Predicted Command: Staubsauger aus\n",
      "2024-06-05 09:19:45,390 - INFO - Confidence: 0.38\n"
     ]
    },
    {
     "name": "stdout",
     "output_type": "stream",
     "text": [
      "\u001B[1m1/1\u001B[0m \u001B[32m━━━━━━━━━━━━━━━━━━━━\u001B[0m\u001B[37m\u001B[0m \u001B[1m0s\u001B[0m 37ms/step\n"
     ]
    },
    {
     "name": "stderr",
     "output_type": "stream",
     "text": [
      "2024-06-05 09:19:45,468 - INFO - File: 713_speech_false_Ofen_an\n",
      "2024-06-05 09:19:45,469 - INFO - Actual Command: Ofen an\n",
      "2024-06-05 09:19:45,469 - INFO - Predicted Command: Ofen an\n",
      "2024-06-05 09:19:45,470 - INFO - Confidence: 0.80\n"
     ]
    },
    {
     "name": "stdout",
     "output_type": "stream",
     "text": [
      "\u001B[1m1/1\u001B[0m \u001B[32m━━━━━━━━━━━━━━━━━━━━\u001B[0m\u001B[37m\u001B[0m \u001B[1m0s\u001B[0m 38ms/step\n"
     ]
    },
    {
     "name": "stderr",
     "output_type": "stream",
     "text": [
      "2024-06-05 09:19:45,547 - INFO - File: 140_speech_true_Fernseher_an\n",
      "2024-06-05 09:19:45,547 - INFO - Actual Command: Fernseher an\n",
      "2024-06-05 09:19:45,548 - INFO - Predicted Command: Fernseher an\n",
      "2024-06-05 09:19:45,548 - INFO - Confidence: 0.76\n"
     ]
    },
    {
     "name": "stdout",
     "output_type": "stream",
     "text": [
      "\u001B[1m1/1\u001B[0m \u001B[32m━━━━━━━━━━━━━━━━━━━━\u001B[0m\u001B[37m\u001B[0m \u001B[1m0s\u001B[0m 41ms/step\n"
     ]
    },
    {
     "name": "stderr",
     "output_type": "stream",
     "text": [
      "2024-06-05 09:19:45,631 - INFO - File: 577_speech_true_Staubsauger_aus\n",
      "2024-06-05 09:19:45,631 - INFO - Actual Command: Staubsauger aus\n",
      "2024-06-05 09:19:45,631 - INFO - Predicted Command: Staubsauger aus\n",
      "2024-06-05 09:19:45,632 - INFO - Confidence: 0.77\n"
     ]
    },
    {
     "name": "stdout",
     "output_type": "stream",
     "text": [
      "\u001B[1m1/1\u001B[0m \u001B[32m━━━━━━━━━━━━━━━━━━━━\u001B[0m\u001B[37m\u001B[0m \u001B[1m0s\u001B[0m 39ms/step\n"
     ]
    },
    {
     "name": "stderr",
     "output_type": "stream",
     "text": [
      "2024-06-05 09:19:45,713 - INFO - File: 308_speech_true_Heizung_an\n",
      "2024-06-05 09:19:45,714 - INFO - Actual Command: Heizung an\n",
      "2024-06-05 09:19:45,714 - INFO - Predicted Command: Heizung an\n",
      "2024-06-05 09:19:45,714 - INFO - Confidence: 0.86\n"
     ]
    },
    {
     "name": "stdout",
     "output_type": "stream",
     "text": [
      "\u001B[1m1/1\u001B[0m \u001B[32m━━━━━━━━━━━━━━━━━━━━\u001B[0m\u001B[37m\u001B[0m \u001B[1m0s\u001B[0m 40ms/step\n"
     ]
    },
    {
     "name": "stderr",
     "output_type": "stream",
     "text": [
      "2024-06-05 09:19:45,794 - INFO - File: 929_speech_true_Lüftung_an\n",
      "2024-06-05 09:19:45,794 - INFO - Actual Command: Lüftung an\n",
      "2024-06-05 09:19:45,795 - INFO - Predicted Command: Lüftung an\n",
      "2024-06-05 09:19:45,795 - INFO - Confidence: 0.86\n"
     ]
    },
    {
     "name": "stdout",
     "output_type": "stream",
     "text": [
      "\u001B[1m1/1\u001B[0m \u001B[32m━━━━━━━━━━━━━━━━━━━━\u001B[0m\u001B[37m\u001B[0m \u001B[1m0s\u001B[0m 39ms/step\n"
     ]
    },
    {
     "name": "stderr",
     "output_type": "stream",
     "text": [
      "2024-06-05 09:19:45,877 - INFO - File: 873_speech_true_Lüftung_aus\n",
      "2024-06-05 09:19:45,877 - INFO - Actual Command: Lüftung aus\n",
      "2024-06-05 09:19:45,877 - INFO - Predicted Command: Lüftung aus\n",
      "2024-06-05 09:19:45,878 - INFO - Confidence: 0.83\n"
     ]
    },
    {
     "name": "stdout",
     "output_type": "stream",
     "text": [
      "\u001B[1m1/1\u001B[0m \u001B[32m━━━━━━━━━━━━━━━━━━━━\u001B[0m\u001B[37m\u001B[0m \u001B[1m0s\u001B[0m 45ms/step\n"
     ]
    },
    {
     "name": "stderr",
     "output_type": "stream",
     "text": [
      "2024-06-05 09:19:45,964 - INFO - File: 1844_speech_true_Lüftung_aus\n",
      "2024-06-05 09:19:45,964 - INFO - Actual Command: Lüftung aus\n",
      "2024-06-05 09:19:45,964 - INFO - Predicted Command: Lüftung aus\n",
      "2024-06-05 09:19:45,965 - INFO - Confidence: 0.80\n"
     ]
    },
    {
     "name": "stdout",
     "output_type": "stream",
     "text": [
      "\u001B[1m1/1\u001B[0m \u001B[32m━━━━━━━━━━━━━━━━━━━━\u001B[0m\u001B[37m\u001B[0m \u001B[1m0s\u001B[0m 37ms/step\n"
     ]
    },
    {
     "name": "stderr",
     "output_type": "stream",
     "text": [
      "2024-06-05 09:19:46,047 - INFO - File: 992_speech_true_Radio_an\n",
      "2024-06-05 09:19:46,047 - INFO - Actual Command: Radio an\n",
      "2024-06-05 09:19:46,048 - INFO - Predicted Command: Radio an\n",
      "2024-06-05 09:19:46,048 - INFO - Confidence: 0.90\n"
     ]
    },
    {
     "name": "stdout",
     "output_type": "stream",
     "text": [
      "\u001B[1m1/1\u001B[0m \u001B[32m━━━━━━━━━━━━━━━━━━━━\u001B[0m\u001B[37m\u001B[0m \u001B[1m0s\u001B[0m 38ms/step\n"
     ]
    },
    {
     "name": "stderr",
     "output_type": "stream",
     "text": [
      "2024-06-05 09:19:46,128 - INFO - File: 1788_speech_false_Lüftung_aus_Licht_an\n",
      "2024-06-05 09:19:46,128 - INFO - Actual Command: Lüftung aus\n",
      "2024-06-05 09:19:46,129 - INFO - Predicted Command: Lüftung aus\n",
      "2024-06-05 09:19:46,129 - INFO - Confidence: 0.45\n"
     ]
    },
    {
     "name": "stdout",
     "output_type": "stream",
     "text": [
      "\u001B[1m1/1\u001B[0m \u001B[32m━━━━━━━━━━━━━━━━━━━━\u001B[0m\u001B[37m\u001B[0m \u001B[1m0s\u001B[0m 48ms/step\n"
     ]
    },
    {
     "name": "stderr",
     "output_type": "stream",
     "text": [
      "2024-06-05 09:19:46,217 - INFO - File: 1131_speech_true_Radio_aus_Lüftung_aus\n",
      "2024-06-05 09:19:46,218 - INFO - Actual Command: Radio aus\n",
      "2024-06-05 09:19:46,218 - INFO - Predicted Command: Alarm aus\n",
      "2024-06-05 09:19:46,218 - INFO - Confidence: 0.32\n"
     ]
    },
    {
     "name": "stdout",
     "output_type": "stream",
     "text": [
      "\u001B[1m1/1\u001B[0m \u001B[32m━━━━━━━━━━━━━━━━━━━━\u001B[0m\u001B[37m\u001B[0m \u001B[1m0s\u001B[0m 41ms/step\n"
     ]
    },
    {
     "name": "stderr",
     "output_type": "stream",
     "text": [
      "2024-06-05 09:19:46,296 - INFO - File: 1400_speech_true_Radio_an\n",
      "2024-06-05 09:19:46,296 - INFO - Actual Command: Radio an\n",
      "2024-06-05 09:19:46,297 - INFO - Predicted Command: Radio an\n",
      "2024-06-05 09:19:46,297 - INFO - Confidence: 0.90\n"
     ]
    },
    {
     "name": "stdout",
     "output_type": "stream",
     "text": [
      "\u001B[1m1/1\u001B[0m \u001B[32m━━━━━━━━━━━━━━━━━━━━\u001B[0m\u001B[37m\u001B[0m \u001B[1m0s\u001B[0m 37ms/step\n"
     ]
    },
    {
     "name": "stderr",
     "output_type": "stream",
     "text": [
      "2024-06-05 09:19:46,376 - INFO - File: 1876_speech_true_Radio_an_Radio_aus\n",
      "2024-06-05 09:19:46,376 - INFO - Actual Command: Radio an\n",
      "2024-06-05 09:19:46,377 - INFO - Predicted Command: Radio an\n",
      "2024-06-05 09:19:46,377 - INFO - Confidence: 0.61\n"
     ]
    },
    {
     "name": "stdout",
     "output_type": "stream",
     "text": [
      "\u001B[1m1/1\u001B[0m \u001B[32m━━━━━━━━━━━━━━━━━━━━\u001B[0m\u001B[37m\u001B[0m \u001B[1m0s\u001B[0m 41ms/step\n"
     ]
    },
    {
     "name": "stderr",
     "output_type": "stream",
     "text": [
      "2024-06-05 09:19:46,460 - INFO - File: 1785_speech_true_Fernseher_an\n",
      "2024-06-05 09:19:46,461 - INFO - Actual Command: Fernseher an\n",
      "2024-06-05 09:19:46,461 - INFO - Predicted Command: Fernseher an\n",
      "2024-06-05 09:19:46,461 - INFO - Confidence: 0.78\n"
     ]
    },
    {
     "name": "stdout",
     "output_type": "stream",
     "text": [
      "\u001B[1m1/1\u001B[0m \u001B[32m━━━━━━━━━━━━━━━━━━━━\u001B[0m\u001B[37m\u001B[0m \u001B[1m0s\u001B[0m 43ms/step\n"
     ]
    },
    {
     "name": "stderr",
     "output_type": "stream",
     "text": [
      "2024-06-05 09:19:46,542 - INFO - File: 1445_speech_false_Lüftung_aus\n",
      "2024-06-05 09:19:46,543 - INFO - Actual Command: Lüftung aus\n",
      "2024-06-05 09:19:46,543 - INFO - Predicted Command: Lüftung aus\n",
      "2024-06-05 09:19:46,543 - INFO - Confidence: 0.85\n"
     ]
    },
    {
     "name": "stdout",
     "output_type": "stream",
     "text": [
      "\u001B[1m1/1\u001B[0m \u001B[32m━━━━━━━━━━━━━━━━━━━━\u001B[0m\u001B[37m\u001B[0m \u001B[1m0s\u001B[0m 45ms/step\n"
     ]
    },
    {
     "name": "stderr",
     "output_type": "stream",
     "text": [
      "2024-06-05 09:19:46,629 - INFO - File: 1759_speech_true_Ofen_an_Lüftung_an\n",
      "2024-06-05 09:19:46,629 - INFO - Actual Command: Ofen an\n",
      "2024-06-05 09:19:46,630 - INFO - Predicted Command: Lüftung an\n",
      "2024-06-05 09:19:46,630 - INFO - Confidence: 0.37\n"
     ]
    },
    {
     "name": "stdout",
     "output_type": "stream",
     "text": [
      "\u001B[1m1/1\u001B[0m \u001B[32m━━━━━━━━━━━━━━━━━━━━\u001B[0m\u001B[37m\u001B[0m \u001B[1m0s\u001B[0m 37ms/step\n"
     ]
    },
    {
     "name": "stderr",
     "output_type": "stream",
     "text": [
      "2024-06-05 09:19:46,711 - INFO - File: 746_speech_true_Radio_aus\n",
      "2024-06-05 09:19:46,711 - INFO - Actual Command: Radio aus\n",
      "2024-06-05 09:19:46,712 - INFO - Predicted Command: Radio aus\n",
      "2024-06-05 09:19:46,712 - INFO - Confidence: 0.68\n"
     ]
    },
    {
     "name": "stdout",
     "output_type": "stream",
     "text": [
      "\u001B[1m1/1\u001B[0m \u001B[32m━━━━━━━━━━━━━━━━━━━━\u001B[0m\u001B[37m\u001B[0m \u001B[1m0s\u001B[0m 40ms/step\n"
     ]
    },
    {
     "name": "stderr",
     "output_type": "stream",
     "text": [
      "2024-06-05 09:19:46,789 - INFO - File: 1697_speech_false_Heizung_an\n",
      "2024-06-05 09:19:46,789 - INFO - Actual Command: Heizung an\n",
      "2024-06-05 09:19:46,789 - INFO - Predicted Command: Heizung an\n",
      "2024-06-05 09:19:46,790 - INFO - Confidence: 0.86\n"
     ]
    },
    {
     "name": "stdout",
     "output_type": "stream",
     "text": [
      "\u001B[1m1/1\u001B[0m \u001B[32m━━━━━━━━━━━━━━━━━━━━\u001B[0m\u001B[37m\u001B[0m \u001B[1m0s\u001B[0m 43ms/step\n"
     ]
    },
    {
     "name": "stderr",
     "output_type": "stream",
     "text": [
      "2024-06-05 09:19:46,872 - INFO - File: 1232_speech_true_Radio_aus\n",
      "2024-06-05 09:19:46,872 - INFO - Actual Command: Radio aus\n",
      "2024-06-05 09:19:46,873 - INFO - Predicted Command: Radio aus\n",
      "2024-06-05 09:19:46,873 - INFO - Confidence: 0.69\n"
     ]
    },
    {
     "name": "stdout",
     "output_type": "stream",
     "text": [
      "\u001B[1m1/1\u001B[0m \u001B[32m━━━━━━━━━━━━━━━━━━━━\u001B[0m\u001B[37m\u001B[0m \u001B[1m0s\u001B[0m 44ms/step\n"
     ]
    },
    {
     "name": "stderr",
     "output_type": "stream",
     "text": [
      "2024-06-05 09:19:46,960 - INFO - File: 279_speech_false_Alarm_aus\n",
      "2024-06-05 09:19:46,961 - INFO - Actual Command: Alarm aus\n",
      "2024-06-05 09:19:46,961 - INFO - Predicted Command: Alarm aus\n",
      "2024-06-05 09:19:46,961 - INFO - Confidence: 0.74\n"
     ]
    },
    {
     "name": "stdout",
     "output_type": "stream",
     "text": [
      "\u001B[1m1/1\u001B[0m \u001B[32m━━━━━━━━━━━━━━━━━━━━\u001B[0m\u001B[37m\u001B[0m \u001B[1m0s\u001B[0m 42ms/step\n"
     ]
    },
    {
     "name": "stderr",
     "output_type": "stream",
     "text": [
      "2024-06-05 09:19:47,043 - INFO - File: 1307_speech_true_Radio_an_Radio_aus\n",
      "2024-06-05 09:19:47,043 - INFO - Actual Command: Radio an\n",
      "2024-06-05 09:19:47,043 - INFO - Predicted Command: Radio an\n",
      "2024-06-05 09:19:47,044 - INFO - Confidence: 0.55\n"
     ]
    },
    {
     "name": "stdout",
     "output_type": "stream",
     "text": [
      "\u001B[1m1/1\u001B[0m \u001B[32m━━━━━━━━━━━━━━━━━━━━\u001B[0m\u001B[37m\u001B[0m \u001B[1m0s\u001B[0m 37ms/step\n"
     ]
    },
    {
     "name": "stderr",
     "output_type": "stream",
     "text": [
      "2024-06-05 09:19:47,120 - INFO - File: 169_speech_false_Ofen_an_Radio_an\n",
      "2024-06-05 09:19:47,120 - INFO - Actual Command: Ofen an\n",
      "2024-06-05 09:19:47,120 - INFO - Predicted Command: Radio an\n",
      "2024-06-05 09:19:47,121 - INFO - Confidence: 0.41\n"
     ]
    },
    {
     "name": "stdout",
     "output_type": "stream",
     "text": [
      "\u001B[1m1/1\u001B[0m \u001B[32m━━━━━━━━━━━━━━━━━━━━\u001B[0m\u001B[37m\u001B[0m \u001B[1m0s\u001B[0m 40ms/step\n"
     ]
    },
    {
     "name": "stderr",
     "output_type": "stream",
     "text": [
      "2024-06-05 09:19:47,208 - INFO - File: 1869_speech_true_Staubsauger_an\n",
      "2024-06-05 09:19:47,209 - INFO - Actual Command: Staubsauger an\n",
      "2024-06-05 09:19:47,209 - INFO - Predicted Command: Staubsauger an\n",
      "2024-06-05 09:19:47,209 - INFO - Confidence: 0.89\n"
     ]
    },
    {
     "name": "stdout",
     "output_type": "stream",
     "text": [
      "\u001B[1m1/1\u001B[0m \u001B[32m━━━━━━━━━━━━━━━━━━━━\u001B[0m\u001B[37m\u001B[0m \u001B[1m0s\u001B[0m 38ms/step\n"
     ]
    },
    {
     "name": "stderr",
     "output_type": "stream",
     "text": [
      "2024-06-05 09:19:47,295 - INFO - File: 1737_speech_false_Radio_an\n",
      "2024-06-05 09:19:47,296 - INFO - Actual Command: Radio an\n",
      "2024-06-05 09:19:47,297 - INFO - Predicted Command: Radio an\n",
      "2024-06-05 09:19:47,297 - INFO - Confidence: 0.90\n"
     ]
    },
    {
     "name": "stdout",
     "output_type": "stream",
     "text": [
      "\u001B[1m1/1\u001B[0m \u001B[32m━━━━━━━━━━━━━━━━━━━━\u001B[0m\u001B[37m\u001B[0m \u001B[1m0s\u001B[0m 40ms/step\n"
     ]
    },
    {
     "name": "stderr",
     "output_type": "stream",
     "text": [
      "2024-06-05 09:19:47,386 - INFO - File: 1595_speech_true_Radio_an\n",
      "2024-06-05 09:19:47,387 - INFO - Actual Command: Radio an\n",
      "2024-06-05 09:19:47,387 - INFO - Predicted Command: Radio an\n",
      "2024-06-05 09:19:47,387 - INFO - Confidence: 0.90\n"
     ]
    },
    {
     "name": "stdout",
     "output_type": "stream",
     "text": [
      "\u001B[1m1/1\u001B[0m \u001B[32m━━━━━━━━━━━━━━━━━━━━\u001B[0m\u001B[37m\u001B[0m \u001B[1m0s\u001B[0m 39ms/step\n"
     ]
    },
    {
     "name": "stderr",
     "output_type": "stream",
     "text": [
      "2024-06-05 09:19:47,466 - INFO - File: 383_speech_true_Fernseher_an\n",
      "2024-06-05 09:19:47,467 - INFO - Actual Command: Fernseher an\n",
      "2024-06-05 09:19:47,467 - INFO - Predicted Command: Fernseher an\n",
      "2024-06-05 09:19:47,468 - INFO - Confidence: 0.78\n"
     ]
    },
    {
     "name": "stdout",
     "output_type": "stream",
     "text": [
      "\u001B[1m1/1\u001B[0m \u001B[32m━━━━━━━━━━━━━━━━━━━━\u001B[0m\u001B[37m\u001B[0m \u001B[1m0s\u001B[0m 37ms/step\n"
     ]
    },
    {
     "name": "stderr",
     "output_type": "stream",
     "text": [
      "2024-06-05 09:19:47,545 - INFO - File: 1971_speech_true_Ofen_aus\n",
      "2024-06-05 09:19:47,546 - INFO - Actual Command: Ofen aus\n",
      "2024-06-05 09:19:47,546 - INFO - Predicted Command: Ofen aus\n",
      "2024-06-05 09:19:47,546 - INFO - Confidence: 0.76\n"
     ]
    },
    {
     "name": "stdout",
     "output_type": "stream",
     "text": [
      "\u001B[1m1/1\u001B[0m \u001B[32m━━━━━━━━━━━━━━━━━━━━\u001B[0m\u001B[37m\u001B[0m \u001B[1m0s\u001B[0m 44ms/step\n"
     ]
    },
    {
     "name": "stderr",
     "output_type": "stream",
     "text": [
      "2024-06-05 09:19:47,639 - INFO - File: 48_speech_true_Staubsauger_an_Alarm_an\n",
      "2024-06-05 09:19:47,639 - INFO - Actual Command: Staubsauger an\n",
      "2024-06-05 09:19:47,640 - INFO - Predicted Command: Staubsauger an\n",
      "2024-06-05 09:19:47,640 - INFO - Confidence: 0.49\n"
     ]
    },
    {
     "name": "stdout",
     "output_type": "stream",
     "text": [
      "\u001B[1m1/1\u001B[0m \u001B[32m━━━━━━━━━━━━━━━━━━━━\u001B[0m\u001B[37m\u001B[0m \u001B[1m0s\u001B[0m 38ms/step\n"
     ]
    },
    {
     "name": "stderr",
     "output_type": "stream",
     "text": [
      "2024-06-05 09:19:47,729 - INFO - File: 1406_speech_true_Fernseher_an\n",
      "2024-06-05 09:19:47,730 - INFO - Actual Command: Fernseher an\n",
      "2024-06-05 09:19:47,730 - INFO - Predicted Command: Fernseher an\n",
      "2024-06-05 09:19:47,730 - INFO - Confidence: 0.80\n"
     ]
    },
    {
     "name": "stdout",
     "output_type": "stream",
     "text": [
      "\u001B[1m1/1\u001B[0m \u001B[32m━━━━━━━━━━━━━━━━━━━━\u001B[0m\u001B[37m\u001B[0m \u001B[1m0s\u001B[0m 43ms/step\n"
     ]
    },
    {
     "name": "stderr",
     "output_type": "stream",
     "text": [
      "2024-06-05 09:19:47,815 - INFO - File: 236_speech_false_Ofen_an\n",
      "2024-06-05 09:19:47,815 - INFO - Actual Command: Ofen an\n",
      "2024-06-05 09:19:47,815 - INFO - Predicted Command: Ofen an\n",
      "2024-06-05 09:19:47,816 - INFO - Confidence: 0.84\n"
     ]
    },
    {
     "name": "stdout",
     "output_type": "stream",
     "text": [
      "\u001B[1m1/1\u001B[0m \u001B[32m━━━━━━━━━━━━━━━━━━━━\u001B[0m\u001B[37m\u001B[0m \u001B[1m0s\u001B[0m 41ms/step\n"
     ]
    },
    {
     "name": "stderr",
     "output_type": "stream",
     "text": [
      "2024-06-05 09:19:47,905 - INFO - File: 1340_speech_false_Radio_an\n",
      "2024-06-05 09:19:47,906 - INFO - Actual Command: Radio an\n",
      "2024-06-05 09:19:47,906 - INFO - Predicted Command: Radio an\n",
      "2024-06-05 09:19:47,907 - INFO - Confidence: 0.90\n"
     ]
    },
    {
     "name": "stdout",
     "output_type": "stream",
     "text": [
      "\u001B[1m1/1\u001B[0m \u001B[32m━━━━━━━━━━━━━━━━━━━━\u001B[0m\u001B[37m\u001B[0m \u001B[1m0s\u001B[0m 38ms/step\n"
     ]
    },
    {
     "name": "stderr",
     "output_type": "stream",
     "text": [
      "2024-06-05 09:19:47,987 - INFO - File: 1269_speech_true_Alarm_an\n",
      "2024-06-05 09:19:47,987 - INFO - Actual Command: Alarm an\n",
      "2024-06-05 09:19:47,988 - INFO - Predicted Command: Alarm an\n",
      "2024-06-05 09:19:47,988 - INFO - Confidence: 0.85\n"
     ]
    },
    {
     "name": "stdout",
     "output_type": "stream",
     "text": [
      "\u001B[1m1/1\u001B[0m \u001B[32m━━━━━━━━━━━━━━━━━━━━\u001B[0m\u001B[37m\u001B[0m \u001B[1m0s\u001B[0m 38ms/step\n"
     ]
    },
    {
     "name": "stderr",
     "output_type": "stream",
     "text": [
      "2024-06-05 09:19:48,064 - INFO - File: 365_speech_false_Fernseher_an_Lüftung_aus\n",
      "2024-06-05 09:19:48,065 - INFO - Actual Command: Fernseher an\n",
      "2024-06-05 09:19:48,065 - INFO - Predicted Command: Fernseher an\n",
      "2024-06-05 09:19:48,065 - INFO - Confidence: 0.30\n"
     ]
    },
    {
     "name": "stdout",
     "output_type": "stream",
     "text": [
      "\u001B[1m1/1\u001B[0m \u001B[32m━━━━━━━━━━━━━━━━━━━━\u001B[0m\u001B[37m\u001B[0m \u001B[1m0s\u001B[0m 41ms/step\n"
     ]
    },
    {
     "name": "stderr",
     "output_type": "stream",
     "text": [
      "2024-06-05 09:19:48,147 - INFO - File: 521_speech_false_Licht_an\n",
      "2024-06-05 09:19:48,148 - INFO - Actual Command: Licht an\n",
      "2024-06-05 09:19:48,148 - INFO - Predicted Command: Fernseher aus\n",
      "2024-06-05 09:19:48,150 - INFO - Confidence: 0.51\n"
     ]
    },
    {
     "name": "stdout",
     "output_type": "stream",
     "text": [
      "\u001B[1m1/1\u001B[0m \u001B[32m━━━━━━━━━━━━━━━━━━━━\u001B[0m\u001B[37m\u001B[0m \u001B[1m0s\u001B[0m 37ms/step\n"
     ]
    },
    {
     "name": "stderr",
     "output_type": "stream",
     "text": [
      "2024-06-05 09:19:48,228 - INFO - File: 520_speech_false_Lüftung_aus\n",
      "2024-06-05 09:19:48,229 - INFO - Actual Command: Lüftung aus\n",
      "2024-06-05 09:19:48,229 - INFO - Predicted Command: Lüftung aus\n",
      "2024-06-05 09:19:48,229 - INFO - Confidence: 0.77\n"
     ]
    },
    {
     "name": "stdout",
     "output_type": "stream",
     "text": [
      "\u001B[1m1/1\u001B[0m \u001B[32m━━━━━━━━━━━━━━━━━━━━\u001B[0m\u001B[37m\u001B[0m \u001B[1m0s\u001B[0m 40ms/step\n"
     ]
    },
    {
     "name": "stderr",
     "output_type": "stream",
     "text": [
      "2024-06-05 09:19:48,314 - INFO - File: 1467_speech_false_Ofen_aus_Radio_an\n",
      "2024-06-05 09:19:48,315 - INFO - Actual Command: Ofen aus\n",
      "2024-06-05 09:19:48,315 - INFO - Predicted Command: Radio an\n",
      "2024-06-05 09:19:48,316 - INFO - Confidence: 0.22\n"
     ]
    },
    {
     "name": "stdout",
     "output_type": "stream",
     "text": [
      "\u001B[1m1/1\u001B[0m \u001B[32m━━━━━━━━━━━━━━━━━━━━\u001B[0m\u001B[37m\u001B[0m \u001B[1m0s\u001B[0m 36ms/step\n"
     ]
    },
    {
     "name": "stderr",
     "output_type": "stream",
     "text": [
      "2024-06-05 09:19:48,396 - INFO - File: 1273_speech_true_Licht_an\n",
      "2024-06-05 09:19:48,396 - INFO - Actual Command: Licht an\n",
      "2024-06-05 09:19:48,396 - INFO - Predicted Command: Licht an\n",
      "2024-06-05 09:19:48,397 - INFO - Confidence: 0.56\n"
     ]
    },
    {
     "name": "stdout",
     "output_type": "stream",
     "text": [
      "\u001B[1m1/1\u001B[0m \u001B[32m━━━━━━━━━━━━━━━━━━━━\u001B[0m\u001B[37m\u001B[0m \u001B[1m0s\u001B[0m 39ms/step\n"
     ]
    },
    {
     "name": "stderr",
     "output_type": "stream",
     "text": [
      "2024-06-05 09:19:48,482 - INFO - File: 827_speech_true_Ofen_aus\n",
      "2024-06-05 09:19:48,482 - INFO - Actual Command: Ofen aus\n",
      "2024-06-05 09:19:48,482 - INFO - Predicted Command: Ofen aus\n",
      "2024-06-05 09:19:48,483 - INFO - Confidence: 0.77\n"
     ]
    },
    {
     "name": "stdout",
     "output_type": "stream",
     "text": [
      "\u001B[1m1/1\u001B[0m \u001B[32m━━━━━━━━━━━━━━━━━━━━\u001B[0m\u001B[37m\u001B[0m \u001B[1m0s\u001B[0m 41ms/step\n"
     ]
    },
    {
     "name": "stderr",
     "output_type": "stream",
     "text": [
      "2024-06-05 09:19:48,564 - INFO - File: 2012_speech_false_Radio_aus\n",
      "2024-06-05 09:19:48,565 - INFO - Actual Command: Radio aus\n",
      "2024-06-05 09:19:48,565 - INFO - Predicted Command: Radio aus\n",
      "2024-06-05 09:19:48,565 - INFO - Confidence: 0.60\n"
     ]
    },
    {
     "name": "stdout",
     "output_type": "stream",
     "text": [
      "\u001B[1m1/1\u001B[0m \u001B[32m━━━━━━━━━━━━━━━━━━━━\u001B[0m\u001B[37m\u001B[0m \u001B[1m0s\u001B[0m 37ms/step\n"
     ]
    },
    {
     "name": "stderr",
     "output_type": "stream",
     "text": [
      "2024-06-05 09:19:48,639 - INFO - File: 368_speech_false_Radio_an_Radio_aus\n",
      "2024-06-05 09:19:48,640 - INFO - Actual Command: Radio an\n",
      "2024-06-05 09:19:48,640 - INFO - Predicted Command: Radio an\n",
      "2024-06-05 09:19:48,641 - INFO - Confidence: 0.60\n"
     ]
    },
    {
     "name": "stdout",
     "output_type": "stream",
     "text": [
      "\u001B[1m1/1\u001B[0m \u001B[32m━━━━━━━━━━━━━━━━━━━━\u001B[0m\u001B[37m\u001B[0m \u001B[1m0s\u001B[0m 38ms/step\n"
     ]
    },
    {
     "name": "stderr",
     "output_type": "stream",
     "text": [
      "2024-06-05 09:19:48,722 - INFO - File: 1877_speech_true_Licht_an_Staubsauger_an\n",
      "2024-06-05 09:19:48,722 - INFO - Actual Command: Licht an\n",
      "2024-06-05 09:19:48,722 - INFO - Predicted Command: Licht an\n",
      "2024-06-05 09:19:48,723 - INFO - Confidence: 0.23\n"
     ]
    },
    {
     "name": "stdout",
     "output_type": "stream",
     "text": [
      "\u001B[1m1/1\u001B[0m \u001B[32m━━━━━━━━━━━━━━━━━━━━\u001B[0m\u001B[37m\u001B[0m \u001B[1m0s\u001B[0m 40ms/step\n"
     ]
    },
    {
     "name": "stderr",
     "output_type": "stream",
     "text": [
      "2024-06-05 09:19:48,801 - INFO - File: 2021_speech_false_Radio_an\n",
      "2024-06-05 09:19:48,801 - INFO - Actual Command: Radio an\n",
      "2024-06-05 09:19:48,801 - INFO - Predicted Command: Radio an\n",
      "2024-06-05 09:19:48,802 - INFO - Confidence: 0.88\n"
     ]
    },
    {
     "name": "stdout",
     "output_type": "stream",
     "text": [
      "\u001B[1m1/1\u001B[0m \u001B[32m━━━━━━━━━━━━━━━━━━━━\u001B[0m\u001B[37m\u001B[0m \u001B[1m0s\u001B[0m 39ms/step\n"
     ]
    },
    {
     "name": "stderr",
     "output_type": "stream",
     "text": [
      "2024-06-05 09:19:48,883 - INFO - File: 1928_speech_true_Staubsauger_an\n",
      "2024-06-05 09:19:48,883 - INFO - Actual Command: Staubsauger an\n",
      "2024-06-05 09:19:48,883 - INFO - Predicted Command: Staubsauger an\n",
      "2024-06-05 09:19:48,884 - INFO - Confidence: 0.89\n"
     ]
    },
    {
     "name": "stdout",
     "output_type": "stream",
     "text": [
      "\u001B[1m1/1\u001B[0m \u001B[32m━━━━━━━━━━━━━━━━━━━━\u001B[0m\u001B[37m\u001B[0m \u001B[1m0s\u001B[0m 39ms/step\n"
     ]
    },
    {
     "name": "stderr",
     "output_type": "stream",
     "text": [
      "2024-06-05 09:19:48,969 - INFO - File: 1763_speech_false_Radio_an\n",
      "2024-06-05 09:19:48,969 - INFO - Actual Command: Radio an\n",
      "2024-06-05 09:19:48,970 - INFO - Predicted Command: Radio an\n",
      "2024-06-05 09:19:48,970 - INFO - Confidence: 0.89\n"
     ]
    },
    {
     "name": "stdout",
     "output_type": "stream",
     "text": [
      "\u001B[1m1/1\u001B[0m \u001B[32m━━━━━━━━━━━━━━━━━━━━\u001B[0m\u001B[37m\u001B[0m \u001B[1m0s\u001B[0m 37ms/step\n"
     ]
    },
    {
     "name": "stderr",
     "output_type": "stream",
     "text": [
      "2024-06-05 09:19:49,051 - INFO - File: 391_speech_true_Staubsauger_aus\n",
      "2024-06-05 09:19:49,051 - INFO - Actual Command: Staubsauger aus\n",
      "2024-06-05 09:19:49,052 - INFO - Predicted Command: Staubsauger aus\n",
      "2024-06-05 09:19:49,052 - INFO - Confidence: 0.79\n"
     ]
    },
    {
     "name": "stdout",
     "output_type": "stream",
     "text": [
      "\u001B[1m1/1\u001B[0m \u001B[32m━━━━━━━━━━━━━━━━━━━━\u001B[0m\u001B[37m\u001B[0m \u001B[1m0s\u001B[0m 41ms/step\n"
     ]
    },
    {
     "name": "stderr",
     "output_type": "stream",
     "text": [
      "2024-06-05 09:19:49,138 - INFO - File: 360_speech_false_Radio_aus_Licht_aus\n",
      "2024-06-05 09:19:49,139 - INFO - Actual Command: Radio aus\n",
      "2024-06-05 09:19:49,139 - INFO - Predicted Command: Radio aus\n",
      "2024-06-05 09:19:49,139 - INFO - Confidence: 0.40\n"
     ]
    },
    {
     "name": "stdout",
     "output_type": "stream",
     "text": [
      "\u001B[1m1/1\u001B[0m \u001B[32m━━━━━━━━━━━━━━━━━━━━\u001B[0m\u001B[37m\u001B[0m \u001B[1m0s\u001B[0m 41ms/step\n"
     ]
    },
    {
     "name": "stderr",
     "output_type": "stream",
     "text": [
      "2024-06-05 09:19:49,216 - INFO - File: 363_speech_false_Alarm_an\n",
      "2024-06-05 09:19:49,217 - INFO - Actual Command: Alarm an\n",
      "2024-06-05 09:19:49,217 - INFO - Predicted Command: Alarm an\n",
      "2024-06-05 09:19:49,217 - INFO - Confidence: 0.81\n"
     ]
    },
    {
     "name": "stdout",
     "output_type": "stream",
     "text": [
      "\u001B[1m1/1\u001B[0m \u001B[32m━━━━━━━━━━━━━━━━━━━━\u001B[0m\u001B[37m\u001B[0m \u001B[1m0s\u001B[0m 38ms/step\n"
     ]
    },
    {
     "name": "stderr",
     "output_type": "stream",
     "text": [
      "2024-06-05 09:19:49,291 - INFO - File: 1572_speech_false_Licht_an\n",
      "2024-06-05 09:19:49,291 - INFO - Actual Command: Licht an\n",
      "2024-06-05 09:19:49,292 - INFO - Predicted Command: Licht an\n",
      "2024-06-05 09:19:49,292 - INFO - Confidence: 0.55\n"
     ]
    },
    {
     "name": "stdout",
     "output_type": "stream",
     "text": [
      "\u001B[1m1/1\u001B[0m \u001B[32m━━━━━━━━━━━━━━━━━━━━\u001B[0m\u001B[37m\u001B[0m \u001B[1m0s\u001B[0m 41ms/step\n"
     ]
    },
    {
     "name": "stderr",
     "output_type": "stream",
     "text": [
      "2024-06-05 09:19:49,387 - INFO - File: 767_speech_true_Licht_aus_Fernseher_aus_Alarm_an\n",
      "2024-06-05 09:19:49,387 - INFO - Actual Command: Licht aus\n",
      "2024-06-05 09:19:49,388 - INFO - Predicted Command: Fernseher aus\n",
      "2024-06-05 09:19:49,388 - INFO - Confidence: 0.31\n"
     ]
    },
    {
     "name": "stdout",
     "output_type": "stream",
     "text": [
      "\u001B[1m1/1\u001B[0m \u001B[32m━━━━━━━━━━━━━━━━━━━━\u001B[0m\u001B[37m\u001B[0m \u001B[1m0s\u001B[0m 40ms/step\n"
     ]
    },
    {
     "name": "stderr",
     "output_type": "stream",
     "text": [
      "2024-06-05 09:19:49,472 - INFO - File: 781_speech_false_Lüftung_aus\n",
      "2024-06-05 09:19:49,473 - INFO - Actual Command: Lüftung aus\n",
      "2024-06-05 09:19:49,473 - INFO - Predicted Command: Lüftung aus\n",
      "2024-06-05 09:19:49,474 - INFO - Confidence: 0.80\n"
     ]
    },
    {
     "name": "stdout",
     "output_type": "stream",
     "text": [
      "\u001B[1m1/1\u001B[0m \u001B[32m━━━━━━━━━━━━━━━━━━━━\u001B[0m\u001B[37m\u001B[0m \u001B[1m0s\u001B[0m 38ms/step\n"
     ]
    },
    {
     "name": "stderr",
     "output_type": "stream",
     "text": [
      "2024-06-05 09:19:49,550 - INFO - File: 599_speech_true_Ofen_an\n",
      "2024-06-05 09:19:49,550 - INFO - Actual Command: Ofen an\n",
      "2024-06-05 09:19:49,550 - INFO - Predicted Command: Ofen an\n",
      "2024-06-05 09:19:49,551 - INFO - Confidence: 0.84\n"
     ]
    },
    {
     "name": "stdout",
     "output_type": "stream",
     "text": [
      "\u001B[1m1/1\u001B[0m \u001B[32m━━━━━━━━━━━━━━━━━━━━\u001B[0m\u001B[37m\u001B[0m \u001B[1m0s\u001B[0m 38ms/step\n"
     ]
    },
    {
     "name": "stderr",
     "output_type": "stream",
     "text": [
      "2024-06-05 09:19:49,636 - INFO - File: 1680_speech_false_Alarm_aus\n",
      "2024-06-05 09:19:49,636 - INFO - Actual Command: Alarm aus\n",
      "2024-06-05 09:19:49,637 - INFO - Predicted Command: Alarm aus\n",
      "2024-06-05 09:19:49,637 - INFO - Confidence: 0.75\n"
     ]
    },
    {
     "name": "stdout",
     "output_type": "stream",
     "text": [
      "\u001B[1m1/1\u001B[0m \u001B[32m━━━━━━━━━━━━━━━━━━━━\u001B[0m\u001B[37m\u001B[0m \u001B[1m0s\u001B[0m 37ms/step\n"
     ]
    },
    {
     "name": "stderr",
     "output_type": "stream",
     "text": [
      "2024-06-05 09:19:49,711 - INFO - File: 911_speech_false_Fernseher_an\n",
      "2024-06-05 09:19:49,712 - INFO - Actual Command: Fernseher an\n",
      "2024-06-05 09:19:49,712 - INFO - Predicted Command: Fernseher an\n",
      "2024-06-05 09:19:49,712 - INFO - Confidence: 0.80\n"
     ]
    },
    {
     "name": "stdout",
     "output_type": "stream",
     "text": [
      "\u001B[1m1/1\u001B[0m \u001B[32m━━━━━━━━━━━━━━━━━━━━\u001B[0m\u001B[37m\u001B[0m \u001B[1m0s\u001B[0m 36ms/step\n"
     ]
    },
    {
     "name": "stderr",
     "output_type": "stream",
     "text": [
      "2024-06-05 09:19:49,789 - INFO - File: 1776_speech_true_Staubsauger_an\n",
      "2024-06-05 09:19:49,789 - INFO - Actual Command: Staubsauger an\n",
      "2024-06-05 09:19:49,789 - INFO - Predicted Command: Staubsauger an\n",
      "2024-06-05 09:19:49,790 - INFO - Confidence: 0.88\n"
     ]
    },
    {
     "name": "stdout",
     "output_type": "stream",
     "text": [
      "\u001B[1m1/1\u001B[0m \u001B[32m━━━━━━━━━━━━━━━━━━━━\u001B[0m\u001B[37m\u001B[0m \u001B[1m0s\u001B[0m 42ms/step\n"
     ]
    },
    {
     "name": "stderr",
     "output_type": "stream",
     "text": [
      "2024-06-05 09:19:49,876 - INFO - File: 65_speech_false_Fernseher_aus\n",
      "2024-06-05 09:19:49,877 - INFO - Actual Command: Fernseher aus\n",
      "2024-06-05 09:19:49,877 - INFO - Predicted Command: Fernseher aus\n",
      "2024-06-05 09:19:49,878 - INFO - Confidence: 0.89\n"
     ]
    },
    {
     "name": "stdout",
     "output_type": "stream",
     "text": [
      "\u001B[1m1/1\u001B[0m \u001B[32m━━━━━━━━━━━━━━━━━━━━\u001B[0m\u001B[37m\u001B[0m \u001B[1m0s\u001B[0m 37ms/step\n"
     ]
    },
    {
     "name": "stderr",
     "output_type": "stream",
     "text": [
      "2024-06-05 09:19:49,955 - INFO - File: 1784_speech_true_Alarm_aus_Licht_an\n",
      "2024-06-05 09:19:49,956 - INFO - Actual Command: Alarm aus\n",
      "2024-06-05 09:19:49,956 - INFO - Predicted Command: Alarm aus\n",
      "2024-06-05 09:19:49,957 - INFO - Confidence: 0.52\n"
     ]
    },
    {
     "name": "stdout",
     "output_type": "stream",
     "text": [
      "\u001B[1m1/1\u001B[0m \u001B[32m━━━━━━━━━━━━━━━━━━━━\u001B[0m\u001B[37m\u001B[0m \u001B[1m0s\u001B[0m 39ms/step\n"
     ]
    },
    {
     "name": "stderr",
     "output_type": "stream",
     "text": [
      "2024-06-05 09:19:50,032 - INFO - File: 128_speech_true_Alarm_an\n",
      "2024-06-05 09:19:50,033 - INFO - Actual Command: Alarm an\n",
      "2024-06-05 09:19:50,033 - INFO - Predicted Command: Alarm an\n",
      "2024-06-05 09:19:50,033 - INFO - Confidence: 0.78\n"
     ]
    },
    {
     "name": "stdout",
     "output_type": "stream",
     "text": [
      "\u001B[1m1/1\u001B[0m \u001B[32m━━━━━━━━━━━━━━━━━━━━\u001B[0m\u001B[37m\u001B[0m \u001B[1m0s\u001B[0m 39ms/step\n"
     ]
    },
    {
     "name": "stderr",
     "output_type": "stream",
     "text": [
      "2024-06-05 09:19:50,109 - INFO - File: 1392_speech_false_Radio_aus_Fernseher_an\n",
      "2024-06-05 09:19:50,109 - INFO - Actual Command: Radio aus\n",
      "2024-06-05 09:19:50,109 - INFO - Predicted Command: Fernseher an\n",
      "2024-06-05 09:19:50,110 - INFO - Confidence: 0.42\n"
     ]
    },
    {
     "name": "stdout",
     "output_type": "stream",
     "text": [
      "\u001B[1m1/1\u001B[0m \u001B[32m━━━━━━━━━━━━━━━━━━━━\u001B[0m\u001B[37m\u001B[0m \u001B[1m0s\u001B[0m 41ms/step\n"
     ]
    },
    {
     "name": "stderr",
     "output_type": "stream",
     "text": [
      "2024-06-05 09:19:50,186 - INFO - File: 573_speech_true_Alarm_aus\n",
      "2024-06-05 09:19:50,187 - INFO - Actual Command: Alarm aus\n",
      "2024-06-05 09:19:50,187 - INFO - Predicted Command: Alarm aus\n",
      "2024-06-05 09:19:50,188 - INFO - Confidence: 0.72\n"
     ]
    },
    {
     "name": "stdout",
     "output_type": "stream",
     "text": [
      "\u001B[1m1/1\u001B[0m \u001B[32m━━━━━━━━━━━━━━━━━━━━\u001B[0m\u001B[37m\u001B[0m \u001B[1m0s\u001B[0m 38ms/step\n"
     ]
    },
    {
     "name": "stderr",
     "output_type": "stream",
     "text": [
      "2024-06-05 09:19:50,264 - INFO - File: 1942_speech_false_Radio_aus_Alarm_aus\n",
      "2024-06-05 09:19:50,264 - INFO - Actual Command: Radio aus\n",
      "2024-06-05 09:19:50,265 - INFO - Predicted Command: Alarm aus\n",
      "2024-06-05 09:19:50,265 - INFO - Confidence: 0.40\n"
     ]
    },
    {
     "name": "stdout",
     "output_type": "stream",
     "text": [
      "\u001B[1m1/1\u001B[0m \u001B[32m━━━━━━━━━━━━━━━━━━━━\u001B[0m\u001B[37m\u001B[0m \u001B[1m0s\u001B[0m 42ms/step\n"
     ]
    },
    {
     "name": "stderr",
     "output_type": "stream",
     "text": [
      "2024-06-05 09:19:50,348 - INFO - File: 2017_speech_false_Ofen_aus\n",
      "2024-06-05 09:19:50,349 - INFO - Actual Command: Ofen aus\n",
      "2024-06-05 09:19:50,349 - INFO - Predicted Command: Ofen aus\n",
      "2024-06-05 09:19:50,350 - INFO - Confidence: 0.74\n"
     ]
    },
    {
     "name": "stdout",
     "output_type": "stream",
     "text": [
      "\u001B[1m1/1\u001B[0m \u001B[32m━━━━━━━━━━━━━━━━━━━━\u001B[0m\u001B[37m\u001B[0m \u001B[1m0s\u001B[0m 54ms/step\n"
     ]
    },
    {
     "name": "stderr",
     "output_type": "stream",
     "text": [
      "2024-06-05 09:19:50,443 - INFO - File: 124_speech_true_Lüftung_aus\n",
      "2024-06-05 09:19:50,444 - INFO - Actual Command: Lüftung aus\n",
      "2024-06-05 09:19:50,444 - INFO - Predicted Command: Lüftung aus\n",
      "2024-06-05 09:19:50,445 - INFO - Confidence: 0.84\n"
     ]
    },
    {
     "name": "stdout",
     "output_type": "stream",
     "text": [
      "\u001B[1m1/1\u001B[0m \u001B[32m━━━━━━━━━━━━━━━━━━━━\u001B[0m\u001B[37m\u001B[0m \u001B[1m0s\u001B[0m 50ms/step\n"
     ]
    },
    {
     "name": "stderr",
     "output_type": "stream",
     "text": [
      "2024-06-05 09:19:50,538 - INFO - File: 1933_speech_true_Heizung_an\n",
      "2024-06-05 09:19:50,539 - INFO - Actual Command: Heizung an\n",
      "2024-06-05 09:19:50,539 - INFO - Predicted Command: Heizung an\n",
      "2024-06-05 09:19:50,540 - INFO - Confidence: 0.83\n"
     ]
    },
    {
     "name": "stdout",
     "output_type": "stream",
     "text": [
      "\u001B[1m1/1\u001B[0m \u001B[32m━━━━━━━━━━━━━━━━━━━━\u001B[0m\u001B[37m\u001B[0m \u001B[1m0s\u001B[0m 42ms/step\n"
     ]
    },
    {
     "name": "stderr",
     "output_type": "stream",
     "text": [
      "2024-06-05 09:19:50,621 - INFO - File: 1332_speech_false_Licht_aus_Lüftung_aus\n",
      "2024-06-05 09:19:50,622 - INFO - Actual Command: Licht aus\n",
      "2024-06-05 09:19:50,622 - INFO - Predicted Command: Lüftung aus\n",
      "2024-06-05 09:19:50,622 - INFO - Confidence: 0.31\n"
     ]
    },
    {
     "name": "stdout",
     "output_type": "stream",
     "text": [
      "\u001B[1m1/1\u001B[0m \u001B[32m━━━━━━━━━━━━━━━━━━━━\u001B[0m\u001B[37m\u001B[0m \u001B[1m0s\u001B[0m 44ms/step\n"
     ]
    },
    {
     "name": "stderr",
     "output_type": "stream",
     "text": [
      "2024-06-05 09:19:50,706 - INFO - File: 1485_speech_false_Licht_aus_Radio_an\n",
      "2024-06-05 09:19:50,707 - INFO - Actual Command: Licht aus\n",
      "2024-06-05 09:19:50,707 - INFO - Predicted Command: Radio an\n",
      "2024-06-05 09:19:50,708 - INFO - Confidence: 0.64\n"
     ]
    },
    {
     "name": "stdout",
     "output_type": "stream",
     "text": [
      "\u001B[1m1/1\u001B[0m \u001B[32m━━━━━━━━━━━━━━━━━━━━\u001B[0m\u001B[37m\u001B[0m \u001B[1m0s\u001B[0m 42ms/step\n"
     ]
    },
    {
     "name": "stderr",
     "output_type": "stream",
     "text": [
      "2024-06-05 09:19:50,792 - INFO - File: 1196_speech_true_Ofen_an\n",
      "2024-06-05 09:19:50,793 - INFO - Actual Command: Ofen an\n",
      "2024-06-05 09:19:50,793 - INFO - Predicted Command: Ofen an\n",
      "2024-06-05 09:19:50,793 - INFO - Confidence: 0.82\n"
     ]
    },
    {
     "name": "stdout",
     "output_type": "stream",
     "text": [
      "\u001B[1m1/1\u001B[0m \u001B[32m━━━━━━━━━━━━━━━━━━━━\u001B[0m\u001B[37m\u001B[0m \u001B[1m0s\u001B[0m 37ms/step\n"
     ]
    },
    {
     "name": "stderr",
     "output_type": "stream",
     "text": [
      "2024-06-05 09:19:50,870 - INFO - File: 1374_speech_false_Heizung_aus\n",
      "2024-06-05 09:19:50,871 - INFO - Actual Command: Heizung aus\n",
      "2024-06-05 09:19:50,871 - INFO - Predicted Command: Heizung aus\n",
      "2024-06-05 09:19:50,871 - INFO - Confidence: 0.67\n"
     ]
    },
    {
     "name": "stdout",
     "output_type": "stream",
     "text": [
      "\u001B[1m1/1\u001B[0m \u001B[32m━━━━━━━━━━━━━━━━━━━━\u001B[0m\u001B[37m\u001B[0m \u001B[1m0s\u001B[0m 38ms/step\n"
     ]
    },
    {
     "name": "stderr",
     "output_type": "stream",
     "text": [
      "2024-06-05 09:19:50,954 - INFO - File: 650_speech_true_Staubsauger_an_Ofen_an\n",
      "2024-06-05 09:19:50,954 - INFO - Actual Command: Staubsauger an\n",
      "2024-06-05 09:19:50,954 - INFO - Predicted Command: Alarm an\n",
      "2024-06-05 09:19:50,955 - INFO - Confidence: 0.39\n"
     ]
    },
    {
     "name": "stdout",
     "output_type": "stream",
     "text": [
      "\u001B[1m1/1\u001B[0m \u001B[32m━━━━━━━━━━━━━━━━━━━━\u001B[0m\u001B[37m\u001B[0m \u001B[1m0s\u001B[0m 42ms/step\n"
     ]
    },
    {
     "name": "stderr",
     "output_type": "stream",
     "text": [
      "2024-06-05 09:19:51,036 - INFO - File: 1565_speech_true_Alarm_an\n",
      "2024-06-05 09:19:51,037 - INFO - Actual Command: Alarm an\n",
      "2024-06-05 09:19:51,037 - INFO - Predicted Command: Alarm an\n",
      "2024-06-05 09:19:51,037 - INFO - Confidence: 0.82\n"
     ]
    },
    {
     "name": "stdout",
     "output_type": "stream",
     "text": [
      "\u001B[1m1/1\u001B[0m \u001B[32m━━━━━━━━━━━━━━━━━━━━\u001B[0m\u001B[37m\u001B[0m \u001B[1m0s\u001B[0m 38ms/step\n"
     ]
    },
    {
     "name": "stderr",
     "output_type": "stream",
     "text": [
      "2024-06-05 09:19:51,115 - INFO - File: 341_speech_true_Lüftung_aus\n",
      "2024-06-05 09:19:51,116 - INFO - Actual Command: Lüftung aus\n",
      "2024-06-05 09:19:51,116 - INFO - Predicted Command: Lüftung aus\n",
      "2024-06-05 09:19:51,117 - INFO - Confidence: 0.84\n"
     ]
    },
    {
     "name": "stdout",
     "output_type": "stream",
     "text": [
      "\u001B[1m1/1\u001B[0m \u001B[32m━━━━━━━━━━━━━━━━━━━━\u001B[0m\u001B[37m\u001B[0m \u001B[1m0s\u001B[0m 39ms/step\n"
     ]
    },
    {
     "name": "stderr",
     "output_type": "stream",
     "text": [
      "2024-06-05 09:19:51,203 - INFO - File: 1754_speech_false_Licht_an_Heizung_an\n",
      "2024-06-05 09:19:51,204 - INFO - Actual Command: Licht an\n",
      "2024-06-05 09:19:51,204 - INFO - Predicted Command: Fernseher an\n",
      "2024-06-05 09:19:51,205 - INFO - Confidence: 0.46\n"
     ]
    },
    {
     "name": "stdout",
     "output_type": "stream",
     "text": [
      "\u001B[1m1/1\u001B[0m \u001B[32m━━━━━━━━━━━━━━━━━━━━\u001B[0m\u001B[37m\u001B[0m \u001B[1m0s\u001B[0m 36ms/step\n"
     ]
    },
    {
     "name": "stderr",
     "output_type": "stream",
     "text": [
      "2024-06-05 09:19:51,278 - INFO - File: 1966_speech_true_Ofen_aus\n",
      "2024-06-05 09:19:51,278 - INFO - Actual Command: Ofen aus\n",
      "2024-06-05 09:19:51,279 - INFO - Predicted Command: Ofen aus\n",
      "2024-06-05 09:19:51,279 - INFO - Confidence: 0.75\n"
     ]
    },
    {
     "name": "stdout",
     "output_type": "stream",
     "text": [
      "\u001B[1m1/1\u001B[0m \u001B[32m━━━━━━━━━━━━━━━━━━━━\u001B[0m\u001B[37m\u001B[0m \u001B[1m0s\u001B[0m 37ms/step\n"
     ]
    },
    {
     "name": "stderr",
     "output_type": "stream",
     "text": [
      "2024-06-05 09:19:51,356 - INFO - File: 1072_speech_false_Heizung_an\n",
      "2024-06-05 09:19:51,357 - INFO - Actual Command: Heizung an\n",
      "2024-06-05 09:19:51,357 - INFO - Predicted Command: Heizung an\n",
      "2024-06-05 09:19:51,357 - INFO - Confidence: 0.85\n"
     ]
    },
    {
     "name": "stdout",
     "output_type": "stream",
     "text": [
      "\u001B[1m1/1\u001B[0m \u001B[32m━━━━━━━━━━━━━━━━━━━━\u001B[0m\u001B[37m\u001B[0m \u001B[1m0s\u001B[0m 39ms/step\n"
     ]
    },
    {
     "name": "stderr",
     "output_type": "stream",
     "text": [
      "2024-06-05 09:19:51,430 - INFO - File: 1851_speech_false_Licht_an\n",
      "2024-06-05 09:19:51,430 - INFO - Actual Command: Licht an\n",
      "2024-06-05 09:19:51,431 - INFO - Predicted Command: Licht an\n",
      "2024-06-05 09:19:51,431 - INFO - Confidence: 0.54\n"
     ]
    },
    {
     "name": "stdout",
     "output_type": "stream",
     "text": [
      "\u001B[1m1/1\u001B[0m \u001B[32m━━━━━━━━━━━━━━━━━━━━\u001B[0m\u001B[37m\u001B[0m \u001B[1m0s\u001B[0m 40ms/step\n"
     ]
    },
    {
     "name": "stderr",
     "output_type": "stream",
     "text": [
      "2024-06-05 09:19:51,514 - INFO - File: 1571_speech_true_Heizung_aus\n",
      "2024-06-05 09:19:51,515 - INFO - Actual Command: Heizung aus\n",
      "2024-06-05 09:19:51,515 - INFO - Predicted Command: Heizung aus\n",
      "2024-06-05 09:19:51,516 - INFO - Confidence: 0.72\n"
     ]
    },
    {
     "name": "stdout",
     "output_type": "stream",
     "text": [
      "\u001B[1m1/1\u001B[0m \u001B[32m━━━━━━━━━━━━━━━━━━━━\u001B[0m\u001B[37m\u001B[0m \u001B[1m0s\u001B[0m 39ms/step\n"
     ]
    },
    {
     "name": "stderr",
     "output_type": "stream",
     "text": [
      "2024-06-05 09:19:51,605 - INFO - File: 1401_speech_false_Staubsauger_aus\n",
      "2024-06-05 09:19:51,605 - INFO - Actual Command: Staubsauger aus\n",
      "2024-06-05 09:19:51,606 - INFO - Predicted Command: Staubsauger aus\n",
      "2024-06-05 09:19:51,606 - INFO - Confidence: 0.77\n",
      "2024-06-05 09:19:51,608 - INFO - Overall Accuracy: 86.00%\n"
     ]
    }
   ],
   "execution_count": 50
  },
  {
   "metadata": {},
   "cell_type": "code",
   "outputs": [],
   "execution_count": null,
   "source": "",
   "id": "c0081edc5dde5243"
  }
 ],
 "metadata": {
  "kernelspec": {
   "display_name": "Python 3",
   "language": "python",
   "name": "python3"
  },
  "language_info": {
   "codemirror_mode": {
    "name": "ipython",
    "version": 2
   },
   "file_extension": ".py",
   "mimetype": "text/x-python",
   "name": "python",
   "nbconvert_exporter": "python",
   "pygments_lexer": "ipython2",
   "version": "2.7.6"
  }
 },
 "nbformat": 4,
 "nbformat_minor": 5
}
