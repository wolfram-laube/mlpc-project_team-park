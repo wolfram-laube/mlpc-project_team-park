{
 "cells": [
  {
   "metadata": {
    "ExecuteTime": {
     "end_time": "2024-06-04T11:20:29.498075Z",
     "start_time": "2024-06-04T11:20:29.489221Z"
    }
   },
   "cell_type": "code",
   "source": [
    "import numpy as np\n",
    "import pandas as pd\n",
    "\n",
    "# Load the feature mapping\n",
    "data_dir = '../dataset'\n",
    "feature_mapping_file = f'{data_dir}/meta/idx_to_feature_name.csv'\n",
    "feature_mapping = pd.read_csv(feature_mapping_file)\n",
    "print(feature_mapping.head())\n",
    "\n",
    "# Load an example feature file\n",
    "example_feature_file = f'{data_dir}/scenes/npy/9_speech_true_Radio_aus.npy'\n",
    "features = np.load(example_feature_file)\n",
    "print(f'Feature shape: {features.shape}')\n",
    "print(features)\n"
   ],
   "id": "1f3701f9d756363",
   "outputs": [
    {
     "name": "stdout",
     "output_type": "stream",
     "text": [
      "   index feature_name\n",
      "0      0  bandwidth_0\n",
      "1      1   centroid_0\n",
      "2      2   contrast_0\n",
      "3      3   contrast_1\n",
      "4      4   contrast_2\n",
      "Feature shape: (175, 503)\n",
      "[[0.00000000e+00 0.00000000e+00 3.55572597e+03 ... 3.16909110e+03\n",
      "  3.21029245e+03 3.29810116e+03]\n",
      " [0.00000000e+00 0.00000000e+00 2.94330233e+03 ... 2.32232569e+03\n",
      "  2.16694691e+03 3.32197793e+03]\n",
      " [1.06553228e+01 1.06553228e+01 3.97100957e+00 ... 3.03475966e+00\n",
      "  5.83976492e+00 1.14490307e+00]\n",
      " ...\n",
      " [0.00000000e+00 0.00000000e+00 5.72300705e-05 ... 1.68575775e-02\n",
      "  1.34523511e-02 3.48735875e-06]\n",
      " [8.00000000e+03 1.00000000e+02 8.00000000e+03 ... 1.01880960e+02\n",
      "  1.29330128e+02 8.00000000e+03]\n",
      " [0.00000000e+00 0.00000000e+00 1.22500000e-01 ... 1.47500000e-01\n",
      "  9.00000000e-02 2.00000000e-02]]\n"
     ]
    }
   ],
   "execution_count": 19
  },
  {
   "metadata": {
    "jupyter": {
     "is_executing": true
    },
    "ExecuteTime": {
     "start_time": "2024-06-04T11:30:09.991674Z"
    }
   },
   "cell_type": "code",
   "source": [
    "import os\n",
    "import pandas as pd\n",
    "import numpy as np\n",
    "import librosa\n",
    "import tensorflow as tf\n",
    "from tensorflow.keras import layers, models\n",
    "from tensorflow.keras.utils import to_categorical\n",
    "from tensorflow.keras.callbacks import EarlyStopping, ModelCheckpoint\n",
    "from tqdm import tqdm\n",
    "import logging\n",
    "import matplotlib.pyplot as plt\n",
    "\n",
    "# Setup logging\n",
    "logging.basicConfig(level=logging.INFO, format='%(asctime)s - %(levelname)s - %(message)s')\n",
    "\n",
    "data_dir = '../dataset'\n",
    "annotations_file = f'{data_dir}/development_scene_annotations.csv'\n",
    "\n",
    "# Load annotations\n",
    "logging.info('Loading annotations...')\n",
    "annotations = pd.read_csv(annotations_file)\n",
    "logging.info('Annotations loaded.')\n",
    "\n",
    "# Check class distribution\n",
    "class_counts = annotations['command'].value_counts()\n",
    "plt.figure(figsize=(12, 6))\n",
    "class_counts.plot(kind='bar')\n",
    "plt.title('Class Distribution')\n",
    "plt.xlabel('Commands')\n",
    "plt.ylabel('Count')\n",
    "plt.show()\n",
    "\n",
    "def prepare_feature_data(annotations, data_dir, feature_dir):\n",
    "    command_features = []\n",
    "    command_labels = []\n",
    "    command_mapping = {}  # Mapping of command texts to numerical labels\n",
    "    current_label = 0\n",
    "    max_len = 0  # To determine the maximum length of features\n",
    "\n",
    "    logging.info('Preparing command data...')\n",
    "    for index, row in tqdm(annotations.iterrows(), total=annotations.shape[0]):\n",
    "        feature_path = os.path.join(feature_dir, row['filename'] + '.npy')\n",
    "        features = np.load(feature_path)\n",
    "        max_len = max(max_len, features.shape[1])  # Update max_len\n",
    "        \n",
    "        command_text = row['command']\n",
    "        if command_text not in command_mapping:\n",
    "            command_mapping[command_text] = current_label\n",
    "            current_label += 1\n",
    "        \n",
    "        command_label = command_mapping[command_text]\n",
    "        \n",
    "        command_features.append(features)\n",
    "        command_labels.append(command_label)\n",
    "\n",
    "    # Pad features to the same length\n",
    "    padded_features = []\n",
    "    for feature in command_features:\n",
    "        pad_width = max_len - feature.shape[1]\n",
    "        if pad_width > 0:\n",
    "            feature = np.pad(feature, ((0, 0), (0, pad_width)), mode='constant')\n",
    "        padded_features.append(feature)\n",
    "    \n",
    "    logging.info('Command data prepared.')\n",
    "    return np.array(padded_features), np.array(command_labels), command_mapping\n",
    "\n",
    "# Prepare feature-based command data\n",
    "feature_dir = f'{data_dir}/scenes/npy'\n",
    "command_features, command_labels, command_mapping = prepare_feature_data(annotations, data_dir, feature_dir)\n",
    "\n",
    "# Normalize features\n",
    "command_features = (command_features - np.mean(command_features, axis=0)) / np.std(command_features, axis=0)\n",
    "\n",
    "# One-hot encode labels\n",
    "num_classes = len(command_mapping)\n",
    "command_labels = to_categorical(command_labels, num_classes=num_classes)\n",
    "\n",
    "logging.info(f'Command mapping: {command_mapping}')\n",
    "\n",
    "# Improved model architecture: CNN + LSTM\n",
    "def build_cnn_lstm_model(input_shape, num_classes):\n",
    "    model = models.Sequential([\n",
    "        layers.Conv2D(32, (3, 3), activation='relu', padding='same', input_shape=(input_shape[0], input_shape[1], 1)),\n",
    "        layers.MaxPooling2D((2, 2)),\n",
    "        layers.Conv2D(64, (3, 3), activation='relu', padding='same'),\n",
    "        layers.MaxPooling2D((2, 2)),\n",
    "        layers.Reshape((input_shape[0] // 4, (input_shape[1] // 4) * 64)),\n",
    "        layers.LSTM(128, return_sequences=True),\n",
    "        layers.Dropout(0.5),\n",
    "        layers.LSTM(128),\n",
    "        layers.Dropout(0.5),\n",
    "        layers.Dense(256, activation='relu'),\n",
    "        layers.Dropout(0.5),\n",
    "        layers.Dense(num_classes, activation='softmax')\n",
    "    ])\n",
    "    model.compile(optimizer='adam', loss='categorical_crossentropy', metrics=['accuracy'])\n",
    "    return model\n",
    "\n",
    "input_shape = (command_features.shape[1], command_features.shape[2])\n",
    "command_features = command_features.reshape((command_features.shape[0], command_features.shape[1], command_features.shape[2], 1))\n",
    "command_model = build_cnn_lstm_model(input_shape, num_classes)\n",
    "\n",
    "logging.info('Training command recognition model...')\n",
    "early_stopping = EarlyStopping(monitor='val_loss', patience=5, restore_best_weights=True)\n",
    "model_checkpoint = ModelCheckpoint('best_command_model.keras', save_best_only=True, monitor='val_loss')\n",
    "\n",
    "command_model.fit(command_features, command_labels, epochs=50, batch_size=32, validation_split=0.2,\n",
    "                  callbacks=[early_stopping, model_checkpoint])\n",
    "logging.info('Command recognition model trained.')\n",
    "\n",
    "# Evaluate the model on a new feature file\n",
    "new_feature_file = f'{feature_dir}/9_speech_true_Radio_aus.npy'\n",
    "new_features = np.load(new_feature_file)\n",
    "new_features = np.pad(new_features, ((0, 0), (0, command_features.shape[2] - new_features.shape[1])), mode='constant')\n",
    "new_features = new_features.reshape(1, new_features.shape[0], new_features.shape[1], 1)\n",
    "new_features = (new_features - np.mean(command_features, axis=0)) / np.std(command_features, axis=0)\n",
    "\n",
    "predicted_command = command_model.predict(new_features)\n",
    "predicted_label = np.argmax(predicted_command)\n",
    "for command, label in command_mapping.items():\n",
    "    if label == predicted_label:\n",
    "        logging.info(f'Predicted command: {command}')\n",
    "        break\n"
   ],
   "id": "32389aabb5c5f0dc",
   "outputs": [
    {
     "name": "stderr",
     "output_type": "stream",
     "text": [
      "2024-06-04 13:30:10,004 - INFO - Loading annotations...\n",
      "2024-06-04 13:30:10,008 - INFO - Annotations loaded.\n"
     ]
    },
    {
     "data": {
      "text/plain": [
       "<Figure size 1200x600 with 1 Axes>"
      ],
      "image/png": "[encoded data removed]"
     },
     "metadata": {},
     "output_type": "display_data"
    },
    {
     "name": "stderr",
     "output_type": "stream",
     "text": [
      "2024-06-04 13:30:10,299 - INFO - Preparing command data...\n",
      "100%|██████████| 1065/1065 [00:01<00:00, 676.03it/s]\n",
      "2024-06-04 13:30:13,178 - INFO - Command data prepared.\n",
      "2024-06-04 13:30:20,249 - INFO - Command mapping: {'Licht aus': 0, 'Ofen an': 1, 'Radio an': 2, 'Fernseher an': 3, 'Heizung aus': 4, 'Alarm an': 5, 'Lüftung aus': 6, 'Staubsauger aus': 7, 'Heizung an': 8, 'Staubsauger an': 9, 'Alarm aus': 10, 'Licht an': 11, 'Ofen aus': 12, 'Radio aus': 13, 'Lüftung an': 14, 'Fernseher aus': 15}\n",
      "/usr/local/lib/python3.11/site-packages/keras/src/layers/convolutional/base_conv.py:99: UserWarning: Do not pass an `input_shape`/`input_dim` argument to a layer. When using Sequential models, prefer using an `Input(shape)` object as the first layer in the model instead.\n",
      "  super().__init__(\n",
      "2024-06-04 13:30:20,399 - INFO - Training command recognition model...\n"
     ]
    },
    {
     "name": "stdout",
     "output_type": "stream",
     "text": [
      "Epoch 1/50\n",
      "\u001B[1m27/27\u001B[0m \u001B[32m━━━━━━━━━━━━━━━━━━━━\u001B[0m\u001B[37m\u001B[0m \u001B[1m126s\u001B[0m 4s/step - accuracy: 0.0655 - loss: 2.8293 - val_accuracy: 0.0751 - val_loss: 2.7675\n",
      "Epoch 2/50\n",
      "\u001B[1m19/27\u001B[0m \u001B[32m━━━━━━━━━━━━━━\u001B[0m\u001B[37m━━━━━━\u001B[0m \u001B[1m33s\u001B[0m 4s/step - accuracy: 0.0768 - loss: 2.7676"
     ]
    }
   ],
   "execution_count": null
  },
  {
   "metadata": {},
   "cell_type": "code",
   "outputs": [],
   "execution_count": null,
   "source": "",
   "id": "c5a1dcf3f55de3bf"
  }
 ],
 "metadata": {
  "kernelspec": {
   "display_name": "Python 3",
   "language": "python",
   "name": "python3"
  },
  "language_info": {
   "codemirror_mode": {
    "name": "ipython",
    "version": 2
   },
   "file_extension": ".py",
   "mimetype": "text/x-python",
   "name": "python",
   "nbconvert_exporter": "python",
   "pygments_lexer": "ipython2",
   "version": "2.7.6"
  }
 },
 "nbformat": 4,
 "nbformat_minor": 5
}
