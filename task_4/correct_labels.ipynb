{
 "cells": [
  {
   "metadata": {},
   "cell_type": "markdown",
   "source": [
    "### Steps to Correct Labeling Issues\n",
    "\n",
    "1. **Identify and Correct Obvious Errors**: Manually correct obvious labeling issues based on the filename.\n",
    "2. **Automate the Process for Larger Datasets**: If the dataset is large, automate the correction process where possible.\n",
    "3. **Verify the Correctness of Labels**: Cross-check corrected labels with known information or manually verify a subset of the data.\n",
    "\n",
    "### Step 1: Identify and Correct Obvious Errors\n",
    "\n",
    "You can manually correct the entries where the command does not match the filename:\n"
   ],
   "id": "3fad48966aa720d1"
  },
  {
   "metadata": {
    "ExecuteTime": {
     "end_time": "2024-05-29T18:47:52.576372Z",
     "start_time": "2024-05-29T18:47:52.554268Z"
    }
   },
   "cell_type": "code",
   "source": [
    "import pandas as pd\n",
    "\n",
    "# Load the annotations CSV\n",
    "scene_annotations_df = pd.read_csv('../dataset/development_scene_annotations.csv')\n",
    "\n",
    "# Print the first few rows to identify issues\n",
    "print(scene_annotations_df.head())\n",
    "\n",
    "# Define a function to correct labels based on filenames\n",
    "def correct_label(row):\n",
    "    filename = row['filename']\n",
    "    command = row['command']\n",
    "    if \"Ofen_aus\" in filename and command != \"Ofen aus\":\n",
    "        return \"Ofen aus\"\n",
    "    elif \"Radio_an\" in filename and command != \"Radio an\":\n",
    "        return \"Radio an\"\n",
    "    elif \"Alarm_an\" in filename and command != \"Alarm an\":\n",
    "        return \"Alarm an\"\n",
    "    elif \"Radio_aus\" in filename and command != \"Radio aus\":\n",
    "        return \"Radio aus\"\n",
    "    elif \"Fernseher_aus\" in filename and command != \"Fernseher aus\":\n",
    "        return \"Fernseher aus\"\n",
    "    elif \"Staubsauger_an\" in filename and command != \"Staubsauger an\":\n",
    "        return \"Staubsauger an\"\n",
    "    elif \"Staubsauger_aus\" in filename and command != \"Staubsauger aus\":\n",
    "        return \"Staubsauger aus\"\n",
    "    # Add more conditions as necessary\n",
    "    else:\n",
    "        return command\n",
    "\n",
    "# Apply the correction function\n",
    "scene_annotations_df['command'] = scene_annotations_df.apply(correct_label, axis=1)\n",
    "\n",
    "# Verify the corrections\n",
    "print(scene_annotations_df.head())"
   ],
   "id": "caf4f914be141a42",
   "outputs": [
    {
     "name": "stdout",
     "output_type": "stream",
     "text": [
      "                        filename         command     start       end\n",
      "0         2_speech_true_Ofen_aus        Ofen aus  11.25230  12.07747\n",
      "1         3_speech_true_Radio_an  Staubsauger an  21.48040  23.18083\n",
      "2         4_speech_true_Alarm_an        Alarm an  14.45720  16.08301\n",
      "3        9_speech_true_Radio_aus  Staubsauger an   3.67909   5.63126\n",
      "4  11_speech_false_Fernseher_aus  Staubsauger an  10.57850  11.67886\n",
      "                        filename        command     start       end\n",
      "0         2_speech_true_Ofen_aus       Ofen aus  11.25230  12.07747\n",
      "1         3_speech_true_Radio_an       Radio an  21.48040  23.18083\n",
      "2         4_speech_true_Alarm_an       Alarm an  14.45720  16.08301\n",
      "3        9_speech_true_Radio_aus      Radio aus   3.67909   5.63126\n",
      "4  11_speech_false_Fernseher_aus  Fernseher aus  10.57850  11.67886\n"
     ]
    }
   ],
   "execution_count": 2
  },
  {
   "metadata": {},
   "cell_type": "markdown",
   "source": [
    "### Step 2: Automate the Process for Larger Datasets\n",
    "\n",
    "If the dataset is larger and contains more complex issues, you might need a more sophisticated approach:"
   ],
   "id": "57b6bd619db7072a"
  },
  {
   "metadata": {
    "ExecuteTime": {
     "end_time": "2024-05-29T18:52:15.734793Z",
     "start_time": "2024-05-29T18:52:15.715738Z"
    }
   },
   "cell_type": "code",
   "source": [
    "# Define a mapping based on filename patterns\n",
    "command_mapping = {\n",
    "    'Ofen_aus': 'Ofen aus',\n",
    "    'Radio_an': 'Radio an',\n",
    "    'Alarm_an': 'Alarm an',\n",
    "    'Radio_aus': 'Radio aus',\n",
    "    'Fernseher_aus': 'Fernseher aus',\n",
    "    'Staubsauger_an': 'Staubsauger an',\n",
    "    'Staubsauger_aus': 'Staubsauger aus'\n",
    "    # Add more mappings as necessary\n",
    "}\n",
    "\n",
    "# Function to automatically correct labels\n",
    "def auto_correct_label(row):\n",
    "    filename = row['filename']\n",
    "    for key, value in command_mapping.items():\n",
    "        if key in filename:\n",
    "            return value\n",
    "    return row['command']\n",
    "\n",
    "# Apply the automatic correction\n",
    "scene_annotations_df['command'] = scene_annotations_df.apply(auto_correct_label, axis=1)\n",
    "\n",
    "# Verify the automatic corrections\n",
    "print(scene_annotations_df.head())"
   ],
   "id": "69874e0391847dd6",
   "outputs": [
    {
     "name": "stdout",
     "output_type": "stream",
     "text": [
      "                        filename        command     start       end\n",
      "0         2_speech_true_Ofen_aus       Ofen aus  11.25230  12.07747\n",
      "1         3_speech_true_Radio_an       Radio an  21.48040  23.18083\n",
      "2         4_speech_true_Alarm_an       Alarm an  14.45720  16.08301\n",
      "3        9_speech_true_Radio_aus      Radio aus   3.67909   5.63126\n",
      "4  11_speech_false_Fernseher_aus  Fernseher aus  10.57850  11.67886\n"
     ]
    }
   ],
   "execution_count": 3
  },
  {
   "metadata": {},
   "cell_type": "markdown",
   "source": [
    "### Step 3: Verify the Correctness of Labels\n",
    "\n",
    "Cross-check a subset of the corrected data manually to ensure the correctness of labels:\n"
   ],
   "id": "3b649382c82a34e"
  },
  {
   "metadata": {
    "ExecuteTime": {
     "end_time": "2024-05-29T18:52:21.108824Z",
     "start_time": "2024-05-29T18:52:21.102943Z"
    }
   },
   "cell_type": "code",
   "source": [
    "# Randomly sample a subset for manual verification\n",
    "subset = scene_annotations_df.sample(10)\n",
    "print(subset)"
   ],
   "id": "75352045f0ed6d8",
   "outputs": [
    {
     "name": "stdout",
     "output_type": "stream",
     "text": [
      "                                              filename         command   \n",
      "667                          1390_speech_false_Ofen_an         Ofen an  \\\n",
      "218              421_speech_true_Fernseher_aus_Ofen_an   Fernseher aus   \n",
      "577  1237_speech_false_Alarm_aus_Radio_an_Fernseher...        Radio an   \n",
      "189          365_speech_false_Fernseher_an_Lüftung_aus     Lüftung aus   \n",
      "841                1656_speech_false_Alarm_an_Ofen_aus        Ofen aus   \n",
      "825           1628_speech_false_Licht_aus_Fernseher_an    Fernseher an   \n",
      "532          1162_speech_false_Ofen_aus_Staubsauger_an        Ofen aus   \n",
      "714                    1469_speech_true_Staubsauger_an  Staubsauger an   \n",
      "948                       1797_speech_true_Heizung_aus     Heizung aus   \n",
      "754                         1507_speech_true_Radio_aus       Radio aus   \n",
      "\n",
      "        start        end  \n",
      "667  14.39520  15.694770  \n",
      "218   8.57969   9.905410  \n",
      "577  12.85350  14.754020  \n",
      "189  11.18770  12.464150  \n",
      "841  16.76040  18.686600  \n",
      "825   8.30332   9.053620  \n",
      "532   5.42589   6.101001  \n",
      "714  10.33400  12.035480  \n",
      "948   6.27918   7.530010  \n",
      "754   4.05766   5.435260  \n"
     ]
    }
   ],
   "execution_count": 4
  },
  {
   "metadata": {},
   "cell_type": "markdown",
   "source": [
    "### Step 4: Re-Check Class Distribution\n",
    "\n",
    "After correcting the labels, re-check the class distribution:\n"
   ],
   "id": "89683fcd6a7eed30"
  },
  {
   "metadata": {},
   "cell_type": "code",
   "outputs": [],
   "execution_count": null,
   "source": [
    "# Re-check the distribution of labels in the annotations CSV after correction\n",
    "label_distribution_annotations = scene_annotations_df['command'].value_counts()\n",
    "print(\"Revised Label Distribution in development_scene_annotations.csv:\")\n",
    "print(label_distribution_annotations)"
   ],
   "id": "2bad001203c9eb2"
  },
  {
   "metadata": {},
   "cell_type": "markdown",
   "source": [
    "### Summary\n",
    "\n",
    "1. **Identify and Correct Errors**: Manually and/or automatically correct obvious labeling issues.\n",
    "2. **Automate Where Possible**: Use a mapping or pattern-matching approach to correct labels for larger datasets.\n",
    "3. **Verify Labels**: Manually verify a subset of the corrected data.\n",
    "4. **Re-Check Distribution**: Ensure the class distribution is more balanced and accurate.\n",
    "\n",
    "Implement these steps to correct the labeling issues in your dataset. Once the labels are corrected, re-evaluate the model performance. Let me know if you need further assistance!"
   ],
   "id": "7b9e808a9e4fedbc"
  }
 ],
 "metadata": {
  "kernelspec": {
   "display_name": "Python 3",
   "language": "python",
   "name": "python3"
  },
  "language_info": {
   "codemirror_mode": {
    "name": "ipython",
    "version": 2
   },
   "file_extension": ".py",
   "mimetype": "text/x-python",
   "name": "python",
   "nbconvert_exporter": "python",
   "pygments_lexer": "ipython2",
   "version": "2.7.6"
  }
 },
 "nbformat": 4,
 "nbformat_minor": 5
}
