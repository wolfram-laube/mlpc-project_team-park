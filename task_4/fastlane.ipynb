{
 "cells": [
  {
   "cell_type": "markdown",
   "metadata": {
    "id": "view-in-github",
    "colab_type": "text"
   },
   "source": [
    "<a href=\"https://colab.research.google.com/github/wolfram-laube/mlpc-project_team-park/blob/wl/task_4/fastlane.ipynb\" target=\"_parent\"><img src=\"https://colab.research.google.com/assets/colab-badge.svg\" alt=\"Open In Colab\"/></a>"
   ],
   "id": "442de27b39337c"
  },
  {
   "cell_type": "markdown",
   "source": [
    "### Preparation: Distiguish Environment and Establish Prerequisites\n",
    "\n"
   ],
   "metadata": {
    "id": "82Q7nNG0dLq5"
   },
   "id": "82Q7nNG0dLq5"
  },
  {
   "cell_type": "markdown",
   "source": [
    "#### Libraries With Specific Handling"
   ],
   "metadata": {
    "id": "fBfYdrNQqfh8"
   },
   "id": "fBfYdrNQqfh8"
  },
  {
   "cell_type": "code",
   "source": [
    "import os\n",
    "import sys\n",
    "\n",
    "def is_colab():\n",
    "    try:\n",
    "        import google.colab\n",
    "        return True\n",
    "    except ImportError:\n",
    "        return False\n",
    "\n",
    "if is_colab():\n",
    "    # Installation script for Google Colab\n",
    "    print(\"Running in Google Colab. Installing RAPIDS...\")\n",
    "    !nvidia-smi\n",
    "    !git clone https://github.com/rapidsai/rapidsai-csp-utils.git\n",
    "    !bash rapidsai-csp-utils/colab/rapids-colab.sh 23.02\n",
    "    sys.path.append('/usr/local/lib/python3.8/site-packages/')\n",
    "else:\n",
    "    # Local machine setup\n",
    "    print(\"Running on local machine. Checking cuml installation...\")\n",
    "    try:\n",
    "        import cuml\n",
    "        print(\"cuml is already installed.\")\n",
    "    except ImportError:\n",
    "        # Adapt these commands to your local environment\n",
    "        print(\"Installing cuml locally using conda...\")\n",
    "        !conda create -n rapids -c rapidsai -c nvidia -c conda-forge cuml=23.02 python=3.8 cudatoolkit=11.2 -y\n",
    "        !conda activate rapids\n",
    "        sys.path.append('/path/to/conda/env/lib/python3.X/site-packages/')\n",
    "\n",
    "# Example imports for RAPIDS libraries\n",
    "try:\n",
    "    import cuml\n",
    "    import cudf\n",
    "    print(\"cuML version: \", cuml.__version__)\n",
    "    print(\"cuDF version: \", cudf.__version__)\n",
    "except ImportError as e:\n",
    "    print(e)\n",
    "    print(\"Failed to import RAPIDS libraries. Check installation steps.\")"
   ],
   "metadata": {
    "id": "8tOJ8X_OqmED",
    "outputId": "c6c88ab0-38af-45aa-b854-bf79e0caa651",
    "colab": {
     "base_uri": "https://localhost:8080/"
    },
    "ExecuteTime": {
     "end_time": "2024-05-30T19:50:06.705476Z",
     "start_time": "2024-05-30T19:50:06.411159Z"
    }
   },
   "id": "8tOJ8X_OqmED",
   "outputs": [
    {
     "name": "stdout",
     "output_type": "stream",
     "text": [
      "Running on local machine. Checking cuml installation...\n",
      "Installing cuml locally using conda...\n",
      "zsh:1: command not found: conda\r\n",
      "zsh:1: command not found: conda\r\n",
      "No module named 'cuml'\n",
      "Failed to import RAPIDS libraries. Check installation steps.\n"
     ]
    }
   ],
   "execution_count": 1
  },
  {
   "cell_type": "markdown",
   "source": [
    "#### Setup Folder Structure"
   ],
   "metadata": {
    "id": "tC4gjz1j8pY6"
   },
   "id": "tC4gjz1j8pY6"
  },
  {
   "cell_type": "code",
   "source": [
    "import os\n",
    "import sys\n",
    "import shutil\n",
    "\n",
    "# Check if the environment is Google Colab\n",
    "try:\n",
    "    import google.colab\n",
    "    IN_COLAB = True\n",
    "except ImportError:\n",
    "    IN_COLAB = False\n",
    "\n",
    "if IN_COLAB:\n",
    "    # If in Google Colab\n",
    "    from google.colab import drive\n",
    "    import gdown\n",
    "\n",
    "    # Option 1: Download the file by its public link and expand it to the Colab runtime\n",
    "    import urllib.request\n",
    "    import zipfile\n",
    "\n",
    "    wavzip_file_id = '1oI1EsH1krrEPbH9MSZRzLHu-_4p6-njR' # https://drive.google.com/file/d/1oI1EsH1krrEPbH9MSZRzLHu-_4p6-njR/view?usp=sharing\n",
    "    npyzip_file_id = '1oKgurvIgT93RGkxvxq8AA423VKlEVT7O' # https://drive.google.com/file/d/1oKgurvIgT93RGkxvxq8AA423VKlEVT7O/view?usp=sharing\n",
    "    annotation_file_id = '1xLxget7c5nCkwYt9Ru2RpYi5rMkk_pl0'  # https://drive.google.com/file/d/1xLxget7c5nCkwYt9Ru2RpYi5rMkk_pl0/view?usp=sharing\n",
    "    scenes_file_id = '1xLgB7-cCz6nReyQbFJJcJGOUKCCbNhCG'  # https://drive.google.com/file/d/1xLgB7-cCz6nReyQbFJJcJGOUKCCbNhCG/view?usp=sharing\n",
    "\n",
    "    wavzip_url = f'https://drive.google.com/uc?id={wavzip_file_id}'\n",
    "    npyzip_url = f'https://drive.google.com/uc?id={npyzip_file_id}'\n",
    "    annotation_url = f'https://drive.google.com/uc?id={annotation_file_id}'\n",
    "    scenes_url = f'https://drive.google.com/uc?id={scenes_file_id}'\n",
    "\n",
    "    wavzip_path = '/content/training_data.zip'\n",
    "    npyzip_path = '/content/training_feat.zip'\n",
    "    data_dir = '/content/dataset'\n",
    "    scenes_dir = f'{data_dir}/scenes'\n",
    "    words_dir = f'{data_dir}/words'\n",
    "    scenes_wav_dir = f'{scenes_dir}/wav'\n",
    "    scenes_npy_dir = f'{scenes_dir}/npy'\n",
    "\n",
    "    # Download the WAVZIP file\n",
    "    #urllib.request.urlretrieve(wavzip_url, wavzip_path)\n",
    "    gdown.download(wavzip_url, wavzip_path, quiet=False)\n",
    "\n",
    "    # Unzip the file\n",
    "    with zipfile.ZipFile(wavzip_path, 'r') as zip_ref:\n",
    "        zip_ref.extractall(data_dir)\n",
    "\n",
    "    print(f\"Training data extracted to {data_dir}\")\n",
    "\n",
    "     # Create the 'scenes/wav' folder structure\n",
    "    os.makedirs(scenes_wav_dir, exist_ok=True)\n",
    "\n",
    "    # Copy .wav files to 'scenes/wav'\n",
    "    extracted_scenes_dir = os.path.join(data_dir, 'mlpc24_speech_commands', 'scenes')\n",
    "    for root, dirs, files in os.walk(extracted_scenes_dir):\n",
    "        for file in files:\n",
    "            if file.endswith('.wav'):\n",
    "                src_path = os.path.join(root, file)\n",
    "                dst_path = os.path.join(scenes_wav_dir, file)\n",
    "                shutil.copy(src_path, dst_path)\n",
    "\n",
    "    print(f\".wav files moved to {scenes_wav_dir}\")\n",
    "\n",
    "    # Download the NPYZIP file\n",
    "    #urllib.request.urlretrieve(npyzip_url, npyzip_path)\n",
    "    gdown.download(npyzip_url, npyzip_path, quiet=False)\n",
    "\n",
    "    # Unzip the file\n",
    "    with zipfile.ZipFile(npyzip_path, 'r') as zip_ref:\n",
    "        zip_ref.extractall(data_dir)\n",
    "\n",
    "    print(f\"Training features extracted to {data_dir}\")\n",
    "\n",
    "     # Create the 'scenes/npy' folder structure\n",
    "    os.makedirs(scenes_npy_dir, exist_ok=True)\n",
    "\n",
    "    # Copy .npy files to 'scenes/npy'\n",
    "    extracted_scenes_dir = os.path.join(data_dir, 'development_scenes')\n",
    "    for root, dirs, files in os.walk(extracted_scenes_dir):\n",
    "        for file in files:\n",
    "            if file.endswith('.npy'):\n",
    "                src_path = os.path.join(root, file)\n",
    "                dst_path = os.path.join(scenes_npy_dir, file)\n",
    "                shutil.copy(src_path, dst_path)\n",
    "\n",
    "    print(f\".npy files moved to {scenes_npy_dir}\")\n",
    "\n",
    "    # Download the CSV files into the data_dir\n",
    "    annotation_orig_path = os.path.join(data_dir, 'development_scene_annotations.csv.orig') # Keep a bckup copy because it needs fixing\n",
    "    annotation_path = os.path.join(data_dir, 'development_scene_annotations.csv')\n",
    "    scenes_path = os.path.join(data_dir, 'development_scenes.csv')\n",
    "\n",
    "    gdown.download(annotation_url, annotation_orig_path, quiet=False)\n",
    "    gdown.download(annotation_url, annotation_path, quiet=False)\n",
    "    gdown.download(scenes_url, scenes_path, quiet=False)\n",
    "\n",
    "    print(f\"CSV files downloaded to {scenes_dir}\")\n",
    "\n",
    "    # Option 2: Mount Google Drive and use the training data\n",
    "    # Note this really takes some time for preprocessing file by file\n",
    "    #drive.mount('/content/drive')\n",
    "    #data_dir = '/content/drive/My Drive/Dropbox/public/mlpc/dataset'\n",
    "\n",
    "    # Use this option to read from Google Drive instead\n",
    "    #print(f\"Using training data from {data_dir}\")\n",
    "else:\n",
    "    # If on local machine\n",
    "    data_dir = '../dataset'\n",
    "    print(f\"Using local training data from {data_dir}\")\n",
    "\n",
    "# Use the data_dir variable as the path to your training data"
   ],
   "metadata": {
    "colab": {
     "base_uri": "https://localhost:8080/"
    },
    "id": "D5QPan2S6YS_",
    "outputId": "95eed273-a0d0-4a7e-f04a-896defd56af3",
    "ExecuteTime": {
     "end_time": "2024-05-30T19:50:25.842191Z",
     "start_time": "2024-05-30T19:50:25.830850Z"
    }
   },
   "id": "D5QPan2S6YS_",
   "outputs": [
    {
     "name": "stdout",
     "output_type": "stream",
     "text": [
      "Using local training data from ../dataset\n"
     ]
    }
   ],
   "execution_count": 2
  },
  {
   "cell_type": "markdown",
   "source": [
    "#### Fix Erreneous Metadata\n",
    "\n",
    "##### Before"
   ],
   "metadata": {
    "id": "Z5urRfewdki_"
   },
   "id": "Z5urRfewdki_"
  },
  {
   "metadata": {
    "outputId": "39cf3e2c-9096-4658-a5d6-491e239527e7",
    "colab": {
     "base_uri": "https://localhost:8080/"
    },
    "id": "Qb8qkrK2eFtL",
    "ExecuteTime": {
     "end_time": "2024-05-30T19:50:32.491052Z",
     "start_time": "2024-05-30T19:50:32.444788Z"
    }
   },
   "cell_type": "code",
   "source": [
    "import pandas as pd\n",
    "\n",
    "# Load the CSV files\n",
    "scene_annotations_df = pd.read_csv(f'{data_dir}/development_scene_annotations.csv')\n",
    "scenes_df = pd.read_csv(f'{data_dir}/development_scenes.csv')\n",
    "\n",
    "# Check the head of the dataframes to understand their structure\n",
    "print(scene_annotations_df.head())\n",
    "print(scenes_df.head())\n",
    "\n",
    "# Check the distribution of labels in the annotations CSV\n",
    "label_distribution_annotations = scene_annotations_df['command'].value_counts()\n",
    "print(\"Label Distribution in development_scene_annotations.csv:\")\n",
    "print(label_distribution_annotations)\n",
    "\n",
    "# Check the distribution of speaker IDs in the scenes CSV\n",
    "label_distribution_scenes = scenes_df['speaker_id'].value_counts()\n",
    "print(\"Label Distribution in development_scenes.csv:\")\n",
    "print(label_distribution_scenes)\n"
   ],
   "id": "Qb8qkrK2eFtL",
   "outputs": [
    {
     "name": "stdout",
     "output_type": "stream",
     "text": [
      "                        filename       command     start       end\n",
      "0    1003_speech_false_Licht_aus     Licht aus  12.20090  13.57599\n",
      "1       1008_speech_true_Ofen_an       Ofen an   6.90112   8.52638\n",
      "2      1010_speech_true_Radio_an      Radio an  13.03100  14.03146\n",
      "3  1011_speech_true_Fernseher_an  Fernseher an  14.11030  15.36121\n",
      "4   1012_speech_true_Heizung_aus   Heizung aus  11.20520  12.70590\n",
      "                        filename  speaker_id\n",
      "0         2_speech_true_Ofen_aus         132\n",
      "1         3_speech_true_Radio_an         132\n",
      "2         4_speech_true_Alarm_an         132\n",
      "3        9_speech_true_Radio_aus         132\n",
      "4  11_speech_false_Fernseher_aus         132\n",
      "Label Distribution in development_scene_annotations.csv:\n",
      "command\n",
      "Licht aus          86\n",
      "Licht an           78\n",
      "Heizung an         76\n",
      "Fernseher an       74\n",
      "Radio aus          69\n",
      "Heizung aus        67\n",
      "Alarm an           66\n",
      "Radio an           65\n",
      "Lüftung aus        64\n",
      "Ofen aus           64\n",
      "Ofen an            63\n",
      "Staubsauger an     63\n",
      "Lüftung an         63\n",
      "Alarm aus          62\n",
      "Staubsauger aus    56\n",
      "Fernseher aus      49\n",
      "Name: count, dtype: int64\n",
      "Label Distribution in development_scenes.csv:\n",
      "speaker_id\n",
      "132    244\n",
      "94       8\n",
      "240      8\n",
      "196      7\n",
      "223      7\n",
      "      ... \n",
      "233      1\n",
      "111      1\n",
      "189      1\n",
      "228      1\n",
      "105      1\n",
      "Name: count, Length: 166, dtype: int64\n"
     ]
    }
   ],
   "execution_count": 3
  },
  {
   "cell_type": "markdown",
   "source": [
    "##### Fix"
   ],
   "metadata": {
    "id": "y3zuKsxReQCO"
   },
   "id": "y3zuKsxReQCO"
  },
  {
   "cell_type": "code",
   "source": [
    "import os\n",
    "import re\n",
    "import shutil\n",
    "import pandas as pd\n",
    "\n",
    "# Paths to the original and working copy files\n",
    "original_file_path = f'{data_dir}/development_scene_annotations.csv.orig'\n",
    "working_copy_path = f'{data_dir}/development_scene_annotations.csv.0'\n",
    "corrected_file_path = f'{data_dir}/development_scene_annotations.csv'\n",
    "\n",
    "# Step 1: Create a working copy of the original file\n",
    "shutil.copy(original_file_path, working_copy_path)\n",
    "\n",
    "# Step 2: Load the working copy into a DataFrame\n",
    "df = pd.read_csv(working_copy_path)\n",
    "\n",
    "# Define the pattern to parse the filename\n",
    "filename_pattern = re.compile(r'(\\d+)_speech_(true|false)_((?:[a-zA-ZäöüÄÖÜß]+_(?:an|aus)_?)+)', re.UNICODE)\n",
    "\n",
    "# Function to parse filename and extract commands\n",
    "def parse_filename(filename):\n",
    "    match = filename_pattern.match(filename)\n",
    "    if not match:\n",
    "        return []\n",
    "\n",
    "    commands_str = match.group(3)\n",
    "    commands = commands_str.split('_')\n",
    "\n",
    "    command_list = []\n",
    "    for i in range(0, len(commands), 2):\n",
    "        command_list.append(f\"{commands[i]} {commands[i+1]}\")\n",
    "\n",
    "    return command_list\n",
    "\n",
    "# Parse the commands from filenames and add to the DataFrame\n",
    "df['parsed_commands'] = df['filename'].apply(parse_filename)\n",
    "\n",
    "# Step 3: Group by filename and sort by start time\n",
    "grouped = df.groupby('filename').apply(lambda x: x.sort_values(by='start')).reset_index(drop=True)\n",
    "\n",
    "# Step 4: Assign the correct labels based on the order of commands in the filename\n",
    "def assign_labels(group):\n",
    "    commands = group['parsed_commands'].iloc[0]  # get the parsed commands from the first row\n",
    "    group = group.reset_index(drop=True)\n",
    "    for i in range(len(group)):\n",
    "        if i < len(commands):\n",
    "            group.at[i, 'command'] = commands[i]\n",
    "        else:\n",
    "            print(f\"Warning: More segments than commands in {group['filename'].iloc[0]}\")\n",
    "    return group\n",
    "\n",
    "# Apply the label assignment function\n",
    "corrected_df = grouped.groupby('filename').apply(assign_labels).reset_index(drop=True)\n",
    "\n",
    "# Drop the temporary column\n",
    "corrected_df = corrected_df.drop(columns=['parsed_commands'])\n",
    "\n",
    "# Step 5: Save the corrected DataFrame to a new CSV file\n",
    "corrected_df.to_csv(corrected_file_path, index=False)\n",
    "\n",
    "# Verify the saved corrections\n",
    "print(\"Label corrections applied and saved successfully.\")\n",
    "print(corrected_df.head())\n"
   ],
   "metadata": {
    "colab": {
     "base_uri": "https://localhost:8080/"
    },
    "id": "r4hi4RZIeSBq",
    "outputId": "bbff6336-624d-4754-b20f-09454f9cf495",
    "ExecuteTime": {
     "end_time": "2024-05-30T19:52:04.489383Z",
     "start_time": "2024-05-30T19:52:03.639844Z"
    }
   },
   "id": "r4hi4RZIeSBq",
   "outputs": [
    {
     "name": "stdout",
     "output_type": "stream",
     "text": [
      "Label corrections applied and saved successfully.\n",
      "                        filename       command     start       end\n",
      "0    1003_speech_false_Licht_aus     Licht aus  12.20090  13.57599\n",
      "1       1008_speech_true_Ofen_an       Ofen an   6.90112   8.52638\n",
      "2      1010_speech_true_Radio_an      Radio an  13.03100  14.03146\n",
      "3  1011_speech_true_Fernseher_an  Fernseher an  14.11030  15.36121\n",
      "4   1012_speech_true_Heizung_aus   Heizung aus  11.20520  12.70590\n"
     ]
    }
   ],
   "execution_count": 6
  },
  {
   "cell_type": "markdown",
   "source": [
    "##### After"
   ],
   "metadata": {
    "id": "o-KsrK3sdu46"
   },
   "id": "o-KsrK3sdu46"
  },
  {
   "metadata": {
    "outputId": "dbb3156a-17e3-4ac0-bad0-f081e7bb1d60",
    "colab": {
     "base_uri": "https://localhost:8080/"
    },
    "id": "NFuZo2CxeJxR",
    "ExecuteTime": {
     "end_time": "2024-05-30T19:52:15.294297Z",
     "start_time": "2024-05-30T19:52:15.281179Z"
    }
   },
   "cell_type": "code",
   "source": [
    "import pandas as pd\n",
    "\n",
    "# Load the CSV files\n",
    "scene_annotations_df = pd.read_csv(f'{data_dir}/development_scene_annotations.csv')\n",
    "scenes_df = pd.read_csv(f'{data_dir}/development_scenes.csv')\n",
    "\n",
    "# Check the head of the dataframes to understand their structure\n",
    "print(scene_annotations_df.head())\n",
    "print(scenes_df.head())\n",
    "\n",
    "# Check the distribution of labels in the annotations CSV\n",
    "label_distribution_annotations = scene_annotations_df['command'].value_counts()\n",
    "print(\"Label Distribution in development_scene_annotations.csv:\")\n",
    "print(label_distribution_annotations)\n",
    "\n",
    "# Check the distribution of speaker IDs in the scenes CSV\n",
    "label_distribution_scenes = scenes_df['speaker_id'].value_counts()\n",
    "print(\"Label Distribution in development_scenes.csv:\")\n",
    "print(label_distribution_scenes)\n"
   ],
   "id": "NFuZo2CxeJxR",
   "outputs": [
    {
     "name": "stdout",
     "output_type": "stream",
     "text": [
      "                        filename       command     start       end\n",
      "0    1003_speech_false_Licht_aus     Licht aus  12.20090  13.57599\n",
      "1       1008_speech_true_Ofen_an       Ofen an   6.90112   8.52638\n",
      "2      1010_speech_true_Radio_an      Radio an  13.03100  14.03146\n",
      "3  1011_speech_true_Fernseher_an  Fernseher an  14.11030  15.36121\n",
      "4   1012_speech_true_Heizung_aus   Heizung aus  11.20520  12.70590\n",
      "                        filename  speaker_id\n",
      "0         2_speech_true_Ofen_aus         132\n",
      "1         3_speech_true_Radio_an         132\n",
      "2         4_speech_true_Alarm_an         132\n",
      "3        9_speech_true_Radio_aus         132\n",
      "4  11_speech_false_Fernseher_aus         132\n",
      "Label Distribution in development_scene_annotations.csv:\n",
      "command\n",
      "Licht aus          86\n",
      "Licht an           78\n",
      "Heizung an         76\n",
      "Fernseher an       74\n",
      "Radio aus          69\n",
      "Heizung aus        67\n",
      "Alarm an           66\n",
      "Radio an           65\n",
      "Lüftung aus        64\n",
      "Ofen aus           64\n",
      "Ofen an            63\n",
      "Staubsauger an     63\n",
      "Lüftung an         63\n",
      "Alarm aus          62\n",
      "Staubsauger aus    56\n",
      "Fernseher aus      49\n",
      "Name: count, dtype: int64\n",
      "Label Distribution in development_scenes.csv:\n",
      "speaker_id\n",
      "132    244\n",
      "94       8\n",
      "240      8\n",
      "196      7\n",
      "223      7\n",
      "      ... \n",
      "233      1\n",
      "111      1\n",
      "189      1\n",
      "228      1\n",
      "105      1\n",
      "Name: count, Length: 166, dtype: int64\n"
     ]
    }
   ],
   "execution_count": 7
  },
  {
   "cell_type": "markdown",
   "source": [
    "#### Determine CPU/GPU"
   ],
   "metadata": {
    "id": "9d-W4WAwgbiW"
   },
   "id": "9d-W4WAwgbiW"
  },
  {
   "cell_type": "code",
   "source": [
    "# Function to check if GPU is available\n",
    "#def is_gpu_available():\n",
    "#    try:\n",
    "#        result = subprocess.run(['nvidia-smi'], stdout=subprocess.PIPE, stderr=subprocess.PIPE)\n",
    "#        return result.returncode == 0\n",
    "#    except FileNotFoundError:\n",
    "#        return False\n",
    "\n",
    "def is_gpu_available():\n",
    "    try:\n",
    "        import torch\n",
    "        return torch.cuda.is_available()\n",
    "    except ImportError:\n",
    "        pass\n",
    "\n",
    "    try:\n",
    "        import tensorflow as tf\n",
    "        return tf.config.list_physical_devices('GPU') != []\n",
    "    except ImportError:\n",
    "        pass\n",
    "\n",
    "    return False"
   ],
   "metadata": {
    "id": "NeaPanRJggBj"
   },
   "id": "NeaPanRJggBj",
   "execution_count": 9,
   "outputs": []
  },
  {
   "metadata": {
    "id": "ba82ea33563f3f64"
   },
   "cell_type": "markdown",
   "source": [
    "### Step 1: Data Preprocessing\n",
    "\n",
    "#### Load Metadata and Annotations\n"
   ],
   "id": "ba82ea33563f3f64"
  },
  {
   "metadata": {
    "ExecuteTime": {
     "end_time": "2024-05-30T00:00:31.184808Z",
     "start_time": "2024-05-30T00:00:31.093161Z"
    },
    "colab": {
     "base_uri": "https://localhost:8080/"
    },
    "id": "e38ffe7b352698c0",
    "outputId": "513df64d-a1f6-478e-f991-ffbcbd42f028"
   },
   "cell_type": "code",
   "source": [
    "import pandas as pd\n",
    "\n",
    "# Define file paths\n",
    "metadata_file = f'{data_dir}/development_scenes.csv'\n",
    "annotations_file = f'{data_dir}/development_scene_annotations.csv'\n",
    "\n",
    "# Load the CSV files\n",
    "metadata = pd.read_csv(metadata_file)\n",
    "annotations = pd.read_csv(annotations_file)\n",
    "\n",
    "print(\"Metadata:\")\n",
    "print(metadata.head())\n",
    "print(\"\\nAnnotations:\")\n",
    "print(annotations.head())\n"
   ],
   "id": "e38ffe7b352698c0",
   "outputs": [
    {
     "output_type": "stream",
     "name": "stdout",
     "text": [
      "Metadata:\n",
      "                        filename  speaker_id\n",
      "0         2_speech_true_Ofen_aus         132\n",
      "1         3_speech_true_Radio_an         132\n",
      "2         4_speech_true_Alarm_an         132\n",
      "3        9_speech_true_Radio_aus         132\n",
      "4  11_speech_false_Fernseher_aus         132\n",
      "\n",
      "Annotations:\n",
      "                        filename       command     start       end\n",
      "0    1003_speech_false_Licht_aus     Licht aus  12.20090  13.57599\n",
      "1       1008_speech_true_Ofen_an       Ofen an   6.90112   8.52638\n",
      "2      1010_speech_true_Radio_an      Radio an  13.03100  14.03146\n",
      "3  1011_speech_true_Fernseher_an  Fernseher an  14.11030  15.36121\n",
      "4   1012_speech_true_Heizung_aus   Heizung aus  11.20520  12.70590\n"
     ]
    }
   ],
   "execution_count": 10
  },
  {
   "metadata": {
    "id": "e1fc52558ddb0d5c"
   },
   "cell_type": "markdown",
   "source": [
    "#### Preprocess Audio Files (WAV) and Perform ICA\n"
   ],
   "id": "e1fc52558ddb0d5c"
  },
  {
   "metadata": {
    "colab": {
     "base_uri": "https://localhost:8080/"
    },
    "id": "624c6bca8adc3478",
    "outputId": "5605a349-fc3b-4d79-e2a0-5a012738c2cf",
    "ExecuteTime": {
     "end_time": "2024-05-30T19:52:57.238700Z",
     "start_time": "2024-05-30T19:52:57.218992Z"
    }
   },
   "cell_type": "code",
   "source": [
    "import os\n",
    "import librosa\n",
    "from sklearn.preprocessing import StandardScaler\n",
    "from sklearn.decomposition import FastICA\n",
    "import numpy as np\n",
    "from IPython.display import Audio\n",
    "\n",
    "# Define directories\n",
    "scenes_wav_dir = f'{data_dir}/scenes/wav'  # Update this path\n",
    "\n",
    "# Function to load and preprocess audio\n",
    "def load_and_preprocess_audio(file_path):\n",
    "    audio, sr = librosa.load(file_path, sr=None)\n",
    "    scaler = StandardScaler()\n",
    "    audio = scaler.fit_transform(audio.reshape(-1, 1)).flatten()\n",
    "\n",
    "    ica = FastICA(n_components=1, whiten='unit-variance')\n",
    "    audio = ica.fit_transform(audio.reshape(-1, 1)).flatten()\n",
    "\n",
    "    return audio, sr\n",
    "\n",
    "# Function to segment audio based on annotations\n",
    "def segment_audio(audio, sr, start, end):\n",
    "    start_sample = int(start * sr)\n",
    "    end_sample = int(end * sr)\n",
    "    return audio[start_sample:end_sample]\n",
    "\n",
    "# Preprocess and segment all audio files\n",
    "preprocessed_segments = []\n",
    "\n",
    "for idx, row in annotations.iterrows():\n",
    "    file_name = row['filename']\n",
    "    command = row['command']\n",
    "    start = row['start']\n",
    "    end = row['end']\n",
    "\n",
    "    file_path = os.path.join(scenes_wav_dir, file_name + '.wav')\n",
    "\n",
    "    try:\n",
    "        audio, sr = load_and_preprocess_audio(file_path)\n",
    "        segment = segment_audio(audio, sr, start, end)\n",
    "        preprocessed_segments.append((file_name, command, segment, sr))\n",
    "    except Exception as e:\n",
    "        print(f\"Error processing file {file_path}: {e}\")\n",
    "\n",
    "# Example: display the first segment\n",
    "print(f\"First segment: {preprocessed_segments[0]}\")\n"
   ],
   "id": "624c6bca8adc3478",
   "outputs": [
    {
     "ename": "NameError",
     "evalue": "name 'annotations' is not defined",
     "output_type": "error",
     "traceback": [
      "\u001B[0;31m---------------------------------------------------------------------------\u001B[0m",
      "\u001B[0;31mNameError\u001B[0m                                 Traceback (most recent call last)",
      "Cell \u001B[0;32mIn[9], line 31\u001B[0m\n\u001B[1;32m     28\u001B[0m \u001B[38;5;66;03m# Preprocess and segment all audio files\u001B[39;00m\n\u001B[1;32m     29\u001B[0m preprocessed_segments \u001B[38;5;241m=\u001B[39m []\n\u001B[0;32m---> 31\u001B[0m \u001B[38;5;28;01mfor\u001B[39;00m idx, row \u001B[38;5;129;01min\u001B[39;00m \u001B[43mannotations\u001B[49m\u001B[38;5;241m.\u001B[39miterrows():\n\u001B[1;32m     32\u001B[0m     file_name \u001B[38;5;241m=\u001B[39m row[\u001B[38;5;124m'\u001B[39m\u001B[38;5;124mfilename\u001B[39m\u001B[38;5;124m'\u001B[39m]\n\u001B[1;32m     33\u001B[0m     command \u001B[38;5;241m=\u001B[39m row[\u001B[38;5;124m'\u001B[39m\u001B[38;5;124mcommand\u001B[39m\u001B[38;5;124m'\u001B[39m]\n",
      "\u001B[0;31mNameError\u001B[0m: name 'annotations' is not defined"
     ]
    }
   ],
   "execution_count": 9
  },
  {
   "metadata": {
    "colab": {
     "base_uri": "https://localhost:8080/",
     "height": 204
    },
    "id": "344029151ce8b2e5",
    "outputId": "bfe6cc7f-3ba2-412c-d9f1-00345b43c0e0",
    "ExecuteTime": {
     "end_time": "2024-05-30T19:53:38.866569Z",
     "start_time": "2024-05-30T19:53:25.826966Z"
    }
   },
   "cell_type": "code",
   "source": [
    "import os\n",
    "import numpy as np\n",
    "import pandas as pd\n",
    "import librosa\n",
    "import soundfile as sf\n",
    "import random\n",
    "from IPython.display import Audio\n",
    "from sklearn.decomposition import FastICA\n",
    "\n",
    "# Function to apply ICA on audio segments\n",
    "def apply_ica(segment, sr):\n",
    "    ica = FastICA(n_components=1, whiten='arbitrary-variance')  # Explicitly set whiten parameter\n",
    "    segment_reshaped = segment.reshape(-1, 1)\n",
    "    segment_ica = ica.fit_transform(segment_reshaped).flatten()\n",
    "    return segment_ica\n",
    "\n",
    "# Function to preprocess segments and optionally save to the filesystem\n",
    "def preprocess_and_save_segments(scenes_dir, annotations_path, save_dir=None, save_to_filesystem=False, apply_ica_flag=False):\n",
    "    # Load the annotations\n",
    "    annotations_df = pd.read_csv(annotations_path)\n",
    "\n",
    "    # Ensure the save directory exists if saving to filesystem\n",
    "    if save_to_filesystem and save_dir is not None:\n",
    "        os.makedirs(save_dir, exist_ok=True)\n",
    "\n",
    "    preprocessed_segments = []\n",
    "\n",
    "    for index, row in annotations_df.iterrows():\n",
    "        filename = row['filename']\n",
    "        command = row['command']\n",
    "        start = row['start']\n",
    "        end = row['end']\n",
    "\n",
    "        # Load the audio file\n",
    "        file_path = os.path.join(scenes_dir, f\"{filename}.wav\")\n",
    "        y, sr = librosa.load(file_path, sr=None)\n",
    "\n",
    "        # Extract the segment\n",
    "        start_sample = int(start * sr)\n",
    "        end_sample = int(end * sr)\n",
    "        segment = y[start_sample:end_sample]\n",
    "\n",
    "        # Normalize the segment\n",
    "        segment = librosa.util.normalize(segment)\n",
    "\n",
    "        # Apply ICA if the flag is set\n",
    "        if apply_ica_flag:\n",
    "            segment = apply_ica(segment, sr)\n",
    "\n",
    "        # Add the segment to the list\n",
    "        preprocessed_segments.append((filename, command, segment, sr))\n",
    "\n",
    "        # Save the segment to the filesystem if required\n",
    "        if save_to_filesystem and save_dir is not None:\n",
    "            save_path = os.path.join(save_dir, f\"{filename}_{start}_{end}.wav\")\n",
    "            sf.write(save_path, segment, sr)\n",
    "\n",
    "    return preprocessed_segments\n",
    "\n",
    "# Function to play a random segment from preprocessed segments\n",
    "def play_random_segment(preprocessed_segments):\n",
    "    # Select a random segment\n",
    "    random_segment = random.choice(preprocessed_segments)\n",
    "\n",
    "    filename, command, audio_data, sample_rate = random_segment\n",
    "\n",
    "    # Print the command and play the audio segment\n",
    "    print(f\"Filename: {filename}\")\n",
    "    print(f\"Command: {command}\")\n",
    "\n",
    "    return Audio(audio_data, rate=sample_rate)\n",
    "\n",
    "# Function to play a random segment from the filesystem\n",
    "def play_random_segment_from_filesystem(save_dir, annotations_path):\n",
    "    # List all the preprocessed segment files\n",
    "    segment_files = [f for f in os.listdir(save_dir) if f.endswith('.wav')]\n",
    "\n",
    "    # Select a random segment file\n",
    "    random_segment_file = random.choice(segment_files)\n",
    "    random_segment_path = os.path.join(save_dir, random_segment_file)\n",
    "\n",
    "    # Extract start and end times from the file name\n",
    "    filename_parts = random_segment_file.split('_')\n",
    "    filename = '_'.join(filename_parts[:-2])\n",
    "    start_time = float(filename_parts[-2])\n",
    "    end_time = float(filename_parts[-1].replace('.wav', ''))\n",
    "\n",
    "    # Find the command in the annotations\n",
    "    annotations_df = pd.read_csv(annotations_path)\n",
    "    command_row = annotations_df[\n",
    "        (annotations_df['filename'] == filename) &\n",
    "        (annotations_df['start'] == start_time) &\n",
    "        (annotations_df['end'] == end_time)\n",
    "    ]\n",
    "\n",
    "    if command_row.empty:\n",
    "        print(f\"No matching annotation found for {random_segment_file}\")\n",
    "        return\n",
    "\n",
    "    command = command_row.iloc[0]['command']\n",
    "\n",
    "    # Load the audio segment\n",
    "    y, sr = librosa.load(random_segment_path, sr=None)\n",
    "\n",
    "    # Print the command and play the audio segment\n",
    "    print(f\"Filename: {filename}\")\n",
    "    print(f\"Command: {command}\")\n",
    "\n",
    "    return Audio(y, rate=sr)\n",
    "\n",
    "# Example usage\n",
    "scenes_dir = f'{data_dir}/scenes/wav'\n",
    "annotations_path = f'{data_dir}/development_scene_annotations.csv'\n",
    "save_dir = f'{data_dir}/scenes/preprocessed_segments'\n",
    "\n",
    "# Preprocess segments and save to filesystem with optional ICA\n",
    "preprocessed_segments = preprocess_and_save_segments(scenes_dir, annotations_path, save_dir, save_to_filesystem=True, apply_ica_flag=True)\n",
    "\n",
    "# Play a random segment from memory\n",
    "audio_memory = play_random_segment(preprocessed_segments)\n",
    "display(audio_memory)\n",
    "\n",
    "# Play a random segment from filesystem\n",
    "audio_filesystem = play_random_segment_from_filesystem(save_dir, annotations_path)\n",
    "display(audio_filesystem)\n"
   ],
   "id": "344029151ce8b2e5",
   "outputs": [
    {
     "name": "stdout",
     "output_type": "stream",
     "text": [
      "Filename: 1429_speech_true_Licht_an\n",
      "Command: Licht an\n"
     ]
    },
    {
     "data": {
      "text/plain": [
       "<IPython.lib.display.Audio object>"
      ],
      "text/html": [
       "\n",
       "                <audio  controls=\"controls\" >\n",
       "                    <source src=\"data:audio/wav;base64,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\" type=\"audio/wav\" />\n",
       "                    Your browser does not support the audio element.\n",
       "                </audio>\n",
       "              "
      ]
     },
     "metadata": {},
     "output_type": "display_data"
    },
    {
     "name": "stdout",
     "output_type": "stream",
     "text": [
      "Filename: 129_speech_false_Heizung_aus_Licht_aus\n",
      "Command: Licht aus\n"
     ]
    },
    {
     "data": {
      "text/plain": [
       "<IPython.lib.display.Audio object>"
      ],
      "text/html": [
       "\n",
       "                <audio  controls=\"controls\" >\n",
       "                    <source src=\"data:audio/wav;base64,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\" type=\"audio/wav\" />\n",
       "                    Your browser does not support the audio element.\n",
       "                </audio>\n",
       "              "
      ]
     },
     "metadata": {},
     "output_type": "display_data"
    }
   ],
   "execution_count": 10
  },
  {
   "metadata": {
    "id": "310a6e11fdef1540"
   },
   "cell_type": "markdown",
   "source": [
    "### Step 2: Data Augmentation\n",
    "\n",
    "#### Apply Data Augmentation\n"
   ],
   "id": "310a6e11fdef1540"
  },
  {
   "metadata": {
    "colab": {
     "base_uri": "https://localhost:8080/"
    },
    "id": "1aae0b9e554475a7",
    "outputId": "57326c54-d118-40fa-904e-0558faffe378",
    "ExecuteTime": {
     "end_time": "2024-05-30T19:54:08.145184Z",
     "start_time": "2024-05-30T19:53:58.845689Z"
    }
   },
   "cell_type": "code",
   "source": [
    "import librosa\n",
    "import numpy as np\n",
    "\n",
    "# Function to augment audio\n",
    "def augment_audio(audio, sr):\n",
    "    augmented = []\n",
    "    # Original length\n",
    "    original_length = len(audio)\n",
    "\n",
    "    # Shift\n",
    "    shift = int(sr * 0.5)  # shift by 0.5 seconds\n",
    "    shifted_audio = np.roll(audio, shift)\n",
    "    augmented.append(shifted_audio)\n",
    "\n",
    "    # Stretch\n",
    "    stretch = librosa.effects.time_stretch(audio, rate=0.8)\n",
    "    if len(stretch) < original_length:\n",
    "        # Pad with zeros if stretched audio is shorter\n",
    "        stretch = np.pad(stretch, (0, original_length - len(stretch)), mode='constant')\n",
    "    else:\n",
    "        stretch = stretch[:original_length]  # ensure same length\n",
    "    augmented.append(stretch)\n",
    "\n",
    "    # Debug information\n",
    "    for aug_audio in augmented:\n",
    "        #print(f\"Original length: {original_length}, Augmented length: {len(aug_audio)}\")\n",
    "        if len(aug_audio) < 2048:\n",
    "            print(f\"Warning: Augmented segment length {len(aug_audio)} is shorter than n_fft=2048\")\n",
    "\n",
    "    return augmented\n",
    "\n",
    "# Apply augmentation to all segments\n",
    "augmented_segments = []\n",
    "for file_name, command, segment, sr in preprocessed_segments:\n",
    "    augmented = augment_audio(segment, sr)\n",
    "    for aug in augmented:\n",
    "        augmented_segments.append((file_name, command, aug, sr))\n",
    "\n",
    "# Combine original and augmented data\n",
    "all_segments = preprocessed_segments + augmented_segments\n"
   ],
   "id": "1aae0b9e554475a7",
   "outputs": [
    {
     "name": "stderr",
     "output_type": "stream",
     "text": [
      "/usr/local/lib/python3.11/site-packages/librosa/core/spectrum.py:266: UserWarning: n_fft=2048 is too large for input signal of length=800\n",
      "  warnings.warn(\n"
     ]
    },
    {
     "name": "stdout",
     "output_type": "stream",
     "text": [
      "Warning: Augmented segment length 800 is shorter than n_fft=2048\n",
      "Warning: Augmented segment length 800 is shorter than n_fft=2048\n"
     ]
    }
   ],
   "execution_count": 11
  },
  {
   "metadata": {
    "id": "e5f1ea89b26d7233"
   },
   "cell_type": "markdown",
   "source": [
    "### Step 3: Feature Extraction\n",
    "\n",
    "#### Extract Features with Padding/Truncation and Dynamic `n_fft`\n"
   ],
   "id": "e5f1ea89b26d7233"
  },
  {
   "metadata": {
    "colab": {
     "base_uri": "https://localhost:8080/"
    },
    "id": "f6cee836b0ea7c1e",
    "outputId": "87383367-7b34-4990-bb26-41fa4f808783",
    "ExecuteTime": {
     "end_time": "2024-05-30T19:54:45.521990Z",
     "start_time": "2024-05-30T19:54:23.226841Z"
    }
   },
   "cell_type": "code",
   "source": [
    "# Function to extract features with dynamic n_fft\n",
    "def extract_features(segment, sr, max_length):\n",
    "    n_fft = min(2048, max(256, len(segment) // 2))  # Ensure n_fft is not larger than half the segment length and at least 256\n",
    "    if len(segment) < n_fft:\n",
    "        n_fft = len(segment) // 2\n",
    "    #print(f\"Extracting features with n_fft={n_fft} for segment length={len(segment)}\")\n",
    "    hop_length = n_fft // 4  # Typical value for hop_length\n",
    "    mfccs = librosa.feature.mfcc(y=segment, sr=sr, n_mfcc=13, n_fft=n_fft, hop_length=hop_length)\n",
    "    mfccs_flat = mfccs.flatten()\n",
    "    if len(mfccs_flat) < max_length:\n",
    "        # Pad with zeros\n",
    "        padded_mfccs = np.pad(mfccs_flat, (0, max_length - len(mfccs_flat)), mode='constant')\n",
    "        return padded_mfccs\n",
    "    else:\n",
    "        # Truncate to max_length\n",
    "        return mfccs_flat[:max_length]\n",
    "\n",
    "# Determine the maximum length for padding/truncation\n",
    "max_length = 0\n",
    "for _, _, segment, sr in all_segments:\n",
    "    n_fft = min(2048, max(256, len(segment) // 2))\n",
    "    if len(segment) < n_fft:\n",
    "        n_fft = len(segment) // 2\n",
    "    hop_length = n_fft // 4\n",
    "    features = librosa.feature.mfcc(y=segment, sr=sr, n_mfcc=13, n_fft=n_fft, hop_length=hop_length).flatten()\n",
    "    if len(features) > max_length:\n",
    "        max_length = len(features)\n",
    "\n",
    "# Extract features for all segments with padding/truncation\n",
    "feature_data = []\n",
    "for file_name, command, segment, sr in all_segments:\n",
    "    features = extract_features(segment, sr, max_length)\n",
    "    feature_data.append((file_name, command, features))\n",
    "\n",
    "print(f\"Feature extraction completed with max length: {max_length}\")\n"
   ],
   "id": "f6cee836b0ea7c1e",
   "outputs": [
    {
     "name": "stdout",
     "output_type": "stream",
     "text": [
      "Feature extraction completed with max length: 1170\n"
     ]
    }
   ],
   "execution_count": 12
  },
  {
   "metadata": {
    "id": "8d0d8c3c7998e5c1"
   },
   "cell_type": "markdown",
   "source": [
    "### Step 4: Model Training and Evaluation\n",
    "\n",
    "#### Train `GradientBoostingClassifier` with Class Weights and Progress Bar\n"
   ],
   "id": "8d0d8c3c7998e5c1"
  },
  {
   "metadata": {
    "ExecuteTime": {
     "end_time": "2024-05-30T06:39:34.760729Z",
     "start_time": "2024-05-30T06:39:34.717834Z"
    },
    "colab": {
     "base_uri": "https://localhost:8080/"
    },
    "id": "ebea55587b241234",
    "outputId": "9a29bf63-64a2-480e-a78f-11de302d360a"
   },
   "cell_type": "code",
   "source": [
    "from sklearn.model_selection import train_test_split\n",
    "from sklearn.preprocessing import LabelEncoder\n",
    "from sklearn.utils.class_weight import compute_class_weight\n",
    "\n",
    "# Prepare data for training\n",
    "X = np.array([features for _, _, features in feature_data])\n",
    "y = np.array([command for _, command, _ in feature_data])\n",
    "\n",
    "# Encode string labels to numeric labels\n",
    "label_encoder = LabelEncoder()\n",
    "y_encoded = label_encoder.fit_transform(y)\n",
    "\n",
    "# Split data into training and validation sets\n",
    "X_train, X_val, y_train, y_val = train_test_split(X, y_encoded, test_size=0.2, random_state=42)\n",
    "\n",
    "# Compute class weights\n",
    "classes = np.unique(y_train)\n",
    "class_weights = compute_class_weight('balanced', classes=classes, y=y_train)\n",
    "class_weight_dict = {cls: weight for cls, weight in zip(classes, class_weights)}\n",
    "\n",
    "# Print class weights for debugging\n",
    "print(\"Class Weights: \", class_weight_dict)\n",
    "\n",
    "# Create sample weights\n",
    "sample_weights = np.array([class_weight_dict[cls] for cls in y_train])\n",
    "\n",
    "# Print sample weights for debugging\n",
    "print(\"Sample Weights: \", sample_weights)\n"
   ],
   "id": "ebea55587b241234",
   "outputs": [
    {
     "output_type": "stream",
     "name": "stdout",
     "text": [
      "Class Weights:  {0: 0.9740853658536586, 1: 1.065, 2: 0.8729508196721312, 3: 1.298780487804878, 4: 0.9128571428571428, 5: 1.0240384615384615, 6: 0.8192307692307692, 7: 0.7717391304347826, 8: 1.0047169811320755, 9: 1.0579470198675496, 10: 1.0240384615384615, 11: 1.117132867132867, 12: 1.109375, 13: 0.9508928571428571, 14: 1.0721476510067114, 15: 1.2011278195488722}\n",
      "Sample Weights:  [1.00471698 0.77173913 1.065      ... 1.109375   1.05794702 0.97408537]\n"
     ]
    }
   ],
   "execution_count": 15
  },
  {
   "metadata": {
    "ExecuteTime": {
     "end_time": "2024-05-30T06:39:39.523735Z",
     "start_time": "2024-05-30T06:39:39.517730Z"
    },
    "colab": {
     "base_uri": "https://localhost:8080/"
    },
    "id": "da141a180ad4cd17",
    "outputId": "5843be3d-33d4-4ccd-f00f-c4491fd4d5ec"
   },
   "cell_type": "code",
   "source": [
    "# Print class distribution\n",
    "unique, counts = np.unique(y_train, return_counts=True)\n",
    "class_distribution = dict(zip(unique, counts))\n",
    "print(\"Class Distribution: \", class_distribution)\n"
   ],
   "id": "da141a180ad4cd17",
   "outputs": [
    {
     "output_type": "stream",
     "name": "stdout",
     "text": [
      "Class Distribution:  {0: 164, 1: 150, 2: 183, 3: 123, 4: 175, 5: 156, 6: 195, 7: 207, 8: 159, 9: 151, 10: 156, 11: 143, 12: 144, 13: 168, 14: 149, 15: 133}\n"
     ]
    }
   ],
   "execution_count": 16
  },
  {
   "cell_type": "code",
   "source": [
    "# Define a plot function for the confusion matrix\n",
    "import matplotlib.pyplot as plt\n",
    "import seaborn as sns\n",
    "from sklearn.metrics import confusion_matrix\n",
    "\n",
    "def plot_confusion_matrix(y_true, y_pred, labels, title='Confusion Matrix'):\n",
    "    conf_matrix = confusion_matrix(y_true, y_pred, labels=labels)\n",
    "    plt.figure(figsize=(10, 8))\n",
    "    sns.heatmap(conf_matrix, annot=True, fmt='d', cmap='Blues', xticklabels=labels, yticklabels=labels)\n",
    "    plt.title(title)\n",
    "    plt.xlabel('Predicted')\n",
    "    plt.ylabel('True')\n",
    "    plt.show()\n"
   ],
   "metadata": {
    "id": "VFNFDxQGaM3t"
   },
   "id": "VFNFDxQGaM3t",
   "execution_count": 13,
   "outputs": []
  },
  {
   "metadata": {
    "ExecuteTime": {
     "end_time": "2024-05-30T00:12:11.886240Z",
     "start_time": "2024-05-30T00:01:20.406185Z"
    },
    "colab": {
     "base_uri": "https://localhost:8080/",
     "height": 507
    },
    "id": "878ff13809273a3a",
    "outputId": "813f2736-f2ab-465b-c4fc-7c5628d0dad7"
   },
   "cell_type": "code",
   "source": [
    "import xgboost as xgb\n",
    "from sklearn.metrics import classification_report\n",
    "from tqdm import tqdm\n",
    "import subprocess\n",
    "\n",
    "# Check if GPU is available\n",
    "gpu_available = is_gpu_available()\n",
    "\n",
    "# Define the XGBoost classifier with or without GPU support based on availability\n",
    "if gpu_available:\n",
    "    print(\"GPU detected. Training will use GPU.\")\n",
    "    gb = xgb.XGBClassifier(n_estimators=100, random_state=42, tree_method='hist', device='cuda', use_label_encoder=False)\n",
    "else:\n",
    "    print(\"No GPU detected. Training will use CPU.\")\n",
    "    gb = xgb.XGBClassifier(n_estimators=100, random_state=42, tree_method='hist', use_label_encoder=False)\n",
    "\n",
    "# Wrap the training loop with tqdm for the progress bar\n",
    "for i in tqdm(range(1, gb.n_estimators + 1), desc=\"Training Gradient Boosting Classifier\"):\n",
    "    gb.set_params(n_estimators=i)\n",
    "    gb.fit(X_train, y_train, sample_weight=sample_weights, eval_metric='logloss')\n",
    "\n",
    "# Evaluate the classifier\n",
    "y_pred_gb = gb.predict(X_val)\n",
    "print(\"Gradient Boosting Classifier Report\")\n",
    "print(classification_report(y_val, y_pred_gb, zero_division=0))\n"
   ],
   "id": "878ff13809273a3a",
   "outputs": [
    {
     "output_type": "stream",
     "name": "stdout",
     "text": [
      "No GPU detected. Training will use CPU.\n"
     ]
    },
    {
     "output_type": "stream",
     "name": "stderr",
     "text": [
      "\rTraining Gradient Boosting Classifier:   0%|          | 0/100 [00:00<?, ?it/s]/usr/local/lib/python3.10/dist-packages/xgboost/sklearn.py:889: UserWarning: `eval_metric` in `fit` method is deprecated for better compatibility with scikit-learn, use `eval_metric` in constructor or`set_params` instead.\n",
      "  warnings.warn(\n",
      "Training Gradient Boosting Classifier:  21%|██        | 21/100 [15:10<57:06, 43.37s/it]  \n"
     ]
    },
    {
     "output_type": "error",
     "ename": "KeyboardInterrupt",
     "evalue": "",
     "traceback": [
      "\u001B[0;31m---------------------------------------------------------------------------\u001B[0m",
      "\u001B[0;31mKeyboardInterrupt\u001B[0m                         Traceback (most recent call last)",
      "\u001B[0;32m<ipython-input-14-bf7b7bdbbfc8>\u001B[0m in \u001B[0;36m<cell line: 18>\u001B[0;34m()\u001B[0m\n\u001B[1;32m     18\u001B[0m \u001B[0;32mfor\u001B[0m \u001B[0mi\u001B[0m \u001B[0;32min\u001B[0m \u001B[0mtqdm\u001B[0m\u001B[0;34m(\u001B[0m\u001B[0mrange\u001B[0m\u001B[0;34m(\u001B[0m\u001B[0;36m1\u001B[0m\u001B[0;34m,\u001B[0m \u001B[0mgb\u001B[0m\u001B[0;34m.\u001B[0m\u001B[0mn_estimators\u001B[0m \u001B[0;34m+\u001B[0m \u001B[0;36m1\u001B[0m\u001B[0;34m)\u001B[0m\u001B[0;34m,\u001B[0m \u001B[0mdesc\u001B[0m\u001B[0;34m=\u001B[0m\u001B[0;34m\"Training Gradient Boosting Classifier\"\u001B[0m\u001B[0;34m)\u001B[0m\u001B[0;34m:\u001B[0m\u001B[0;34m\u001B[0m\u001B[0;34m\u001B[0m\u001B[0m\n\u001B[1;32m     19\u001B[0m     \u001B[0mgb\u001B[0m\u001B[0;34m.\u001B[0m\u001B[0mset_params\u001B[0m\u001B[0;34m(\u001B[0m\u001B[0mn_estimators\u001B[0m\u001B[0;34m=\u001B[0m\u001B[0mi\u001B[0m\u001B[0;34m)\u001B[0m\u001B[0;34m\u001B[0m\u001B[0;34m\u001B[0m\u001B[0m\n\u001B[0;32m---> 20\u001B[0;31m     \u001B[0mgb\u001B[0m\u001B[0;34m.\u001B[0m\u001B[0mfit\u001B[0m\u001B[0;34m(\u001B[0m\u001B[0mX_train\u001B[0m\u001B[0;34m,\u001B[0m \u001B[0my_train\u001B[0m\u001B[0;34m,\u001B[0m \u001B[0msample_weight\u001B[0m\u001B[0;34m=\u001B[0m\u001B[0msample_weights\u001B[0m\u001B[0;34m,\u001B[0m \u001B[0meval_metric\u001B[0m\u001B[0;34m=\u001B[0m\u001B[0;34m'logloss'\u001B[0m\u001B[0;34m)\u001B[0m\u001B[0;34m\u001B[0m\u001B[0;34m\u001B[0m\u001B[0m\n\u001B[0m\u001B[1;32m     21\u001B[0m \u001B[0;34m\u001B[0m\u001B[0m\n\u001B[1;32m     22\u001B[0m \u001B[0;31m# Evaluate the classifier\u001B[0m\u001B[0;34m\u001B[0m\u001B[0;34m\u001B[0m\u001B[0m\n",
      "\u001B[0;32m/usr/local/lib/python3.10/dist-packages/xgboost/core.py\u001B[0m in \u001B[0;36minner_f\u001B[0;34m(*args, **kwargs)\u001B[0m\n\u001B[1;32m    728\u001B[0m             \u001B[0;32mfor\u001B[0m \u001B[0mk\u001B[0m\u001B[0;34m,\u001B[0m \u001B[0marg\u001B[0m \u001B[0;32min\u001B[0m \u001B[0mzip\u001B[0m\u001B[0;34m(\u001B[0m\u001B[0msig\u001B[0m\u001B[0;34m.\u001B[0m\u001B[0mparameters\u001B[0m\u001B[0;34m,\u001B[0m \u001B[0margs\u001B[0m\u001B[0;34m)\u001B[0m\u001B[0;34m:\u001B[0m\u001B[0;34m\u001B[0m\u001B[0;34m\u001B[0m\u001B[0m\n\u001B[1;32m    729\u001B[0m                 \u001B[0mkwargs\u001B[0m\u001B[0;34m[\u001B[0m\u001B[0mk\u001B[0m\u001B[0;34m]\u001B[0m \u001B[0;34m=\u001B[0m \u001B[0marg\u001B[0m\u001B[0;34m\u001B[0m\u001B[0;34m\u001B[0m\u001B[0m\n\u001B[0;32m--> 730\u001B[0;31m             \u001B[0;32mreturn\u001B[0m \u001B[0mfunc\u001B[0m\u001B[0;34m(\u001B[0m\u001B[0;34m**\u001B[0m\u001B[0mkwargs\u001B[0m\u001B[0;34m)\u001B[0m\u001B[0;34m\u001B[0m\u001B[0;34m\u001B[0m\u001B[0m\n\u001B[0m\u001B[1;32m    731\u001B[0m \u001B[0;34m\u001B[0m\u001B[0m\n\u001B[1;32m    732\u001B[0m         \u001B[0;32mreturn\u001B[0m \u001B[0minner_f\u001B[0m\u001B[0;34m\u001B[0m\u001B[0;34m\u001B[0m\u001B[0m\n",
      "\u001B[0;32m/usr/local/lib/python3.10/dist-packages/xgboost/sklearn.py\u001B[0m in \u001B[0;36mfit\u001B[0;34m(self, X, y, sample_weight, base_margin, eval_set, eval_metric, early_stopping_rounds, verbose, xgb_model, sample_weight_eval_set, base_margin_eval_set, feature_weights, callbacks)\u001B[0m\n\u001B[1;32m   1517\u001B[0m             )\n\u001B[1;32m   1518\u001B[0m \u001B[0;34m\u001B[0m\u001B[0m\n\u001B[0;32m-> 1519\u001B[0;31m             self._Booster = train(\n\u001B[0m\u001B[1;32m   1520\u001B[0m                 \u001B[0mparams\u001B[0m\u001B[0;34m,\u001B[0m\u001B[0;34m\u001B[0m\u001B[0;34m\u001B[0m\u001B[0m\n\u001B[1;32m   1521\u001B[0m                 \u001B[0mtrain_dmatrix\u001B[0m\u001B[0;34m,\u001B[0m\u001B[0;34m\u001B[0m\u001B[0;34m\u001B[0m\u001B[0m\n",
      "\u001B[0;32m/usr/local/lib/python3.10/dist-packages/xgboost/core.py\u001B[0m in \u001B[0;36minner_f\u001B[0;34m(*args, **kwargs)\u001B[0m\n\u001B[1;32m    728\u001B[0m             \u001B[0;32mfor\u001B[0m \u001B[0mk\u001B[0m\u001B[0;34m,\u001B[0m \u001B[0marg\u001B[0m \u001B[0;32min\u001B[0m \u001B[0mzip\u001B[0m\u001B[0;34m(\u001B[0m\u001B[0msig\u001B[0m\u001B[0;34m.\u001B[0m\u001B[0mparameters\u001B[0m\u001B[0;34m,\u001B[0m \u001B[0margs\u001B[0m\u001B[0;34m)\u001B[0m\u001B[0;34m:\u001B[0m\u001B[0;34m\u001B[0m\u001B[0;34m\u001B[0m\u001B[0m\n\u001B[1;32m    729\u001B[0m                 \u001B[0mkwargs\u001B[0m\u001B[0;34m[\u001B[0m\u001B[0mk\u001B[0m\u001B[0;34m]\u001B[0m \u001B[0;34m=\u001B[0m \u001B[0marg\u001B[0m\u001B[0;34m\u001B[0m\u001B[0;34m\u001B[0m\u001B[0m\n\u001B[0;32m--> 730\u001B[0;31m             \u001B[0;32mreturn\u001B[0m \u001B[0mfunc\u001B[0m\u001B[0;34m(\u001B[0m\u001B[0;34m**\u001B[0m\u001B[0mkwargs\u001B[0m\u001B[0;34m)\u001B[0m\u001B[0;34m\u001B[0m\u001B[0;34m\u001B[0m\u001B[0m\n\u001B[0m\u001B[1;32m    731\u001B[0m \u001B[0;34m\u001B[0m\u001B[0m\n\u001B[1;32m    732\u001B[0m         \u001B[0;32mreturn\u001B[0m \u001B[0minner_f\u001B[0m\u001B[0;34m\u001B[0m\u001B[0;34m\u001B[0m\u001B[0m\n",
      "\u001B[0;32m/usr/local/lib/python3.10/dist-packages/xgboost/training.py\u001B[0m in \u001B[0;36mtrain\u001B[0;34m(params, dtrain, num_boost_round, evals, obj, feval, maximize, early_stopping_rounds, evals_result, verbose_eval, xgb_model, callbacks, custom_metric)\u001B[0m\n\u001B[1;32m    179\u001B[0m         \u001B[0;32mif\u001B[0m \u001B[0mcb_container\u001B[0m\u001B[0;34m.\u001B[0m\u001B[0mbefore_iteration\u001B[0m\u001B[0;34m(\u001B[0m\u001B[0mbst\u001B[0m\u001B[0;34m,\u001B[0m \u001B[0mi\u001B[0m\u001B[0;34m,\u001B[0m \u001B[0mdtrain\u001B[0m\u001B[0;34m,\u001B[0m \u001B[0mevals\u001B[0m\u001B[0;34m)\u001B[0m\u001B[0;34m:\u001B[0m\u001B[0;34m\u001B[0m\u001B[0;34m\u001B[0m\u001B[0m\n\u001B[1;32m    180\u001B[0m             \u001B[0;32mbreak\u001B[0m\u001B[0;34m\u001B[0m\u001B[0;34m\u001B[0m\u001B[0m\n\u001B[0;32m--> 181\u001B[0;31m         \u001B[0mbst\u001B[0m\u001B[0;34m.\u001B[0m\u001B[0mupdate\u001B[0m\u001B[0;34m(\u001B[0m\u001B[0mdtrain\u001B[0m\u001B[0;34m,\u001B[0m \u001B[0mi\u001B[0m\u001B[0;34m,\u001B[0m \u001B[0mobj\u001B[0m\u001B[0;34m)\u001B[0m\u001B[0;34m\u001B[0m\u001B[0;34m\u001B[0m\u001B[0m\n\u001B[0m\u001B[1;32m    182\u001B[0m         \u001B[0;32mif\u001B[0m \u001B[0mcb_container\u001B[0m\u001B[0;34m.\u001B[0m\u001B[0mafter_iteration\u001B[0m\u001B[0;34m(\u001B[0m\u001B[0mbst\u001B[0m\u001B[0;34m,\u001B[0m \u001B[0mi\u001B[0m\u001B[0;34m,\u001B[0m \u001B[0mdtrain\u001B[0m\u001B[0;34m,\u001B[0m \u001B[0mevals\u001B[0m\u001B[0;34m)\u001B[0m\u001B[0;34m:\u001B[0m\u001B[0;34m\u001B[0m\u001B[0;34m\u001B[0m\u001B[0m\n\u001B[1;32m    183\u001B[0m             \u001B[0;32mbreak\u001B[0m\u001B[0;34m\u001B[0m\u001B[0;34m\u001B[0m\u001B[0m\n",
      "\u001B[0;32m/usr/local/lib/python3.10/dist-packages/xgboost/core.py\u001B[0m in \u001B[0;36mupdate\u001B[0;34m(self, dtrain, iteration, fobj)\u001B[0m\n\u001B[1;32m   2049\u001B[0m         \u001B[0;32mif\u001B[0m \u001B[0mfobj\u001B[0m \u001B[0;32mis\u001B[0m \u001B[0;32mNone\u001B[0m\u001B[0;34m:\u001B[0m\u001B[0;34m\u001B[0m\u001B[0;34m\u001B[0m\u001B[0m\n\u001B[1;32m   2050\u001B[0m             _check_call(\n\u001B[0;32m-> 2051\u001B[0;31m                 _LIB.XGBoosterUpdateOneIter(\n\u001B[0m\u001B[1;32m   2052\u001B[0m                     \u001B[0mself\u001B[0m\u001B[0;34m.\u001B[0m\u001B[0mhandle\u001B[0m\u001B[0;34m,\u001B[0m \u001B[0mctypes\u001B[0m\u001B[0;34m.\u001B[0m\u001B[0mc_int\u001B[0m\u001B[0;34m(\u001B[0m\u001B[0miteration\u001B[0m\u001B[0;34m)\u001B[0m\u001B[0;34m,\u001B[0m \u001B[0mdtrain\u001B[0m\u001B[0;34m.\u001B[0m\u001B[0mhandle\u001B[0m\u001B[0;34m\u001B[0m\u001B[0;34m\u001B[0m\u001B[0m\n\u001B[1;32m   2053\u001B[0m                 )\n",
      "\u001B[0;31mKeyboardInterrupt\u001B[0m: "
     ]
    }
   ],
   "execution_count": 14
  },
  {
   "metadata": {
    "id": "bbadf8e40408ef31"
   },
   "cell_type": "markdown",
   "source": [
    "#### Train `RandomForestClassifier` with Class Weights\n"
   ],
   "id": "bbadf8e40408ef31"
  },
  {
   "metadata": {
    "ExecuteTime": {
     "end_time": "2024-05-30T06:39:53.490921Z",
     "start_time": "2024-05-30T06:39:49.127954Z"
    },
    "colab": {
     "base_uri": "https://localhost:8080/",
     "height": 392
    },
    "id": "d43d11df56a0e22f",
    "outputId": "971e161d-e8db-405e-a86a-e1b6bcd5f6ac"
   },
   "cell_type": "code",
   "source": [
    "# Train a Random Forest classifier with class weights\n",
    "#from cuml.ensemble import RandomForestClassifier as cuRF\n",
    "from sklearn.ensemble import RandomForestClassifier as skRF\n",
    "from sklearn.metrics import classification_report\n",
    "\n",
    "# RandomForest Classifier with GPU check\n",
    "if gpu_available:\n",
    "#    print(\"GPU detected. Training Random Forest Classifier will use GPU.\")\n",
    "#    rf = cuRF(n_estimators=100, random_state=42)\n",
    "#    rf.fit(X_train, y_train)\n",
    "    print(\"No cuML detected. Training Random Forest Classifier will use CPU.\")\n",
    "    rf = skRF(n_estimators=100, random_state=42, class_weight=class_weight_dict)\n",
    "    rf.fit(X_train, y_train)\n",
    "else:\n",
    "    print(\"No GPU detected. Training Random Forest Classifier will use CPU.\")\n",
    "    rf = skRF(n_estimators=100, random_state=42, class_weight=class_weight_dict)\n",
    "    rf.fit(X_train, y_train)\n",
    "\n",
    "# Evaluate Random Forest Classifier\n",
    "y_pred_rf = rf.predict(X_val)\n",
    "if gpu_available:\n",
    "    y_pred_rf = np.array(y_pred_rf)  # Ensure compatibility with scikit-learn metrics\n",
    "print(\"Random Forest Classifier Report\")\n",
    "print(classification_report(y_val, y_pred_rf, zero_division=0))"
   ],
   "id": "d43d11df56a0e22f",
   "outputs": [
    {
     "output_type": "error",
     "ename": "ModuleNotFoundError",
     "evalue": "No module named 'cuml'",
     "traceback": [
      "\u001B[0;31m---------------------------------------------------------------------------\u001B[0m",
      "\u001B[0;31mModuleNotFoundError\u001B[0m                       Traceback (most recent call last)",
      "\u001B[0;32m<ipython-input-3-87e76ad4f220>\u001B[0m in \u001B[0;36m<cell line: 2>\u001B[0;34m()\u001B[0m\n\u001B[1;32m      1\u001B[0m \u001B[0;31m# Train a Random Forest classifier with class weights\u001B[0m\u001B[0;34m\u001B[0m\u001B[0;34m\u001B[0m\u001B[0m\n\u001B[0;32m----> 2\u001B[0;31m \u001B[0;32mfrom\u001B[0m \u001B[0mcuml\u001B[0m\u001B[0;34m.\u001B[0m\u001B[0mensemble\u001B[0m \u001B[0;32mimport\u001B[0m \u001B[0mRandomForestClassifier\u001B[0m \u001B[0;32mas\u001B[0m \u001B[0mcuRF\u001B[0m\u001B[0;34m\u001B[0m\u001B[0;34m\u001B[0m\u001B[0m\n\u001B[0m\u001B[1;32m      3\u001B[0m \u001B[0;32mfrom\u001B[0m \u001B[0msklearn\u001B[0m\u001B[0;34m.\u001B[0m\u001B[0mensemble\u001B[0m \u001B[0;32mimport\u001B[0m \u001B[0mRandomForestClassifier\u001B[0m \u001B[0;32mas\u001B[0m \u001B[0mskRF\u001B[0m\u001B[0;34m\u001B[0m\u001B[0;34m\u001B[0m\u001B[0m\n\u001B[1;32m      4\u001B[0m \u001B[0;32mfrom\u001B[0m \u001B[0msklearn\u001B[0m\u001B[0;34m.\u001B[0m\u001B[0mmetrics\u001B[0m \u001B[0;32mimport\u001B[0m \u001B[0mclassification_report\u001B[0m\u001B[0;34m\u001B[0m\u001B[0;34m\u001B[0m\u001B[0m\n\u001B[1;32m      5\u001B[0m \u001B[0;34m\u001B[0m\u001B[0m\n",
      "\u001B[0;31mModuleNotFoundError\u001B[0m: No module named 'cuml'",
      "",
      "\u001B[0;31m---------------------------------------------------------------------------\u001B[0;32m\nNOTE: If your import is failing due to a missing package, you can\nmanually install dependencies using either !pip or !apt.\n\nTo view examples of installing some common dependencies, click the\n\"Open Examples\" button below.\n\u001B[0;31m---------------------------------------------------------------------------\u001B[0m\n"
     ],
     "errorDetails": {
      "actions": [
       {
        "action": "open_url",
        "actionText": "Open Examples",
        "url": "/notebooks/snippets/importing_libraries.ipynb"
       }
      ]
     }
    }
   ],
   "execution_count": null
  },
  {
   "metadata": {
    "id": "b1cb61e452c99e5"
   },
   "cell_type": "markdown",
   "source": [
    "### Step 5: Ensemble Classifiers\n"
   ],
   "id": "b1cb61e452c99e5"
  },
  {
   "metadata": {
    "ExecuteTime": {
     "end_time": "2024-05-30T00:13:10.081386Z",
     "start_time": "2024-05-30T00:12:15.805555Z"
    },
    "id": "523074258f74bd26"
   },
   "cell_type": "code",
   "source": [
    "from sklearn.ensemble import VotingClassifier\n",
    "\n",
    "# Combine Random Forest and Gradient Boosting\n",
    "ensemble = VotingClassifier(estimators=[('rf', rf), ('gb', gb)], voting='soft')\n",
    "ensemble.fit(X_train, y_train)\n",
    "\n",
    "# Evaluate the ensemble classifier\n",
    "y_pred_ensemble = ensemble.predict(X_val)\n",
    "print(\"Ensemble Classifier Report\")\n",
    "print(classification_report(y_val, y_pred_ensemble, zero_division=0))\n",
    "\n",
    "# Plot confusion matrix\n",
    "abels = np.unique(y_val)\n",
    "plot_confusion_matrix(y_val, y_pred_ensemble, labels, title='Confusion Matrix - Ensemble')\n"
   ],
   "id": "523074258f74bd26",
   "outputs": [],
   "execution_count": null
  },
  {
   "metadata": {
    "id": "c960da4eaf930b4"
   },
   "cell_type": "markdown",
   "source": [
    "### Summary\n",
    "\n",
    "We've consolidated the process into five clear steps:\n",
    "\n",
    "1. **Data Preprocessing**: Load metadata and preprocess audio files with ICA.\n",
    "2. **Data Augmentation**: Apply time-shifting and time-stretching to augment the audio data.\n",
    "3. **Feature Extraction**: Extract MFCC features with appropriate padding/truncation and dynamic `n_fft`.\n",
    "4. **Model Training and Evaluation**: Train `GradientBoostingClassifier` and `RandomForestClassifier`, handle class weights, and evaluate their performance.\n",
    "5. **Ensemble Classifiers**: Combine predictions from multiple models to improve robustness.\n",
    "\n",
    "Let's proceed with running these steps sequentially to ensure there are no errors, warnings, or obstacles. If you encounter any issues or need further adjustments, please let me know!"
   ],
   "id": "c960da4eaf930b4"
  },
  {
   "metadata": {
    "id": "88fbb72d1c1b621f"
   },
   "cell_type": "markdown",
   "source": [
    "### Alternative ensembling method: Stacking"
   ],
   "id": "88fbb72d1c1b621f"
  },
  {
   "metadata": {
    "ExecuteTime": {
     "end_time": "2024-05-30T00:13:10.084324Z",
     "start_time": "2024-05-30T00:13:10.084193Z"
    },
    "id": "becf965d82c84527"
   },
   "cell_type": "code",
   "source": [
    "from sklearn.ensemble import StackingClassifier\n",
    "from sklearn.linear_model import LogisticRegression\n",
    "\n",
    "# Define base classifiers\n",
    "estimators = [\n",
    "    ('rf', RandomForestClassifier(n_estimators=100, random_state=42, class_weight=class_weight_dict)),\n",
    "    ('gb', GradientBoostingClassifier(n_estimators=100, random_state=42))\n",
    "]\n",
    "\n",
    "# Define stacking classifier\n",
    "stacking_clf = StackingClassifier(estimators=estimators, final_estimator=LogisticRegression())\n",
    "stacking_clf.fit(X_train, y_train)\n",
    "\n",
    "# Make predictions\n",
    "y_pred_stacking = stacking_clf.predict(X_val)\n",
    "\n",
    "# Evaluate the stacking classifier\n",
    "print(\"Stacking Classifier Report\")\n",
    "print(classification_report(y_val, y_pred_stacking, zero_division=0))\n"
   ],
   "id": "becf965d82c84527",
   "outputs": [],
   "execution_count": null
  },
  {
   "metadata": {
    "id": "8a3d14eadebf565d"
   },
   "cell_type": "code",
   "source": [
    "class_weight_dict"
   ],
   "id": "8a3d14eadebf565d",
   "outputs": [],
   "execution_count": null
  },
  {
   "metadata": {
    "id": "13bef382653009d5"
   },
   "cell_type": "markdown",
   "source": [
    "### Step-by-Step Guide to Adding a CNN Classifier\n",
    "\n",
    "1. **Define the CNN Architecture**: We'll use Keras with TensorFlow backend to define the CNN.\n",
    "2. **Prepare Data for CNN**: Ensure the data is in the right shape and format for the CNN.\n",
    "3. **Train the CNN**: Train the CNN on the training data.\n",
    "4. **Evaluate the CNN**: Evaluate its performance on the validation data.\n",
    "5. **Compare with Other Classifiers**: Compare the CNN's performance with the Gradient Boosting and Random Forest classifiers.\n",
    "\n",
    "### Step 1: Define the CNN Architecture\n",
    "\n",
    "We'll use a simple CNN architecture for this example.\n"
   ],
   "id": "13bef382653009d5"
  },
  {
   "metadata": {
    "ExecuteTime": {
     "end_time": "2024-05-30T06:40:15.274238Z",
     "start_time": "2024-05-30T06:40:15.265949Z"
    },
    "id": "89338c6d77a1ece4"
   },
   "cell_type": "code",
   "source": [
    "import tensorflow as tf\n",
    "from tensorflow.keras.models import Sequential\n",
    "from tensorflow.keras.layers import Conv2D, MaxPooling2D, Flatten, Dense\n",
    "from tensorflow.keras.utils import to_categorical\n",
    "\n",
    "# Define the CNN model\n",
    "def create_cnn_model(input_shape, num_classes):\n",
    "    model = Sequential([\n",
    "        Conv2D(32, kernel_size=(3, 3), activation='relu', input_shape=input_shape),\n",
    "        MaxPooling2D(pool_size=(2, 2)),\n",
    "        Conv2D(64, kernel_size=(3, 3), activation='relu'),\n",
    "        MaxPooling2D(pool_size=(2, 2)),\n",
    "        Flatten(),\n",
    "        Dense(128, activation='relu'),\n",
    "        Dense(num_classes, activation='softmax')\n",
    "    ])\n",
    "    model.compile(optimizer='adam', loss='categorical_crossentropy', metrics=['accuracy'])\n",
    "    return model\n"
   ],
   "id": "89338c6d77a1ece4",
   "outputs": [],
   "execution_count": null
  },
  {
   "metadata": {
    "id": "f45ac65a6cbbd65b"
   },
   "cell_type": "markdown",
   "source": [
    "### Step 2: Prepare Data for CNN\n",
    "\n",
    "Ensure the data is reshaped and formatted correctly for the CNN.\n"
   ],
   "id": "f45ac65a6cbbd65b"
  },
  {
   "metadata": {
    "ExecuteTime": {
     "end_time": "2024-05-30T06:40:18.465827Z",
     "start_time": "2024-05-30T06:40:18.400251Z"
    },
    "id": "8b54ec5b1768ed35"
   },
   "cell_type": "code",
   "source": [
    "import math\n",
    "\n",
    "# Convert the feature data to a numpy array\n",
    "X_cnn = np.array([features for _, _, features in feature_data])\n",
    "y_cnn = np.array([command for _, command, _ in feature_data])\n",
    "\n",
    "# Encode string labels to numeric labels\n",
    "y_cnn_encoded = label_encoder.transform(y_cnn)\n",
    "\n",
    "# Convert labels to categorical\n",
    "y_cnn_categorical = to_categorical(y_cnn_encoded)\n",
    "\n",
    "# Determine input shape for CNN\n",
    "num_features = X_cnn.shape[1]\n",
    "# Calculate the dimensions (height and width) such that height * width = num_features\n",
    "# Here, we aim for the closest possible square dimensions\n",
    "height = int(math.sqrt(num_features))\n",
    "width = height\n",
    "if height * width < num_features:\n",
    "    width += 1\n",
    "\n",
    "# Adjust the number of features to match the closest square dimensions\n",
    "num_adjusted_features = height * width\n",
    "X_cnn_adjusted = np.zeros((X_cnn.shape[0], num_adjusted_features))\n",
    "X_cnn_adjusted[:, :num_features] = X_cnn\n",
    "\n",
    "# Reshape to (num_samples, height, width, 1)\n",
    "X_cnn_reshaped = X_cnn_adjusted.reshape(-1, height, width, 1)\n",
    "\n",
    "# Split data into training and validation sets\n",
    "X_train_cnn, X_val_cnn, y_train_cnn, y_val_cnn = train_test_split(X_cnn_reshaped, y_cnn_categorical, test_size=0.2, random_state=42)\n",
    "\n",
    "# Print shapes for debugging\n",
    "print(f\"X_cnn shape: {X_cnn.shape}\")\n",
    "print(f\"X_cnn_adjusted shape: {X_cnn_adjusted.shape}\")\n",
    "print(f\"X_cnn_reshaped shape: {X_cnn_reshaped.shape}\")\n",
    "print(f\"X_train_cnn shape: {X_train_cnn.shape}\")\n",
    "print(f\"X_val_cnn shape: {X_val_cnn.shape}\")\n"
   ],
   "id": "8b54ec5b1768ed35",
   "outputs": [],
   "execution_count": null
  },
  {
   "metadata": {
    "id": "e62bdb52806c5bb5"
   },
   "cell_type": "markdown",
   "source": [
    "### Step 3: Train the CNN\n"
   ],
   "id": "e62bdb52806c5bb5"
  },
  {
   "metadata": {
    "ExecuteTime": {
     "end_time": "2024-05-30T06:40:36.668037Z",
     "start_time": "2024-05-30T06:40:21.304415Z"
    },
    "id": "552a7c90d6611968"
   },
   "cell_type": "code",
   "source": [
    "# Create the CNN model\n",
    "input_shape = (height, width, 1)\n",
    "num_classes = len(np.unique(y_train_cnn.argmax(axis=1)))\n",
    "cnn_model = create_cnn_model(input_shape, num_classes)\n",
    "\n",
    "# Train the CNN model\n",
    "cnn_model.fit(X_train_cnn, y_train_cnn, epochs=10, batch_size=32, validation_data=(X_val_cnn, y_val_cnn))\n"
   ],
   "id": "552a7c90d6611968",
   "outputs": [],
   "execution_count": null
  },
  {
   "metadata": {
    "id": "66ff4ff67ab76137"
   },
   "cell_type": "markdown",
   "source": [
    "### Step 4: Evaluate the CNN\n"
   ],
   "id": "66ff4ff67ab76137"
  },
  {
   "metadata": {
    "ExecuteTime": {
     "end_time": "2024-05-30T06:40:44.476763Z",
     "start_time": "2024-05-30T06:40:43.047078Z"
    },
    "id": "97de3b44a664c650"
   },
   "cell_type": "code",
   "source": [
    "# Evaluate the CNN model\n",
    "cnn_eval = cnn_model.evaluate(X_val_cnn, y_val_cnn)\n",
    "print(f\"CNN Model Accuracy: {cnn_eval[1]}\")\n",
    "\n",
    "# Make predictions\n",
    "y_pred_cnn = cnn_model.predict(X_val_cnn)\n",
    "y_pred_cnn_classes = np.argmax(y_pred_cnn, axis=1)\n",
    "y_val_cnn_classes = np.argmax(y_val_cnn, axis=1)\n",
    "\n",
    "# Print classification report\n",
    "print(\"CNN Classifier Report\")\n",
    "print(classification_report(y_val_cnn_classes, y_pred_cnn_classes, zero_division=0))\n",
    "\n",
    "# Plot confusion matrix for CNN\n",
    "labels = np.unique(y_val_cnn_classes)\n",
    "plot_confusion_matrix(y_val_cnn_classes, y_pred_cnn_classes, labels, title='Confusion Matrix - CNN')\n"
   ],
   "id": "97de3b44a664c650",
   "outputs": [],
   "execution_count": null
  },
  {
   "metadata": {
    "id": "201b0e7bad982739"
   },
   "cell_type": "markdown",
   "source": [
    "### Step 5: Compare with Other Classifiers\n",
    "\n",
    "You already have the evaluation metrics for the Gradient Boosting and Random Forest classifiers. Now you can compare the performance of the CNN with these classifiers.\n",
    "\n",
    "### Summary\n",
    "\n",
    "1. **Define CNN Architecture**: Use Keras to define a simple CNN.\n",
    "2. **Prepare Data**: Reshape the feature data and convert labels to categorical format.\n",
    "3. **Train CNN**: Train the CNN model on the training data.\n",
    "4. **Evaluate CNN**: Evaluate the CNN's performance and compare it with other classifiers.\n",
    "\n",
    "Run the above code step-by-step and compare the results. Let me know if you encounter any issues or need further adjustments!"
   ],
   "id": "201b0e7bad982739"
  },
  {
   "metadata": {
    "id": "e6601a726381e609"
   },
   "cell_type": "markdown",
   "source": [],
   "id": "e6601a726381e609"
  },
  {
   "metadata": {
    "ExecuteTime": {
     "end_time": "2024-05-30T06:42:26.519332Z",
     "start_time": "2024-05-30T06:42:26.224622Z"
    },
    "id": "f125ad59301768a4"
   },
   "cell_type": "code",
   "source": [
    "from collections import Counter\n",
    "\n",
    "# Check class distribution in the training set\n",
    "y_train_labels = label_encoder.inverse_transform(y_train)\n",
    "class_distribution = Counter(y_train_labels)\n",
    "print(\"Class Distribution in Training Set:\", class_distribution)\n",
    "\n",
    "# Visualize class distribution\n",
    "import matplotlib.pyplot as plt\n",
    "\n",
    "plt.bar(class_distribution.keys(), class_distribution.values())\n",
    "plt.xlabel('Class')\n",
    "plt.ylabel('Frequency')\n",
    "plt.title('Class Distribution in Training Set')\n",
    "plt.xticks(rotation=90)\n",
    "plt.show()\n"
   ],
   "id": "f125ad59301768a4",
   "outputs": [],
   "execution_count": null
  },
  {
   "metadata": {
    "id": "f89530d54cf7a69b"
   },
   "cell_type": "markdown",
   "source": [
    "## Using Spectrograms and CNN\n",
    "\n",
    "1. **Preprocess Audio Data into Spectrograms**: Convert each audio segment into a Mel spectrogram.\n",
    "2. **Prepare Data for CNN**: Ensure the spectrograms are reshaped and formatted correctly for the CNN.\n",
    "3. **Define a More Complex CNN**: Use a more complex CNN architecture to handle the spectrogram data.\n",
    "4. **Train and Evaluate the CNN**: Train the CNN on the training data and evaluate its performance.\n",
    "\n",
    "### Step 1: Preprocess Audio Data into Spectrograms\n"
   ],
   "id": "f89530d54cf7a69b"
  },
  {
   "metadata": {
    "ExecuteTime": {
     "end_time": "2024-05-30T06:45:14.492688Z",
     "start_time": "2024-05-30T06:45:01.304745Z"
    },
    "id": "bbc104a8ee92d462"
   },
   "cell_type": "code",
   "source": [
    "import librosa\n",
    "import numpy as np\n",
    "\n",
    "# Function to extract spectrogram features\n",
    "def extract_spectrogram(segment, sr, n_mels=128, fmax=8000):\n",
    "    spectrogram = librosa.feature.melspectrogram(y=segment, sr=sr, n_mels=n_mels, fmax=fmax)\n",
    "    spectrogram_db = librosa.power_to_db(spectrogram, ref=np.max)\n",
    "    return spectrogram_db\n",
    "\n",
    "# Apply the spectrogram extraction to all segments\n",
    "spectrogram_data = []\n",
    "for file_name, command, segment, sr in all_segments:\n",
    "    spectrogram = extract_spectrogram(segment, sr)\n",
    "    spectrogram_data.append((file_name, command, spectrogram))\n",
    "\n",
    "# Determine the maximum shape for padding\n",
    "max_shape = max([s.shape for _, _, s in spectrogram_data], key=lambda x: x[1])\n",
    "print(f\"Maximum spectrogram shape: {max_shape}\")\n"
   ],
   "id": "bbc104a8ee92d462",
   "outputs": [],
   "execution_count": null
  },
  {
   "metadata": {
    "id": "b8828d80697d8aa6"
   },
   "cell_type": "markdown",
   "source": [
    "### Step 2: Prepare Data for CNN\n"
   ],
   "id": "b8828d80697d8aa6"
  },
  {
   "metadata": {
    "ExecuteTime": {
     "end_time": "2024-05-30T06:45:15.058027Z",
     "start_time": "2024-05-30T06:45:14.495021Z"
    },
    "id": "a6d97c703fb4b6c4"
   },
   "cell_type": "code",
   "source": [
    "# Pad spectrograms to have the same shape\n",
    "padded_spectrograms = []\n",
    "for file_name, command, spectrogram in spectrogram_data:\n",
    "    pad_width = max_shape[1] - spectrogram.shape[1]\n",
    "    padded_spectrogram = np.pad(spectrogram, ((0, 0), (0, pad_width)), mode='constant')\n",
    "    padded_spectrograms.append((file_name, command, padded_spectrogram))\n",
    "\n",
    "# Convert to numpy arrays and reshape\n",
    "X_spectrogram = np.array([s for _, _, s in padded_spectrograms])\n",
    "X_spectrogram = X_spectrogram[..., np.newaxis]  # Add channel dimension\n",
    "y_spectrogram = np.array([command for _, command, _ in padded_spectrograms])\n",
    "\n",
    "# Encode string labels to numeric labels\n",
    "y_encoded = label_encoder.transform(y_spectrogram)\n",
    "y_categorical = to_categorical(y_encoded)\n",
    "\n",
    "# Split data into training and validation sets\n",
    "X_train, X_val, y_train, y_val = train_test_split(X_spectrogram, y_categorical, test_size=0.2, random_state=42)\n",
    "\n",
    "# Print shapes for debugging\n",
    "print(f\"X_train shape: {X_train.shape}\")\n",
    "print(f\"X_val shape: {X_val.shape}\")\n",
    "print(f\"y_train shape: {y_train.shape}\")\n",
    "print(f\"y_val shape: {y_val.shape}\")\n"
   ],
   "id": "a6d97c703fb4b6c4",
   "outputs": [],
   "execution_count": null
  },
  {
   "metadata": {
    "id": "57837854975c594f"
   },
   "cell_type": "markdown",
   "source": [
    "### Step 3: Define a More Complex CNN\n"
   ],
   "id": "57837854975c594f"
  },
  {
   "metadata": {
    "ExecuteTime": {
     "end_time": "2024-05-30T06:45:21.029769Z",
     "start_time": "2024-05-30T06:45:20.957345Z"
    },
    "id": "b0f2f73ffb9956b7"
   },
   "cell_type": "code",
   "source": [
    "from tensorflow.keras.models import Sequential\n",
    "from tensorflow.keras.layers import Conv2D, MaxPooling2D, Flatten, Dense, Dropout\n",
    "\n",
    "# Define a more complex CNN model\n",
    "def create_complex_cnn_model(input_shape, num_classes):\n",
    "    model = Sequential([\n",
    "        Conv2D(32, kernel_size=(3, 3), activation='relu', input_shape=input_shape),\n",
    "        MaxPooling2D(pool_size=(2, 2)),\n",
    "        Dropout(0.25),\n",
    "        Conv2D(64, kernel_size=(3, 3), activation='relu'),\n",
    "        MaxPooling2D(pool_size=(2, 2)),\n",
    "        Dropout(0.25),\n",
    "        Conv2D(128, kernel_size=(3, 3), activation='relu'),\n",
    "        MaxPooling2D(pool_size=(2, 2)),\n",
    "        Flatten(),\n",
    "        Dense(256, activation='relu'),\n",
    "        Dropout(0.5),\n",
    "        Dense(num_classes, activation='softmax')\n",
    "    ])\n",
    "    model.compile(optimizer='adam', loss='categorical_crossentropy', metrics=['accuracy'])\n",
    "    return model\n",
    "\n",
    "# Create and train the complex CNN model\n",
    "input_shape = (X_train.shape[1], X_train.shape[2], X_train.shape[3])\n",
    "num_classes = y_train.shape[1]\n",
    "complex_cnn_model = create_complex_cnn_model(input_shape, num_classes)\n"
   ],
   "id": "b0f2f73ffb9956b7",
   "outputs": [],
   "execution_count": null
  },
  {
   "metadata": {
    "id": "463fef3e4c38ccdb"
   },
   "cell_type": "markdown",
   "source": [
    "### Step 4: Train and Evaluate the CNN\n"
   ],
   "id": "463fef3e4c38ccdb"
  },
  {
   "metadata": {
    "jupyter": {
     "is_executing": true
    },
    "ExecuteTime": {
     "start_time": "2024-05-30T06:45:25.232219Z"
    },
    "id": "24ac6f90c89fced1"
   },
   "cell_type": "code",
   "source": [
    "# Train the complex CNN model\n",
    "complex_cnn_model.fit(X_train, y_train, epochs=20, batch_size=32, validation_data=(X_val, y_val))\n",
    "\n",
    "# Evaluate the CNN model\n",
    "cnn_eval = complex_cnn_model.evaluate(X_val, y_val)\n",
    "print(f\"CNN Model Accuracy: {cnn_eval[1]}\")\n",
    "\n",
    "# Make predictions\n",
    "y_pred_cnn = complex_cnn_model.predict(X_val)\n",
    "y_pred_cnn_classes = np.argmax(y_pred_cnn, axis=1)\n",
    "y_val_classes = np.argmax(y_val, axis=1)\n",
    "\n",
    "# Print classification report\n",
    "print(\"CNN Classifier Report\")\n",
    "print(classification_report(y_val_classes, y_pred_cnn_classes, zero_division=0))\n",
    "\n",
    "# Plot confusion matrix for CNN\n",
    "plot_confusion_matrix(y_val_classes, y_pred_cnn_classes, labels, title='Confusion Matrix - CNN')\n"
   ],
   "id": "24ac6f90c89fced1",
   "outputs": [],
   "execution_count": null
  },
  {
   "metadata": {
    "id": "ed5251e29cef6c7f"
   },
   "cell_type": "markdown",
   "source": [
    "### Summary\n",
    "\n",
    "1. **Preprocess Audio Data**: Convert audio segments to Mel spectrograms.\n",
    "2. **Prepare Data**: Pad spectrograms to the same shape and split the data into training and validation sets.\n",
    "3. **Define CNN**: Use a more complex CNN architecture to handle the spectrogram data.\n",
    "4. **Train and Evaluate**: Train the CNN and evaluate its performance, then compare with the other classifiers.\n",
    "\n",
    "Run the above code step-by-step to see how the CNN performs with the spectrogram data. If you encounter any issues or need further adjustments, please let me know!"
   ],
   "id": "ed5251e29cef6c7f"
  },
  {
   "metadata": {
    "id": "87dac895cfaa0575"
   },
   "cell_type": "markdown",
   "source": [
    "## Variant: Spectrograms and Conv1D CNN\n",
    "\n",
    "1. **Prepare Data for Conv1D Model**: Ensure the data is in the right shape and format for the Conv1D model.\n",
    "2. **Define the Conv1D Model**: Use the provided Conv1D architecture.\n",
    "3. **Train and Evaluate the Conv1D Model**: Train the Conv1D model on the training data and evaluate its performance.\n",
    "\n",
    "### Step 1: Prepare Data for Conv1D Model\n",
    "\n",
    "The Conv1D model expects the data to have the shape `(num_samples, timesteps, features)`. Since we have spectrogram data, we can treat each column of the spectrogram as a timestep.\n"
   ],
   "id": "87dac895cfaa0575"
  },
  {
   "metadata": {
    "ExecuteTime": {
     "end_time": "2024-05-30T04:18:46.949218Z",
     "start_time": "2024-05-30T04:18:33.380233Z"
    },
    "id": "e62e9348974175c6"
   },
   "cell_type": "code",
   "source": [
    "import librosa\n",
    "import numpy as np\n",
    "from tensorflow.keras.utils import to_categorical\n",
    "\n",
    "# Function to extract spectrogram features\n",
    "def extract_spectrogram(segment, sr, n_mels=128, fmax=8000):\n",
    "    spectrogram = librosa.feature.melspectrogram(y=segment, sr=sr, n_mels=n_mels, fmax=fmax)\n",
    "    spectrogram_db = librosa.power_to_db(spectrogram, ref=np.max)\n",
    "    return spectrogram_db\n",
    "\n",
    "# Apply the spectrogram extraction to all segments\n",
    "spectrogram_data = []\n",
    "for file_name, command, segment, sr in all_segments:\n",
    "    spectrogram = extract_spectrogram(segment, sr)\n",
    "    spectrogram_data.append((file_name, command, spectrogram))\n",
    "\n",
    "# Determine the maximum shape for padding\n",
    "max_shape = max([s.shape for _, _, s in spectrogram_data], key=lambda x: x[1])\n",
    "print(f\"Maximum spectrogram shape: {max_shape}\")\n",
    "\n",
    "# Pad spectrograms to have the same shape\n",
    "padded_spectrograms = []\n",
    "for file_name, command, spectrogram in spectrogram_data:\n",
    "    pad_width = max_shape[1] - spectrogram.shape[1]\n",
    "    padded_spectrogram = np.pad(spectrogram, ((0, 0), (0, pad_width)), mode='constant')\n",
    "    padded_spectrograms.append((file_name, command, padded_spectrogram))\n",
    "\n",
    "# Convert to numpy arrays and reshape\n",
    "X_spectrogram = np.array([s for _, _, s in padded_spectrograms])\n",
    "X_spectrogram = X_spectrogram.transpose((0, 2, 1))  # Transpose to (num_samples, timesteps, n_mels)\n",
    "X_spectrogram = X_spectrogram[..., np.newaxis]  # Add channel dimension\n",
    "y_spectrogram = np.array([command for _, command, _ in padded_spectrograms])\n",
    "\n",
    "# Encode string labels to numeric labels\n",
    "y_encoded = label_encoder.transform(y_spectrogram)\n",
    "y_categorical = to_categorical(y_encoded)\n",
    "\n",
    "# Split data into training and validation sets\n",
    "X_train, X_val, y_train, y_val = train_test_split(X_spectrogram, y_categorical, test_size=0.2, random_state=42)\n",
    "\n",
    "# Print shapes for debugging\n",
    "print(f\"X_train shape: {X_train.shape}\")\n",
    "print(f\"X_val shape: {X_val.shape}\")\n",
    "print(f\"y_train shape: {y_train.shape}\")\n",
    "print(f\"y_val shape: {y_val.shape}\")\n"
   ],
   "id": "e62e9348974175c6",
   "outputs": [],
   "execution_count": null
  },
  {
   "metadata": {
    "id": "23681fa9cb36a8f0"
   },
   "cell_type": "markdown",
   "source": [
    "### Step 2: Define the Conv1D Model\n",
    "\n",
    "Use the provided Conv1D architecture:\n"
   ],
   "id": "23681fa9cb36a8f0"
  },
  {
   "metadata": {
    "ExecuteTime": {
     "end_time": "2024-05-30T04:19:16.635493Z",
     "start_time": "2024-05-30T04:19:16.554526Z"
    },
    "id": "3d3373d3d8bc42a1"
   },
   "cell_type": "code",
   "source": [
    "from tensorflow.keras.models import Sequential\n",
    "from tensorflow.keras.layers import Conv1D, MaxPooling1D, Flatten, Dense, Dropout, Input\n",
    "\n",
    "# Define the Conv1D model with Input layer\n",
    "input_shape = (X_train.shape[1], X_train.shape[2])\n",
    "\n",
    "model = Sequential([\n",
    "    Input(shape=input_shape),  # Use Input layer to define the input shape\n",
    "    # First Conv1D layer\n",
    "    Conv1D(filters=8, kernel_size=3, padding='valid', activation='relu', strides=1),\n",
    "    MaxPooling1D(pool_size=2),\n",
    "    Dropout(0.3),\n",
    "\n",
    "    # Second Conv1D layer\n",
    "    Conv1D(filters=16, kernel_size=3, padding='valid', activation='relu', strides=1),\n",
    "    MaxPooling1D(pool_size=2),\n",
    "    Dropout(0.3),\n",
    "\n",
    "    # Third Conv1D layer\n",
    "    Conv1D(filters=32, kernel_size=3, padding='valid', activation='relu', strides=1),\n",
    "    MaxPooling1D(pool_size=2),\n",
    "    Dropout(0.3),\n",
    "\n",
    "    # Fourth Conv1D layer\n",
    "    Conv1D(filters=64, kernel_size=3, padding='valid', activation='relu', strides=1),\n",
    "    MaxPooling1D(pool_size=2),\n",
    "    Dropout(0.3),\n",
    "\n",
    "    # Flatten layer\n",
    "    Flatten(),\n",
    "\n",
    "    # Dense Layer 1\n",
    "    Dense(256, activation='relu'),\n",
    "    Dropout(0.3),\n",
    "\n",
    "    # Dense Layer 2\n",
    "    Dense(128, activation='relu'),\n",
    "    Dropout(0.3),\n",
    "\n",
    "    # Output layer\n",
    "    Dense(num_classes, activation='softmax')\n",
    "])\n",
    "\n",
    "model.compile(optimizer='adam', loss='categorical_crossentropy', metrics=['accuracy'])\n",
    "\n",
    "# Print model summary for debugging\n",
    "model.summary()\n"
   ],
   "id": "3d3373d3d8bc42a1",
   "outputs": [],
   "execution_count": null
  },
  {
   "metadata": {
    "id": "1df1594a2b41af5b"
   },
   "cell_type": "markdown",
   "source": [
    "### Step 3: Train and Evaluate the Conv1D Model\n"
   ],
   "id": "1df1594a2b41af5b"
  },
  {
   "metadata": {
    "ExecuteTime": {
     "end_time": "2024-05-30T04:19:54.524356Z",
     "start_time": "2024-05-30T04:19:34.637476Z"
    },
    "id": "8e8606edbe9420e6"
   },
   "cell_type": "code",
   "source": [
    "# Train the Conv1D model\n",
    "model.fit(X_train, y_train, epochs=20, batch_size=32, validation_data=(X_val, y_val))\n",
    "\n",
    "# Evaluate the Conv1D model\n",
    "cnn_eval = model.evaluate(X_val, y_val)\n",
    "print(f\"Conv1D Model Accuracy: {cnn_eval[1]}\")\n",
    "\n",
    "# Make predictions\n",
    "y_pred_cnn = model.predict(X_val)\n",
    "y_pred_cnn_classes = np.argmax(y_pred_cnn, axis=1)\n",
    "y_val_classes = np.argmax(y_val, axis=1)\n",
    "\n",
    "# Print classification report\n",
    "print(\"Conv1D Classifier Report\")\n",
    "print(classification_report(y_val_classes, y_pred_cnn_classes, zero_division=0))\n",
    "\n",
    "# Plot confusion matrix for Conv1D\n",
    "plot_confusion_matrix(y_val_classes, y_pred_cnn_classes, labels, title='Confusion Matrix - Conv1D')\n"
   ],
   "id": "8e8606edbe9420e6",
   "outputs": [],
   "execution_count": null
  },
  {
   "metadata": {
    "id": "121f25d6ff3893b2"
   },
   "cell_type": "markdown",
   "source": [
    "### Summary\n",
    "\n",
    "1. **Prepare Data**: Reshape the spectrogram data for the Conv1D model.\n",
    "2. **Define Conv1D Model**: Use the provided Conv1D architecture.\n",
    "3. **Train and Evaluate**: Train the Conv1D model and evaluate its performance.\n",
    "\n",
    "Run the above code step-by-step to see how the Conv1D model performs with the spectrogram data. If you encounter any issues or need further adjustments, please let me know!"
   ],
   "id": "121f25d6ff3893b2"
  },
  {
   "metadata": {
    "ExecuteTime": {
     "end_time": "2024-05-30T04:20:19.852913Z",
     "start_time": "2024-05-30T04:20:19.831603Z"
    },
    "id": "354a29839e391ec1"
   },
   "cell_type": "code",
   "source": [
    "import pandas as pd\n",
    "\n",
    "# Load the CSV files\n",
    "scene_annotations_df = pd.read_csv(f'{data_dir}/development_scene_annotations.csv')\n",
    "scenes_df = pd.read_csv(f'{data_dir}/development_scenes.csv')\n",
    "\n",
    "# Check the head of the dataframes to understand their structure\n",
    "print(scene_annotations_df.head())\n",
    "print(scenes_df.head())\n",
    "\n",
    "# Check the distribution of labels in the annotations CSV\n",
    "label_distribution_annotations = scene_annotations_df['command'].value_counts()\n",
    "print(\"Label Distribution in development_scene_annotations.csv:\")\n",
    "print(label_distribution_annotations)\n",
    "\n",
    "# Check the distribution of speaker IDs in the scenes CSV\n",
    "label_distribution_scenes = scenes_df['speaker_id'].value_counts()\n",
    "print(\"Label Distribution in development_scenes.csv:\")\n",
    "print(label_distribution_scenes)\n"
   ],
   "id": "354a29839e391ec1",
   "outputs": [],
   "execution_count": null
  },
  {
   "metadata": {},
   "cell_type": "markdown",
   "source": "### Cantrasting Feature Extraction with Raw Data Processing\n",
   "id": "e9537254f760c7bb"
  },
  {
   "metadata": {},
   "cell_type": "markdown",
   "source": [
    "1. **Load Raw Audio Data**:\n",
    "    - Load the raw audio data from your dataset.\n",
    "    - Normalize and preprocess the audio data.\n",
    "\n",
    "2. **Prepare the Data**:\n",
    "    - Ensure the audio data is padded or truncated to a fixed length.\n",
    "    - Reshape the data to match the input shape expected by the Conv1D layer.\n",
    "\n",
    "3. **Define the Conv1D CNN Model**:\n",
    "    - Create a Conv1D CNN model using `tensorflow.keras`.\n",
    "\n",
    "4. **Train the Model**:\n",
    "    - Train the model using your raw audio data.\n",
    "\n",
    "5. **Evaluate the Model**:\n",
    "    - Evaluate the model on the validation data.\n",
    "\n",
    "### Implementation\n",
    "\n",
    "#### 1. Load and Prepare the Data"
   ],
   "id": "7e16f5d8f5c69373"
  },
  {
   "metadata": {
    "ExecuteTime": {
     "end_time": "2024-05-31T05:36:14.434370Z",
     "start_time": "2024-05-31T05:36:10.097954Z"
    }
   },
   "cell_type": "code",
   "source": [
    "import numpy as np\n",
    "import pandas as pd\n",
    "import librosa\n",
    "from sklearn.preprocessing import LabelEncoder\n",
    "from sklearn.decomposition import FastICA\n",
    "from tensorflow.keras.utils import to_categorical\n",
    "\n",
    "# Load the CSV file containing the annotations\n",
    "annotations = pd.read_csv(f'{data_dir}/development_scene_annotations.csv')\n",
    "\n",
    "# Load and preprocess the audio data\n",
    "def load_and_preprocess_audio(annotations, max_length=22050):\n",
    "    audio_data = []\n",
    "    labels = []\n",
    "    for index, row in annotations.iterrows():\n",
    "        file_name = f\"{data_dir}/scenes/wav/{row['filename']}.wav\"\n",
    "        start_time = row['start']\n",
    "        end_time = row['end']\n",
    "        \n",
    "        # Load audio file\n",
    "        audio, sample_rate = librosa.load(file_name, sr=None)\n",
    "        \n",
    "        # Extract the relevant segment\n",
    "        start_sample = int(start_time * sample_rate)\n",
    "        end_sample = int(end_time * sample_rate)\n",
    "        audio_segment = audio[start_sample:end_sample]\n",
    "        \n",
    "        # Normalize the audio segment\n",
    "        audio_segment = librosa.util.normalize(audio_segment)\n",
    "        \n",
    "        # Pad or truncate the audio segment to a fixed length\n",
    "        if len(audio_segment) > max_length:\n",
    "            audio_segment = audio_segment[:max_length]\n",
    "        else:\n",
    "            audio_segment = np.pad(audio_segment, (0, max_length - len(audio_segment)), mode='constant')\n",
    "        \n",
    "        audio_data.append(audio_segment)\n",
    "        labels.append(row['command'])\n",
    "    \n",
    "    return np.array(audio_data), labels\n",
    "\n",
    "# Load and preprocess the audio data\n",
    "X, y = load_and_preprocess_audio(annotations)\n",
    "\n",
    "# Apply ICA\n",
    "def apply_ica(X, whiten='arbitrary-variance'):\n",
    "    ica = FastICA(n_components=1, random_state=42, whiten=whiten)\n",
    "    X_ica = ica.fit_transform(X)\n",
    "    return X_ica\n",
    "\n",
    "# Explicitly set whiten parameter to avoid the warning\n",
    "X_ica = apply_ica(X, whiten='arbitrary-variance')\n",
    "\n",
    "# Reshape the data to fit Conv1D input shape\n",
    "X_ica = X_ica.reshape((X_ica.shape[0], X_ica.shape[1], 1))\n",
    "\n",
    "# Encode labels\n",
    "label_encoder = LabelEncoder()\n",
    "y_encoded = label_encoder.fit_transform(y)\n",
    "\n",
    "# Convert labels to categorical\n",
    "num_classes = len(np.unique(y_encoded))\n",
    "y_categorical = to_categorical(y_encoded, num_classes)\n",
    "\n",
    "# Split data into training and validation sets\n",
    "from sklearn.model_selection import train_test_split\n",
    "X_train, X_val, y_train, y_val = train_test_split(X_ica, y_categorical, test_size=0.2, random_state=42)\n"
   ],
   "id": "ef444dcbca141cfc",
   "outputs": [],
   "execution_count": 19
  },
  {
   "metadata": {},
   "cell_type": "markdown",
   "source": "#### 2. Define the Conv1D CNN Model",
   "id": "c7b96f6628c99ce4"
  },
  {
   "metadata": {
    "ExecuteTime": {
     "end_time": "2024-05-31T05:36:17.915681Z",
     "start_time": "2024-05-31T05:36:17.714428Z"
    }
   },
   "cell_type": "code",
   "source": [
    "from tensorflow.keras.models import Sequential\n",
    "from tensorflow.keras.layers import Conv1D, MaxPooling1D, Flatten, Dense, Dropout\n",
    "\n",
    "# Define the Conv1D model\n",
    "model = Sequential([\n",
    "    Conv1D(filters=8, kernel_size=13, padding='valid', activation='relu', strides=1, input_shape=(X_train.shape[1], 1)),\n",
    "    MaxPooling1D(pool_size=3),\n",
    "    Dropout(0.3),\n",
    "\n",
    "    Conv1D(filters=16, kernel_size=11, padding='valid', activation='relu', strides=1),\n",
    "    MaxPooling1D(pool_size=3),\n",
    "    Dropout(0.3),\n",
    "\n",
    "    Conv1D(filters=32, kernel_size=9, padding='valid', activation='relu', strides=1),\n",
    "    MaxPooling1D(pool_size=3),\n",
    "    Dropout(0.3),\n",
    "\n",
    "    Conv1D(filters=64, kernel_size=7, padding='valid', activation='relu', strides=1),\n",
    "    MaxPooling1D(pool_size=3),\n",
    "    Dropout(0.3),\n",
    "\n",
    "    Flatten(),\n",
    "\n",
    "    Dense(256, activation='relu'),\n",
    "    Dropout(0.3),\n",
    "\n",
    "    Dense(128, activation='relu'),\n",
    "    Dropout(0.3),\n",
    "\n",
    "    Dense(num_classes, activation='softmax')\n",
    "])\n",
    "\n",
    "model.compile(optimizer='adam', loss='categorical_crossentropy', metrics=['accuracy'])\n",
    "\n",
    "model.summary()"
   ],
   "id": "967c2945b5cb2b00",
   "outputs": [
    {
     "name": "stderr",
     "output_type": "stream",
     "text": [
      "/usr/local/lib/python3.11/site-packages/keras/src/layers/convolutional/base_conv.py:99: UserWarning: Do not pass an `input_shape`/`input_dim` argument to a layer. When using Sequential models, prefer using an `Input(shape)` object as the first layer in the model instead.\n",
      "  super().__init__(\n"
     ]
    },
    {
     "ename": "ValueError",
     "evalue": "Computed output size would be negative. Received `inputs shape=(None, 1, 1)`, `kernel shape=(13, 1, 8)`, `dilation_rate=[1]`.",
     "output_type": "error",
     "traceback": [
      "\u001B[0;31m---------------------------------------------------------------------------\u001B[0m",
      "\u001B[0;31mValueError\u001B[0m                                Traceback (most recent call last)",
      "Cell \u001B[0;32mIn[20], line 5\u001B[0m\n\u001B[1;32m      2\u001B[0m \u001B[38;5;28;01mfrom\u001B[39;00m \u001B[38;5;21;01mtensorflow\u001B[39;00m\u001B[38;5;21;01m.\u001B[39;00m\u001B[38;5;21;01mkeras\u001B[39;00m\u001B[38;5;21;01m.\u001B[39;00m\u001B[38;5;21;01mlayers\u001B[39;00m \u001B[38;5;28;01mimport\u001B[39;00m Conv1D, MaxPooling1D, Flatten, Dense, Dropout\n\u001B[1;32m      4\u001B[0m \u001B[38;5;66;03m# Define the Conv1D model\u001B[39;00m\n\u001B[0;32m----> 5\u001B[0m model \u001B[38;5;241m=\u001B[39m \u001B[43mSequential\u001B[49m\u001B[43m(\u001B[49m\u001B[43m[\u001B[49m\n\u001B[1;32m      6\u001B[0m \u001B[43m    \u001B[49m\u001B[43mConv1D\u001B[49m\u001B[43m(\u001B[49m\u001B[43mfilters\u001B[49m\u001B[38;5;241;43m=\u001B[39;49m\u001B[38;5;241;43m8\u001B[39;49m\u001B[43m,\u001B[49m\u001B[43m \u001B[49m\u001B[43mkernel_size\u001B[49m\u001B[38;5;241;43m=\u001B[39;49m\u001B[38;5;241;43m13\u001B[39;49m\u001B[43m,\u001B[49m\u001B[43m \u001B[49m\u001B[43mpadding\u001B[49m\u001B[38;5;241;43m=\u001B[39;49m\u001B[38;5;124;43m'\u001B[39;49m\u001B[38;5;124;43mvalid\u001B[39;49m\u001B[38;5;124;43m'\u001B[39;49m\u001B[43m,\u001B[49m\u001B[43m \u001B[49m\u001B[43mactivation\u001B[49m\u001B[38;5;241;43m=\u001B[39;49m\u001B[38;5;124;43m'\u001B[39;49m\u001B[38;5;124;43mrelu\u001B[39;49m\u001B[38;5;124;43m'\u001B[39;49m\u001B[43m,\u001B[49m\u001B[43m \u001B[49m\u001B[43mstrides\u001B[49m\u001B[38;5;241;43m=\u001B[39;49m\u001B[38;5;241;43m1\u001B[39;49m\u001B[43m,\u001B[49m\u001B[43m \u001B[49m\u001B[43minput_shape\u001B[49m\u001B[38;5;241;43m=\u001B[39;49m\u001B[43m(\u001B[49m\u001B[43mX_train\u001B[49m\u001B[38;5;241;43m.\u001B[39;49m\u001B[43mshape\u001B[49m\u001B[43m[\u001B[49m\u001B[38;5;241;43m1\u001B[39;49m\u001B[43m]\u001B[49m\u001B[43m,\u001B[49m\u001B[43m \u001B[49m\u001B[38;5;241;43m1\u001B[39;49m\u001B[43m)\u001B[49m\u001B[43m)\u001B[49m\u001B[43m,\u001B[49m\n\u001B[1;32m      7\u001B[0m \u001B[43m    \u001B[49m\u001B[43mMaxPooling1D\u001B[49m\u001B[43m(\u001B[49m\u001B[43mpool_size\u001B[49m\u001B[38;5;241;43m=\u001B[39;49m\u001B[38;5;241;43m3\u001B[39;49m\u001B[43m)\u001B[49m\u001B[43m,\u001B[49m\n\u001B[1;32m      8\u001B[0m \u001B[43m    \u001B[49m\u001B[43mDropout\u001B[49m\u001B[43m(\u001B[49m\u001B[38;5;241;43m0.3\u001B[39;49m\u001B[43m)\u001B[49m\u001B[43m,\u001B[49m\n\u001B[1;32m      9\u001B[0m \n\u001B[1;32m     10\u001B[0m \u001B[43m    \u001B[49m\u001B[43mConv1D\u001B[49m\u001B[43m(\u001B[49m\u001B[43mfilters\u001B[49m\u001B[38;5;241;43m=\u001B[39;49m\u001B[38;5;241;43m16\u001B[39;49m\u001B[43m,\u001B[49m\u001B[43m \u001B[49m\u001B[43mkernel_size\u001B[49m\u001B[38;5;241;43m=\u001B[39;49m\u001B[38;5;241;43m11\u001B[39;49m\u001B[43m,\u001B[49m\u001B[43m \u001B[49m\u001B[43mpadding\u001B[49m\u001B[38;5;241;43m=\u001B[39;49m\u001B[38;5;124;43m'\u001B[39;49m\u001B[38;5;124;43mvalid\u001B[39;49m\u001B[38;5;124;43m'\u001B[39;49m\u001B[43m,\u001B[49m\u001B[43m \u001B[49m\u001B[43mactivation\u001B[49m\u001B[38;5;241;43m=\u001B[39;49m\u001B[38;5;124;43m'\u001B[39;49m\u001B[38;5;124;43mrelu\u001B[39;49m\u001B[38;5;124;43m'\u001B[39;49m\u001B[43m,\u001B[49m\u001B[43m \u001B[49m\u001B[43mstrides\u001B[49m\u001B[38;5;241;43m=\u001B[39;49m\u001B[38;5;241;43m1\u001B[39;49m\u001B[43m)\u001B[49m\u001B[43m,\u001B[49m\n\u001B[1;32m     11\u001B[0m \u001B[43m    \u001B[49m\u001B[43mMaxPooling1D\u001B[49m\u001B[43m(\u001B[49m\u001B[43mpool_size\u001B[49m\u001B[38;5;241;43m=\u001B[39;49m\u001B[38;5;241;43m3\u001B[39;49m\u001B[43m)\u001B[49m\u001B[43m,\u001B[49m\n\u001B[1;32m     12\u001B[0m \u001B[43m    \u001B[49m\u001B[43mDropout\u001B[49m\u001B[43m(\u001B[49m\u001B[38;5;241;43m0.3\u001B[39;49m\u001B[43m)\u001B[49m\u001B[43m,\u001B[49m\n\u001B[1;32m     13\u001B[0m \n\u001B[1;32m     14\u001B[0m \u001B[43m    \u001B[49m\u001B[43mConv1D\u001B[49m\u001B[43m(\u001B[49m\u001B[43mfilters\u001B[49m\u001B[38;5;241;43m=\u001B[39;49m\u001B[38;5;241;43m32\u001B[39;49m\u001B[43m,\u001B[49m\u001B[43m \u001B[49m\u001B[43mkernel_size\u001B[49m\u001B[38;5;241;43m=\u001B[39;49m\u001B[38;5;241;43m9\u001B[39;49m\u001B[43m,\u001B[49m\u001B[43m \u001B[49m\u001B[43mpadding\u001B[49m\u001B[38;5;241;43m=\u001B[39;49m\u001B[38;5;124;43m'\u001B[39;49m\u001B[38;5;124;43mvalid\u001B[39;49m\u001B[38;5;124;43m'\u001B[39;49m\u001B[43m,\u001B[49m\u001B[43m \u001B[49m\u001B[43mactivation\u001B[49m\u001B[38;5;241;43m=\u001B[39;49m\u001B[38;5;124;43m'\u001B[39;49m\u001B[38;5;124;43mrelu\u001B[39;49m\u001B[38;5;124;43m'\u001B[39;49m\u001B[43m,\u001B[49m\u001B[43m \u001B[49m\u001B[43mstrides\u001B[49m\u001B[38;5;241;43m=\u001B[39;49m\u001B[38;5;241;43m1\u001B[39;49m\u001B[43m)\u001B[49m\u001B[43m,\u001B[49m\n\u001B[1;32m     15\u001B[0m \u001B[43m    \u001B[49m\u001B[43mMaxPooling1D\u001B[49m\u001B[43m(\u001B[49m\u001B[43mpool_size\u001B[49m\u001B[38;5;241;43m=\u001B[39;49m\u001B[38;5;241;43m3\u001B[39;49m\u001B[43m)\u001B[49m\u001B[43m,\u001B[49m\n\u001B[1;32m     16\u001B[0m \u001B[43m    \u001B[49m\u001B[43mDropout\u001B[49m\u001B[43m(\u001B[49m\u001B[38;5;241;43m0.3\u001B[39;49m\u001B[43m)\u001B[49m\u001B[43m,\u001B[49m\n\u001B[1;32m     17\u001B[0m \n\u001B[1;32m     18\u001B[0m \u001B[43m    \u001B[49m\u001B[43mConv1D\u001B[49m\u001B[43m(\u001B[49m\u001B[43mfilters\u001B[49m\u001B[38;5;241;43m=\u001B[39;49m\u001B[38;5;241;43m64\u001B[39;49m\u001B[43m,\u001B[49m\u001B[43m \u001B[49m\u001B[43mkernel_size\u001B[49m\u001B[38;5;241;43m=\u001B[39;49m\u001B[38;5;241;43m7\u001B[39;49m\u001B[43m,\u001B[49m\u001B[43m \u001B[49m\u001B[43mpadding\u001B[49m\u001B[38;5;241;43m=\u001B[39;49m\u001B[38;5;124;43m'\u001B[39;49m\u001B[38;5;124;43mvalid\u001B[39;49m\u001B[38;5;124;43m'\u001B[39;49m\u001B[43m,\u001B[49m\u001B[43m \u001B[49m\u001B[43mactivation\u001B[49m\u001B[38;5;241;43m=\u001B[39;49m\u001B[38;5;124;43m'\u001B[39;49m\u001B[38;5;124;43mrelu\u001B[39;49m\u001B[38;5;124;43m'\u001B[39;49m\u001B[43m,\u001B[49m\u001B[43m \u001B[49m\u001B[43mstrides\u001B[49m\u001B[38;5;241;43m=\u001B[39;49m\u001B[38;5;241;43m1\u001B[39;49m\u001B[43m)\u001B[49m\u001B[43m,\u001B[49m\n\u001B[1;32m     19\u001B[0m \u001B[43m    \u001B[49m\u001B[43mMaxPooling1D\u001B[49m\u001B[43m(\u001B[49m\u001B[43mpool_size\u001B[49m\u001B[38;5;241;43m=\u001B[39;49m\u001B[38;5;241;43m3\u001B[39;49m\u001B[43m)\u001B[49m\u001B[43m,\u001B[49m\n\u001B[1;32m     20\u001B[0m \u001B[43m    \u001B[49m\u001B[43mDropout\u001B[49m\u001B[43m(\u001B[49m\u001B[38;5;241;43m0.3\u001B[39;49m\u001B[43m)\u001B[49m\u001B[43m,\u001B[49m\n\u001B[1;32m     21\u001B[0m \n\u001B[1;32m     22\u001B[0m \u001B[43m    \u001B[49m\u001B[43mFlatten\u001B[49m\u001B[43m(\u001B[49m\u001B[43m)\u001B[49m\u001B[43m,\u001B[49m\n\u001B[1;32m     23\u001B[0m \n\u001B[1;32m     24\u001B[0m \u001B[43m    \u001B[49m\u001B[43mDense\u001B[49m\u001B[43m(\u001B[49m\u001B[38;5;241;43m256\u001B[39;49m\u001B[43m,\u001B[49m\u001B[43m \u001B[49m\u001B[43mactivation\u001B[49m\u001B[38;5;241;43m=\u001B[39;49m\u001B[38;5;124;43m'\u001B[39;49m\u001B[38;5;124;43mrelu\u001B[39;49m\u001B[38;5;124;43m'\u001B[39;49m\u001B[43m)\u001B[49m\u001B[43m,\u001B[49m\n\u001B[1;32m     25\u001B[0m \u001B[43m    \u001B[49m\u001B[43mDropout\u001B[49m\u001B[43m(\u001B[49m\u001B[38;5;241;43m0.3\u001B[39;49m\u001B[43m)\u001B[49m\u001B[43m,\u001B[49m\n\u001B[1;32m     26\u001B[0m \n\u001B[1;32m     27\u001B[0m \u001B[43m    \u001B[49m\u001B[43mDense\u001B[49m\u001B[43m(\u001B[49m\u001B[38;5;241;43m128\u001B[39;49m\u001B[43m,\u001B[49m\u001B[43m \u001B[49m\u001B[43mactivation\u001B[49m\u001B[38;5;241;43m=\u001B[39;49m\u001B[38;5;124;43m'\u001B[39;49m\u001B[38;5;124;43mrelu\u001B[39;49m\u001B[38;5;124;43m'\u001B[39;49m\u001B[43m)\u001B[49m\u001B[43m,\u001B[49m\n\u001B[1;32m     28\u001B[0m \u001B[43m    \u001B[49m\u001B[43mDropout\u001B[49m\u001B[43m(\u001B[49m\u001B[38;5;241;43m0.3\u001B[39;49m\u001B[43m)\u001B[49m\u001B[43m,\u001B[49m\n\u001B[1;32m     29\u001B[0m \n\u001B[1;32m     30\u001B[0m \u001B[43m    \u001B[49m\u001B[43mDense\u001B[49m\u001B[43m(\u001B[49m\u001B[43mnum_classes\u001B[49m\u001B[43m,\u001B[49m\u001B[43m \u001B[49m\u001B[43mactivation\u001B[49m\u001B[38;5;241;43m=\u001B[39;49m\u001B[38;5;124;43m'\u001B[39;49m\u001B[38;5;124;43msoftmax\u001B[39;49m\u001B[38;5;124;43m'\u001B[39;49m\u001B[43m)\u001B[49m\n\u001B[1;32m     31\u001B[0m \u001B[43m]\u001B[49m\u001B[43m)\u001B[49m\n\u001B[1;32m     33\u001B[0m model\u001B[38;5;241m.\u001B[39mcompile(optimizer\u001B[38;5;241m=\u001B[39m\u001B[38;5;124m'\u001B[39m\u001B[38;5;124madam\u001B[39m\u001B[38;5;124m'\u001B[39m, loss\u001B[38;5;241m=\u001B[39m\u001B[38;5;124m'\u001B[39m\u001B[38;5;124mcategorical_crossentropy\u001B[39m\u001B[38;5;124m'\u001B[39m, metrics\u001B[38;5;241m=\u001B[39m[\u001B[38;5;124m'\u001B[39m\u001B[38;5;124maccuracy\u001B[39m\u001B[38;5;124m'\u001B[39m])\n\u001B[1;32m     35\u001B[0m model\u001B[38;5;241m.\u001B[39msummary()\n",
      "File \u001B[0;32m/usr/local/lib/python3.11/site-packages/keras/src/models/sequential.py:74\u001B[0m, in \u001B[0;36mSequential.__init__\u001B[0;34m(self, layers, trainable, name)\u001B[0m\n\u001B[1;32m     72\u001B[0m \u001B[38;5;28;01mfor\u001B[39;00m layer \u001B[38;5;129;01min\u001B[39;00m layers:\n\u001B[1;32m     73\u001B[0m     \u001B[38;5;28mself\u001B[39m\u001B[38;5;241m.\u001B[39madd(layer, rebuild\u001B[38;5;241m=\u001B[39m\u001B[38;5;28;01mFalse\u001B[39;00m)\n\u001B[0;32m---> 74\u001B[0m \u001B[38;5;28;43mself\u001B[39;49m\u001B[38;5;241;43m.\u001B[39;49m\u001B[43m_maybe_rebuild\u001B[49m\u001B[43m(\u001B[49m\u001B[43m)\u001B[49m\n",
      "File \u001B[0;32m/usr/local/lib/python3.11/site-packages/keras/src/models/sequential.py:139\u001B[0m, in \u001B[0;36mSequential._maybe_rebuild\u001B[0;34m(self)\u001B[0m\n\u001B[1;32m    137\u001B[0m \u001B[38;5;28;01mif\u001B[39;00m \u001B[38;5;28misinstance\u001B[39m(\u001B[38;5;28mself\u001B[39m\u001B[38;5;241m.\u001B[39m_layers[\u001B[38;5;241m0\u001B[39m], InputLayer) \u001B[38;5;129;01mand\u001B[39;00m \u001B[38;5;28mlen\u001B[39m(\u001B[38;5;28mself\u001B[39m\u001B[38;5;241m.\u001B[39m_layers) \u001B[38;5;241m>\u001B[39m \u001B[38;5;241m1\u001B[39m:\n\u001B[1;32m    138\u001B[0m     input_shape \u001B[38;5;241m=\u001B[39m \u001B[38;5;28mself\u001B[39m\u001B[38;5;241m.\u001B[39m_layers[\u001B[38;5;241m0\u001B[39m]\u001B[38;5;241m.\u001B[39mbatch_shape\n\u001B[0;32m--> 139\u001B[0m     \u001B[38;5;28;43mself\u001B[39;49m\u001B[38;5;241;43m.\u001B[39;49m\u001B[43mbuild\u001B[49m\u001B[43m(\u001B[49m\u001B[43minput_shape\u001B[49m\u001B[43m)\u001B[49m\n",
      "File \u001B[0;32m/usr/local/lib/python3.11/site-packages/keras/src/layers/layer.py:222\u001B[0m, in \u001B[0;36mLayer.__new__.<locals>.build_wrapper\u001B[0;34m(*args, **kwargs)\u001B[0m\n\u001B[1;32m    219\u001B[0m \u001B[38;5;129m@wraps\u001B[39m(original_build_method)\n\u001B[1;32m    220\u001B[0m \u001B[38;5;28;01mdef\u001B[39;00m \u001B[38;5;21mbuild_wrapper\u001B[39m(\u001B[38;5;241m*\u001B[39margs, \u001B[38;5;241m*\u001B[39m\u001B[38;5;241m*\u001B[39mkwargs):\n\u001B[1;32m    221\u001B[0m     \u001B[38;5;28;01mwith\u001B[39;00m obj\u001B[38;5;241m.\u001B[39m_open_name_scope():\n\u001B[0;32m--> 222\u001B[0m         \u001B[43moriginal_build_method\u001B[49m\u001B[43m(\u001B[49m\u001B[38;5;241;43m*\u001B[39;49m\u001B[43margs\u001B[49m\u001B[43m,\u001B[49m\u001B[43m \u001B[49m\u001B[38;5;241;43m*\u001B[39;49m\u001B[38;5;241;43m*\u001B[39;49m\u001B[43mkwargs\u001B[49m\u001B[43m)\u001B[49m\n\u001B[1;32m    223\u001B[0m     \u001B[38;5;66;03m# Record build config.\u001B[39;00m\n\u001B[1;32m    224\u001B[0m     signature \u001B[38;5;241m=\u001B[39m inspect\u001B[38;5;241m.\u001B[39msignature(original_build_method)\n",
      "File \u001B[0;32m/usr/local/lib/python3.11/site-packages/keras/src/models/sequential.py:180\u001B[0m, in \u001B[0;36mSequential.build\u001B[0;34m(self, input_shape)\u001B[0m\n\u001B[1;32m    178\u001B[0m \u001B[38;5;28;01mfor\u001B[39;00m layer \u001B[38;5;129;01min\u001B[39;00m \u001B[38;5;28mself\u001B[39m\u001B[38;5;241m.\u001B[39m_layers[\u001B[38;5;241m1\u001B[39m:]:\n\u001B[1;32m    179\u001B[0m     \u001B[38;5;28;01mtry\u001B[39;00m:\n\u001B[0;32m--> 180\u001B[0m         x \u001B[38;5;241m=\u001B[39m \u001B[43mlayer\u001B[49m\u001B[43m(\u001B[49m\u001B[43mx\u001B[49m\u001B[43m)\u001B[49m\n\u001B[1;32m    181\u001B[0m     \u001B[38;5;28;01mexcept\u001B[39;00m \u001B[38;5;167;01mNotImplementedError\u001B[39;00m:\n\u001B[1;32m    182\u001B[0m         \u001B[38;5;66;03m# Can happen if shape inference is not implemented.\u001B[39;00m\n\u001B[1;32m    183\u001B[0m         \u001B[38;5;66;03m# TODO: consider reverting inbound nodes on layers processed.\u001B[39;00m\n\u001B[1;32m    184\u001B[0m         \u001B[38;5;28;01mreturn\u001B[39;00m\n",
      "File \u001B[0;32m/usr/local/lib/python3.11/site-packages/keras/src/utils/traceback_utils.py:122\u001B[0m, in \u001B[0;36mfilter_traceback.<locals>.error_handler\u001B[0;34m(*args, **kwargs)\u001B[0m\n\u001B[1;32m    119\u001B[0m     filtered_tb \u001B[38;5;241m=\u001B[39m _process_traceback_frames(e\u001B[38;5;241m.\u001B[39m__traceback__)\n\u001B[1;32m    120\u001B[0m     \u001B[38;5;66;03m# To get the full stack trace, call:\u001B[39;00m\n\u001B[1;32m    121\u001B[0m     \u001B[38;5;66;03m# `keras.config.disable_traceback_filtering()`\u001B[39;00m\n\u001B[0;32m--> 122\u001B[0m     \u001B[38;5;28;01mraise\u001B[39;00m e\u001B[38;5;241m.\u001B[39mwith_traceback(filtered_tb) \u001B[38;5;28;01mfrom\u001B[39;00m \u001B[38;5;28mNone\u001B[39m\n\u001B[1;32m    123\u001B[0m \u001B[38;5;28;01mfinally\u001B[39;00m:\n\u001B[1;32m    124\u001B[0m     \u001B[38;5;28;01mdel\u001B[39;00m filtered_tb\n",
      "File \u001B[0;32m/usr/local/lib/python3.11/site-packages/keras/src/ops/operation_utils.py:221\u001B[0m, in \u001B[0;36mcompute_conv_output_shape\u001B[0;34m(input_shape, filters, kernel_size, strides, padding, data_format, dilation_rate)\u001B[0m\n\u001B[1;32m    219\u001B[0m     \u001B[38;5;28;01mfor\u001B[39;00m i \u001B[38;5;129;01min\u001B[39;00m \u001B[38;5;28mrange\u001B[39m(\u001B[38;5;28mlen\u001B[39m(output_spatial_shape)):\n\u001B[1;32m    220\u001B[0m         \u001B[38;5;28;01mif\u001B[39;00m i \u001B[38;5;129;01mnot\u001B[39;00m \u001B[38;5;129;01min\u001B[39;00m none_dims \u001B[38;5;129;01mand\u001B[39;00m output_spatial_shape[i] \u001B[38;5;241m<\u001B[39m \u001B[38;5;241m0\u001B[39m:\n\u001B[0;32m--> 221\u001B[0m             \u001B[38;5;28;01mraise\u001B[39;00m \u001B[38;5;167;01mValueError\u001B[39;00m(\n\u001B[1;32m    222\u001B[0m                 \u001B[38;5;124m\"\u001B[39m\u001B[38;5;124mComputed output size would be negative. Received \u001B[39m\u001B[38;5;124m\"\u001B[39m\n\u001B[1;32m    223\u001B[0m                 \u001B[38;5;124mf\u001B[39m\u001B[38;5;124m\"\u001B[39m\u001B[38;5;124m`inputs shape=\u001B[39m\u001B[38;5;132;01m{\u001B[39;00minput_shape\u001B[38;5;132;01m}\u001B[39;00m\u001B[38;5;124m`, \u001B[39m\u001B[38;5;124m\"\u001B[39m\n\u001B[1;32m    224\u001B[0m                 \u001B[38;5;124mf\u001B[39m\u001B[38;5;124m\"\u001B[39m\u001B[38;5;124m`kernel shape=\u001B[39m\u001B[38;5;132;01m{\u001B[39;00mkernel_shape\u001B[38;5;132;01m}\u001B[39;00m\u001B[38;5;124m`, \u001B[39m\u001B[38;5;124m\"\u001B[39m\n\u001B[1;32m    225\u001B[0m                 \u001B[38;5;124mf\u001B[39m\u001B[38;5;124m\"\u001B[39m\u001B[38;5;124m`dilation_rate=\u001B[39m\u001B[38;5;132;01m{\u001B[39;00mdilation_rate\u001B[38;5;132;01m}\u001B[39;00m\u001B[38;5;124m`.\u001B[39m\u001B[38;5;124m\"\u001B[39m\n\u001B[1;32m    226\u001B[0m             )\n\u001B[1;32m    227\u001B[0m \u001B[38;5;28;01melif\u001B[39;00m padding \u001B[38;5;241m==\u001B[39m \u001B[38;5;124m\"\u001B[39m\u001B[38;5;124msame\u001B[39m\u001B[38;5;124m\"\u001B[39m \u001B[38;5;129;01mor\u001B[39;00m padding \u001B[38;5;241m==\u001B[39m \u001B[38;5;124m\"\u001B[39m\u001B[38;5;124mcausal\u001B[39m\u001B[38;5;124m\"\u001B[39m:\n\u001B[1;32m    228\u001B[0m     output_spatial_shape \u001B[38;5;241m=\u001B[39m np\u001B[38;5;241m.\u001B[39mfloor((spatial_shape \u001B[38;5;241m-\u001B[39m \u001B[38;5;241m1\u001B[39m) \u001B[38;5;241m/\u001B[39m strides) \u001B[38;5;241m+\u001B[39m \u001B[38;5;241m1\u001B[39m\n",
      "\u001B[0;31mValueError\u001B[0m: Computed output size would be negative. Received `inputs shape=(None, 1, 1)`, `kernel shape=(13, 1, 8)`, `dilation_rate=[1]`."
     ]
    }
   ],
   "execution_count": 20
  },
  {
   "metadata": {},
   "cell_type": "markdown",
   "source": "#### 3. Train the Model",
   "id": "20eb72944db0f1c3"
  },
  {
   "metadata": {
    "ExecuteTime": {
     "end_time": "2024-05-31T05:28:48.468225Z",
     "start_time": "2024-05-31T05:26:33.038382Z"
    }
   },
   "cell_type": "code",
   "source": "history = model.fit(X_train, y_train, epochs=20, batch_size=32, validation_data=(X_val, y_val))",
   "id": "fefc7dee4e09c3a",
   "outputs": [
    {
     "name": "stdout",
     "output_type": "stream",
     "text": [
      "Epoch 1/20\n",
      "\u001B[1m27/27\u001B[0m \u001B[32m━━━━━━━━━━━━━━━━━━━━\u001B[0m\u001B[37m\u001B[0m \u001B[1m8s\u001B[0m 227ms/step - accuracy: 0.0882 - loss: 2.7809 - val_accuracy: 0.0798 - val_loss: 2.7693\n",
      "Epoch 2/20\n",
      "\u001B[1m27/27\u001B[0m \u001B[32m━━━━━━━━━━━━━━━━━━━━\u001B[0m\u001B[37m\u001B[0m \u001B[1m6s\u001B[0m 232ms/step - accuracy: 0.1101 - loss: 2.7134 - val_accuracy: 0.1221 - val_loss: 2.6951\n",
      "Epoch 3/20\n",
      "\u001B[1m27/27\u001B[0m \u001B[32m━━━━━━━━━━━━━━━━━━━━\u001B[0m\u001B[37m\u001B[0m \u001B[1m6s\u001B[0m 225ms/step - accuracy: 0.1623 - loss: 2.5628 - val_accuracy: 0.1737 - val_loss: 2.5505\n",
      "Epoch 4/20\n",
      "\u001B[1m27/27\u001B[0m \u001B[32m━━━━━━━━━━━━━━━━━━━━\u001B[0m\u001B[37m\u001B[0m \u001B[1m6s\u001B[0m 233ms/step - accuracy: 0.2328 - loss: 2.3392 - val_accuracy: 0.1972 - val_loss: 2.5127\n",
      "Epoch 5/20\n",
      "\u001B[1m27/27\u001B[0m \u001B[32m━━━━━━━━━━━━━━━━━━━━\u001B[0m\u001B[37m\u001B[0m \u001B[1m7s\u001B[0m 241ms/step - accuracy: 0.2412 - loss: 2.2462 - val_accuracy: 0.2582 - val_loss: 2.2897\n",
      "Epoch 6/20\n",
      "\u001B[1m27/27\u001B[0m \u001B[32m━━━━━━━━━━━━━━━━━━━━\u001B[0m\u001B[37m\u001B[0m \u001B[1m6s\u001B[0m 232ms/step - accuracy: 0.3063 - loss: 2.0666 - val_accuracy: 0.2347 - val_loss: 2.3867\n",
      "Epoch 7/20\n",
      "\u001B[1m27/27\u001B[0m \u001B[32m━━━━━━━━━━━━━━━━━━━━\u001B[0m\u001B[37m\u001B[0m \u001B[1m6s\u001B[0m 238ms/step - accuracy: 0.2878 - loss: 2.0891 - val_accuracy: 0.2723 - val_loss: 2.2161\n",
      "Epoch 8/20\n",
      "\u001B[1m27/27\u001B[0m \u001B[32m━━━━━━━━━━━━━━━━━━━━\u001B[0m\u001B[37m\u001B[0m \u001B[1m7s\u001B[0m 243ms/step - accuracy: 0.3257 - loss: 1.9116 - val_accuracy: 0.3146 - val_loss: 2.1560\n",
      "Epoch 9/20\n",
      "\u001B[1m27/27\u001B[0m \u001B[32m━━━━━━━━━━━━━━━━━━━━\u001B[0m\u001B[37m\u001B[0m \u001B[1m7s\u001B[0m 251ms/step - accuracy: 0.3888 - loss: 1.7546 - val_accuracy: 0.3005 - val_loss: 2.2201\n",
      "Epoch 10/20\n",
      "\u001B[1m27/27\u001B[0m \u001B[32m━━━━━━━━━━━━━━━━━━━━\u001B[0m\u001B[37m\u001B[0m \u001B[1m7s\u001B[0m 242ms/step - accuracy: 0.4761 - loss: 1.5821 - val_accuracy: 0.3756 - val_loss: 1.9467\n",
      "Epoch 11/20\n",
      "\u001B[1m27/27\u001B[0m \u001B[32m━━━━━━━━━━━━━━━━━━━━\u001B[0m\u001B[37m\u001B[0m \u001B[1m7s\u001B[0m 254ms/step - accuracy: 0.5133 - loss: 1.3856 - val_accuracy: 0.3756 - val_loss: 1.9551\n",
      "Epoch 12/20\n",
      "\u001B[1m27/27\u001B[0m \u001B[32m━━━━━━━━━━━━━━━━━━━━\u001B[0m\u001B[37m\u001B[0m \u001B[1m7s\u001B[0m 257ms/step - accuracy: 0.5701 - loss: 1.3061 - val_accuracy: 0.3239 - val_loss: 1.9061\n",
      "Epoch 13/20\n",
      "\u001B[1m27/27\u001B[0m \u001B[32m━━━━━━━━━━━━━━━━━━━━\u001B[0m\u001B[37m\u001B[0m \u001B[1m7s\u001B[0m 251ms/step - accuracy: 0.6121 - loss: 1.1578 - val_accuracy: 0.3850 - val_loss: 2.0112\n",
      "Epoch 14/20\n",
      "\u001B[1m27/27\u001B[0m \u001B[32m━━━━━━━━━━━━━━━━━━━━\u001B[0m\u001B[37m\u001B[0m \u001B[1m7s\u001B[0m 265ms/step - accuracy: 0.6536 - loss: 0.9743 - val_accuracy: 0.3944 - val_loss: 1.9781\n",
      "Epoch 15/20\n",
      "\u001B[1m27/27\u001B[0m \u001B[32m━━━━━━━━━━━━━━━━━━━━\u001B[0m\u001B[37m\u001B[0m \u001B[1m7s\u001B[0m 258ms/step - accuracy: 0.7248 - loss: 0.7656 - val_accuracy: 0.3803 - val_loss: 2.1862\n",
      "Epoch 16/20\n",
      "\u001B[1m27/27\u001B[0m \u001B[32m━━━━━━━━━━━━━━━━━━━━\u001B[0m\u001B[37m\u001B[0m \u001B[1m7s\u001B[0m 255ms/step - accuracy: 0.7734 - loss: 0.6528 - val_accuracy: 0.3521 - val_loss: 2.0952\n",
      "Epoch 17/20\n",
      "\u001B[1m27/27\u001B[0m \u001B[32m━━━━━━━━━━━━━━━━━━━━\u001B[0m\u001B[37m\u001B[0m \u001B[1m7s\u001B[0m 247ms/step - accuracy: 0.7996 - loss: 0.6250 - val_accuracy: 0.4131 - val_loss: 2.1992\n",
      "Epoch 18/20\n",
      "\u001B[1m27/27\u001B[0m \u001B[32m━━━━━━━━━━━━━━━━━━━━\u001B[0m\u001B[37m\u001B[0m \u001B[1m7s\u001B[0m 264ms/step - accuracy: 0.8005 - loss: 0.5613 - val_accuracy: 0.3662 - val_loss: 2.3162\n",
      "Epoch 19/20\n",
      "\u001B[1m27/27\u001B[0m \u001B[32m━━━━━━━━━━━━━━━━━━━━\u001B[0m\u001B[37m\u001B[0m \u001B[1m7s\u001B[0m 264ms/step - accuracy: 0.8359 - loss: 0.4573 - val_accuracy: 0.3662 - val_loss: 2.3661\n",
      "Epoch 20/20\n",
      "\u001B[1m27/27\u001B[0m \u001B[32m━━━━━━━━━━━━━━━━━━━━\u001B[0m\u001B[37m\u001B[0m \u001B[1m7s\u001B[0m 248ms/step - accuracy: 0.8624 - loss: 0.4408 - val_accuracy: 0.3850 - val_loss: 2.3402\n"
     ]
    }
   ],
   "execution_count": 16
  },
  {
   "metadata": {},
   "cell_type": "markdown",
   "source": "#### 4. Evaluate the Model",
   "id": "e1f615baead945ef"
  },
  {
   "metadata": {
    "ExecuteTime": {
     "end_time": "2024-05-31T05:28:55.047610Z",
     "start_time": "2024-05-31T05:28:53.283501Z"
    }
   },
   "cell_type": "code",
   "source": [
    "from sklearn.metrics import classification_report, confusion_matrix\n",
    "import matplotlib.pyplot as plt\n",
    "import seaborn as sns\n",
    "\n",
    "# Predict on validation set\n",
    "y_pred = model.predict(X_val)\n",
    "y_pred_labels = np.argmax(y_pred, axis=1)\n",
    "y_val_labels = np.argmax(y_val, axis=1)\n",
    "\n",
    "# Classification report\n",
    "print(\"Conv1D Classifier Report on Raw Audio Data\")\n",
    "print(classification_report(y_val_labels, y_pred_labels, target_names=label_encoder.classes_, zero_division=0))\n",
    "\n",
    "# Plot confusion matrix\n",
    "cm = confusion_matrix(y_val_labels, y_pred_labels)\n",
    "plt.figure(figsize=(10, 7))\n",
    "sns.heatmap(cm, annot=True, fmt='d', cmap='Blues', xticklabels=label_encoder.classes_, yticklabels=label_encoder.classes_)\n",
    "plt.title('Confusion Matrix - Conv1D on Raw Audio')\n",
    "plt.xlabel('Predicted')\n",
    "plt.ylabel('True')\n",
    "plt.show()"
   ],
   "id": "ec2524e889201ef7",
   "outputs": [
    {
     "name": "stdout",
     "output_type": "stream",
     "text": [
      "\u001B[1m7/7\u001B[0m \u001B[32m━━━━━━━━━━━━━━━━━━━━\u001B[0m\u001B[37m\u001B[0m \u001B[1m1s\u001B[0m 76ms/step\n",
      "Conv1D Classifier Report on Raw Audio Data\n",
      "                 precision    recall  f1-score   support\n",
      "\n",
      "       Alarm an       0.40      0.43      0.41        14\n",
      "      Alarm aus       0.23      0.33      0.27         9\n",
      "   Fernseher an       0.33      0.40      0.36        15\n",
      "  Fernseher aus       0.11      0.09      0.10        11\n",
      "     Heizung an       0.29      0.36      0.32        11\n",
      "    Heizung aus       0.21      0.27      0.24        15\n",
      "       Licht an       0.69      0.79      0.73        14\n",
      "      Licht aus       0.42      0.61      0.50        18\n",
      "     Lüftung an       0.46      0.73      0.56        15\n",
      "    Lüftung aus       0.33      0.30      0.32        10\n",
      "        Ofen an       0.56      0.31      0.40        16\n",
      "       Ofen aus       0.11      0.09      0.10        11\n",
      "       Radio an       0.56      0.56      0.56        16\n",
      "      Radio aus       0.67      0.14      0.24        14\n",
      " Staubsauger an       0.33      0.18      0.24        11\n",
      "Staubsauger aus       0.43      0.23      0.30        13\n",
      "\n",
      "       accuracy                           0.38       213\n",
      "      macro avg       0.38      0.36      0.35       213\n",
      "   weighted avg       0.40      0.38      0.37       213\n",
      "\n"
     ]
    },
    {
     "data": {
      "text/plain": [
       "<Figure size 1000x700 with 2 Axes>"
      ],
      "image/png": "[encoded data removed]"
     },
     "metadata": {},
     "output_type": "display_data"
    }
   ],
   "execution_count": 17
  },
  {
   "metadata": {},
   "cell_type": "markdown",
   "source": [
    "### Summary\n",
    "\n",
    "This code uses your real audio data for training a Conv1D CNN. It includes:\n",
    "\n",
    "- Loading and preprocessing the raw audio data.\n",
    "- Reshaping the data to fit the Conv1D layer's expected input shape.\n",
    "- Defining a Conv1D CNN model using `tensorflow.keras`.\n",
    "- Training the model on your raw audio data.\n",
    "- Evaluating the model's performance on the validation set.\n",
    "\n",
    "You can now contrast the results from this model with those obtained using feature extraction to evaluate the benefits of feature extraction in your specific application."
   ],
   "id": "c92cf64131cacf55"
  },
  {
   "metadata": {},
   "cell_type": "markdown",
   "source": "### All-In-One:",
   "id": "6e57ab438c2503b0"
  },
  {
   "metadata": {
    "ExecuteTime": {
     "end_time": "2024-06-01T03:34:18.966103Z",
     "start_time": "2024-06-01T03:34:18.963979Z"
    }
   },
   "cell_type": "code",
   "source": "data_dir = '../dataset'",
   "id": "4e21cea53dfb0c2e",
   "outputs": [],
   "execution_count": 1
  },
  {
   "metadata": {
    "ExecuteTime": {
     "end_time": "2024-06-01T04:01:21.904506Z",
     "start_time": "2024-06-01T03:34:22.234790Z"
    }
   },
   "cell_type": "code",
   "source": [
    "import os\n",
    "import numpy as np\n",
    "import pandas as pd\n",
    "from sklearn.decomposition import FastICA\n",
    "from sklearn.preprocessing import LabelEncoder, StandardScaler\n",
    "from sklearn.model_selection import train_test_split\n",
    "from tensorflow.keras.models import Sequential, load_model\n",
    "from tensorflow.keras.layers import Conv1D, MaxPooling1D, Dropout, Flatten, Dense, Input\n",
    "from tensorflow.keras.utils import to_categorical\n",
    "import librosa\n",
    "import matplotlib.pyplot as plt\n",
    "import seaborn as sns\n",
    "from sklearn.metrics import confusion_matrix, classification_report\n",
    "\n",
    "#data_dir = '../dataset'\n",
    "model_save_path = 'command_model.h5'\n",
    "\n",
    "# Load the CSV file containing the annotations\n",
    "annotations = pd.read_csv(f'{data_dir}/development_scene_annotations.csv')\n",
    "\n",
    "# Function to check and handle NaNs and Infs\n",
    "def check_and_handle_nans_infs(array):\n",
    "    if np.isnan(array).any() or np.isinf(array).any():\n",
    "        array = np.nan_to_num(array)\n",
    "        array[np.isinf(array)] = 0\n",
    "    return array\n",
    "\n",
    "# Function to augment audio data\n",
    "def augment_audio(audio, sample_rate):\n",
    "    augmented_audio = []\n",
    "    \n",
    "    # Original\n",
    "    augmented_audio.append(audio)\n",
    "    \n",
    "    # Add noise\n",
    "    noise = np.random.randn(len(audio))\n",
    "    audio_noise = audio + 0.005 * noise\n",
    "    augmented_audio.append(audio_noise)\n",
    "\n",
    "    # Time shift\n",
    "    shift_range = int(sample_rate * 0.1)  # shift by up to 10% of sample rate\n",
    "    shift = np.random.randint(-shift_range, shift_range)\n",
    "    audio_shift = np.roll(audio, shift)\n",
    "    augmented_audio.append(audio_shift)\n",
    "    \n",
    "    # Change pitch\n",
    "    pitch_factor = np.random.uniform(-2, 2)\n",
    "    audio_pitch = librosa.effects.pitch_shift(audio, sr=sample_rate, n_steps=pitch_factor)\n",
    "    augmented_audio.append(audio_pitch)\n",
    "    \n",
    "    # Time stretch\n",
    "    stretch_factor = np.random.uniform(0.8, 1.2)\n",
    "    audio_stretch = librosa.effects.time_stretch(audio, rate=stretch_factor)\n",
    "    augmented_audio.append(audio_stretch)\n",
    "\n",
    "    # Dynamic Range Compression\n",
    "    audio_drc = librosa.effects.percussive(audio)\n",
    "    augmented_audio.append(audio_drc)\n",
    "\n",
    "    # Random Erasing (Zeroing out a part of the audio)\n",
    "    erase_length = np.random.randint(0, int(len(audio) * 0.1))\n",
    "    erase_start = np.random.randint(0, len(audio) - erase_length)\n",
    "    audio_erased = audio.copy()\n",
    "    audio_erased[erase_start:erase_start + erase_length] = 0\n",
    "    augmented_audio.append(audio_erased)\n",
    "\n",
    "    return augmented_audio\n",
    "\n",
    "# First pass to determine max_length after augmentation\n",
    "def first_pass(annotations):\n",
    "    all_lengths = []\n",
    "\n",
    "    for index, row in annotations.iterrows():\n",
    "        file_name = f\"{data_dir}/scenes/wav/{row['filename']}.wav\"\n",
    "        start_time = row['start']\n",
    "        end_time = row['end']\n",
    "\n",
    "        # Load audio file\n",
    "        audio, sample_rate = librosa.load(file_name, sr=None)\n",
    "\n",
    "        # Extract the relevant segment\n",
    "        start_sample = int(start_time * sample_rate)\n",
    "        end_sample = int(end_time * sample_rate)\n",
    "        audio_segment = audio[start_sample:end_sample]\n",
    "\n",
    "        # Normalize the audio segment\n",
    "        audio_segment = librosa.util.normalize(audio_segment)\n",
    "\n",
    "        # Apply data augmentation\n",
    "        augmented_segments = augment_audio(audio_segment, sample_rate)\n",
    "        \n",
    "        for segment in augmented_segments:\n",
    "            all_lengths.append(len(segment))\n",
    "\n",
    "    return all_lengths\n",
    "\n",
    "# Determine the maximum length after augmentation\n",
    "lengths = first_pass(annotations)\n",
    "max_length = int(np.percentile(lengths, 95))\n",
    "print(f\"Max length determined statistically: {max_length}\")\n",
    "\n",
    "# Second pass to preprocess and pad/crop audio segments\n",
    "def second_pass(annotations, max_length):\n",
    "    scaler = StandardScaler()\n",
    "    ica = FastICA(n_components=1, whiten='unit-variance')\n",
    "    audio_data = []\n",
    "    labels = []\n",
    "\n",
    "    for index, row in annotations.iterrows():\n",
    "        file_name = f\"{data_dir}/scenes/wav/{row['filename']}.wav\"\n",
    "        start_time = row['start']\n",
    "        end_time = row['end']\n",
    "\n",
    "        # Load audio file\n",
    "        audio, sample_rate = librosa.load(file_name, sr=None)\n",
    "\n",
    "        # Extract the relevant segment\n",
    "        start_sample = int(start_time * sample_rate)\n",
    "        end_sample = int(end_time * sample_rate)\n",
    "        audio_segment = audio[start_sample:end_sample]\n",
    "\n",
    "        # Normalize the audio segment\n",
    "        audio_segment = librosa.util.normalize(audio_segment)\n",
    "\n",
    "        # Apply data augmentation\n",
    "        augmented_segments = augment_audio(audio_segment, sample_rate)\n",
    "        \n",
    "        for segment in augmented_segments:\n",
    "            # Scale and apply ICA\n",
    "            segment_scaled = scaler.fit_transform(segment.reshape(-1, 1)).flatten()\n",
    "            segment_scaled = check_and_handle_nans_infs(segment_scaled)\n",
    "            segment_ica = ica.fit_transform(segment_scaled.reshape(-1, 1)).flatten()\n",
    "            segment_ica = check_and_handle_nans_infs(segment_ica)\n",
    "\n",
    "            # Pad/crop to max_length\n",
    "            if len(segment_ica) > max_length:\n",
    "                segment_ica = segment_ica[:max_length]\n",
    "            else:\n",
    "                segment_ica = np.pad(segment_ica, (0, max_length - len(segment_ica)), 'constant')\n",
    "\n",
    "            audio_data.append(segment_ica)\n",
    "            labels.append(row['command'])\n",
    "\n",
    "    return np.array(audio_data), labels\n",
    "\n",
    "# Load and preprocess the audio data with padding/cropping\n",
    "X, y = second_pass(annotations, max_length)\n",
    "\n",
    "# Reshape the ICA output for Conv1D\n",
    "X_ica_reshaped = X.reshape(X.shape[0], X.shape[1], 1)\n",
    "\n",
    "# Encode labels\n",
    "label_encoder = LabelEncoder()\n",
    "y_encoded = label_encoder.fit_transform(y)\n",
    "\n",
    "# Convert labels to categorical\n",
    "num_classes = len(np.unique(y_encoded))\n",
    "y_categorical = to_categorical(y_encoded, num_classes)\n",
    "\n",
    "# Split data into training and validation sets\n",
    "X_train, X_val, y_train, y_val = train_test_split(X_ica_reshaped, y_categorical, test_size=0.2, random_state=42)\n",
    "\n",
    "# Define the Conv1D model\n",
    "def create_model(input_shape, num_classes):\n",
    "    model = Sequential([\n",
    "        Input(shape=input_shape),\n",
    "        Conv1D(filters=8, kernel_size=13, padding='valid', activation='relu', strides=1),\n",
    "        MaxPooling1D(pool_size=3),\n",
    "        Dropout(0.3),\n",
    "        Conv1D(filters=16, kernel_size=11, padding='valid', activation='relu', strides=1),\n",
    "        MaxPooling1D(pool_size=3),\n",
    "        Dropout(0.3),\n",
    "        Conv1D(filters=32, kernel_size=9, padding='valid', activation='relu', strides=1),\n",
    "        MaxPooling1D(pool_size=3),\n",
    "        Dropout(0.3),\n",
    "        Conv1D(filters=64, kernel_size=7, padding='valid', activation='relu', strides=1),\n",
    "        MaxPooling1D(pool_size=3),\n",
    "        Dropout(0.3),\n",
    "        Flatten(),\n",
    "        Dense(256, activation='relu'),\n",
    "        Dropout(0.3),\n",
    "        Dense(128, activation='relu'),\n",
    "        Dropout(0.3),\n",
    "        Dense(num_classes, activation='softmax')\n",
    "    ])\n",
    "    return model\n",
    "\n",
    "# Create the model\n",
    "model = create_model((X_train.shape[1], 1), num_classes)\n",
    "\n",
    "# Compile the model\n",
    "model.compile(optimizer='adam', loss='categorical_crossentropy', metrics=['accuracy'])\n",
    "\n",
    "# Print the model summary\n",
    "model.summary()\n",
    "\n",
    "# Train the model\n",
    "history = model.fit(X_train, y_train, epochs=20, batch_size=32, validation_data=(X_val, y_val))\n",
    "\n",
    "# Evaluate the model\n",
    "y_pred = model.predict(X_val)\n",
    "y_pred_classes = np.argmax(y_pred, axis=1)\n",
    "y_val_classes = np.argmax(y_val, axis=1)\n",
    "\n",
    "# Classification report\n",
    "print(\"Conv1D Neural Network Classifier Report\")\n",
    "print(classification_report(y_val_classes, y_pred_classes, zero_division=0))\n",
    "\n",
    "# Confusion matrix\n",
    "conf_matrix = confusion_matrix(y_val_classes, y_pred_classes)\n",
    "plt.figure(figsize=(12, 8))\n",
    "sns.heatmap(conf_matrix, annot=True, fmt='d', cmap='Blues', xticklabels=label_encoder.classes_, yticklabels=label_encoder.classes_)\n",
    "plt.xlabel('Predicted Label')\n",
    "plt.ylabel('True Label')\n",
    "plt.title('Confusion Matrix')\n",
    "plt.show()\n",
    "\n",
    "# Learning curves\n",
    "plt.figure(figsize=(12, 6))\n",
    "plt.plot(history.history['loss'], label='Training Loss')\n",
    "plt.plot(history.history['val_loss'], label='Validation Loss')\n",
    "plt.plot(history.history['accuracy'], label='Training Accuracy')\n",
    "plt.plot(history.history['val_accuracy'], label='Validation Accuracy')\n",
    "plt.axvline(np.argmin(history.history['val_loss']), color='r', linestyle='--', label='Early Stopping Checkpoint')\n",
    "plt.xlabel('Epochs')\n",
    "plt.ylabel('Loss/Accuracy')\n",
    "plt.title('Learning Curves')\n",
    "plt.legend()\n",
    "plt.show()\n",
    "\n",
    "# Load the previous best model and evaluate its performance\n",
    "if os.path.exists(model_save_path):\n",
    "    previous_model = load_model(model_save_path)\n",
    "    previous_val_loss, previous_val_accuracy = previous_model.evaluate(X_val, y_val)\n",
    "    print(f\"Previous model validation accuracy: {previous_val_accuracy}\")\n",
    "else:\n",
    "    previous_val_accuracy = 0\n",
    "    print(\"No previous model found. Saving current model as the best model.\")\n",
    "\n",
    "# Compare the performance of the current model with the previous best model\n",
    "current_val_loss, current_val_accuracy = model.evaluate(X_val, y_val)\n",
    "print(f\"Current model validation accuracy: {current_val_accuracy}\")\n",
    "\n",
    "if current_val_accuracy > previous_val_accuracy:\n",
    "    print(\"Current model outperforms the previous model. Saving the current model.\")\n",
    "    model.save(model_save_path)\n",
    "else:\n",
    "    print(\"Previous model outperforms the current model. Keeping the previous model.\")\n",
    "\n",
    "# Code to experiment with model architecture and hyperparameters can be added here\n",
    "# For example, you can try different numbers of filters, kernel sizes, dropout rates, etc.\n",
    "# and compare the performance of the resulting models with the saved best model."
   ],
   "id": "3cac81f19381e4d2",
   "outputs": [
    {
     "name": "stderr",
     "output_type": "stream",
     "text": [
      "2024-06-01 05:34:25.601923: I tensorflow/core/platform/cpu_feature_guard.cc:210] This TensorFlow binary is optimized to use available CPU instructions in performance-critical operations.\n",
      "To enable the following instructions: AVX2 FMA, in other operations, rebuild TensorFlow with the appropriate compiler flags.\n",
      "/usr/local/lib/python3.11/site-packages/librosa/core/spectrum.py:266: UserWarning: n_fft=2048 is too large for input signal of length=800\n",
      "  warnings.warn(\n"
     ]
    },
    {
     "name": "stdout",
     "output_type": "stream",
     "text": [
      "Max length determined statistically: 34021\n"
     ]
    },
    {
     "name": "stderr",
     "output_type": "stream",
     "text": [
      "/usr/local/lib/python3.11/site-packages/librosa/core/spectrum.py:266: UserWarning: n_fft=2048 is too large for input signal of length=800\n",
      "  warnings.warn(\n"
     ]
    },
    {
     "data": {
      "text/plain": [
       "\u001B[1mModel: \"sequential\"\u001B[0m\n"
      ],
      "text/html": [
       "<pre style=\"white-space:pre;overflow-x:auto;line-height:normal;font-family:Menlo,'DejaVu Sans Mono',consolas,'Courier New',monospace\"><span style=\"font-weight: bold\">Model: \"sequential\"</span>\n",
       "</pre>\n"
      ]
     },
     "metadata": {},
     "output_type": "display_data"
    },
    {
     "data": {
      "text/plain": [
       "┏━━━━━━━━━━━━━━━━━━━━━━━━━━━━━━━━━━━━━━┳━━━━━━━━━━━━━━━━━━━━━━━━━━━━━┳━━━━━━━━━━━━━━━━━┓\n",
       "┃\u001B[1m \u001B[0m\u001B[1mLayer (type)                        \u001B[0m\u001B[1m \u001B[0m┃\u001B[1m \u001B[0m\u001B[1mOutput Shape               \u001B[0m\u001B[1m \u001B[0m┃\u001B[1m \u001B[0m\u001B[1m        Param #\u001B[0m\u001B[1m \u001B[0m┃\n",
       "┡━━━━━━━━━━━━━━━━━━━━━━━━━━━━━━━━━━━━━━╇━━━━━━━━━━━━━━━━━━━━━━━━━━━━━╇━━━━━━━━━━━━━━━━━┩\n",
       "│ conv1d (\u001B[38;5;33mConv1D\u001B[0m)                      │ (\u001B[38;5;45mNone\u001B[0m, \u001B[38;5;34m34009\u001B[0m, \u001B[38;5;34m8\u001B[0m)            │             \u001B[38;5;34m112\u001B[0m │\n",
       "├──────────────────────────────────────┼─────────────────────────────┼─────────────────┤\n",
       "│ max_pooling1d (\u001B[38;5;33mMaxPooling1D\u001B[0m)         │ (\u001B[38;5;45mNone\u001B[0m, \u001B[38;5;34m11336\u001B[0m, \u001B[38;5;34m8\u001B[0m)            │               \u001B[38;5;34m0\u001B[0m │\n",
       "├──────────────────────────────────────┼─────────────────────────────┼─────────────────┤\n",
       "│ dropout (\u001B[38;5;33mDropout\u001B[0m)                    │ (\u001B[38;5;45mNone\u001B[0m, \u001B[38;5;34m11336\u001B[0m, \u001B[38;5;34m8\u001B[0m)            │               \u001B[38;5;34m0\u001B[0m │\n",
       "├──────────────────────────────────────┼─────────────────────────────┼─────────────────┤\n",
       "│ conv1d_1 (\u001B[38;5;33mConv1D\u001B[0m)                    │ (\u001B[38;5;45mNone\u001B[0m, \u001B[38;5;34m11326\u001B[0m, \u001B[38;5;34m16\u001B[0m)           │           \u001B[38;5;34m1,424\u001B[0m │\n",
       "├──────────────────────────────────────┼─────────────────────────────┼─────────────────┤\n",
       "│ max_pooling1d_1 (\u001B[38;5;33mMaxPooling1D\u001B[0m)       │ (\u001B[38;5;45mNone\u001B[0m, \u001B[38;5;34m3775\u001B[0m, \u001B[38;5;34m16\u001B[0m)            │               \u001B[38;5;34m0\u001B[0m │\n",
       "├──────────────────────────────────────┼─────────────────────────────┼─────────────────┤\n",
       "│ dropout_1 (\u001B[38;5;33mDropout\u001B[0m)                  │ (\u001B[38;5;45mNone\u001B[0m, \u001B[38;5;34m3775\u001B[0m, \u001B[38;5;34m16\u001B[0m)            │               \u001B[38;5;34m0\u001B[0m │\n",
       "├──────────────────────────────────────┼─────────────────────────────┼─────────────────┤\n",
       "│ conv1d_2 (\u001B[38;5;33mConv1D\u001B[0m)                    │ (\u001B[38;5;45mNone\u001B[0m, \u001B[38;5;34m3767\u001B[0m, \u001B[38;5;34m32\u001B[0m)            │           \u001B[38;5;34m4,640\u001B[0m │\n",
       "├──────────────────────────────────────┼─────────────────────────────┼─────────────────┤\n",
       "│ max_pooling1d_2 (\u001B[38;5;33mMaxPooling1D\u001B[0m)       │ (\u001B[38;5;45mNone\u001B[0m, \u001B[38;5;34m1255\u001B[0m, \u001B[38;5;34m32\u001B[0m)            │               \u001B[38;5;34m0\u001B[0m │\n",
       "├──────────────────────────────────────┼─────────────────────────────┼─────────────────┤\n",
       "│ dropout_2 (\u001B[38;5;33mDropout\u001B[0m)                  │ (\u001B[38;5;45mNone\u001B[0m, \u001B[38;5;34m1255\u001B[0m, \u001B[38;5;34m32\u001B[0m)            │               \u001B[38;5;34m0\u001B[0m │\n",
       "├──────────────────────────────────────┼─────────────────────────────┼─────────────────┤\n",
       "│ conv1d_3 (\u001B[38;5;33mConv1D\u001B[0m)                    │ (\u001B[38;5;45mNone\u001B[0m, \u001B[38;5;34m1249\u001B[0m, \u001B[38;5;34m64\u001B[0m)            │          \u001B[38;5;34m14,400\u001B[0m │\n",
       "├──────────────────────────────────────┼─────────────────────────────┼─────────────────┤\n",
       "│ max_pooling1d_3 (\u001B[38;5;33mMaxPooling1D\u001B[0m)       │ (\u001B[38;5;45mNone\u001B[0m, \u001B[38;5;34m416\u001B[0m, \u001B[38;5;34m64\u001B[0m)             │               \u001B[38;5;34m0\u001B[0m │\n",
       "├──────────────────────────────────────┼─────────────────────────────┼─────────────────┤\n",
       "│ dropout_3 (\u001B[38;5;33mDropout\u001B[0m)                  │ (\u001B[38;5;45mNone\u001B[0m, \u001B[38;5;34m416\u001B[0m, \u001B[38;5;34m64\u001B[0m)             │               \u001B[38;5;34m0\u001B[0m │\n",
       "├──────────────────────────────────────┼─────────────────────────────┼─────────────────┤\n",
       "│ flatten (\u001B[38;5;33mFlatten\u001B[0m)                    │ (\u001B[38;5;45mNone\u001B[0m, \u001B[38;5;34m26624\u001B[0m)               │               \u001B[38;5;34m0\u001B[0m │\n",
       "├──────────────────────────────────────┼─────────────────────────────┼─────────────────┤\n",
       "│ dense (\u001B[38;5;33mDense\u001B[0m)                        │ (\u001B[38;5;45mNone\u001B[0m, \u001B[38;5;34m256\u001B[0m)                 │       \u001B[38;5;34m6,816,000\u001B[0m │\n",
       "├──────────────────────────────────────┼─────────────────────────────┼─────────────────┤\n",
       "│ dropout_4 (\u001B[38;5;33mDropout\u001B[0m)                  │ (\u001B[38;5;45mNone\u001B[0m, \u001B[38;5;34m256\u001B[0m)                 │               \u001B[38;5;34m0\u001B[0m │\n",
       "├──────────────────────────────────────┼─────────────────────────────┼─────────────────┤\n",
       "│ dense_1 (\u001B[38;5;33mDense\u001B[0m)                      │ (\u001B[38;5;45mNone\u001B[0m, \u001B[38;5;34m128\u001B[0m)                 │          \u001B[38;5;34m32,896\u001B[0m │\n",
       "├──────────────────────────────────────┼─────────────────────────────┼─────────────────┤\n",
       "│ dropout_5 (\u001B[38;5;33mDropout\u001B[0m)                  │ (\u001B[38;5;45mNone\u001B[0m, \u001B[38;5;34m128\u001B[0m)                 │               \u001B[38;5;34m0\u001B[0m │\n",
       "├──────────────────────────────────────┼─────────────────────────────┼─────────────────┤\n",
       "│ dense_2 (\u001B[38;5;33mDense\u001B[0m)                      │ (\u001B[38;5;45mNone\u001B[0m, \u001B[38;5;34m16\u001B[0m)                  │           \u001B[38;5;34m2,064\u001B[0m │\n",
       "└──────────────────────────────────────┴─────────────────────────────┴─────────────────┘\n"
      ],
      "text/html": [
       "<pre style=\"white-space:pre;overflow-x:auto;line-height:normal;font-family:Menlo,'DejaVu Sans Mono',consolas,'Courier New',monospace\">┏━━━━━━━━━━━━━━━━━━━━━━━━━━━━━━━━━━━━━━┳━━━━━━━━━━━━━━━━━━━━━━━━━━━━━┳━━━━━━━━━━━━━━━━━┓\n",
       "┃<span style=\"font-weight: bold\"> Layer (type)                         </span>┃<span style=\"font-weight: bold\"> Output Shape                </span>┃<span style=\"font-weight: bold\">         Param # </span>┃\n",
       "┡━━━━━━━━━━━━━━━━━━━━━━━━━━━━━━━━━━━━━━╇━━━━━━━━━━━━━━━━━━━━━━━━━━━━━╇━━━━━━━━━━━━━━━━━┩\n",
       "│ conv1d (<span style=\"color: #0087ff; text-decoration-color: #0087ff\">Conv1D</span>)                      │ (<span style=\"color: #00d7ff; text-decoration-color: #00d7ff\">None</span>, <span style=\"color: #00af00; text-decoration-color: #00af00\">34009</span>, <span style=\"color: #00af00; text-decoration-color: #00af00\">8</span>)            │             <span style=\"color: #00af00; text-decoration-color: #00af00\">112</span> │\n",
       "├──────────────────────────────────────┼─────────────────────────────┼─────────────────┤\n",
       "│ max_pooling1d (<span style=\"color: #0087ff; text-decoration-color: #0087ff\">MaxPooling1D</span>)         │ (<span style=\"color: #00d7ff; text-decoration-color: #00d7ff\">None</span>, <span style=\"color: #00af00; text-decoration-color: #00af00\">11336</span>, <span style=\"color: #00af00; text-decoration-color: #00af00\">8</span>)            │               <span style=\"color: #00af00; text-decoration-color: #00af00\">0</span> │\n",
       "├──────────────────────────────────────┼─────────────────────────────┼─────────────────┤\n",
       "│ dropout (<span style=\"color: #0087ff; text-decoration-color: #0087ff\">Dropout</span>)                    │ (<span style=\"color: #00d7ff; text-decoration-color: #00d7ff\">None</span>, <span style=\"color: #00af00; text-decoration-color: #00af00\">11336</span>, <span style=\"color: #00af00; text-decoration-color: #00af00\">8</span>)            │               <span style=\"color: #00af00; text-decoration-color: #00af00\">0</span> │\n",
       "├──────────────────────────────────────┼─────────────────────────────┼─────────────────┤\n",
       "│ conv1d_1 (<span style=\"color: #0087ff; text-decoration-color: #0087ff\">Conv1D</span>)                    │ (<span style=\"color: #00d7ff; text-decoration-color: #00d7ff\">None</span>, <span style=\"color: #00af00; text-decoration-color: #00af00\">11326</span>, <span style=\"color: #00af00; text-decoration-color: #00af00\">16</span>)           │           <span style=\"color: #00af00; text-decoration-color: #00af00\">1,424</span> │\n",
       "├──────────────────────────────────────┼─────────────────────────────┼─────────────────┤\n",
       "│ max_pooling1d_1 (<span style=\"color: #0087ff; text-decoration-color: #0087ff\">MaxPooling1D</span>)       │ (<span style=\"color: #00d7ff; text-decoration-color: #00d7ff\">None</span>, <span style=\"color: #00af00; text-decoration-color: #00af00\">3775</span>, <span style=\"color: #00af00; text-decoration-color: #00af00\">16</span>)            │               <span style=\"color: #00af00; text-decoration-color: #00af00\">0</span> │\n",
       "├──────────────────────────────────────┼─────────────────────────────┼─────────────────┤\n",
       "│ dropout_1 (<span style=\"color: #0087ff; text-decoration-color: #0087ff\">Dropout</span>)                  │ (<span style=\"color: #00d7ff; text-decoration-color: #00d7ff\">None</span>, <span style=\"color: #00af00; text-decoration-color: #00af00\">3775</span>, <span style=\"color: #00af00; text-decoration-color: #00af00\">16</span>)            │               <span style=\"color: #00af00; text-decoration-color: #00af00\">0</span> │\n",
       "├──────────────────────────────────────┼─────────────────────────────┼─────────────────┤\n",
       "│ conv1d_2 (<span style=\"color: #0087ff; text-decoration-color: #0087ff\">Conv1D</span>)                    │ (<span style=\"color: #00d7ff; text-decoration-color: #00d7ff\">None</span>, <span style=\"color: #00af00; text-decoration-color: #00af00\">3767</span>, <span style=\"color: #00af00; text-decoration-color: #00af00\">32</span>)            │           <span style=\"color: #00af00; text-decoration-color: #00af00\">4,640</span> │\n",
       "├──────────────────────────────────────┼─────────────────────────────┼─────────────────┤\n",
       "│ max_pooling1d_2 (<span style=\"color: #0087ff; text-decoration-color: #0087ff\">MaxPooling1D</span>)       │ (<span style=\"color: #00d7ff; text-decoration-color: #00d7ff\">None</span>, <span style=\"color: #00af00; text-decoration-color: #00af00\">1255</span>, <span style=\"color: #00af00; text-decoration-color: #00af00\">32</span>)            │               <span style=\"color: #00af00; text-decoration-color: #00af00\">0</span> │\n",
       "├──────────────────────────────────────┼─────────────────────────────┼─────────────────┤\n",
       "│ dropout_2 (<span style=\"color: #0087ff; text-decoration-color: #0087ff\">Dropout</span>)                  │ (<span style=\"color: #00d7ff; text-decoration-color: #00d7ff\">None</span>, <span style=\"color: #00af00; text-decoration-color: #00af00\">1255</span>, <span style=\"color: #00af00; text-decoration-color: #00af00\">32</span>)            │               <span style=\"color: #00af00; text-decoration-color: #00af00\">0</span> │\n",
       "├──────────────────────────────────────┼─────────────────────────────┼─────────────────┤\n",
       "│ conv1d_3 (<span style=\"color: #0087ff; text-decoration-color: #0087ff\">Conv1D</span>)                    │ (<span style=\"color: #00d7ff; text-decoration-color: #00d7ff\">None</span>, <span style=\"color: #00af00; text-decoration-color: #00af00\">1249</span>, <span style=\"color: #00af00; text-decoration-color: #00af00\">64</span>)            │          <span style=\"color: #00af00; text-decoration-color: #00af00\">14,400</span> │\n",
       "├──────────────────────────────────────┼─────────────────────────────┼─────────────────┤\n",
       "│ max_pooling1d_3 (<span style=\"color: #0087ff; text-decoration-color: #0087ff\">MaxPooling1D</span>)       │ (<span style=\"color: #00d7ff; text-decoration-color: #00d7ff\">None</span>, <span style=\"color: #00af00; text-decoration-color: #00af00\">416</span>, <span style=\"color: #00af00; text-decoration-color: #00af00\">64</span>)             │               <span style=\"color: #00af00; text-decoration-color: #00af00\">0</span> │\n",
       "├──────────────────────────────────────┼─────────────────────────────┼─────────────────┤\n",
       "│ dropout_3 (<span style=\"color: #0087ff; text-decoration-color: #0087ff\">Dropout</span>)                  │ (<span style=\"color: #00d7ff; text-decoration-color: #00d7ff\">None</span>, <span style=\"color: #00af00; text-decoration-color: #00af00\">416</span>, <span style=\"color: #00af00; text-decoration-color: #00af00\">64</span>)             │               <span style=\"color: #00af00; text-decoration-color: #00af00\">0</span> │\n",
       "├──────────────────────────────────────┼─────────────────────────────┼─────────────────┤\n",
       "│ flatten (<span style=\"color: #0087ff; text-decoration-color: #0087ff\">Flatten</span>)                    │ (<span style=\"color: #00d7ff; text-decoration-color: #00d7ff\">None</span>, <span style=\"color: #00af00; text-decoration-color: #00af00\">26624</span>)               │               <span style=\"color: #00af00; text-decoration-color: #00af00\">0</span> │\n",
       "├──────────────────────────────────────┼─────────────────────────────┼─────────────────┤\n",
       "│ dense (<span style=\"color: #0087ff; text-decoration-color: #0087ff\">Dense</span>)                        │ (<span style=\"color: #00d7ff; text-decoration-color: #00d7ff\">None</span>, <span style=\"color: #00af00; text-decoration-color: #00af00\">256</span>)                 │       <span style=\"color: #00af00; text-decoration-color: #00af00\">6,816,000</span> │\n",
       "├──────────────────────────────────────┼─────────────────────────────┼─────────────────┤\n",
       "│ dropout_4 (<span style=\"color: #0087ff; text-decoration-color: #0087ff\">Dropout</span>)                  │ (<span style=\"color: #00d7ff; text-decoration-color: #00d7ff\">None</span>, <span style=\"color: #00af00; text-decoration-color: #00af00\">256</span>)                 │               <span style=\"color: #00af00; text-decoration-color: #00af00\">0</span> │\n",
       "├──────────────────────────────────────┼─────────────────────────────┼─────────────────┤\n",
       "│ dense_1 (<span style=\"color: #0087ff; text-decoration-color: #0087ff\">Dense</span>)                      │ (<span style=\"color: #00d7ff; text-decoration-color: #00d7ff\">None</span>, <span style=\"color: #00af00; text-decoration-color: #00af00\">128</span>)                 │          <span style=\"color: #00af00; text-decoration-color: #00af00\">32,896</span> │\n",
       "├──────────────────────────────────────┼─────────────────────────────┼─────────────────┤\n",
       "│ dropout_5 (<span style=\"color: #0087ff; text-decoration-color: #0087ff\">Dropout</span>)                  │ (<span style=\"color: #00d7ff; text-decoration-color: #00d7ff\">None</span>, <span style=\"color: #00af00; text-decoration-color: #00af00\">128</span>)                 │               <span style=\"color: #00af00; text-decoration-color: #00af00\">0</span> │\n",
       "├──────────────────────────────────────┼─────────────────────────────┼─────────────────┤\n",
       "│ dense_2 (<span style=\"color: #0087ff; text-decoration-color: #0087ff\">Dense</span>)                      │ (<span style=\"color: #00d7ff; text-decoration-color: #00d7ff\">None</span>, <span style=\"color: #00af00; text-decoration-color: #00af00\">16</span>)                  │           <span style=\"color: #00af00; text-decoration-color: #00af00\">2,064</span> │\n",
       "└──────────────────────────────────────┴─────────────────────────────┴─────────────────┘\n",
       "</pre>\n"
      ]
     },
     "metadata": {},
     "output_type": "display_data"
    },
    {
     "data": {
      "text/plain": [
       "\u001B[1m Total params: \u001B[0m\u001B[38;5;34m6,871,536\u001B[0m (26.21 MB)\n"
      ],
      "text/html": [
       "<pre style=\"white-space:pre;overflow-x:auto;line-height:normal;font-family:Menlo,'DejaVu Sans Mono',consolas,'Courier New',monospace\"><span style=\"font-weight: bold\"> Total params: </span><span style=\"color: #00af00; text-decoration-color: #00af00\">6,871,536</span> (26.21 MB)\n",
       "</pre>\n"
      ]
     },
     "metadata": {},
     "output_type": "display_data"
    },
    {
     "data": {
      "text/plain": [
       "\u001B[1m Trainable params: \u001B[0m\u001B[38;5;34m6,871,536\u001B[0m (26.21 MB)\n"
      ],
      "text/html": [
       "<pre style=\"white-space:pre;overflow-x:auto;line-height:normal;font-family:Menlo,'DejaVu Sans Mono',consolas,'Courier New',monospace\"><span style=\"font-weight: bold\"> Trainable params: </span><span style=\"color: #00af00; text-decoration-color: #00af00\">6,871,536</span> (26.21 MB)\n",
       "</pre>\n"
      ]
     },
     "metadata": {},
     "output_type": "display_data"
    },
    {
     "data": {
      "text/plain": [
       "\u001B[1m Non-trainable params: \u001B[0m\u001B[38;5;34m0\u001B[0m (0.00 B)\n"
      ],
      "text/html": [
       "<pre style=\"white-space:pre;overflow-x:auto;line-height:normal;font-family:Menlo,'DejaVu Sans Mono',consolas,'Courier New',monospace\"><span style=\"font-weight: bold\"> Non-trainable params: </span><span style=\"color: #00af00; text-decoration-color: #00af00\">0</span> (0.00 B)\n",
       "</pre>\n"
      ]
     },
     "metadata": {},
     "output_type": "display_data"
    },
    {
     "name": "stdout",
     "output_type": "stream",
     "text": [
      "Epoch 1/20\n",
      "\u001B[1m187/187\u001B[0m \u001B[32m━━━━━━━━━━━━━━━━━━━━\u001B[0m\u001B[37m\u001B[0m \u001B[1m65s\u001B[0m 336ms/step - accuracy: 0.1009 - loss: 2.8229 - val_accuracy: 0.2072 - val_loss: 2.4516\n",
      "Epoch 2/20\n",
      "\u001B[1m187/187\u001B[0m \u001B[32m━━━━━━━━━━━━━━━━━━━━\u001B[0m\u001B[37m\u001B[0m \u001B[1m68s\u001B[0m 366ms/step - accuracy: 0.2924 - loss: 2.1732 - val_accuracy: 0.5822 - val_loss: 1.5067\n",
      "Epoch 3/20\n",
      "\u001B[1m187/187\u001B[0m \u001B[32m━━━━━━━━━━━━━━━━━━━━\u001B[0m\u001B[37m\u001B[0m \u001B[1m70s\u001B[0m 374ms/step - accuracy: 0.5468 - loss: 1.3825 - val_accuracy: 0.6707 - val_loss: 1.0936\n",
      "Epoch 4/20\n",
      "\u001B[1m187/187\u001B[0m \u001B[32m━━━━━━━━━━━━━━━━━━━━\u001B[0m\u001B[37m\u001B[0m \u001B[1m72s\u001B[0m 384ms/step - accuracy: 0.6903 - loss: 0.9583 - val_accuracy: 0.7525 - val_loss: 0.8611\n",
      "Epoch 5/20\n",
      "\u001B[1m187/187\u001B[0m \u001B[32m━━━━━━━━━━━━━━━━━━━━\u001B[0m\u001B[37m\u001B[0m \u001B[1m68s\u001B[0m 363ms/step - accuracy: 0.7637 - loss: 0.7293 - val_accuracy: 0.8592 - val_loss: 0.5140\n",
      "Epoch 6/20\n",
      "\u001B[1m187/187\u001B[0m \u001B[32m━━━━━━━━━━━━━━━━━━━━\u001B[0m\u001B[37m\u001B[0m \u001B[1m69s\u001B[0m 367ms/step - accuracy: 0.8342 - loss: 0.5136 - val_accuracy: 0.8598 - val_loss: 0.4906\n",
      "Epoch 7/20\n",
      "\u001B[1m187/187\u001B[0m \u001B[32m━━━━━━━━━━━━━━━━━━━━\u001B[0m\u001B[37m\u001B[0m \u001B[1m67s\u001B[0m 358ms/step - accuracy: 0.8667 - loss: 0.4082 - val_accuracy: 0.9007 - val_loss: 0.3452\n",
      "Epoch 8/20\n",
      "\u001B[1m187/187\u001B[0m \u001B[32m━━━━━━━━━━━━━━━━━━━━\u001B[0m\u001B[37m\u001B[0m \u001B[1m72s\u001B[0m 383ms/step - accuracy: 0.8899 - loss: 0.3366 - val_accuracy: 0.9202 - val_loss: 0.2734\n",
      "Epoch 9/20\n",
      "\u001B[1m187/187\u001B[0m \u001B[32m━━━━━━━━━━━━━━━━━━━━\u001B[0m\u001B[37m\u001B[0m \u001B[1m72s\u001B[0m 384ms/step - accuracy: 0.9042 - loss: 0.2911 - val_accuracy: 0.9215 - val_loss: 0.2871\n",
      "Epoch 10/20\n",
      "\u001B[1m187/187\u001B[0m \u001B[32m━━━━━━━━━━━━━━━━━━━━\u001B[0m\u001B[37m\u001B[0m \u001B[1m73s\u001B[0m 392ms/step - accuracy: 0.9155 - loss: 0.2556 - val_accuracy: 0.9256 - val_loss: 0.2859\n",
      "Epoch 11/20\n",
      "\u001B[1m187/187\u001B[0m \u001B[32m━━━━━━━━━━━━━━━━━━━━\u001B[0m\u001B[37m\u001B[0m \u001B[1m74s\u001B[0m 395ms/step - accuracy: 0.9319 - loss: 0.2054 - val_accuracy: 0.9242 - val_loss: 0.2698\n",
      "Epoch 12/20\n",
      "\u001B[1m187/187\u001B[0m \u001B[32m━━━━━━━━━━━━━━━━━━━━\u001B[0m\u001B[37m\u001B[0m \u001B[1m73s\u001B[0m 388ms/step - accuracy: 0.9361 - loss: 0.2003 - val_accuracy: 0.9249 - val_loss: 0.2571\n",
      "Epoch 13/20\n",
      "\u001B[1m187/187\u001B[0m \u001B[32m━━━━━━━━━━━━━━━━━━━━\u001B[0m\u001B[37m\u001B[0m \u001B[1m72s\u001B[0m 387ms/step - accuracy: 0.9421 - loss: 0.1733 - val_accuracy: 0.9256 - val_loss: 0.2592\n",
      "Epoch 14/20\n",
      "\u001B[1m187/187\u001B[0m \u001B[32m━━━━━━━━━━━━━━━━━━━━\u001B[0m\u001B[37m\u001B[0m \u001B[1m74s\u001B[0m 398ms/step - accuracy: 0.9499 - loss: 0.1599 - val_accuracy: 0.9410 - val_loss: 0.2241\n",
      "Epoch 15/20\n",
      "\u001B[1m187/187\u001B[0m \u001B[32m━━━━━━━━━━━━━━━━━━━━\u001B[0m\u001B[37m\u001B[0m \u001B[1m74s\u001B[0m 393ms/step - accuracy: 0.9612 - loss: 0.1266 - val_accuracy: 0.9343 - val_loss: 0.2142\n",
      "Epoch 16/20\n",
      "\u001B[1m187/187\u001B[0m \u001B[32m━━━━━━━━━━━━━━━━━━━━\u001B[0m\u001B[37m\u001B[0m \u001B[1m71s\u001B[0m 380ms/step - accuracy: 0.9456 - loss: 0.1665 - val_accuracy: 0.9396 - val_loss: 0.2159\n",
      "Epoch 17/20\n",
      "\u001B[1m187/187\u001B[0m \u001B[32m━━━━━━━━━━━━━━━━━━━━\u001B[0m\u001B[37m\u001B[0m \u001B[1m73s\u001B[0m 390ms/step - accuracy: 0.9642 - loss: 0.1204 - val_accuracy: 0.9349 - val_loss: 0.2328\n",
      "Epoch 18/20\n",
      "\u001B[1m187/187\u001B[0m \u001B[32m━━━━━━━━━━━━━━━━━━━━\u001B[0m\u001B[37m\u001B[0m \u001B[1m72s\u001B[0m 387ms/step - accuracy: 0.9538 - loss: 0.1462 - val_accuracy: 0.9376 - val_loss: 0.2249\n",
      "Epoch 19/20\n",
      "\u001B[1m187/187\u001B[0m \u001B[32m━━━━━━━━━━━━━━━━━━━━\u001B[0m\u001B[37m\u001B[0m \u001B[1m72s\u001B[0m 384ms/step - accuracy: 0.9662 - loss: 0.1045 - val_accuracy: 0.9437 - val_loss: 0.1987\n",
      "Epoch 20/20\n",
      "\u001B[1m187/187\u001B[0m \u001B[32m━━━━━━━━━━━━━━━━━━━━\u001B[0m\u001B[37m\u001B[0m \u001B[1m71s\u001B[0m 379ms/step - accuracy: 0.9708 - loss: 0.1019 - val_accuracy: 0.9370 - val_loss: 0.2304\n",
      "\u001B[1m47/47\u001B[0m \u001B[32m━━━━━━━━━━━━━━━━━━━━\u001B[0m\u001B[37m\u001B[0m \u001B[1m4s\u001B[0m 80ms/step\n",
      "Conv1D Neural Network Classifier Report\n",
      "              precision    recall  f1-score   support\n",
      "\n",
      "           0       0.95      0.93      0.94        98\n",
      "           1       0.98      0.96      0.97        90\n",
      "           2       0.90      0.89      0.90       102\n",
      "           3       0.90      0.91      0.91        79\n",
      "           4       0.96      0.95      0.95       122\n",
      "           5       0.99      0.94      0.96        94\n",
      "           6       0.89      0.97      0.93        96\n",
      "           7       0.96      0.98      0.97       101\n",
      "           8       0.89      0.95      0.92        78\n",
      "           9       0.89      0.91      0.90        87\n",
      "          10       0.94      0.94      0.94        87\n",
      "          11       0.98      0.96      0.97       100\n",
      "          12       0.88      0.93      0.90        98\n",
      "          13       0.96      0.94      0.95        99\n",
      "          14       0.99      0.92      0.95        78\n",
      "          15       0.96      0.90      0.93        82\n",
      "\n",
      "    accuracy                           0.94      1491\n",
      "   macro avg       0.94      0.94      0.94      1491\n",
      "weighted avg       0.94      0.94      0.94      1491\n",
      "\n"
     ]
    },
    {
     "data": {
      "text/plain": [
       "<Figure size 1200x800 with 2 Axes>"
      ],
      "image/png": "[encoded data removed]"
     },
     "metadata": {},
     "output_type": "display_data"
    },
    {
     "data": {
      "text/plain": [
       "<Figure size 1200x600 with 1 Axes>"
      ],
      "image/png": "[encoded data removed]"
     },
     "metadata": {},
     "output_type": "display_data"
    },
    {
     "name": "stderr",
     "output_type": "stream",
     "text": [
      "WARNING:absl:Compiled the loaded model, but the compiled metrics have yet to be built. `model.compile_metrics` will be empty until you train or evaluate the model.\n"
     ]
    },
    {
     "name": "stdout",
     "output_type": "stream",
     "text": [
      "\u001B[1m47/47\u001B[0m \u001B[32m━━━━━━━━━━━━━━━━━━━━\u001B[0m\u001B[37m\u001B[0m \u001B[1m4s\u001B[0m 80ms/step - accuracy: 0.9265 - loss: 0.2788\n",
      "Previous model validation accuracy: 0.9315895438194275\n",
      "\u001B[1m47/47\u001B[0m \u001B[32m━━━━━━━━━━━━━━━━━━━━\u001B[0m\u001B[37m\u001B[0m \u001B[1m4s\u001B[0m 82ms/step - accuracy: 0.9247 - loss: 0.2627\n"
     ]
    },
    {
     "name": "stderr",
     "output_type": "stream",
     "text": [
      "WARNING:absl:You are saving your model as an HDF5 file via `model.save()` or `keras.saving.save_model(model)`. This file format is considered legacy. We recommend using instead the native Keras format, e.g. `model.save('my_model.keras')` or `keras.saving.save_model(model, 'my_model.keras')`. \n"
     ]
    },
    {
     "name": "stdout",
     "output_type": "stream",
     "text": [
      "Current model validation accuracy: 0.9369550347328186\n",
      "Current model outperforms the previous model. Saving the current model.\n"
     ]
    }
   ],
   "execution_count": 2
  },
  {
   "metadata": {
    "jupyter": {
     "is_executing": true
    },
    "ExecuteTime": {
     "start_time": "2024-06-02T08:29:15.784335Z"
    }
   },
   "cell_type": "code",
   "source": [
    "import os\n",
    "import numpy as np\n",
    "import pandas as pd\n",
    "from sklearn.decomposition import FastICA\n",
    "from sklearn.preprocessing import LabelEncoder, StandardScaler\n",
    "from sklearn.model_selection import train_test_split\n",
    "from tensorflow.keras.models import Sequential, load_model\n",
    "from tensorflow.keras.layers import Conv1D, MaxPooling1D, Dropout, Flatten, Dense, Input\n",
    "from tensorflow.keras.utils import to_categorical\n",
    "import librosa\n",
    "import matplotlib.pyplot as plt\n",
    "import seaborn as sns\n",
    "from sklearn.metrics import confusion_matrix, classification_report\n",
    "import json\n",
    "\n",
    "data_dir = '../dataset'\n",
    "model_save_path = f'{data_dir}/command_model.h5'\n",
    "\n",
    "# Load the CSV file containing the annotations\n",
    "annotations = pd.read_csv(f'{data_dir}/development_scene_annotations.csv')\n",
    "\n",
    "# Function to check and handle NaNs and Infs\n",
    "def check_and_handle_nans_infs(array):\n",
    "    if np.isnan(array).any() or np.isinf(array).any():\n",
    "        array = np.nan_to_num(array)\n",
    "        array[np.isinf(array)] = 0\n",
    "    return array\n",
    "\n",
    "# Function to augment audio data\n",
    "def augment_audio(audio, sample_rate):\n",
    "    augmented_audio = []\n",
    "    \n",
    "    # Original\n",
    "    augmented_audio.append(audio)\n",
    "    \n",
    "    # Add noise\n",
    "    noise = np.random.randn(len(audio))\n",
    "    audio_noise = audio + 0.005 * noise\n",
    "    augmented_audio.append(audio_noise)\n",
    "\n",
    "    # Time shift\n",
    "    shift_range = int(sample_rate * 0.1)  # shift by up to 10% of sample rate\n",
    "    shift = np.random.randint(-shift_range, shift_range)\n",
    "    audio_shift = np.roll(audio, shift)\n",
    "    augmented_audio.append(audio_shift)\n",
    "    \n",
    "    # Change pitch\n",
    "    pitch_factor = np.random.uniform(-2, 2)\n",
    "    audio_pitch = librosa.effects.pitch_shift(audio, sr=sample_rate, n_steps=pitch_factor)\n",
    "    augmented_audio.append(audio_pitch)\n",
    "    \n",
    "    # Time stretch\n",
    "    stretch_factor = np.random.uniform(0.8, 1.2)\n",
    "    audio_stretch = librosa.effects.time_stretch(audio, rate=stretch_factor)\n",
    "    augmented_audio.append(audio_stretch)\n",
    "\n",
    "    # Dynamic Range Compression\n",
    "    audio_drc = librosa.effects.percussive(audio)\n",
    "    augmented_audio.append(audio_drc)\n",
    "\n",
    "    # Random Erasing (Zeroing out a part of the audio)\n",
    "    erase_length = np.random.randint(0, int(len(audio) * 0.1))\n",
    "    erase_start = np.random.randint(0, len(audio) - erase_length)\n",
    "    audio_erased = audio.copy()\n",
    "    audio_erased[erase_start:erase_start + erase_length] = 0\n",
    "    augmented_audio.append(audio_erased)\n",
    "\n",
    "    return augmented_audio\n",
    "\n",
    "# First pass to determine max_length after augmentation\n",
    "def first_pass(annotations):\n",
    "    all_lengths = []\n",
    "\n",
    "    for index, row in annotations.iterrows():\n",
    "        file_name = f\"{data_dir}/scenes/wav/{row['filename']}.wav\"\n",
    "        start_time = row['start']\n",
    "        end_time = row['end']\n",
    "\n",
    "        # Load audio file\n",
    "        audio, sample_rate = librosa.load(file_name, sr=None)\n",
    "\n",
    "        # Extract the relevant segment\n",
    "        start_sample = int(start_time * sample_rate)\n",
    "        end_sample = int(end_time * sample_rate)\n",
    "        audio_segment = audio[start_sample:end_sample]\n",
    "\n",
    "        # Normalize the audio segment\n",
    "        audio_segment = librosa.util.normalize(audio_segment)\n",
    "\n",
    "        # Apply data augmentation\n",
    "        augmented_segments = augment_audio(audio_segment, sample_rate)\n",
    "        \n",
    "        for segment in augmented_segments:\n",
    "            all_lengths.append(len(segment))\n",
    "\n",
    "    return all_lengths\n",
    "\n",
    "# Determine the maximum length after augmentation\n",
    "lengths = first_pass(annotations)\n",
    "max_length = int(np.percentile(lengths, 95))\n",
    "print(f\"Max length determined statistically: {max_length}\")\n",
    "\n",
    "# Second pass to preprocess and pad/crop audio segments\n",
    "def second_pass(annotations, max_length):\n",
    "    scaler = StandardScaler()\n",
    "    ica = FastICA(n_components=1, whiten='unit-variance')\n",
    "    audio_data = []\n",
    "    labels = []\n",
    "\n",
    "    for index, row in annotations.iterrows():\n",
    "        file_name = f\"{data_dir}/scenes/wav/{row['filename']}.wav\"\n",
    "        start_time = row['start']\n",
    "        end_time = row['end']\n",
    "\n",
    "        # Load audio file\n",
    "        audio, sample_rate = librosa.load(file_name, sr=None)\n",
    "\n",
    "        # Extract the relevant segment\n",
    "        start_sample = int(start_time * sample_rate)\n",
    "        end_sample = int(end_time * sample_rate)\n",
    "        audio_segment = audio[start_sample:end_sample]\n",
    "\n",
    "        # Normalize the audio segment\n",
    "        audio_segment = librosa.util.normalize(audio_segment)\n",
    "\n",
    "        # Apply data augmentation\n",
    "        augmented_segments = augment_audio(audio_segment, sample_rate)\n",
    "        \n",
    "        for segment in augmented_segments:\n",
    "            # Scale and apply ICA\n",
    "            segment_scaled = scaler.fit_transform(segment.reshape(-1, 1)).flatten()\n",
    "            segment_scaled = check_and_handle_nans_infs(segment_scaled)\n",
    "            segment_ica = ica.fit_transform(segment_scaled.reshape(-1, 1)).flatten()\n",
    "            segment_ica = check_and_handle_nans_infs(segment_ica)\n",
    "\n",
    "            # Pad/crop to max_length\n",
    "            if len(segment_ica) > max_length:\n",
    "                segment_ica = segment_ica[:max_length]\n",
    "            else:\n",
    "                segment_ica = np.pad(segment_ica, (0, max_length - len(segment_ica)), 'constant')\n",
    "\n",
    "            audio_data.append(segment_ica)\n",
    "            labels.append(row['command'])\n",
    "\n",
    "    return np.array(audio_data), labels\n",
    "\n",
    "# Load and preprocess the audio data with padding/cropping\n",
    "X, y = second_pass(annotations, max_length)\n",
    "\n",
    "# Reshape the ICA output for Conv1D\n",
    "X_ica_reshaped = X.reshape(X.shape[0], X.shape[1], 1)\n",
    "\n",
    "# Encode labels\n",
    "label_encoder = LabelEncoder()\n",
    "y_encoded = label_encoder.fit_transform(y)\n",
    "\n",
    "# Save the class names\n",
    "command_class_names = list(label_encoder.classes_)\n",
    "with open(f'{data_dir}/command_class_names.json', 'w') as f:\n",
    "    json.dump(command_class_names, f)\n",
    "\n",
    "# Convert labels to categorical\n",
    "num_classes = len(np.unique(y_encoded))\n",
    "y_categorical = to_categorical(y_encoded, num_classes)\n",
    "\n",
    "# Split data into training and validation sets\n",
    "X_train, X_val, y_train, y_val = train_test_split(X_ica_reshaped, y_categorical, test_size=0.2, random_state=42)\n",
    "\n",
    "# Define the Conv1D model\n",
    "def create_model(input_shape, num_classes):\n",
    "    model = Sequential([\n",
    "        Input(shape=input_shape),\n",
    "        Conv1D(filters=8, kernel_size=13, padding='valid', activation='relu', strides=1),\n",
    "        MaxPooling1D(pool_size=3),\n",
    "        Dropout(0.3),\n",
    "        Conv1D(filters=16, kernel_size=11, padding='valid', activation='relu', strides=1),\n",
    "        MaxPooling1D(pool_size=3),\n",
    "        Dropout(0.3),\n",
    "        Conv1D(filters=32, kernel_size=9, padding='valid', activation='relu', strides=1),\n",
    "        MaxPooling1D(pool_size=3),\n",
    "        Dropout(0.3),\n",
    "        Conv1D(filters=64, kernel_size=7, padding='valid', activation='relu', strides=1),\n",
    "        MaxPooling1D(pool_size=3),\n",
    "        Dropout(0.3),\n",
    "        Flatten(),\n",
    "        Dense(256, activation='relu'),\n",
    "        Dropout(0.3),\n",
    "        Dense(128, activation='relu'),\n",
    "        Dropout(0.3),\n",
    "        Dense(num_classes, activation='softmax')\n",
    "    ])\n",
    "    return model\n",
    "\n",
    "# Create the model\n",
    "model = create_model((X_train.shape[1], 1), num_classes)\n",
    "\n",
    "# Compile the model\n",
    "model.compile(optimizer='adam', loss='categorical_crossentropy', metrics=['accuracy'])\n",
    "\n",
    "# Print the model summary\n",
    "model.summary()\n",
    "\n",
    "# Train the model\n",
    "history = model.fit(X_train, y_train, epochs=20, batch_size=32, validation_data=(X_val, y_val))\n",
    "\n",
    "# Evaluate the model\n",
    "y_pred = model.predict(X_val)\n",
    "y_pred_classes = np.argmax(y_pred, axis=1)\n",
    "y_val_classes = np.argmax(y_val, axis=1)\n",
    "\n",
    "# Classification report\n",
    "print(\"Conv1D Neural Network Classifier Report\")\n",
    "print(classification_report(y_val_classes, y_pred_classes, zero_division=0))\n",
    "\n",
    "# Confusion matrix\n",
    "conf_matrix = confusion_matrix(y_val_classes, y_pred_classes)\n",
    "plt.figure(figsize=(12, 8))\n",
    "sns.heatmap(conf_matrix, annot=True, fmt='d', cmap='Blues', xticklabels=label_encoder.classes_, yticklabels=label_encoder.classes_)\n",
    "plt.xlabel('Predicted Label')\n",
    "plt.ylabel('True Label')\n",
    "plt.title('Confusion Matrix')\n",
    "plt.show()\n",
    "\n",
    "# Learning curves\n",
    "plt.figure(figsize=(12, 6))\n",
    "plt.plot(history.history['loss'], label='Training Loss')\n",
    "plt.plot(history.history['val_loss'], label='Validation Loss')\n",
    "plt.plot(history.history['accuracy'], label='Training Accuracy')\n",
    "plt.plot(history.history['val_accuracy'], label='Validation Accuracy')\n",
    "plt.axvline(np.argmin(history.history['val_loss']), color='r', linestyle='--', label='Early Stopping Checkpoint')\n",
    "plt.xlabel('Epochs')\n",
    "plt.ylabel('Loss/Accuracy')\n",
    "plt.title('Learning Curves')\n",
    "plt.legend()\n",
    "plt.show()\n",
    "\n",
    "# Load the previous best model and evaluate its performance\n",
    "if os.path.exists(model_save_path):\n",
    "    previous_model = load_model(model_save_path)\n",
    "    previous_val_loss, previous_val_accuracy = previous_model.evaluate(X_val, y_val)\n",
    "    print(f\"Previous model validation accuracy: {previous_val_accuracy}\")\n",
    "else:\n",
    "    previous_val_accuracy = 0\n",
    "    print(\"No previous model found. Saving current model as the best model.\")\n",
    "\n",
    "# Compare the performance of the current model with the previous best model\n",
    "current_val_loss, current_val_accuracy = model.evaluate(X_val, y_val)\n",
    "print(f\"Current model validation accuracy: {current_val_accuracy}\")\n",
    "\n",
    "if current_val_accuracy > previous_val_accuracy:\n",
    "    print(\"Current model outperforms the previous model. Saving the current model.\")\n",
    "    model.save(model_save_path)\n",
    "else:\n",
    "    print(\"Previous model outperforms the current model. Keeping the previous model.\")\n"
   ],
   "id": "d5b1766664b522a9",
   "outputs": [
    {
     "name": "stderr",
     "output_type": "stream",
     "text": [
      "2024-06-02 10:29:18.537111: I tensorflow/core/platform/cpu_feature_guard.cc:210] This TensorFlow binary is optimized to use available CPU instructions in performance-critical operations.\n",
      "To enable the following instructions: AVX2 FMA, in other operations, rebuild TensorFlow with the appropriate compiler flags.\n",
      "/usr/local/lib/python3.11/site-packages/librosa/core/spectrum.py:266: UserWarning: n_fft=2048 is too large for input signal of length=800\n",
      "  warnings.warn(\n"
     ]
    },
    {
     "name": "stdout",
     "output_type": "stream",
     "text": [
      "Max length determined statistically: 34015\n"
     ]
    },
    {
     "name": "stderr",
     "output_type": "stream",
     "text": [
      "/usr/local/lib/python3.11/site-packages/librosa/core/spectrum.py:266: UserWarning: n_fft=2048 is too large for input signal of length=800\n",
      "  warnings.warn(\n"
     ]
    },
    {
     "data": {
      "text/plain": [
       "\u001B[1mModel: \"sequential\"\u001B[0m\n"
      ],
      "text/html": [
       "<pre style=\"white-space:pre;overflow-x:auto;line-height:normal;font-family:Menlo,'DejaVu Sans Mono',consolas,'Courier New',monospace\"><span style=\"font-weight: bold\">Model: \"sequential\"</span>\n",
       "</pre>\n"
      ]
     },
     "metadata": {},
     "output_type": "display_data"
    },
    {
     "data": {
      "text/plain": [
       "┏━━━━━━━━━━━━━━━━━━━━━━━━━━━━━━━━━━━━━━┳━━━━━━━━━━━━━━━━━━━━━━━━━━━━━┳━━━━━━━━━━━━━━━━━┓\n",
       "┃\u001B[1m \u001B[0m\u001B[1mLayer (type)                        \u001B[0m\u001B[1m \u001B[0m┃\u001B[1m \u001B[0m\u001B[1mOutput Shape               \u001B[0m\u001B[1m \u001B[0m┃\u001B[1m \u001B[0m\u001B[1m        Param #\u001B[0m\u001B[1m \u001B[0m┃\n",
       "┡━━━━━━━━━━━━━━━━━━━━━━━━━━━━━━━━━━━━━━╇━━━━━━━━━━━━━━━━━━━━━━━━━━━━━╇━━━━━━━━━━━━━━━━━┩\n",
       "│ conv1d (\u001B[38;5;33mConv1D\u001B[0m)                      │ (\u001B[38;5;45mNone\u001B[0m, \u001B[38;5;34m34003\u001B[0m, \u001B[38;5;34m8\u001B[0m)            │             \u001B[38;5;34m112\u001B[0m │\n",
       "├──────────────────────────────────────┼─────────────────────────────┼─────────────────┤\n",
       "│ max_pooling1d (\u001B[38;5;33mMaxPooling1D\u001B[0m)         │ (\u001B[38;5;45mNone\u001B[0m, \u001B[38;5;34m11334\u001B[0m, \u001B[38;5;34m8\u001B[0m)            │               \u001B[38;5;34m0\u001B[0m │\n",
       "├──────────────────────────────────────┼─────────────────────────────┼─────────────────┤\n",
       "│ dropout (\u001B[38;5;33mDropout\u001B[0m)                    │ (\u001B[38;5;45mNone\u001B[0m, \u001B[38;5;34m11334\u001B[0m, \u001B[38;5;34m8\u001B[0m)            │               \u001B[38;5;34m0\u001B[0m │\n",
       "├──────────────────────────────────────┼─────────────────────────────┼─────────────────┤\n",
       "│ conv1d_1 (\u001B[38;5;33mConv1D\u001B[0m)                    │ (\u001B[38;5;45mNone\u001B[0m, \u001B[38;5;34m11324\u001B[0m, \u001B[38;5;34m16\u001B[0m)           │           \u001B[38;5;34m1,424\u001B[0m │\n",
       "├──────────────────────────────────────┼─────────────────────────────┼─────────────────┤\n",
       "│ max_pooling1d_1 (\u001B[38;5;33mMaxPooling1D\u001B[0m)       │ (\u001B[38;5;45mNone\u001B[0m, \u001B[38;5;34m3774\u001B[0m, \u001B[38;5;34m16\u001B[0m)            │               \u001B[38;5;34m0\u001B[0m │\n",
       "├──────────────────────────────────────┼─────────────────────────────┼─────────────────┤\n",
       "│ dropout_1 (\u001B[38;5;33mDropout\u001B[0m)                  │ (\u001B[38;5;45mNone\u001B[0m, \u001B[38;5;34m3774\u001B[0m, \u001B[38;5;34m16\u001B[0m)            │               \u001B[38;5;34m0\u001B[0m │\n",
       "├──────────────────────────────────────┼─────────────────────────────┼─────────────────┤\n",
       "│ conv1d_2 (\u001B[38;5;33mConv1D\u001B[0m)                    │ (\u001B[38;5;45mNone\u001B[0m, \u001B[38;5;34m3766\u001B[0m, \u001B[38;5;34m32\u001B[0m)            │           \u001B[38;5;34m4,640\u001B[0m │\n",
       "├──────────────────────────────────────┼─────────────────────────────┼─────────────────┤\n",
       "│ max_pooling1d_2 (\u001B[38;5;33mMaxPooling1D\u001B[0m)       │ (\u001B[38;5;45mNone\u001B[0m, \u001B[38;5;34m1255\u001B[0m, \u001B[38;5;34m32\u001B[0m)            │               \u001B[38;5;34m0\u001B[0m │\n",
       "├──────────────────────────────────────┼─────────────────────────────┼─────────────────┤\n",
       "│ dropout_2 (\u001B[38;5;33mDropout\u001B[0m)                  │ (\u001B[38;5;45mNone\u001B[0m, \u001B[38;5;34m1255\u001B[0m, \u001B[38;5;34m32\u001B[0m)            │               \u001B[38;5;34m0\u001B[0m │\n",
       "├──────────────────────────────────────┼─────────────────────────────┼─────────────────┤\n",
       "│ conv1d_3 (\u001B[38;5;33mConv1D\u001B[0m)                    │ (\u001B[38;5;45mNone\u001B[0m, \u001B[38;5;34m1249\u001B[0m, \u001B[38;5;34m64\u001B[0m)            │          \u001B[38;5;34m14,400\u001B[0m │\n",
       "├──────────────────────────────────────┼─────────────────────────────┼─────────────────┤\n",
       "│ max_pooling1d_3 (\u001B[38;5;33mMaxPooling1D\u001B[0m)       │ (\u001B[38;5;45mNone\u001B[0m, \u001B[38;5;34m416\u001B[0m, \u001B[38;5;34m64\u001B[0m)             │               \u001B[38;5;34m0\u001B[0m │\n",
       "├──────────────────────────────────────┼─────────────────────────────┼─────────────────┤\n",
       "│ dropout_3 (\u001B[38;5;33mDropout\u001B[0m)                  │ (\u001B[38;5;45mNone\u001B[0m, \u001B[38;5;34m416\u001B[0m, \u001B[38;5;34m64\u001B[0m)             │               \u001B[38;5;34m0\u001B[0m │\n",
       "├──────────────────────────────────────┼─────────────────────────────┼─────────────────┤\n",
       "│ flatten (\u001B[38;5;33mFlatten\u001B[0m)                    │ (\u001B[38;5;45mNone\u001B[0m, \u001B[38;5;34m26624\u001B[0m)               │               \u001B[38;5;34m0\u001B[0m │\n",
       "├──────────────────────────────────────┼─────────────────────────────┼─────────────────┤\n",
       "│ dense (\u001B[38;5;33mDense\u001B[0m)                        │ (\u001B[38;5;45mNone\u001B[0m, \u001B[38;5;34m256\u001B[0m)                 │       \u001B[38;5;34m6,816,000\u001B[0m │\n",
       "├──────────────────────────────────────┼─────────────────────────────┼─────────────────┤\n",
       "│ dropout_4 (\u001B[38;5;33mDropout\u001B[0m)                  │ (\u001B[38;5;45mNone\u001B[0m, \u001B[38;5;34m256\u001B[0m)                 │               \u001B[38;5;34m0\u001B[0m │\n",
       "├──────────────────────────────────────┼─────────────────────────────┼─────────────────┤\n",
       "│ dense_1 (\u001B[38;5;33mDense\u001B[0m)                      │ (\u001B[38;5;45mNone\u001B[0m, \u001B[38;5;34m128\u001B[0m)                 │          \u001B[38;5;34m32,896\u001B[0m │\n",
       "├──────────────────────────────────────┼─────────────────────────────┼─────────────────┤\n",
       "│ dropout_5 (\u001B[38;5;33mDropout\u001B[0m)                  │ (\u001B[38;5;45mNone\u001B[0m, \u001B[38;5;34m128\u001B[0m)                 │               \u001B[38;5;34m0\u001B[0m │\n",
       "├──────────────────────────────────────┼─────────────────────────────┼─────────────────┤\n",
       "│ dense_2 (\u001B[38;5;33mDense\u001B[0m)                      │ (\u001B[38;5;45mNone\u001B[0m, \u001B[38;5;34m16\u001B[0m)                  │           \u001B[38;5;34m2,064\u001B[0m │\n",
       "└──────────────────────────────────────┴─────────────────────────────┴─────────────────┘\n"
      ],
      "text/html": [
       "<pre style=\"white-space:pre;overflow-x:auto;line-height:normal;font-family:Menlo,'DejaVu Sans Mono',consolas,'Courier New',monospace\">┏━━━━━━━━━━━━━━━━━━━━━━━━━━━━━━━━━━━━━━┳━━━━━━━━━━━━━━━━━━━━━━━━━━━━━┳━━━━━━━━━━━━━━━━━┓\n",
       "┃<span style=\"font-weight: bold\"> Layer (type)                         </span>┃<span style=\"font-weight: bold\"> Output Shape                </span>┃<span style=\"font-weight: bold\">         Param # </span>┃\n",
       "┡━━━━━━━━━━━━━━━━━━━━━━━━━━━━━━━━━━━━━━╇━━━━━━━━━━━━━━━━━━━━━━━━━━━━━╇━━━━━━━━━━━━━━━━━┩\n",
       "│ conv1d (<span style=\"color: #0087ff; text-decoration-color: #0087ff\">Conv1D</span>)                      │ (<span style=\"color: #00d7ff; text-decoration-color: #00d7ff\">None</span>, <span style=\"color: #00af00; text-decoration-color: #00af00\">34003</span>, <span style=\"color: #00af00; text-decoration-color: #00af00\">8</span>)            │             <span style=\"color: #00af00; text-decoration-color: #00af00\">112</span> │\n",
       "├──────────────────────────────────────┼─────────────────────────────┼─────────────────┤\n",
       "│ max_pooling1d (<span style=\"color: #0087ff; text-decoration-color: #0087ff\">MaxPooling1D</span>)         │ (<span style=\"color: #00d7ff; text-decoration-color: #00d7ff\">None</span>, <span style=\"color: #00af00; text-decoration-color: #00af00\">11334</span>, <span style=\"color: #00af00; text-decoration-color: #00af00\">8</span>)            │               <span style=\"color: #00af00; text-decoration-color: #00af00\">0</span> │\n",
       "├──────────────────────────────────────┼─────────────────────────────┼─────────────────┤\n",
       "│ dropout (<span style=\"color: #0087ff; text-decoration-color: #0087ff\">Dropout</span>)                    │ (<span style=\"color: #00d7ff; text-decoration-color: #00d7ff\">None</span>, <span style=\"color: #00af00; text-decoration-color: #00af00\">11334</span>, <span style=\"color: #00af00; text-decoration-color: #00af00\">8</span>)            │               <span style=\"color: #00af00; text-decoration-color: #00af00\">0</span> │\n",
       "├──────────────────────────────────────┼─────────────────────────────┼─────────────────┤\n",
       "│ conv1d_1 (<span style=\"color: #0087ff; text-decoration-color: #0087ff\">Conv1D</span>)                    │ (<span style=\"color: #00d7ff; text-decoration-color: #00d7ff\">None</span>, <span style=\"color: #00af00; text-decoration-color: #00af00\">11324</span>, <span style=\"color: #00af00; text-decoration-color: #00af00\">16</span>)           │           <span style=\"color: #00af00; text-decoration-color: #00af00\">1,424</span> │\n",
       "├──────────────────────────────────────┼─────────────────────────────┼─────────────────┤\n",
       "│ max_pooling1d_1 (<span style=\"color: #0087ff; text-decoration-color: #0087ff\">MaxPooling1D</span>)       │ (<span style=\"color: #00d7ff; text-decoration-color: #00d7ff\">None</span>, <span style=\"color: #00af00; text-decoration-color: #00af00\">3774</span>, <span style=\"color: #00af00; text-decoration-color: #00af00\">16</span>)            │               <span style=\"color: #00af00; text-decoration-color: #00af00\">0</span> │\n",
       "├──────────────────────────────────────┼─────────────────────────────┼─────────────────┤\n",
       "│ dropout_1 (<span style=\"color: #0087ff; text-decoration-color: #0087ff\">Dropout</span>)                  │ (<span style=\"color: #00d7ff; text-decoration-color: #00d7ff\">None</span>, <span style=\"color: #00af00; text-decoration-color: #00af00\">3774</span>, <span style=\"color: #00af00; text-decoration-color: #00af00\">16</span>)            │               <span style=\"color: #00af00; text-decoration-color: #00af00\">0</span> │\n",
       "├──────────────────────────────────────┼─────────────────────────────┼─────────────────┤\n",
       "│ conv1d_2 (<span style=\"color: #0087ff; text-decoration-color: #0087ff\">Conv1D</span>)                    │ (<span style=\"color: #00d7ff; text-decoration-color: #00d7ff\">None</span>, <span style=\"color: #00af00; text-decoration-color: #00af00\">3766</span>, <span style=\"color: #00af00; text-decoration-color: #00af00\">32</span>)            │           <span style=\"color: #00af00; text-decoration-color: #00af00\">4,640</span> │\n",
       "├──────────────────────────────────────┼─────────────────────────────┼─────────────────┤\n",
       "│ max_pooling1d_2 (<span style=\"color: #0087ff; text-decoration-color: #0087ff\">MaxPooling1D</span>)       │ (<span style=\"color: #00d7ff; text-decoration-color: #00d7ff\">None</span>, <span style=\"color: #00af00; text-decoration-color: #00af00\">1255</span>, <span style=\"color: #00af00; text-decoration-color: #00af00\">32</span>)            │               <span style=\"color: #00af00; text-decoration-color: #00af00\">0</span> │\n",
       "├──────────────────────────────────────┼─────────────────────────────┼─────────────────┤\n",
       "│ dropout_2 (<span style=\"color: #0087ff; text-decoration-color: #0087ff\">Dropout</span>)                  │ (<span style=\"color: #00d7ff; text-decoration-color: #00d7ff\">None</span>, <span style=\"color: #00af00; text-decoration-color: #00af00\">1255</span>, <span style=\"color: #00af00; text-decoration-color: #00af00\">32</span>)            │               <span style=\"color: #00af00; text-decoration-color: #00af00\">0</span> │\n",
       "├──────────────────────────────────────┼─────────────────────────────┼─────────────────┤\n",
       "│ conv1d_3 (<span style=\"color: #0087ff; text-decoration-color: #0087ff\">Conv1D</span>)                    │ (<span style=\"color: #00d7ff; text-decoration-color: #00d7ff\">None</span>, <span style=\"color: #00af00; text-decoration-color: #00af00\">1249</span>, <span style=\"color: #00af00; text-decoration-color: #00af00\">64</span>)            │          <span style=\"color: #00af00; text-decoration-color: #00af00\">14,400</span> │\n",
       "├──────────────────────────────────────┼─────────────────────────────┼─────────────────┤\n",
       "│ max_pooling1d_3 (<span style=\"color: #0087ff; text-decoration-color: #0087ff\">MaxPooling1D</span>)       │ (<span style=\"color: #00d7ff; text-decoration-color: #00d7ff\">None</span>, <span style=\"color: #00af00; text-decoration-color: #00af00\">416</span>, <span style=\"color: #00af00; text-decoration-color: #00af00\">64</span>)             │               <span style=\"color: #00af00; text-decoration-color: #00af00\">0</span> │\n",
       "├──────────────────────────────────────┼─────────────────────────────┼─────────────────┤\n",
       "│ dropout_3 (<span style=\"color: #0087ff; text-decoration-color: #0087ff\">Dropout</span>)                  │ (<span style=\"color: #00d7ff; text-decoration-color: #00d7ff\">None</span>, <span style=\"color: #00af00; text-decoration-color: #00af00\">416</span>, <span style=\"color: #00af00; text-decoration-color: #00af00\">64</span>)             │               <span style=\"color: #00af00; text-decoration-color: #00af00\">0</span> │\n",
       "├──────────────────────────────────────┼─────────────────────────────┼─────────────────┤\n",
       "│ flatten (<span style=\"color: #0087ff; text-decoration-color: #0087ff\">Flatten</span>)                    │ (<span style=\"color: #00d7ff; text-decoration-color: #00d7ff\">None</span>, <span style=\"color: #00af00; text-decoration-color: #00af00\">26624</span>)               │               <span style=\"color: #00af00; text-decoration-color: #00af00\">0</span> │\n",
       "├──────────────────────────────────────┼─────────────────────────────┼─────────────────┤\n",
       "│ dense (<span style=\"color: #0087ff; text-decoration-color: #0087ff\">Dense</span>)                        │ (<span style=\"color: #00d7ff; text-decoration-color: #00d7ff\">None</span>, <span style=\"color: #00af00; text-decoration-color: #00af00\">256</span>)                 │       <span style=\"color: #00af00; text-decoration-color: #00af00\">6,816,000</span> │\n",
       "├──────────────────────────────────────┼─────────────────────────────┼─────────────────┤\n",
       "│ dropout_4 (<span style=\"color: #0087ff; text-decoration-color: #0087ff\">Dropout</span>)                  │ (<span style=\"color: #00d7ff; text-decoration-color: #00d7ff\">None</span>, <span style=\"color: #00af00; text-decoration-color: #00af00\">256</span>)                 │               <span style=\"color: #00af00; text-decoration-color: #00af00\">0</span> │\n",
       "├──────────────────────────────────────┼─────────────────────────────┼─────────────────┤\n",
       "│ dense_1 (<span style=\"color: #0087ff; text-decoration-color: #0087ff\">Dense</span>)                      │ (<span style=\"color: #00d7ff; text-decoration-color: #00d7ff\">None</span>, <span style=\"color: #00af00; text-decoration-color: #00af00\">128</span>)                 │          <span style=\"color: #00af00; text-decoration-color: #00af00\">32,896</span> │\n",
       "├──────────────────────────────────────┼─────────────────────────────┼─────────────────┤\n",
       "│ dropout_5 (<span style=\"color: #0087ff; text-decoration-color: #0087ff\">Dropout</span>)                  │ (<span style=\"color: #00d7ff; text-decoration-color: #00d7ff\">None</span>, <span style=\"color: #00af00; text-decoration-color: #00af00\">128</span>)                 │               <span style=\"color: #00af00; text-decoration-color: #00af00\">0</span> │\n",
       "├──────────────────────────────────────┼─────────────────────────────┼─────────────────┤\n",
       "│ dense_2 (<span style=\"color: #0087ff; text-decoration-color: #0087ff\">Dense</span>)                      │ (<span style=\"color: #00d7ff; text-decoration-color: #00d7ff\">None</span>, <span style=\"color: #00af00; text-decoration-color: #00af00\">16</span>)                  │           <span style=\"color: #00af00; text-decoration-color: #00af00\">2,064</span> │\n",
       "└──────────────────────────────────────┴─────────────────────────────┴─────────────────┘\n",
       "</pre>\n"
      ]
     },
     "metadata": {},
     "output_type": "display_data"
    },
    {
     "data": {
      "text/plain": [
       "\u001B[1m Total params: \u001B[0m\u001B[38;5;34m6,871,536\u001B[0m (26.21 MB)\n"
      ],
      "text/html": [
       "<pre style=\"white-space:pre;overflow-x:auto;line-height:normal;font-family:Menlo,'DejaVu Sans Mono',consolas,'Courier New',monospace\"><span style=\"font-weight: bold\"> Total params: </span><span style=\"color: #00af00; text-decoration-color: #00af00\">6,871,536</span> (26.21 MB)\n",
       "</pre>\n"
      ]
     },
     "metadata": {},
     "output_type": "display_data"
    },
    {
     "data": {
      "text/plain": [
       "\u001B[1m Trainable params: \u001B[0m\u001B[38;5;34m6,871,536\u001B[0m (26.21 MB)\n"
      ],
      "text/html": [
       "<pre style=\"white-space:pre;overflow-x:auto;line-height:normal;font-family:Menlo,'DejaVu Sans Mono',consolas,'Courier New',monospace\"><span style=\"font-weight: bold\"> Trainable params: </span><span style=\"color: #00af00; text-decoration-color: #00af00\">6,871,536</span> (26.21 MB)\n",
       "</pre>\n"
      ]
     },
     "metadata": {},
     "output_type": "display_data"
    },
    {
     "data": {
      "text/plain": [
       "\u001B[1m Non-trainable params: \u001B[0m\u001B[38;5;34m0\u001B[0m (0.00 B)\n"
      ],
      "text/html": [
       "<pre style=\"white-space:pre;overflow-x:auto;line-height:normal;font-family:Menlo,'DejaVu Sans Mono',consolas,'Courier New',monospace\"><span style=\"font-weight: bold\"> Non-trainable params: </span><span style=\"color: #00af00; text-decoration-color: #00af00\">0</span> (0.00 B)\n",
       "</pre>\n"
      ]
     },
     "metadata": {},
     "output_type": "display_data"
    },
    {
     "name": "stdout",
     "output_type": "stream",
     "text": [
      "Epoch 1/20\n",
      "\u001B[1m 53/187\u001B[0m \u001B[32m━━━━━\u001B[0m\u001B[37m━━━━━━━━━━━━━━━\u001B[0m \u001B[1m44s\u001B[0m 336ms/step - accuracy: 0.0897 - loss: 2.9886"
     ]
    }
   ],
   "execution_count": null
  },
  {
   "metadata": {},
   "cell_type": "code",
   "outputs": [],
   "execution_count": null,
   "source": "",
   "id": "1087b0d4902d082c"
  }
 ],
 "metadata": {
  "kernelspec": {
   "display_name": "Python 3 (ipykernel)",
   "name": "python3",
   "language": "python"
  },
  "language_info": {
   "codemirror_mode": {
    "name": "ipython",
    "version": 2
   },
   "file_extension": ".py",
   "mimetype": "text/x-python",
   "name": "python",
   "nbconvert_exporter": "python",
   "pygments_lexer": "ipython2",
   "version": "2.7.6"
  },
  "colab": {
   "provenance": [],
   "include_colab_link": true
  }
 },
 "nbformat": 4,
 "nbformat_minor": 5
}
