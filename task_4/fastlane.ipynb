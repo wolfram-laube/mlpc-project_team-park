{
  "cells": [
    {
      "cell_type": "markdown",
      "metadata": {
        "id": "view-in-github",
        "colab_type": "text"
      },
      "source": [
        "<a href=\"https://colab.research.google.com/github/wolfram-laube/mlpc-project_team-park/blob/wl/task_4/fastlane.ipynb\" target=\"_parent\"><img src=\"https://colab.research.google.com/assets/colab-badge.svg\" alt=\"Open In Colab\"/></a>"
      ]
    },
    {
      "cell_type": "markdown",
      "source": [
        "### Preparation: Distiguish Environment and Establish Prerequisites\n",
        "\n",
        "#### Setup Folder Structure"
      ],
      "metadata": {
        "id": "82Q7nNG0dLq5"
      },
      "id": "82Q7nNG0dLq5"
    },
    {
      "cell_type": "code",
      "source": [
        "import os\n",
        "import sys\n",
        "import shutil\n",
        "\n",
        "# Check if the environment is Google Colab\n",
        "try:\n",
        "    import google.colab\n",
        "    IN_COLAB = True\n",
        "except ImportError:\n",
        "    IN_COLAB = False\n",
        "\n",
        "if IN_COLAB:\n",
        "    # If in Google Colab\n",
        "    from google.colab import drive\n",
        "    import gdown\n",
        "\n",
        "    # Option 1: Download the file by its public link and expand it to the Colab runtime\n",
        "    import urllib.request\n",
        "    import zipfile\n",
        "\n",
        "    zip_file_id = '1oI1EsH1krrEPbH9MSZRzLHu-_4p6-njR' # https://drive.google.com/file/d/1oI1EsH1krrEPbH9MSZRzLHu-_4p6-njR/view?usp=sharing\n",
        "    annotation_file_id = '1xLxget7c5nCkwYt9Ru2RpYi5rMkk_pl0'  # https://drive.google.com/file/d/1xLxget7c5nCkwYt9Ru2RpYi5rMkk_pl0/view?usp=sharing\n",
        "    scenes_file_id = '1xLgB7-cCz6nReyQbFJJcJGOUKCCbNhCG'  # https://drive.google.com/file/d/1xLgB7-cCz6nReyQbFJJcJGOUKCCbNhCG/view?usp=sharing\n",
        "\n",
        "    zip_url = f'https://drive.google.com/uc?id={zip_file_id}'\n",
        "    annotation_url = f'https://drive.google.com/uc?id={annotation_file_id}'\n",
        "    scenes_url = f'https://drive.google.com/uc?id={scenes_file_id}'\n",
        "\n",
        "    zip_path = '/content/training_data.zip'\n",
        "    data_dir = '/content/dataset'\n",
        "    scenes_dir = f'{data_dir}/scenes'\n",
        "    words_dir = f'{data_dir}/words'\n",
        "    scenes_wav_dir = f'{scenes_dir}/wav'\n",
        "    scenes_npy_dir = f'{scenes_dir}/npy'\n",
        "\n",
        "    # Download the ZIP file\n",
        "    #urllib.request.urlretrieve(zip_url, zip_path)\n",
        "    gdown.download(zip_url, zip_path, quiet=False)\n",
        "\n",
        "    # Unzip the file\n",
        "    with zipfile.ZipFile(zip_path, 'r') as zip_ref:\n",
        "        zip_ref.extractall(data_dir)\n",
        "\n",
        "    print(f\"Training data extracted to {data_dir}\")\n",
        "\n",
        "     # Create the 'scenes/wav' folder structure\n",
        "    os.makedirs(scenes_wav_dir, exist_ok=True)\n",
        "    os.makedirs(scenes_npy_dir, exist_ok=True)\n",
        "\n",
        "    # Copy .wav files to 'scenes/wav'\n",
        "    extracted_scenes_dir = os.path.join(data_dir, 'mlpc24_speech_commands', 'scenes')\n",
        "    for root, dirs, files in os.walk(extracted_scenes_dir):\n",
        "        for file in files:\n",
        "            if file.endswith('.wav'):\n",
        "                src_path = os.path.join(root, file)\n",
        "                dst_path = os.path.join(scenes_wav_dir, file)\n",
        "                shutil.copy(src_path, dst_path)\n",
        "\n",
        "    print(f\".wav files moved to {scenes_wav_dir}\")\n",
        "\n",
        "    # Download the CSV files into the data_dir\n",
        "    annotation_orig_path = os.path.join(data_dir, 'development_scene_annotations.csv.orig') # Keep a bckup copy because it needs fixing\n",
        "    annotation_path = os.path.join(data_dir, 'development_scene_annotations.csv')\n",
        "    scenes_path = os.path.join(data_dir, 'development_scenes.csv')\n",
        "\n",
        "    gdown.download(annotation_url, annotation_orig_path, quiet=False)\n",
        "    gdown.download(annotation_url, annotation_path, quiet=False)\n",
        "    gdown.download(scenes_url, scenes_path, quiet=False)\n",
        "\n",
        "    print(f\"CSV files downloaded to {scenes_dir}\")\n",
        "\n",
        "    # Option 2: Mount Google Drive and use the training data\n",
        "    # Note this really takes some time for preprocessing file by file\n",
        "    #drive.mount('/content/drive')\n",
        "    #data_dir = '/content/drive/My Drive/Dropbox/public/mlpc/dataset'\n",
        "\n",
        "    # Use this option to read from Google Drive instead\n",
        "    #print(f\"Using training data from {data_dir}\")\n",
        "else:\n",
        "    # If on local machine\n",
        "    data_dir = '../dataset'\n",
        "    print(f\"Using local training data from {data_dir}\")\n",
        "\n",
        "# Use the data_dir variable as the path to your training data"
      ],
      "metadata": {
        "colab": {
          "base_uri": "https://localhost:8080/"
        },
        "id": "D5QPan2S6YS_",
        "outputId": "92f2cc5d-c944-4ccb-d77a-045f9c16e53b"
      },
      "id": "D5QPan2S6YS_",
      "execution_count": 37,
      "outputs": [
        {
          "output_type": "stream",
          "name": "stderr",
          "text": [
            "Downloading...\n",
            "From (original): https://drive.google.com/uc?id=1oI1EsH1krrEPbH9MSZRzLHu-_4p6-njR\n",
            "From (redirected): https://drive.google.com/uc?id=1oI1EsH1krrEPbH9MSZRzLHu-_4p6-njR&confirm=t&uuid=5a3a97f0-a86f-4c49-b394-a235da0bc999\n",
            "To: /content/training_data.zip\n",
            "100%|██████████| 305M/305M [00:01<00:00, 161MB/s]\n"
          ]
        },
        {
          "output_type": "stream",
          "name": "stdout",
          "text": [
            "Training data extracted to /content/dataset\n",
            ".wav files moved to /content/dataset/scenes/wav\n"
          ]
        },
        {
          "output_type": "stream",
          "name": "stderr",
          "text": [
            "Downloading...\n",
            "From: https://drive.google.com/uc?id=1xLxget7c5nCkwYt9Ru2RpYi5rMkk_pl0\n",
            "To: /content/dataset/development_scene_annotations.csv.orig\n",
            "100%|██████████| 70.4k/70.4k [00:00<00:00, 80.5MB/s]\n",
            "Downloading...\n",
            "From: https://drive.google.com/uc?id=1xLxget7c5nCkwYt9Ru2RpYi5rMkk_pl0\n",
            "To: /content/dataset/development_scene_annotations.csv\n",
            "100%|██████████| 70.4k/70.4k [00:00<00:00, 37.4MB/s]\n",
            "Downloading...\n",
            "From: https://drive.google.com/uc?id=1xLgB7-cCz6nReyQbFJJcJGOUKCCbNhCG\n",
            "To: /content/dataset/development_scenes.csv\n",
            "100%|██████████| 29.5k/29.5k [00:00<00:00, 30.6MB/s]"
          ]
        },
        {
          "output_type": "stream",
          "name": "stdout",
          "text": [
            "CSV files downloaded to /content/dataset/scenes\n"
          ]
        },
        {
          "output_type": "stream",
          "name": "stderr",
          "text": [
            "\n"
          ]
        }
      ]
    },
    {
      "cell_type": "markdown",
      "source": [
        "#### Fix Erreneous Metadata\n",
        "\n",
        "##### Before"
      ],
      "metadata": {
        "id": "Z5urRfewdki_"
      },
      "id": "Z5urRfewdki_"
    },
    {
      "metadata": {
        "ExecuteTime": {
          "end_time": "2024-05-30T04:20:19.852913Z",
          "start_time": "2024-05-30T04:20:19.831603Z"
        },
        "outputId": "70c185d2-4a42-4a19-8b77-949830e0921c",
        "colab": {
          "base_uri": "https://localhost:8080/"
        },
        "id": "Qb8qkrK2eFtL"
      },
      "cell_type": "code",
      "source": [
        "import pandas as pd\n",
        "\n",
        "# Load the CSV files\n",
        "scene_annotations_df = pd.read_csv(f'{data_dir}/development_scene_annotations.csv')\n",
        "scenes_df = pd.read_csv(f'{data_dir}/development_scenes.csv')\n",
        "\n",
        "# Check the head of the dataframes to understand their structure\n",
        "print(scene_annotations_df.head())\n",
        "print(scenes_df.head())\n",
        "\n",
        "# Check the distribution of labels in the annotations CSV\n",
        "label_distribution_annotations = scene_annotations_df['command'].value_counts()\n",
        "print(\"Label Distribution in development_scene_annotations.csv:\")\n",
        "print(label_distribution_annotations)\n",
        "\n",
        "# Check the distribution of speaker IDs in the scenes CSV\n",
        "label_distribution_scenes = scenes_df['speaker_id'].value_counts()\n",
        "print(\"Label Distribution in development_scenes.csv:\")\n",
        "print(label_distribution_scenes)\n"
      ],
      "outputs": [
        {
          "output_type": "stream",
          "name": "stdout",
          "text": [
            "                        filename         command     start       end\n",
            "0         2_speech_true_Ofen_aus        Ofen aus  11.25230  12.07747\n",
            "1         3_speech_true_Radio_an  Staubsauger an  21.48040  23.18083\n",
            "2         4_speech_true_Alarm_an        Alarm an  14.45720  16.08301\n",
            "3        9_speech_true_Radio_aus  Staubsauger an   3.67909   5.63126\n",
            "4  11_speech_false_Fernseher_aus  Staubsauger an  10.57850  11.67886\n",
            "                        filename  speaker_id\n",
            "0         2_speech_true_Ofen_aus         132\n",
            "1         3_speech_true_Radio_an         132\n",
            "2         4_speech_true_Alarm_an         132\n",
            "3        9_speech_true_Radio_aus         132\n",
            "4  11_speech_false_Fernseher_aus         132\n",
            "Label Distribution in development_scene_annotations.csv:\n",
            "command\n",
            "Staubsauger an     288\n",
            "Licht aus           77\n",
            "Licht an            64\n",
            "Alarm an            56\n",
            "Fernseher an        56\n",
            "Heizung an          55\n",
            "Heizung aus         54\n",
            "Radio aus           53\n",
            "Radio an            52\n",
            "Ofen aus            49\n",
            "Alarm aus           47\n",
            "Lüftung an          46\n",
            "Staubsauger aus     43\n",
            "Lüftung aus         43\n",
            "Ofen an             41\n",
            "Fernseher aus       41\n",
            "Name: count, dtype: int64\n",
            "Label Distribution in development_scenes.csv:\n",
            "speaker_id\n",
            "132    244\n",
            "94       8\n",
            "240      8\n",
            "196      7\n",
            "223      7\n",
            "      ... \n",
            "233      1\n",
            "111      1\n",
            "189      1\n",
            "228      1\n",
            "105      1\n",
            "Name: count, Length: 166, dtype: int64\n"
          ]
        }
      ],
      "execution_count": 38,
      "id": "Qb8qkrK2eFtL"
    },
    {
      "cell_type": "markdown",
      "source": [
        "##### Fix"
      ],
      "metadata": {
        "id": "y3zuKsxReQCO"
      },
      "id": "y3zuKsxReQCO"
    },
    {
      "cell_type": "code",
      "source": [
        "import os\n",
        "import re\n",
        "import shutil\n",
        "import pandas as pd\n",
        "\n",
        "# Paths to the original and working copy files\n",
        "original_file_path = f'{data_dir}/development_scene_annotations.csv.orig'\n",
        "working_copy_path = f'{data_dir}/development_scene_annotations.csv.0'\n",
        "corrected_file_path = f'{data_dir}/development_scene_annotations.csv'\n",
        "\n",
        "# Step 1: Create a working copy of the original file\n",
        "shutil.copy(original_file_path, working_copy_path)\n",
        "\n",
        "# Step 2: Load the working copy into a DataFrame\n",
        "df = pd.read_csv(working_copy_path)\n",
        "\n",
        "# Define the pattern to parse the filename\n",
        "filename_pattern = re.compile(r'(\\d+)_speech_(true|false)_((?:[a-zA-ZäöüÄÖÜß]+_(?:an|aus)_?)+)', re.UNICODE)\n",
        "\n",
        "# Function to parse filename and extract commands\n",
        "def parse_filename(filename):\n",
        "    match = filename_pattern.match(filename)\n",
        "    if not match:\n",
        "        return []\n",
        "\n",
        "    commands_str = match.group(3)\n",
        "    commands = commands_str.split('_')\n",
        "\n",
        "    command_list = []\n",
        "    for i in range(0, len(commands), 2):\n",
        "        command_list.append(f\"{commands[i]} {commands[i+1]}\")\n",
        "\n",
        "    return command_list\n",
        "\n",
        "# Parse the commands from filenames and add to the DataFrame\n",
        "df['parsed_commands'] = df['filename'].apply(parse_filename)\n",
        "\n",
        "# Step 3: Group by filename and sort by start time\n",
        "grouped = df.groupby('filename').apply(lambda x: x.sort_values(by='start')).reset_index(drop=True)\n",
        "\n",
        "# Step 4: Assign the correct labels based on the order of commands in the filename\n",
        "def assign_labels(group):\n",
        "    commands = group['parsed_commands'].iloc[0]  # get the parsed commands from the first row\n",
        "    group = group.reset_index(drop=True)\n",
        "    for i in range(len(group)):\n",
        "        if i < len(commands):\n",
        "            group.at[i, 'command'] = commands[i]\n",
        "        else:\n",
        "            print(f\"Warning: More segments than commands in {group['filename'].iloc[0]}\")\n",
        "    return group\n",
        "\n",
        "# Apply the label assignment function\n",
        "corrected_df = grouped.groupby('filename').apply(assign_labels).reset_index(drop=True)\n",
        "\n",
        "# Drop the temporary column\n",
        "corrected_df = corrected_df.drop(columns=['parsed_commands'])\n",
        "\n",
        "# Step 5: Save the corrected DataFrame to a new CSV file\n",
        "corrected_df.to_csv(corrected_file_path, index=False)\n",
        "\n",
        "# Verify the saved corrections\n",
        "print(\"Label corrections applied and saved successfully.\")\n",
        "print(corrected_df.head())\n"
      ],
      "metadata": {
        "id": "r4hi4RZIeSBq",
        "outputId": "639bd22e-7d04-4a2d-d162-b3dbdf15c260",
        "colab": {
          "base_uri": "https://localhost:8080/"
        }
      },
      "id": "r4hi4RZIeSBq",
      "execution_count": 39,
      "outputs": [
        {
          "output_type": "stream",
          "name": "stdout",
          "text": [
            "Label corrections applied and saved successfully.\n",
            "                        filename       command     start       end\n",
            "0    1003_speech_false_Licht_aus     Licht aus  12.20090  13.57599\n",
            "1       1008_speech_true_Ofen_an       Ofen an   6.90112   8.52638\n",
            "2      1010_speech_true_Radio_an      Radio an  13.03100  14.03146\n",
            "3  1011_speech_true_Fernseher_an  Fernseher an  14.11030  15.36121\n",
            "4   1012_speech_true_Heizung_aus   Heizung aus  11.20520  12.70590\n"
          ]
        }
      ]
    },
    {
      "cell_type": "markdown",
      "source": [
        "##### After"
      ],
      "metadata": {
        "id": "o-KsrK3sdu46"
      },
      "id": "o-KsrK3sdu46"
    },
    {
      "metadata": {
        "ExecuteTime": {
          "end_time": "2024-05-30T04:20:19.852913Z",
          "start_time": "2024-05-30T04:20:19.831603Z"
        },
        "outputId": "28764072-5720-483c-9380-ec61c7b6ca02",
        "colab": {
          "base_uri": "https://localhost:8080/"
        },
        "id": "NFuZo2CxeJxR"
      },
      "cell_type": "code",
      "source": [
        "import pandas as pd\n",
        "\n",
        "# Load the CSV files\n",
        "scene_annotations_df = pd.read_csv(f'{data_dir}/development_scene_annotations.csv')\n",
        "scenes_df = pd.read_csv(f'{data_dir}/development_scenes.csv')\n",
        "\n",
        "# Check the head of the dataframes to understand their structure\n",
        "print(scene_annotations_df.head())\n",
        "print(scenes_df.head())\n",
        "\n",
        "# Check the distribution of labels in the annotations CSV\n",
        "label_distribution_annotations = scene_annotations_df['command'].value_counts()\n",
        "print(\"Label Distribution in development_scene_annotations.csv:\")\n",
        "print(label_distribution_annotations)\n",
        "\n",
        "# Check the distribution of speaker IDs in the scenes CSV\n",
        "label_distribution_scenes = scenes_df['speaker_id'].value_counts()\n",
        "print(\"Label Distribution in development_scenes.csv:\")\n",
        "print(label_distribution_scenes)\n"
      ],
      "outputs": [
        {
          "output_type": "stream",
          "name": "stdout",
          "text": [
            "                        filename       command     start       end\n",
            "0    1003_speech_false_Licht_aus     Licht aus  12.20090  13.57599\n",
            "1       1008_speech_true_Ofen_an       Ofen an   6.90112   8.52638\n",
            "2      1010_speech_true_Radio_an      Radio an  13.03100  14.03146\n",
            "3  1011_speech_true_Fernseher_an  Fernseher an  14.11030  15.36121\n",
            "4   1012_speech_true_Heizung_aus   Heizung aus  11.20520  12.70590\n",
            "                        filename  speaker_id\n",
            "0         2_speech_true_Ofen_aus         132\n",
            "1         3_speech_true_Radio_an         132\n",
            "2         4_speech_true_Alarm_an         132\n",
            "3        9_speech_true_Radio_aus         132\n",
            "4  11_speech_false_Fernseher_aus         132\n",
            "Label Distribution in development_scene_annotations.csv:\n",
            "command\n",
            "Licht aus          86\n",
            "Licht an           78\n",
            "Heizung an         76\n",
            "Fernseher an       74\n",
            "Radio aus          69\n",
            "Heizung aus        67\n",
            "Alarm an           66\n",
            "Radio an           65\n",
            "Lüftung aus        64\n",
            "Ofen aus           64\n",
            "Ofen an            63\n",
            "Staubsauger an     63\n",
            "Lüftung an         63\n",
            "Alarm aus          62\n",
            "Staubsauger aus    56\n",
            "Fernseher aus      49\n",
            "Name: count, dtype: int64\n",
            "Label Distribution in development_scenes.csv:\n",
            "speaker_id\n",
            "132    244\n",
            "94       8\n",
            "240      8\n",
            "196      7\n",
            "223      7\n",
            "      ... \n",
            "233      1\n",
            "111      1\n",
            "189      1\n",
            "228      1\n",
            "105      1\n",
            "Name: count, Length: 166, dtype: int64\n"
          ]
        }
      ],
      "execution_count": 40,
      "id": "NFuZo2CxeJxR"
    },
    {
      "cell_type": "markdown",
      "source": [
        "#### Determine CPU/GPU"
      ],
      "metadata": {
        "id": "9d-W4WAwgbiW"
      },
      "id": "9d-W4WAwgbiW"
    },
    {
      "cell_type": "code",
      "source": [
        "def is_gpu_available():\n",
        "    try:\n",
        "        import torch\n",
        "        return torch.cuda.is_available()\n",
        "    except ImportError:\n",
        "        pass\n",
        "\n",
        "    try:\n",
        "        import tensorflow as tf\n",
        "        return tf.config.list_physical_devices('GPU') != []\n",
        "    except ImportError:\n",
        "        pass\n",
        "\n",
        "    return False"
      ],
      "metadata": {
        "id": "NeaPanRJggBj"
      },
      "id": "NeaPanRJggBj",
      "execution_count": null,
      "outputs": []
    },
    {
      "metadata": {
        "id": "ba82ea33563f3f64"
      },
      "cell_type": "markdown",
      "source": [
        "### Step 1: Data Preprocessing\n",
        "\n",
        "#### Load Metadata and Annotations\n"
      ],
      "id": "ba82ea33563f3f64"
    },
    {
      "metadata": {
        "ExecuteTime": {
          "end_time": "2024-05-30T00:00:31.184808Z",
          "start_time": "2024-05-30T00:00:31.093161Z"
        },
        "colab": {
          "base_uri": "https://localhost:8080/"
        },
        "id": "e38ffe7b352698c0",
        "outputId": "53ead656-f043-4805-d65b-649c718a40b6"
      },
      "cell_type": "code",
      "source": [
        "import pandas as pd\n",
        "\n",
        "# Define file paths\n",
        "metadata_file = f'{data_dir}/development_scenes.csv'\n",
        "annotations_file = f'{data_dir}/development_scene_annotations.csv'\n",
        "\n",
        "# Load the CSV files\n",
        "metadata = pd.read_csv(metadata_file)\n",
        "annotations = pd.read_csv(annotations_file)\n",
        "\n",
        "print(\"Metadata:\")\n",
        "print(metadata.head())\n",
        "print(\"\\nAnnotations:\")\n",
        "print(annotations.head())\n"
      ],
      "id": "e38ffe7b352698c0",
      "outputs": [
        {
          "output_type": "stream",
          "name": "stdout",
          "text": [
            "Metadata:\n",
            "                        filename  speaker_id\n",
            "0         2_speech_true_Ofen_aus         132\n",
            "1         3_speech_true_Radio_an         132\n",
            "2         4_speech_true_Alarm_an         132\n",
            "3        9_speech_true_Radio_aus         132\n",
            "4  11_speech_false_Fernseher_aus         132\n",
            "\n",
            "Annotations:\n",
            "                        filename       command     start       end\n",
            "0    1003_speech_false_Licht_aus     Licht aus  12.20090  13.57599\n",
            "1       1008_speech_true_Ofen_an       Ofen an   6.90112   8.52638\n",
            "2      1010_speech_true_Radio_an      Radio an  13.03100  14.03146\n",
            "3  1011_speech_true_Fernseher_an  Fernseher an  14.11030  15.36121\n",
            "4   1012_speech_true_Heizung_aus   Heizung aus  11.20520  12.70590\n"
          ]
        }
      ],
      "execution_count": 42
    },
    {
      "metadata": {
        "id": "e1fc52558ddb0d5c"
      },
      "cell_type": "markdown",
      "source": [
        "#### Preprocess Audio Files (WAV) and Perform ICA\n"
      ],
      "id": "e1fc52558ddb0d5c"
    },
    {
      "metadata": {
        "ExecuteTime": {
          "end_time": "2024-05-30T06:26:08.372474Z",
          "start_time": "2024-05-30T06:25:50.615186Z"
        },
        "id": "624c6bca8adc3478",
        "outputId": "7edd1ce6-41ca-4217-e414-518b0b565ca4",
        "colab": {
          "base_uri": "https://localhost:8080/"
        }
      },
      "cell_type": "code",
      "source": [
        "import os\n",
        "import librosa\n",
        "from sklearn.preprocessing import StandardScaler\n",
        "from sklearn.decomposition import FastICA\n",
        "import numpy as np\n",
        "from IPython.display import Audio\n",
        "\n",
        "# Define directories\n",
        "scenes_wav_dir = f'{data_dir}/scenes/wav'  # Update this path\n",
        "\n",
        "# Function to load and preprocess audio\n",
        "def load_and_preprocess_audio(file_path):\n",
        "    audio, sr = librosa.load(file_path, sr=None)\n",
        "    scaler = StandardScaler()\n",
        "    audio = scaler.fit_transform(audio.reshape(-1, 1)).flatten()\n",
        "\n",
        "    ica = FastICA(n_components=1, whiten='unit-variance')\n",
        "    audio = ica.fit_transform(audio.reshape(-1, 1)).flatten()\n",
        "\n",
        "    return audio, sr\n",
        "\n",
        "# Function to segment audio based on annotations\n",
        "def segment_audio(audio, sr, start, end):\n",
        "    start_sample = int(start * sr)\n",
        "    end_sample = int(end * sr)\n",
        "    return audio[start_sample:end_sample]\n",
        "\n",
        "# Preprocess and segment all audio files\n",
        "preprocessed_segments = []\n",
        "\n",
        "for idx, row in annotations.iterrows():\n",
        "    file_name = row['filename']\n",
        "    command = row['command']\n",
        "    start = row['start']\n",
        "    end = row['end']\n",
        "\n",
        "    file_path = os.path.join(scenes_wav_dir, file_name + '.wav')\n",
        "\n",
        "    try:\n",
        "        audio, sr = load_and_preprocess_audio(file_path)\n",
        "        segment = segment_audio(audio, sr, start, end)\n",
        "        preprocessed_segments.append((file_name, command, segment, sr))\n",
        "    except Exception as e:\n",
        "        print(f\"Error processing file {file_path}: {e}\")\n",
        "\n",
        "# Example: display the first segment\n",
        "print(f\"First segment: {preprocessed_segments[0]}\")\n"
      ],
      "id": "624c6bca8adc3478",
      "outputs": [
        {
          "output_type": "stream",
          "name": "stdout",
          "text": [
            "First segment: ('1003_speech_false_Licht_aus', 'Licht aus', array([-0.08784055, -0.03521105, -0.16523688, ...,  0.15054016,\n",
            "        0.34248304,  0.2650867 ], dtype=float32), 16000)\n"
          ]
        }
      ],
      "execution_count": 43
    },
    {
      "metadata": {
        "ExecuteTime": {
          "end_time": "2024-05-30T06:35:40.041831Z",
          "start_time": "2024-05-30T06:35:35.165845Z"
        },
        "id": "344029151ce8b2e5",
        "outputId": "70be584e-90b5-4a4c-e905-6ca2b6e2497d",
        "colab": {
          "base_uri": "https://localhost:8080/",
          "height": 204
        }
      },
      "cell_type": "code",
      "source": [
        "import os\n",
        "import numpy as np\n",
        "import pandas as pd\n",
        "import librosa\n",
        "import soundfile as sf\n",
        "import random\n",
        "from IPython.display import Audio\n",
        "from sklearn.decomposition import FastICA\n",
        "\n",
        "# Function to apply ICA on audio segments\n",
        "def apply_ica(segment, sr):\n",
        "    ica = FastICA(n_components=1, whiten='arbitrary-variance')  # Explicitly set whiten parameter\n",
        "    segment_reshaped = segment.reshape(-1, 1)\n",
        "    segment_ica = ica.fit_transform(segment_reshaped).flatten()\n",
        "    return segment_ica\n",
        "\n",
        "# Function to preprocess segments and optionally save to the filesystem\n",
        "def preprocess_and_save_segments(scenes_dir, annotations_path, save_dir=None, save_to_filesystem=False, apply_ica_flag=False):\n",
        "    # Load the annotations\n",
        "    annotations_df = pd.read_csv(annotations_path)\n",
        "\n",
        "    # Ensure the save directory exists if saving to filesystem\n",
        "    if save_to_filesystem and save_dir is not None:\n",
        "        os.makedirs(save_dir, exist_ok=True)\n",
        "\n",
        "    preprocessed_segments = []\n",
        "\n",
        "    for index, row in annotations_df.iterrows():\n",
        "        filename = row['filename']\n",
        "        command = row['command']\n",
        "        start = row['start']\n",
        "        end = row['end']\n",
        "\n",
        "        # Load the audio file\n",
        "        file_path = os.path.join(scenes_dir, f\"{filename}.wav\")\n",
        "        y, sr = librosa.load(file_path, sr=None)\n",
        "\n",
        "        # Extract the segment\n",
        "        start_sample = int(start * sr)\n",
        "        end_sample = int(end * sr)\n",
        "        segment = y[start_sample:end_sample]\n",
        "\n",
        "        # Normalize the segment\n",
        "        segment = librosa.util.normalize(segment)\n",
        "\n",
        "        # Apply ICA if the flag is set\n",
        "        if apply_ica_flag:\n",
        "            segment = apply_ica(segment, sr)\n",
        "\n",
        "        # Add the segment to the list\n",
        "        preprocessed_segments.append((filename, command, segment, sr))\n",
        "\n",
        "        # Save the segment to the filesystem if required\n",
        "        if save_to_filesystem and save_dir is not None:\n",
        "            save_path = os.path.join(save_dir, f\"{filename}_{start}_{end}.wav\")\n",
        "            sf.write(save_path, segment, sr)\n",
        "\n",
        "    return preprocessed_segments\n",
        "\n",
        "# Function to play a random segment from preprocessed segments\n",
        "def play_random_segment(preprocessed_segments):\n",
        "    # Select a random segment\n",
        "    random_segment = random.choice(preprocessed_segments)\n",
        "\n",
        "    filename, command, audio_data, sample_rate = random_segment\n",
        "\n",
        "    # Print the command and play the audio segment\n",
        "    print(f\"Filename: {filename}\")\n",
        "    print(f\"Command: {command}\")\n",
        "\n",
        "    return Audio(audio_data, rate=sample_rate)\n",
        "\n",
        "# Function to play a random segment from the filesystem\n",
        "def play_random_segment_from_filesystem(save_dir, annotations_path):\n",
        "    # List all the preprocessed segment files\n",
        "    segment_files = [f for f in os.listdir(save_dir) if f.endswith('.wav')]\n",
        "\n",
        "    # Select a random segment file\n",
        "    random_segment_file = random.choice(segment_files)\n",
        "    random_segment_path = os.path.join(save_dir, random_segment_file)\n",
        "\n",
        "    # Extract start and end times from the file name\n",
        "    filename_parts = random_segment_file.split('_')\n",
        "    filename = '_'.join(filename_parts[:-2])\n",
        "    start_time = float(filename_parts[-2])\n",
        "    end_time = float(filename_parts[-1].replace('.wav', ''))\n",
        "\n",
        "    # Find the command in the annotations\n",
        "    annotations_df = pd.read_csv(annotations_path)\n",
        "    command_row = annotations_df[\n",
        "        (annotations_df['filename'] == filename) &\n",
        "        (annotations_df['start'] == start_time) &\n",
        "        (annotations_df['end'] == end_time)\n",
        "    ]\n",
        "\n",
        "    if command_row.empty:\n",
        "        print(f\"No matching annotation found for {random_segment_file}\")\n",
        "        return\n",
        "\n",
        "    command = command_row.iloc[0]['command']\n",
        "\n",
        "    # Load the audio segment\n",
        "    y, sr = librosa.load(random_segment_path, sr=None)\n",
        "\n",
        "    # Print the command and play the audio segment\n",
        "    print(f\"Filename: {filename}\")\n",
        "    print(f\"Command: {command}\")\n",
        "\n",
        "    return Audio(y, rate=sr)\n",
        "\n",
        "# Example usage\n",
        "scenes_dir = f'{data_dir}/scenes/wav'\n",
        "annotations_path = f'{data_dir}/development_scene_annotations.csv'\n",
        "save_dir = f'{data_dir}/scenes/preprocessed_segments'\n",
        "\n",
        "# Preprocess segments and save to filesystem with optional ICA\n",
        "preprocessed_segments = preprocess_and_save_segments(scenes_dir, annotations_path, save_dir, save_to_filesystem=True, apply_ica_flag=True)\n",
        "\n",
        "# Play a random segment from memory\n",
        "audio_memory = play_random_segment(preprocessed_segments)\n",
        "display(audio_memory)\n",
        "\n",
        "# Play a random segment from filesystem\n",
        "audio_filesystem = play_random_segment_from_filesystem(save_dir, annotations_path)\n",
        "display(audio_filesystem)\n"
      ],
      "id": "344029151ce8b2e5",
      "outputs": [
        {
          "output_type": "stream",
          "name": "stdout",
          "text": [
            "Filename: 215_speech_false_Heizung_aus_Licht_aus\n",
            "Command: Heizung aus\n"
          ]
        },
        {
          "output_type": "display_data",
          "data": {
            "text/plain": [
              "<IPython.lib.display.Audio object>"
            ],
            "text/html": [
              "\n",
              "                <audio  controls=\"controls\" >\n",
              "                    <source src=\"data:audio/wav;base64,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\" type=\"audio/wav\" />\n",
              "                    Your browser does not support the audio element.\n",
              "                </audio>\n",
              "              "
            ]
          },
          "metadata": {}
        },
        {
          "output_type": "stream",
          "name": "stdout",
          "text": [
            "Filename: 277_speech_false_Licht_aus_Lüftung_an\n",
            "Command: Lüftung an\n"
          ]
        },
        {
          "output_type": "display_data",
          "data": {
            "text/plain": [
              "<IPython.lib.display.Audio object>"
            ],
            "text/html": [
              "\n",
              "                <audio  controls=\"controls\" >\n",
              "                    <source src=\"data:audio/wav;base64,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\" type=\"audio/wav\" />\n",
              "                    Your browser does not support the audio element.\n",
              "                </audio>\n",
              "              "
            ]
          },
          "metadata": {}
        }
      ],
      "execution_count": 44
    },
    {
      "metadata": {
        "id": "310a6e11fdef1540"
      },
      "cell_type": "markdown",
      "source": [
        "### Step 2: Data Augmentation\n",
        "\n",
        "#### Apply Data Augmentation\n"
      ],
      "id": "310a6e11fdef1540"
    },
    {
      "metadata": {
        "ExecuteTime": {
          "end_time": "2024-05-30T06:37:36.766511Z",
          "start_time": "2024-05-30T06:37:27.383568Z"
        },
        "id": "1aae0b9e554475a7",
        "outputId": "ecb79eaf-d7f5-4184-8563-d6bb326d293b",
        "colab": {
          "base_uri": "https://localhost:8080/"
        }
      },
      "cell_type": "code",
      "source": [
        "import librosa\n",
        "import numpy as np\n",
        "\n",
        "# Function to augment audio\n",
        "def augment_audio(audio, sr):\n",
        "    augmented = []\n",
        "    # Original length\n",
        "    original_length = len(audio)\n",
        "\n",
        "    # Shift\n",
        "    shift = int(sr * 0.5)  # shift by 0.5 seconds\n",
        "    shifted_audio = np.roll(audio, shift)\n",
        "    augmented.append(shifted_audio)\n",
        "\n",
        "    # Stretch\n",
        "    stretch = librosa.effects.time_stretch(audio, rate=0.8)\n",
        "    if len(stretch) < original_length:\n",
        "        # Pad with zeros if stretched audio is shorter\n",
        "        stretch = np.pad(stretch, (0, original_length - len(stretch)), mode='constant')\n",
        "    else:\n",
        "        stretch = stretch[:original_length]  # ensure same length\n",
        "    augmented.append(stretch)\n",
        "\n",
        "    # Debug information\n",
        "    for aug_audio in augmented:\n",
        "        #print(f\"Original length: {original_length}, Augmented length: {len(aug_audio)}\")\n",
        "        if len(aug_audio) < 2048:\n",
        "            print(f\"Warning: Augmented segment length {len(aug_audio)} is shorter than n_fft=2048\")\n",
        "\n",
        "    return augmented\n",
        "\n",
        "# Apply augmentation to all segments\n",
        "augmented_segments = []\n",
        "for file_name, command, segment, sr in preprocessed_segments:\n",
        "    augmented = augment_audio(segment, sr)\n",
        "    for aug in augmented:\n",
        "        augmented_segments.append((file_name, command, aug, sr))\n",
        "\n",
        "# Combine original and augmented data\n",
        "all_segments = preprocessed_segments + augmented_segments\n"
      ],
      "id": "1aae0b9e554475a7",
      "outputs": [
        {
          "output_type": "stream",
          "name": "stderr",
          "text": [
            "/usr/local/lib/python3.10/dist-packages/librosa/core/spectrum.py:266: UserWarning: n_fft=2048 is too large for input signal of length=800\n",
            "  warnings.warn(\n"
          ]
        },
        {
          "output_type": "stream",
          "name": "stdout",
          "text": [
            "Warning: Augmented segment length 800 is shorter than n_fft=2048\n",
            "Warning: Augmented segment length 800 is shorter than n_fft=2048\n"
          ]
        }
      ],
      "execution_count": 45
    },
    {
      "metadata": {
        "id": "e5f1ea89b26d7233"
      },
      "cell_type": "markdown",
      "source": [
        "### Step 3: Feature Extraction\n",
        "\n",
        "#### Extract Features with Padding/Truncation and Dynamic `n_fft`\n"
      ],
      "id": "e5f1ea89b26d7233"
    },
    {
      "metadata": {
        "ExecuteTime": {
          "end_time": "2024-05-30T06:39:05.151189Z",
          "start_time": "2024-05-30T06:38:42.626250Z"
        },
        "id": "f6cee836b0ea7c1e",
        "outputId": "ddf1c7ab-d86e-4011-b398-074f466044da",
        "colab": {
          "base_uri": "https://localhost:8080/"
        }
      },
      "cell_type": "code",
      "source": [
        "# Function to extract features with dynamic n_fft\n",
        "def extract_features(segment, sr, max_length):\n",
        "    n_fft = min(2048, max(256, len(segment) // 2))  # Ensure n_fft is not larger than half the segment length and at least 256\n",
        "    if len(segment) < n_fft:\n",
        "        n_fft = len(segment) // 2\n",
        "    #print(f\"Extracting features with n_fft={n_fft} for segment length={len(segment)}\")\n",
        "    hop_length = n_fft // 4  # Typical value for hop_length\n",
        "    mfccs = librosa.feature.mfcc(y=segment, sr=sr, n_mfcc=13, n_fft=n_fft, hop_length=hop_length)\n",
        "    mfccs_flat = mfccs.flatten()\n",
        "    if len(mfccs_flat) < max_length:\n",
        "        # Pad with zeros\n",
        "        padded_mfccs = np.pad(mfccs_flat, (0, max_length - len(mfccs_flat)), mode='constant')\n",
        "        return padded_mfccs\n",
        "    else:\n",
        "        # Truncate to max_length\n",
        "        return mfccs_flat[:max_length]\n",
        "\n",
        "# Determine the maximum length for padding/truncation\n",
        "max_length = 0\n",
        "for _, _, segment, sr in all_segments:\n",
        "    n_fft = min(2048, max(256, len(segment) // 2))\n",
        "    if len(segment) < n_fft:\n",
        "        n_fft = len(segment) // 2\n",
        "    hop_length = n_fft // 4\n",
        "    features = librosa.feature.mfcc(y=segment, sr=sr, n_mfcc=13, n_fft=n_fft, hop_length=hop_length).flatten()\n",
        "    if len(features) > max_length:\n",
        "        max_length = len(features)\n",
        "\n",
        "# Extract features for all segments with padding/truncation\n",
        "feature_data = []\n",
        "for file_name, command, segment, sr in all_segments:\n",
        "    features = extract_features(segment, sr, max_length)\n",
        "    feature_data.append((file_name, command, features))\n",
        "\n",
        "print(f\"Feature extraction completed with max length: {max_length}\")\n"
      ],
      "id": "f6cee836b0ea7c1e",
      "outputs": [
        {
          "output_type": "stream",
          "name": "stdout",
          "text": [
            "Feature extraction completed with max length: 1170\n"
          ]
        }
      ],
      "execution_count": 46
    },
    {
      "metadata": {
        "id": "8d0d8c3c7998e5c1"
      },
      "cell_type": "markdown",
      "source": [
        "### Step 4: Model Training and Evaluation\n",
        "\n",
        "#### Train `GradientBoostingClassifier` with Class Weights and Progress Bar\n"
      ],
      "id": "8d0d8c3c7998e5c1"
    },
    {
      "metadata": {
        "ExecuteTime": {
          "end_time": "2024-05-30T06:39:34.760729Z",
          "start_time": "2024-05-30T06:39:34.717834Z"
        },
        "id": "ebea55587b241234",
        "outputId": "9e8ee565-a62e-4dd2-b1b8-9ac8a317f2e7",
        "colab": {
          "base_uri": "https://localhost:8080/"
        }
      },
      "cell_type": "code",
      "source": [
        "from sklearn.model_selection import train_test_split\n",
        "from sklearn.preprocessing import LabelEncoder\n",
        "from sklearn.utils.class_weight import compute_class_weight\n",
        "\n",
        "# Prepare data for training\n",
        "X = np.array([features for _, _, features in feature_data])\n",
        "y = np.array([command for _, command, _ in feature_data])\n",
        "\n",
        "# Encode string labels to numeric labels\n",
        "label_encoder = LabelEncoder()\n",
        "y_encoded = label_encoder.fit_transform(y)\n",
        "\n",
        "# Split data into training and validation sets\n",
        "X_train, X_val, y_train, y_val = train_test_split(X, y_encoded, test_size=0.2, random_state=42)\n",
        "\n",
        "# Compute class weights\n",
        "classes = np.unique(y_train)\n",
        "class_weights = compute_class_weight('balanced', classes=classes, y=y_train)\n",
        "class_weight_dict = {cls: weight for cls, weight in zip(classes, class_weights)}\n",
        "\n",
        "# Print class weights for debugging\n",
        "print(\"Class Weights: \", class_weight_dict)\n",
        "\n",
        "# Create sample weights\n",
        "sample_weights = np.array([class_weight_dict[cls] for cls in y_train])\n",
        "\n",
        "# Print sample weights for debugging\n",
        "print(\"Sample Weights: \", sample_weights)\n"
      ],
      "id": "ebea55587b241234",
      "outputs": [
        {
          "output_type": "stream",
          "name": "stdout",
          "text": [
            "Class Weights:  {0: 0.9740853658536586, 1: 1.065, 2: 0.8729508196721312, 3: 1.298780487804878, 4: 0.9128571428571428, 5: 1.0240384615384615, 6: 0.8192307692307692, 7: 0.7717391304347826, 8: 1.0047169811320755, 9: 1.0579470198675496, 10: 1.0240384615384615, 11: 1.117132867132867, 12: 1.109375, 13: 0.9508928571428571, 14: 1.0721476510067114, 15: 1.2011278195488722}\n",
            "Sample Weights:  [1.00471698 0.77173913 1.065      ... 1.109375   1.05794702 0.97408537]\n"
          ]
        }
      ],
      "execution_count": 47
    },
    {
      "metadata": {
        "ExecuteTime": {
          "end_time": "2024-05-30T06:39:39.523735Z",
          "start_time": "2024-05-30T06:39:39.517730Z"
        },
        "id": "da141a180ad4cd17",
        "outputId": "2aa60b55-5786-4916-a41f-7f2d25396923",
        "colab": {
          "base_uri": "https://localhost:8080/"
        }
      },
      "cell_type": "code",
      "source": [
        "# Print class distribution\n",
        "unique, counts = np.unique(y_train, return_counts=True)\n",
        "class_distribution = dict(zip(unique, counts))\n",
        "print(\"Class Distribution: \", class_distribution)\n"
      ],
      "id": "da141a180ad4cd17",
      "outputs": [
        {
          "output_type": "stream",
          "name": "stdout",
          "text": [
            "Class Distribution:  {0: 164, 1: 150, 2: 183, 3: 123, 4: 175, 5: 156, 6: 195, 7: 207, 8: 159, 9: 151, 10: 156, 11: 143, 12: 144, 13: 168, 14: 149, 15: 133}\n"
          ]
        }
      ],
      "execution_count": 48
    },
    {
      "cell_type": "code",
      "source": [
        "# Define a plot function for the confusion matrix\n",
        "import matplotlib.pyplot as plt\n",
        "import seaborn as sns\n",
        "from sklearn.metrics import confusion_matrix\n",
        "\n",
        "def plot_confusion_matrix(y_true, y_pred, labels, title='Confusion Matrix'):\n",
        "    conf_matrix = confusion_matrix(y_true, y_pred, labels=labels)\n",
        "    plt.figure(figsize=(10, 8))\n",
        "    sns.heatmap(conf_matrix, annot=True, fmt='d', cmap='Blues', xticklabels=labels, yticklabels=labels)\n",
        "    plt.title(title)\n",
        "    plt.xlabel('Predicted')\n",
        "    plt.ylabel('True')\n",
        "    plt.show()\n"
      ],
      "metadata": {
        "id": "VFNFDxQGaM3t"
      },
      "id": "VFNFDxQGaM3t",
      "execution_count": 49,
      "outputs": []
    },
    {
      "metadata": {
        "ExecuteTime": {
          "end_time": "2024-05-30T00:12:11.886240Z",
          "start_time": "2024-05-30T00:01:20.406185Z"
        },
        "id": "878ff13809273a3a",
        "outputId": "256d77aa-bd81-40da-ff39-604f86063022",
        "colab": {
          "base_uri": "https://localhost:8080/",
          "height": 416
        }
      },
      "cell_type": "code",
      "source": [
        "# Train a Gradient Boosting classifier with a progress bar and sample weights\n",
        "from sklearn.ensemble import GradientBoostingClassifier\n",
        "from sklearn.metrics import classification_report\n",
        "from tqdm import tqdm\n",
        "\n",
        "n_estimators = 100\n",
        "gb = GradientBoostingClassifier(n_estimators=n_estimators, random_state=42, warm_start=True)\n",
        "\n",
        "# Wrap the training loop with tqdm for the progress bar\n",
        "for i in tqdm(range(1, n_estimators + 1), desc=\"Training Gradient Boosting Classifier\"):\n",
        "    gb.n_estimators = i\n",
        "    gb.fit(X_train, y_train, sample_weight=sample_weights)\n",
        "\n",
        "# Evaluate the classifier\n",
        "y_pred_gb = gb.predict(X_val)\n",
        "print(\"Gradient Boosting Classifier Report\")\n",
        "print(classification_report(y_val, y_pred_gb, zero_division=0))\n"
      ],
      "id": "878ff13809273a3a",
      "outputs": [
        {
          "output_type": "stream",
          "name": "stderr",
          "text": [
            "Training Gradient Boosting Classifier:  31%|███       | 31/100 [04:48<10:42,  9.32s/it]\n"
          ]
        },
        {
          "output_type": "error",
          "ename": "KeyboardInterrupt",
          "evalue": "",
          "traceback": [
            "\u001b[0;31m---------------------------------------------------------------------------\u001b[0m",
            "\u001b[0;31mKeyboardInterrupt\u001b[0m                         Traceback (most recent call last)",
            "\u001b[0;32m<ipython-input-50-ed264b767050>\u001b[0m in \u001b[0;36m<cell line: 10>\u001b[0;34m()\u001b[0m\n\u001b[1;32m     10\u001b[0m \u001b[0;32mfor\u001b[0m \u001b[0mi\u001b[0m \u001b[0;32min\u001b[0m \u001b[0mtqdm\u001b[0m\u001b[0;34m(\u001b[0m\u001b[0mrange\u001b[0m\u001b[0;34m(\u001b[0m\u001b[0;36m1\u001b[0m\u001b[0;34m,\u001b[0m \u001b[0mn_estimators\u001b[0m \u001b[0;34m+\u001b[0m \u001b[0;36m1\u001b[0m\u001b[0;34m)\u001b[0m\u001b[0;34m,\u001b[0m \u001b[0mdesc\u001b[0m\u001b[0;34m=\u001b[0m\u001b[0;34m\"Training Gradient Boosting Classifier\"\u001b[0m\u001b[0;34m)\u001b[0m\u001b[0;34m:\u001b[0m\u001b[0;34m\u001b[0m\u001b[0;34m\u001b[0m\u001b[0m\n\u001b[1;32m     11\u001b[0m     \u001b[0mgb\u001b[0m\u001b[0;34m.\u001b[0m\u001b[0mn_estimators\u001b[0m \u001b[0;34m=\u001b[0m \u001b[0mi\u001b[0m\u001b[0;34m\u001b[0m\u001b[0;34m\u001b[0m\u001b[0m\n\u001b[0;32m---> 12\u001b[0;31m     \u001b[0mgb\u001b[0m\u001b[0;34m.\u001b[0m\u001b[0mfit\u001b[0m\u001b[0;34m(\u001b[0m\u001b[0mX_train\u001b[0m\u001b[0;34m,\u001b[0m \u001b[0my_train\u001b[0m\u001b[0;34m,\u001b[0m \u001b[0msample_weight\u001b[0m\u001b[0;34m=\u001b[0m\u001b[0msample_weights\u001b[0m\u001b[0;34m)\u001b[0m\u001b[0;34m\u001b[0m\u001b[0;34m\u001b[0m\u001b[0m\n\u001b[0m\u001b[1;32m     13\u001b[0m \u001b[0;34m\u001b[0m\u001b[0m\n\u001b[1;32m     14\u001b[0m \u001b[0;31m# Evaluate the classifier\u001b[0m\u001b[0;34m\u001b[0m\u001b[0;34m\u001b[0m\u001b[0m\n",
            "\u001b[0;32m/usr/local/lib/python3.10/dist-packages/sklearn/ensemble/_gb.py\u001b[0m in \u001b[0;36mfit\u001b[0;34m(self, X, y, sample_weight, monitor)\u001b[0m\n\u001b[1;32m    536\u001b[0m \u001b[0;34m\u001b[0m\u001b[0m\n\u001b[1;32m    537\u001b[0m         \u001b[0;31m# fit the boosting stages\u001b[0m\u001b[0;34m\u001b[0m\u001b[0;34m\u001b[0m\u001b[0m\n\u001b[0;32m--> 538\u001b[0;31m         n_stages = self._fit_stages(\n\u001b[0m\u001b[1;32m    539\u001b[0m             \u001b[0mX\u001b[0m\u001b[0;34m,\u001b[0m\u001b[0;34m\u001b[0m\u001b[0;34m\u001b[0m\u001b[0m\n\u001b[1;32m    540\u001b[0m             \u001b[0my\u001b[0m\u001b[0;34m,\u001b[0m\u001b[0;34m\u001b[0m\u001b[0;34m\u001b[0m\u001b[0m\n",
            "\u001b[0;32m/usr/local/lib/python3.10/dist-packages/sklearn/ensemble/_gb.py\u001b[0m in \u001b[0;36m_fit_stages\u001b[0;34m(self, X, y, raw_predictions, sample_weight, random_state, X_val, y_val, sample_weight_val, begin_at_stage, monitor)\u001b[0m\n\u001b[1;32m    613\u001b[0m \u001b[0;34m\u001b[0m\u001b[0m\n\u001b[1;32m    614\u001b[0m             \u001b[0;31m# fit next stage of trees\u001b[0m\u001b[0;34m\u001b[0m\u001b[0;34m\u001b[0m\u001b[0m\n\u001b[0;32m--> 615\u001b[0;31m             raw_predictions = self._fit_stage(\n\u001b[0m\u001b[1;32m    616\u001b[0m                 \u001b[0mi\u001b[0m\u001b[0;34m,\u001b[0m\u001b[0;34m\u001b[0m\u001b[0;34m\u001b[0m\u001b[0m\n\u001b[1;32m    617\u001b[0m                 \u001b[0mX\u001b[0m\u001b[0;34m,\u001b[0m\u001b[0;34m\u001b[0m\u001b[0;34m\u001b[0m\u001b[0m\n",
            "\u001b[0;32m/usr/local/lib/python3.10/dist-packages/sklearn/ensemble/_gb.py\u001b[0m in \u001b[0;36m_fit_stage\u001b[0;34m(self, i, X, y, raw_predictions, sample_weight, sample_mask, random_state, X_csc, X_csr)\u001b[0m\n\u001b[1;32m    255\u001b[0m \u001b[0;34m\u001b[0m\u001b[0m\n\u001b[1;32m    256\u001b[0m             \u001b[0mX\u001b[0m \u001b[0;34m=\u001b[0m \u001b[0mX_csr\u001b[0m \u001b[0;32mif\u001b[0m \u001b[0mX_csr\u001b[0m \u001b[0;32mis\u001b[0m \u001b[0;32mnot\u001b[0m \u001b[0;32mNone\u001b[0m \u001b[0;32melse\u001b[0m \u001b[0mX\u001b[0m\u001b[0;34m\u001b[0m\u001b[0;34m\u001b[0m\u001b[0m\n\u001b[0;32m--> 257\u001b[0;31m             \u001b[0mtree\u001b[0m\u001b[0;34m.\u001b[0m\u001b[0mfit\u001b[0m\u001b[0;34m(\u001b[0m\u001b[0mX\u001b[0m\u001b[0;34m,\u001b[0m \u001b[0mresidual\u001b[0m\u001b[0;34m,\u001b[0m \u001b[0msample_weight\u001b[0m\u001b[0;34m=\u001b[0m\u001b[0msample_weight\u001b[0m\u001b[0;34m,\u001b[0m \u001b[0mcheck_input\u001b[0m\u001b[0;34m=\u001b[0m\u001b[0;32mFalse\u001b[0m\u001b[0;34m)\u001b[0m\u001b[0;34m\u001b[0m\u001b[0;34m\u001b[0m\u001b[0m\n\u001b[0m\u001b[1;32m    258\u001b[0m \u001b[0;34m\u001b[0m\u001b[0m\n\u001b[1;32m    259\u001b[0m             \u001b[0;31m# update tree leaves\u001b[0m\u001b[0;34m\u001b[0m\u001b[0;34m\u001b[0m\u001b[0m\n",
            "\u001b[0;32m/usr/local/lib/python3.10/dist-packages/sklearn/tree/_classes.py\u001b[0m in \u001b[0;36mfit\u001b[0;34m(self, X, y, sample_weight, check_input)\u001b[0m\n\u001b[1;32m   1245\u001b[0m         \"\"\"\n\u001b[1;32m   1246\u001b[0m \u001b[0;34m\u001b[0m\u001b[0m\n\u001b[0;32m-> 1247\u001b[0;31m         super().fit(\n\u001b[0m\u001b[1;32m   1248\u001b[0m             \u001b[0mX\u001b[0m\u001b[0;34m,\u001b[0m\u001b[0;34m\u001b[0m\u001b[0;34m\u001b[0m\u001b[0m\n\u001b[1;32m   1249\u001b[0m             \u001b[0my\u001b[0m\u001b[0;34m,\u001b[0m\u001b[0;34m\u001b[0m\u001b[0;34m\u001b[0m\u001b[0m\n",
            "\u001b[0;32m/usr/local/lib/python3.10/dist-packages/sklearn/tree/_classes.py\u001b[0m in \u001b[0;36mfit\u001b[0;34m(self, X, y, sample_weight, check_input)\u001b[0m\n\u001b[1;32m    377\u001b[0m             )\n\u001b[1;32m    378\u001b[0m \u001b[0;34m\u001b[0m\u001b[0m\n\u001b[0;32m--> 379\u001b[0;31m         \u001b[0mbuilder\u001b[0m\u001b[0;34m.\u001b[0m\u001b[0mbuild\u001b[0m\u001b[0;34m(\u001b[0m\u001b[0mself\u001b[0m\u001b[0;34m.\u001b[0m\u001b[0mtree_\u001b[0m\u001b[0;34m,\u001b[0m \u001b[0mX\u001b[0m\u001b[0;34m,\u001b[0m \u001b[0my\u001b[0m\u001b[0;34m,\u001b[0m \u001b[0msample_weight\u001b[0m\u001b[0;34m)\u001b[0m\u001b[0;34m\u001b[0m\u001b[0;34m\u001b[0m\u001b[0m\n\u001b[0m\u001b[1;32m    380\u001b[0m \u001b[0;34m\u001b[0m\u001b[0m\n\u001b[1;32m    381\u001b[0m         \u001b[0;32mif\u001b[0m \u001b[0mself\u001b[0m\u001b[0;34m.\u001b[0m\u001b[0mn_outputs_\u001b[0m \u001b[0;34m==\u001b[0m \u001b[0;36m1\u001b[0m \u001b[0;32mand\u001b[0m \u001b[0mis_classifier\u001b[0m\u001b[0;34m(\u001b[0m\u001b[0mself\u001b[0m\u001b[0;34m)\u001b[0m\u001b[0;34m:\u001b[0m\u001b[0;34m\u001b[0m\u001b[0;34m\u001b[0m\u001b[0m\n",
            "\u001b[0;31mKeyboardInterrupt\u001b[0m: "
          ]
        }
      ],
      "execution_count": 50
    },
    {
      "metadata": {
        "id": "bbadf8e40408ef31"
      },
      "cell_type": "markdown",
      "source": [
        "#### Train `RandomForestClassifier` with Class Weights\n"
      ],
      "id": "bbadf8e40408ef31"
    },
    {
      "metadata": {
        "ExecuteTime": {
          "end_time": "2024-05-30T06:39:53.490921Z",
          "start_time": "2024-05-30T06:39:49.127954Z"
        },
        "id": "d43d11df56a0e22f"
      },
      "cell_type": "code",
      "source": [
        "# Train a Random Forest classifier with class weights\n",
        "from sklearn.ensemble import RandomForestClassifier\n",
        "from sklearn.metrics import classification_report\n",
        "\n",
        "rf = RandomForestClassifier(n_estimators=100, random_state=42, class_weight=class_weight_dict)\n",
        "rf.fit(X_train, y_train)\n",
        "\n",
        "# Evaluate the classifier\n",
        "y_pred_rf = rf.predict(X_val)\n",
        "print(\"Random Forest Classifier Report\")\n",
        "print(classification_report(y_val, y_pred_rf, zero_division=0))\n"
      ],
      "id": "d43d11df56a0e22f",
      "outputs": [],
      "execution_count": null
    },
    {
      "metadata": {
        "id": "b1cb61e452c99e5"
      },
      "cell_type": "markdown",
      "source": [
        "### Step 5: Ensemble Classifiers\n"
      ],
      "id": "b1cb61e452c99e5"
    },
    {
      "metadata": {
        "ExecuteTime": {
          "end_time": "2024-05-30T00:13:10.081386Z",
          "start_time": "2024-05-30T00:12:15.805555Z"
        },
        "id": "523074258f74bd26"
      },
      "cell_type": "code",
      "source": [
        "from sklearn.ensemble import VotingClassifier\n",
        "\n",
        "# Combine Random Forest and Gradient Boosting\n",
        "ensemble = VotingClassifier(estimators=[('rf', rf), ('gb', gb)], voting='soft')\n",
        "ensemble.fit(X_train, y_train)\n",
        "\n",
        "# Evaluate the ensemble classifier\n",
        "y_pred_ensemble = ensemble.predict(X_val)\n",
        "print(\"Ensemble Classifier Report\")\n",
        "print(classification_report(y_val, y_pred_ensemble, zero_division=0))\n",
        "\n",
        "# Plot confusion matrix\n",
        "abels = np.unique(y_val)\n",
        "plot_confusion_matrix(y_val, y_pred_ensemble, labels, title='Confusion Matrix - Ensemble')\n"
      ],
      "id": "523074258f74bd26",
      "outputs": [],
      "execution_count": null
    },
    {
      "metadata": {
        "id": "c960da4eaf930b4"
      },
      "cell_type": "markdown",
      "source": [
        "### Summary\n",
        "\n",
        "We've consolidated the process into five clear steps:\n",
        "\n",
        "1. **Data Preprocessing**: Load metadata and preprocess audio files with ICA.\n",
        "2. **Data Augmentation**: Apply time-shifting and time-stretching to augment the audio data.\n",
        "3. **Feature Extraction**: Extract MFCC features with appropriate padding/truncation and dynamic `n_fft`.\n",
        "4. **Model Training and Evaluation**: Train `GradientBoostingClassifier` and `RandomForestClassifier`, handle class weights, and evaluate their performance.\n",
        "5. **Ensemble Classifiers**: Combine predictions from multiple models to improve robustness.\n",
        "\n",
        "Let's proceed with running these steps sequentially to ensure there are no errors, warnings, or obstacles. If you encounter any issues or need further adjustments, please let me know!"
      ],
      "id": "c960da4eaf930b4"
    },
    {
      "metadata": {
        "id": "88fbb72d1c1b621f"
      },
      "cell_type": "markdown",
      "source": [
        "### Alternative ensembling method: Stacking"
      ],
      "id": "88fbb72d1c1b621f"
    },
    {
      "metadata": {
        "ExecuteTime": {
          "end_time": "2024-05-30T00:13:10.084324Z",
          "start_time": "2024-05-30T00:13:10.084193Z"
        },
        "id": "becf965d82c84527"
      },
      "cell_type": "code",
      "source": [
        "from sklearn.ensemble import StackingClassifier\n",
        "from sklearn.linear_model import LogisticRegression\n",
        "\n",
        "# Define base classifiers\n",
        "estimators = [\n",
        "    ('rf', RandomForestClassifier(n_estimators=100, random_state=42, class_weight=class_weight_dict)),\n",
        "    ('gb', GradientBoostingClassifier(n_estimators=100, random_state=42))\n",
        "]\n",
        "\n",
        "# Define stacking classifier\n",
        "stacking_clf = StackingClassifier(estimators=estimators, final_estimator=LogisticRegression())\n",
        "stacking_clf.fit(X_train, y_train)\n",
        "\n",
        "# Make predictions\n",
        "y_pred_stacking = stacking_clf.predict(X_val)\n",
        "\n",
        "# Evaluate the stacking classifier\n",
        "print(\"Stacking Classifier Report\")\n",
        "print(classification_report(y_val, y_pred_stacking, zero_division=0))\n"
      ],
      "id": "becf965d82c84527",
      "outputs": [],
      "execution_count": null
    },
    {
      "metadata": {
        "id": "8a3d14eadebf565d"
      },
      "cell_type": "code",
      "source": [
        "class_weight_dict"
      ],
      "id": "8a3d14eadebf565d",
      "outputs": [],
      "execution_count": null
    },
    {
      "metadata": {
        "id": "13bef382653009d5"
      },
      "cell_type": "markdown",
      "source": [
        "### Step-by-Step Guide to Adding a CNN Classifier\n",
        "\n",
        "1. **Define the CNN Architecture**: We'll use Keras with TensorFlow backend to define the CNN.\n",
        "2. **Prepare Data for CNN**: Ensure the data is in the right shape and format for the CNN.\n",
        "3. **Train the CNN**: Train the CNN on the training data.\n",
        "4. **Evaluate the CNN**: Evaluate its performance on the validation data.\n",
        "5. **Compare with Other Classifiers**: Compare the CNN's performance with the Gradient Boosting and Random Forest classifiers.\n",
        "\n",
        "### Step 1: Define the CNN Architecture\n",
        "\n",
        "We'll use a simple CNN architecture for this example.\n"
      ],
      "id": "13bef382653009d5"
    },
    {
      "metadata": {
        "ExecuteTime": {
          "end_time": "2024-05-30T06:40:15.274238Z",
          "start_time": "2024-05-30T06:40:15.265949Z"
        },
        "id": "89338c6d77a1ece4"
      },
      "cell_type": "code",
      "source": [
        "import tensorflow as tf\n",
        "from tensorflow.keras.models import Sequential\n",
        "from tensorflow.keras.layers import Conv2D, MaxPooling2D, Flatten, Dense\n",
        "from tensorflow.keras.utils import to_categorical\n",
        "\n",
        "# Define the CNN model\n",
        "def create_cnn_model(input_shape, num_classes):\n",
        "    model = Sequential([\n",
        "        Conv2D(32, kernel_size=(3, 3), activation='relu', input_shape=input_shape),\n",
        "        MaxPooling2D(pool_size=(2, 2)),\n",
        "        Conv2D(64, kernel_size=(3, 3), activation='relu'),\n",
        "        MaxPooling2D(pool_size=(2, 2)),\n",
        "        Flatten(),\n",
        "        Dense(128, activation='relu'),\n",
        "        Dense(num_classes, activation='softmax')\n",
        "    ])\n",
        "    model.compile(optimizer='adam', loss='categorical_crossentropy', metrics=['accuracy'])\n",
        "    return model\n"
      ],
      "id": "89338c6d77a1ece4",
      "outputs": [],
      "execution_count": null
    },
    {
      "metadata": {
        "id": "f45ac65a6cbbd65b"
      },
      "cell_type": "markdown",
      "source": [
        "### Step 2: Prepare Data for CNN\n",
        "\n",
        "Ensure the data is reshaped and formatted correctly for the CNN.\n"
      ],
      "id": "f45ac65a6cbbd65b"
    },
    {
      "metadata": {
        "ExecuteTime": {
          "end_time": "2024-05-30T06:40:18.465827Z",
          "start_time": "2024-05-30T06:40:18.400251Z"
        },
        "id": "8b54ec5b1768ed35"
      },
      "cell_type": "code",
      "source": [
        "import math\n",
        "\n",
        "# Convert the feature data to a numpy array\n",
        "X_cnn = np.array([features for _, _, features in feature_data])\n",
        "y_cnn = np.array([command for _, command, _ in feature_data])\n",
        "\n",
        "# Encode string labels to numeric labels\n",
        "y_cnn_encoded = label_encoder.transform(y_cnn)\n",
        "\n",
        "# Convert labels to categorical\n",
        "y_cnn_categorical = to_categorical(y_cnn_encoded)\n",
        "\n",
        "# Determine input shape for CNN\n",
        "num_features = X_cnn.shape[1]\n",
        "# Calculate the dimensions (height and width) such that height * width = num_features\n",
        "# Here, we aim for the closest possible square dimensions\n",
        "height = int(math.sqrt(num_features))\n",
        "width = height\n",
        "if height * width < num_features:\n",
        "    width += 1\n",
        "\n",
        "# Adjust the number of features to match the closest square dimensions\n",
        "num_adjusted_features = height * width\n",
        "X_cnn_adjusted = np.zeros((X_cnn.shape[0], num_adjusted_features))\n",
        "X_cnn_adjusted[:, :num_features] = X_cnn\n",
        "\n",
        "# Reshape to (num_samples, height, width, 1)\n",
        "X_cnn_reshaped = X_cnn_adjusted.reshape(-1, height, width, 1)\n",
        "\n",
        "# Split data into training and validation sets\n",
        "X_train_cnn, X_val_cnn, y_train_cnn, y_val_cnn = train_test_split(X_cnn_reshaped, y_cnn_categorical, test_size=0.2, random_state=42)\n",
        "\n",
        "# Print shapes for debugging\n",
        "print(f\"X_cnn shape: {X_cnn.shape}\")\n",
        "print(f\"X_cnn_adjusted shape: {X_cnn_adjusted.shape}\")\n",
        "print(f\"X_cnn_reshaped shape: {X_cnn_reshaped.shape}\")\n",
        "print(f\"X_train_cnn shape: {X_train_cnn.shape}\")\n",
        "print(f\"X_val_cnn shape: {X_val_cnn.shape}\")\n"
      ],
      "id": "8b54ec5b1768ed35",
      "outputs": [],
      "execution_count": null
    },
    {
      "metadata": {
        "id": "e62bdb52806c5bb5"
      },
      "cell_type": "markdown",
      "source": [
        "### Step 3: Train the CNN\n"
      ],
      "id": "e62bdb52806c5bb5"
    },
    {
      "metadata": {
        "ExecuteTime": {
          "end_time": "2024-05-30T06:40:36.668037Z",
          "start_time": "2024-05-30T06:40:21.304415Z"
        },
        "id": "552a7c90d6611968"
      },
      "cell_type": "code",
      "source": [
        "# Create the CNN model\n",
        "input_shape = (height, width, 1)\n",
        "num_classes = len(np.unique(y_train_cnn.argmax(axis=1)))\n",
        "cnn_model = create_cnn_model(input_shape, num_classes)\n",
        "\n",
        "# Train the CNN model\n",
        "cnn_model.fit(X_train_cnn, y_train_cnn, epochs=10, batch_size=32, validation_data=(X_val_cnn, y_val_cnn))\n"
      ],
      "id": "552a7c90d6611968",
      "outputs": [],
      "execution_count": null
    },
    {
      "metadata": {
        "id": "66ff4ff67ab76137"
      },
      "cell_type": "markdown",
      "source": [
        "### Step 4: Evaluate the CNN\n"
      ],
      "id": "66ff4ff67ab76137"
    },
    {
      "metadata": {
        "ExecuteTime": {
          "end_time": "2024-05-30T06:40:44.476763Z",
          "start_time": "2024-05-30T06:40:43.047078Z"
        },
        "id": "97de3b44a664c650"
      },
      "cell_type": "code",
      "source": [
        "# Evaluate the CNN model\n",
        "cnn_eval = cnn_model.evaluate(X_val_cnn, y_val_cnn)\n",
        "print(f\"CNN Model Accuracy: {cnn_eval[1]}\")\n",
        "\n",
        "# Make predictions\n",
        "y_pred_cnn = cnn_model.predict(X_val_cnn)\n",
        "y_pred_cnn_classes = np.argmax(y_pred_cnn, axis=1)\n",
        "y_val_cnn_classes = np.argmax(y_val_cnn, axis=1)\n",
        "\n",
        "# Print classification report\n",
        "print(\"CNN Classifier Report\")\n",
        "print(classification_report(y_val_cnn_classes, y_pred_cnn_classes, zero_division=0))\n",
        "\n",
        "# Plot confusion matrix for CNN\n",
        "labels = np.unique(y_val_cnn_classes)\n",
        "plot_confusion_matrix(y_val_cnn_classes, y_pred_cnn_classes, labels, title='Confusion Matrix - CNN')\n"
      ],
      "id": "97de3b44a664c650",
      "outputs": [],
      "execution_count": null
    },
    {
      "metadata": {
        "id": "201b0e7bad982739"
      },
      "cell_type": "markdown",
      "source": [
        "### Step 5: Compare with Other Classifiers\n",
        "\n",
        "You already have the evaluation metrics for the Gradient Boosting and Random Forest classifiers. Now you can compare the performance of the CNN with these classifiers.\n",
        "\n",
        "### Summary\n",
        "\n",
        "1. **Define CNN Architecture**: Use Keras to define a simple CNN.\n",
        "2. **Prepare Data**: Reshape the feature data and convert labels to categorical format.\n",
        "3. **Train CNN**: Train the CNN model on the training data.\n",
        "4. **Evaluate CNN**: Evaluate the CNN's performance and compare it with other classifiers.\n",
        "\n",
        "Run the above code step-by-step and compare the results. Let me know if you encounter any issues or need further adjustments!"
      ],
      "id": "201b0e7bad982739"
    },
    {
      "metadata": {
        "id": "e6601a726381e609"
      },
      "cell_type": "markdown",
      "source": [],
      "id": "e6601a726381e609"
    },
    {
      "metadata": {
        "ExecuteTime": {
          "end_time": "2024-05-30T06:42:26.519332Z",
          "start_time": "2024-05-30T06:42:26.224622Z"
        },
        "id": "f125ad59301768a4"
      },
      "cell_type": "code",
      "source": [
        "from collections import Counter\n",
        "\n",
        "# Check class distribution in the training set\n",
        "y_train_labels = label_encoder.inverse_transform(y_train)\n",
        "class_distribution = Counter(y_train_labels)\n",
        "print(\"Class Distribution in Training Set:\", class_distribution)\n",
        "\n",
        "# Visualize class distribution\n",
        "import matplotlib.pyplot as plt\n",
        "\n",
        "plt.bar(class_distribution.keys(), class_distribution.values())\n",
        "plt.xlabel('Class')\n",
        "plt.ylabel('Frequency')\n",
        "plt.title('Class Distribution in Training Set')\n",
        "plt.xticks(rotation=90)\n",
        "plt.show()\n"
      ],
      "id": "f125ad59301768a4",
      "outputs": [],
      "execution_count": null
    },
    {
      "metadata": {
        "id": "f89530d54cf7a69b"
      },
      "cell_type": "markdown",
      "source": [
        "## Using Spectrograms and CNN\n",
        "\n",
        "1. **Preprocess Audio Data into Spectrograms**: Convert each audio segment into a Mel spectrogram.\n",
        "2. **Prepare Data for CNN**: Ensure the spectrograms are reshaped and formatted correctly for the CNN.\n",
        "3. **Define a More Complex CNN**: Use a more complex CNN architecture to handle the spectrogram data.\n",
        "4. **Train and Evaluate the CNN**: Train the CNN on the training data and evaluate its performance.\n",
        "\n",
        "### Step 1: Preprocess Audio Data into Spectrograms\n"
      ],
      "id": "f89530d54cf7a69b"
    },
    {
      "metadata": {
        "ExecuteTime": {
          "end_time": "2024-05-30T06:45:14.492688Z",
          "start_time": "2024-05-30T06:45:01.304745Z"
        },
        "id": "bbc104a8ee92d462"
      },
      "cell_type": "code",
      "source": [
        "import librosa\n",
        "import numpy as np\n",
        "\n",
        "# Function to extract spectrogram features\n",
        "def extract_spectrogram(segment, sr, n_mels=128, fmax=8000):\n",
        "    spectrogram = librosa.feature.melspectrogram(y=segment, sr=sr, n_mels=n_mels, fmax=fmax)\n",
        "    spectrogram_db = librosa.power_to_db(spectrogram, ref=np.max)\n",
        "    return spectrogram_db\n",
        "\n",
        "# Apply the spectrogram extraction to all segments\n",
        "spectrogram_data = []\n",
        "for file_name, command, segment, sr in all_segments:\n",
        "    spectrogram = extract_spectrogram(segment, sr)\n",
        "    spectrogram_data.append((file_name, command, spectrogram))\n",
        "\n",
        "# Determine the maximum shape for padding\n",
        "max_shape = max([s.shape for _, _, s in spectrogram_data], key=lambda x: x[1])\n",
        "print(f\"Maximum spectrogram shape: {max_shape}\")\n"
      ],
      "id": "bbc104a8ee92d462",
      "outputs": [],
      "execution_count": null
    },
    {
      "metadata": {
        "id": "b8828d80697d8aa6"
      },
      "cell_type": "markdown",
      "source": [
        "### Step 2: Prepare Data for CNN\n"
      ],
      "id": "b8828d80697d8aa6"
    },
    {
      "metadata": {
        "ExecuteTime": {
          "end_time": "2024-05-30T06:45:15.058027Z",
          "start_time": "2024-05-30T06:45:14.495021Z"
        },
        "id": "a6d97c703fb4b6c4"
      },
      "cell_type": "code",
      "source": [
        "# Pad spectrograms to have the same shape\n",
        "padded_spectrograms = []\n",
        "for file_name, command, spectrogram in spectrogram_data:\n",
        "    pad_width = max_shape[1] - spectrogram.shape[1]\n",
        "    padded_spectrogram = np.pad(spectrogram, ((0, 0), (0, pad_width)), mode='constant')\n",
        "    padded_spectrograms.append((file_name, command, padded_spectrogram))\n",
        "\n",
        "# Convert to numpy arrays and reshape\n",
        "X_spectrogram = np.array([s for _, _, s in padded_spectrograms])\n",
        "X_spectrogram = X_spectrogram[..., np.newaxis]  # Add channel dimension\n",
        "y_spectrogram = np.array([command for _, command, _ in padded_spectrograms])\n",
        "\n",
        "# Encode string labels to numeric labels\n",
        "y_encoded = label_encoder.transform(y_spectrogram)\n",
        "y_categorical = to_categorical(y_encoded)\n",
        "\n",
        "# Split data into training and validation sets\n",
        "X_train, X_val, y_train, y_val = train_test_split(X_spectrogram, y_categorical, test_size=0.2, random_state=42)\n",
        "\n",
        "# Print shapes for debugging\n",
        "print(f\"X_train shape: {X_train.shape}\")\n",
        "print(f\"X_val shape: {X_val.shape}\")\n",
        "print(f\"y_train shape: {y_train.shape}\")\n",
        "print(f\"y_val shape: {y_val.shape}\")\n"
      ],
      "id": "a6d97c703fb4b6c4",
      "outputs": [],
      "execution_count": null
    },
    {
      "metadata": {
        "id": "57837854975c594f"
      },
      "cell_type": "markdown",
      "source": [
        "### Step 3: Define a More Complex CNN\n"
      ],
      "id": "57837854975c594f"
    },
    {
      "metadata": {
        "ExecuteTime": {
          "end_time": "2024-05-30T06:45:21.029769Z",
          "start_time": "2024-05-30T06:45:20.957345Z"
        },
        "id": "b0f2f73ffb9956b7"
      },
      "cell_type": "code",
      "source": [
        "from tensorflow.keras.models import Sequential\n",
        "from tensorflow.keras.layers import Conv2D, MaxPooling2D, Flatten, Dense, Dropout\n",
        "\n",
        "# Define a more complex CNN model\n",
        "def create_complex_cnn_model(input_shape, num_classes):\n",
        "    model = Sequential([\n",
        "        Conv2D(32, kernel_size=(3, 3), activation='relu', input_shape=input_shape),\n",
        "        MaxPooling2D(pool_size=(2, 2)),\n",
        "        Dropout(0.25),\n",
        "        Conv2D(64, kernel_size=(3, 3), activation='relu'),\n",
        "        MaxPooling2D(pool_size=(2, 2)),\n",
        "        Dropout(0.25),\n",
        "        Conv2D(128, kernel_size=(3, 3), activation='relu'),\n",
        "        MaxPooling2D(pool_size=(2, 2)),\n",
        "        Flatten(),\n",
        "        Dense(256, activation='relu'),\n",
        "        Dropout(0.5),\n",
        "        Dense(num_classes, activation='softmax')\n",
        "    ])\n",
        "    model.compile(optimizer='adam', loss='categorical_crossentropy', metrics=['accuracy'])\n",
        "    return model\n",
        "\n",
        "# Create and train the complex CNN model\n",
        "input_shape = (X_train.shape[1], X_train.shape[2], X_train.shape[3])\n",
        "num_classes = y_train.shape[1]\n",
        "complex_cnn_model = create_complex_cnn_model(input_shape, num_classes)\n"
      ],
      "id": "b0f2f73ffb9956b7",
      "outputs": [],
      "execution_count": null
    },
    {
      "metadata": {
        "id": "463fef3e4c38ccdb"
      },
      "cell_type": "markdown",
      "source": [
        "### Step 4: Train and Evaluate the CNN\n"
      ],
      "id": "463fef3e4c38ccdb"
    },
    {
      "metadata": {
        "jupyter": {
          "is_executing": true
        },
        "ExecuteTime": {
          "start_time": "2024-05-30T06:45:25.232219Z"
        },
        "id": "24ac6f90c89fced1"
      },
      "cell_type": "code",
      "source": [
        "# Train the complex CNN model\n",
        "complex_cnn_model.fit(X_train, y_train, epochs=20, batch_size=32, validation_data=(X_val, y_val))\n",
        "\n",
        "# Evaluate the CNN model\n",
        "cnn_eval = complex_cnn_model.evaluate(X_val, y_val)\n",
        "print(f\"CNN Model Accuracy: {cnn_eval[1]}\")\n",
        "\n",
        "# Make predictions\n",
        "y_pred_cnn = complex_cnn_model.predict(X_val)\n",
        "y_pred_cnn_classes = np.argmax(y_pred_cnn, axis=1)\n",
        "y_val_classes = np.argmax(y_val, axis=1)\n",
        "\n",
        "# Print classification report\n",
        "print(\"CNN Classifier Report\")\n",
        "print(classification_report(y_val_classes, y_pred_cnn_classes, zero_division=0))\n",
        "\n",
        "# Plot confusion matrix for CNN\n",
        "plot_confusion_matrix(y_val_classes, y_pred_cnn_classes, labels, title='Confusion Matrix - CNN')\n"
      ],
      "id": "24ac6f90c89fced1",
      "outputs": [],
      "execution_count": null
    },
    {
      "metadata": {
        "id": "ed5251e29cef6c7f"
      },
      "cell_type": "markdown",
      "source": [
        "### Summary\n",
        "\n",
        "1. **Preprocess Audio Data**: Convert audio segments to Mel spectrograms.\n",
        "2. **Prepare Data**: Pad spectrograms to the same shape and split the data into training and validation sets.\n",
        "3. **Define CNN**: Use a more complex CNN architecture to handle the spectrogram data.\n",
        "4. **Train and Evaluate**: Train the CNN and evaluate its performance, then compare with the other classifiers.\n",
        "\n",
        "Run the above code step-by-step to see how the CNN performs with the spectrogram data. If you encounter any issues or need further adjustments, please let me know!"
      ],
      "id": "ed5251e29cef6c7f"
    },
    {
      "metadata": {
        "id": "87dac895cfaa0575"
      },
      "cell_type": "markdown",
      "source": [
        "## Variant: Spectrograms and Conv1D CNN\n",
        "\n",
        "1. **Prepare Data for Conv1D Model**: Ensure the data is in the right shape and format for the Conv1D model.\n",
        "2. **Define the Conv1D Model**: Use the provided Conv1D architecture.\n",
        "3. **Train and Evaluate the Conv1D Model**: Train the Conv1D model on the training data and evaluate its performance.\n",
        "\n",
        "### Step 1: Prepare Data for Conv1D Model\n",
        "\n",
        "The Conv1D model expects the data to have the shape `(num_samples, timesteps, features)`. Since we have spectrogram data, we can treat each column of the spectrogram as a timestep.\n"
      ],
      "id": "87dac895cfaa0575"
    },
    {
      "metadata": {
        "ExecuteTime": {
          "end_time": "2024-05-30T04:18:46.949218Z",
          "start_time": "2024-05-30T04:18:33.380233Z"
        },
        "id": "e62e9348974175c6"
      },
      "cell_type": "code",
      "source": [
        "import librosa\n",
        "import numpy as np\n",
        "from tensorflow.keras.utils import to_categorical\n",
        "\n",
        "# Function to extract spectrogram features\n",
        "def extract_spectrogram(segment, sr, n_mels=128, fmax=8000):\n",
        "    spectrogram = librosa.feature.melspectrogram(y=segment, sr=sr, n_mels=n_mels, fmax=fmax)\n",
        "    spectrogram_db = librosa.power_to_db(spectrogram, ref=np.max)\n",
        "    return spectrogram_db\n",
        "\n",
        "# Apply the spectrogram extraction to all segments\n",
        "spectrogram_data = []\n",
        "for file_name, command, segment, sr in all_segments:\n",
        "    spectrogram = extract_spectrogram(segment, sr)\n",
        "    spectrogram_data.append((file_name, command, spectrogram))\n",
        "\n",
        "# Determine the maximum shape for padding\n",
        "max_shape = max([s.shape for _, _, s in spectrogram_data], key=lambda x: x[1])\n",
        "print(f\"Maximum spectrogram shape: {max_shape}\")\n",
        "\n",
        "# Pad spectrograms to have the same shape\n",
        "padded_spectrograms = []\n",
        "for file_name, command, spectrogram in spectrogram_data:\n",
        "    pad_width = max_shape[1] - spectrogram.shape[1]\n",
        "    padded_spectrogram = np.pad(spectrogram, ((0, 0), (0, pad_width)), mode='constant')\n",
        "    padded_spectrograms.append((file_name, command, padded_spectrogram))\n",
        "\n",
        "# Convert to numpy arrays and reshape\n",
        "X_spectrogram = np.array([s for _, _, s in padded_spectrograms])\n",
        "X_spectrogram = X_spectrogram.transpose((0, 2, 1))  # Transpose to (num_samples, timesteps, n_mels)\n",
        "X_spectrogram = X_spectrogram[..., np.newaxis]  # Add channel dimension\n",
        "y_spectrogram = np.array([command for _, command, _ in padded_spectrograms])\n",
        "\n",
        "# Encode string labels to numeric labels\n",
        "y_encoded = label_encoder.transform(y_spectrogram)\n",
        "y_categorical = to_categorical(y_encoded)\n",
        "\n",
        "# Split data into training and validation sets\n",
        "X_train, X_val, y_train, y_val = train_test_split(X_spectrogram, y_categorical, test_size=0.2, random_state=42)\n",
        "\n",
        "# Print shapes for debugging\n",
        "print(f\"X_train shape: {X_train.shape}\")\n",
        "print(f\"X_val shape: {X_val.shape}\")\n",
        "print(f\"y_train shape: {y_train.shape}\")\n",
        "print(f\"y_val shape: {y_val.shape}\")\n"
      ],
      "id": "e62e9348974175c6",
      "outputs": [],
      "execution_count": null
    },
    {
      "metadata": {
        "id": "23681fa9cb36a8f0"
      },
      "cell_type": "markdown",
      "source": [
        "### Step 2: Define the Conv1D Model\n",
        "\n",
        "Use the provided Conv1D architecture:\n"
      ],
      "id": "23681fa9cb36a8f0"
    },
    {
      "metadata": {
        "ExecuteTime": {
          "end_time": "2024-05-30T04:19:16.635493Z",
          "start_time": "2024-05-30T04:19:16.554526Z"
        },
        "id": "3d3373d3d8bc42a1"
      },
      "cell_type": "code",
      "source": [
        "from tensorflow.keras.models import Sequential\n",
        "from tensorflow.keras.layers import Conv1D, MaxPooling1D, Flatten, Dense, Dropout, Input\n",
        "\n",
        "# Define the Conv1D model with Input layer\n",
        "input_shape = (X_train.shape[1], X_train.shape[2])\n",
        "\n",
        "model = Sequential([\n",
        "    Input(shape=input_shape),  # Use Input layer to define the input shape\n",
        "    # First Conv1D layer\n",
        "    Conv1D(filters=8, kernel_size=3, padding='valid', activation='relu', strides=1),\n",
        "    MaxPooling1D(pool_size=2),\n",
        "    Dropout(0.3),\n",
        "\n",
        "    # Second Conv1D layer\n",
        "    Conv1D(filters=16, kernel_size=3, padding='valid', activation='relu', strides=1),\n",
        "    MaxPooling1D(pool_size=2),\n",
        "    Dropout(0.3),\n",
        "\n",
        "    # Third Conv1D layer\n",
        "    Conv1D(filters=32, kernel_size=3, padding='valid', activation='relu', strides=1),\n",
        "    MaxPooling1D(pool_size=2),\n",
        "    Dropout(0.3),\n",
        "\n",
        "    # Fourth Conv1D layer\n",
        "    Conv1D(filters=64, kernel_size=3, padding='valid', activation='relu', strides=1),\n",
        "    MaxPooling1D(pool_size=2),\n",
        "    Dropout(0.3),\n",
        "\n",
        "    # Flatten layer\n",
        "    Flatten(),\n",
        "\n",
        "    # Dense Layer 1\n",
        "    Dense(256, activation='relu'),\n",
        "    Dropout(0.3),\n",
        "\n",
        "    # Dense Layer 2\n",
        "    Dense(128, activation='relu'),\n",
        "    Dropout(0.3),\n",
        "\n",
        "    # Output layer\n",
        "    Dense(num_classes, activation='softmax')\n",
        "])\n",
        "\n",
        "model.compile(optimizer='adam', loss='categorical_crossentropy', metrics=['accuracy'])\n",
        "\n",
        "# Print model summary for debugging\n",
        "model.summary()\n"
      ],
      "id": "3d3373d3d8bc42a1",
      "outputs": [],
      "execution_count": null
    },
    {
      "metadata": {
        "id": "1df1594a2b41af5b"
      },
      "cell_type": "markdown",
      "source": [
        "### Step 3: Train and Evaluate the Conv1D Model\n"
      ],
      "id": "1df1594a2b41af5b"
    },
    {
      "metadata": {
        "ExecuteTime": {
          "end_time": "2024-05-30T04:19:54.524356Z",
          "start_time": "2024-05-30T04:19:34.637476Z"
        },
        "id": "8e8606edbe9420e6"
      },
      "cell_type": "code",
      "source": [
        "# Train the Conv1D model\n",
        "model.fit(X_train, y_train, epochs=20, batch_size=32, validation_data=(X_val, y_val))\n",
        "\n",
        "# Evaluate the Conv1D model\n",
        "cnn_eval = model.evaluate(X_val, y_val)\n",
        "print(f\"Conv1D Model Accuracy: {cnn_eval[1]}\")\n",
        "\n",
        "# Make predictions\n",
        "y_pred_cnn = model.predict(X_val)\n",
        "y_pred_cnn_classes = np.argmax(y_pred_cnn, axis=1)\n",
        "y_val_classes = np.argmax(y_val, axis=1)\n",
        "\n",
        "# Print classification report\n",
        "print(\"Conv1D Classifier Report\")\n",
        "print(classification_report(y_val_classes, y_pred_cnn_classes, zero_division=0))\n",
        "\n",
        "# Plot confusion matrix for Conv1D\n",
        "plot_confusion_matrix(y_val_classes, y_pred_cnn_classes, labels, title='Confusion Matrix - Conv1D')\n"
      ],
      "id": "8e8606edbe9420e6",
      "outputs": [],
      "execution_count": null
    },
    {
      "metadata": {
        "id": "121f25d6ff3893b2"
      },
      "cell_type": "markdown",
      "source": [
        "### Summary\n",
        "\n",
        "1. **Prepare Data**: Reshape the spectrogram data for the Conv1D model.\n",
        "2. **Define Conv1D Model**: Use the provided Conv1D architecture.\n",
        "3. **Train and Evaluate**: Train the Conv1D model and evaluate its performance.\n",
        "\n",
        "Run the above code step-by-step to see how the Conv1D model performs with the spectrogram data. If you encounter any issues or need further adjustments, please let me know!"
      ],
      "id": "121f25d6ff3893b2"
    },
    {
      "metadata": {
        "ExecuteTime": {
          "end_time": "2024-05-30T04:20:19.852913Z",
          "start_time": "2024-05-30T04:20:19.831603Z"
        },
        "id": "354a29839e391ec1"
      },
      "cell_type": "code",
      "source": [
        "import pandas as pd\n",
        "\n",
        "# Load the CSV files\n",
        "scene_annotations_df = pd.read_csv(f'{data_dir}/development_scene_annotations.csv')\n",
        "scenes_df = pd.read_csv(f'{data_dir}/development_scenes.csv')\n",
        "\n",
        "# Check the head of the dataframes to understand their structure\n",
        "print(scene_annotations_df.head())\n",
        "print(scenes_df.head())\n",
        "\n",
        "# Check the distribution of labels in the annotations CSV\n",
        "label_distribution_annotations = scene_annotations_df['command'].value_counts()\n",
        "print(\"Label Distribution in development_scene_annotations.csv:\")\n",
        "print(label_distribution_annotations)\n",
        "\n",
        "# Check the distribution of speaker IDs in the scenes CSV\n",
        "label_distribution_scenes = scenes_df['speaker_id'].value_counts()\n",
        "print(\"Label Distribution in development_scenes.csv:\")\n",
        "print(label_distribution_scenes)\n"
      ],
      "id": "354a29839e391ec1",
      "outputs": [],
      "execution_count": null
    },
    {
      "metadata": {
        "id": "da885cc4757f4456"
      },
      "cell_type": "code",
      "source": [],
      "id": "da885cc4757f4456",
      "outputs": [],
      "execution_count": null
    }
  ],
  "metadata": {
    "kernelspec": {
      "display_name": "Python 3",
      "name": "python3"
    },
    "language_info": {
      "codemirror_mode": {
        "name": "ipython",
        "version": 2
      },
      "file_extension": ".py",
      "mimetype": "text/x-python",
      "name": "python",
      "nbconvert_exporter": "python",
      "pygments_lexer": "ipython2",
      "version": "2.7.6"
    },
    "colab": {
      "provenance": [],
      "gpuType": "T4",
      "include_colab_link": true
    },
    "accelerator": "GPU"
  },
  "nbformat": 4,
  "nbformat_minor": 5
}