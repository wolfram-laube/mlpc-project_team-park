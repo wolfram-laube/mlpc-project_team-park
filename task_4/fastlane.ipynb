{
  "cells": [
    {
      "cell_type": "markdown",
      "metadata": {
        "id": "view-in-github",
        "colab_type": "text"
      },
      "source": [
        "<a href=\"https://colab.research.google.com/github/wolfram-laube/mlpc-project_team-park/blob/wl/task_4/fastlane.ipynb\" target=\"_parent\"><img src=\"https://colab.research.google.com/assets/colab-badge.svg\" alt=\"Open In Colab\"/></a>"
      ]
    },
    {
      "cell_type": "markdown",
      "source": [
        "### Preparation: Distiguish Environment and Establish Prerequisites\n",
        "\n"
      ],
      "metadata": {
        "id": "82Q7nNG0dLq5"
      },
      "id": "82Q7nNG0dLq5"
    },
    {
      "cell_type": "markdown",
      "source": [
        "#### Libraries With Specific Handling"
      ],
      "metadata": {
        "id": "fBfYdrNQqfh8"
      },
      "id": "fBfYdrNQqfh8"
    },
    {
      "cell_type": "code",
      "source": [
        "import os\n",
        "import sys\n",
        "\n",
        "def is_colab():\n",
        "    try:\n",
        "        import google.colab\n",
        "        return True\n",
        "    except ImportError:\n",
        "        return False\n",
        "\n",
        "if is_colab():\n",
        "    # Installation script for Google Colab\n",
        "    print(\"Running in Google Colab. Installing RAPIDS...\")\n",
        "    !nvidia-smi\n",
        "    !git clone https://github.com/rapidsai/rapidsai-csp-utils.git\n",
        "    !bash rapidsai-csp-utils/colab/rapids-colab.sh 23.02\n",
        "    sys.path.append('/usr/local/lib/python3.8/site-packages/')\n",
        "else:\n",
        "    # Local machine setup\n",
        "    print(\"Running on local machine. Checking cuml installation...\")\n",
        "    try:\n",
        "        import cuml\n",
        "        print(\"cuml is already installed.\")\n",
        "    except ImportError:\n",
        "        # Adapt these commands to your local environment\n",
        "        print(\"Installing cuml locally using conda...\")\n",
        "        !conda create -n rapids -c rapidsai -c nvidia -c conda-forge cuml=23.02 python=3.8 cudatoolkit=11.2 -y\n",
        "        !conda activate rapids\n",
        "        sys.path.append('/path/to/conda/env/lib/python3.X/site-packages/')\n",
        "\n",
        "# Example imports for RAPIDS libraries\n",
        "try:\n",
        "    import cuml\n",
        "    import cudf\n",
        "    print(\"cuML version: \", cuml.__version__)\n",
        "    print(\"cuDF version: \", cudf.__version__)\n",
        "except ImportError as e:\n",
        "    print(e)\n",
        "    print(\"Failed to import RAPIDS libraries. Check installation steps.\")"
      ],
      "metadata": {
        "id": "8tOJ8X_OqmED",
        "outputId": "c6c88ab0-38af-45aa-b854-bf79e0caa651",
        "colab": {
          "base_uri": "https://localhost:8080/"
        }
      },
      "id": "8tOJ8X_OqmED",
      "execution_count": null,
      "outputs": [
        {
          "output_type": "stream",
          "name": "stdout",
          "text": [
            "Running in Google Colab. Installing RAPIDS...\n",
            "Thu May 30 13:22:52 2024       \n",
            "+---------------------------------------------------------------------------------------+\n",
            "| NVIDIA-SMI 535.104.05             Driver Version: 535.104.05   CUDA Version: 12.2     |\n",
            "|-----------------------------------------+----------------------+----------------------+\n",
            "| GPU  Name                 Persistence-M | Bus-Id        Disp.A | Volatile Uncorr. ECC |\n",
            "| Fan  Temp   Perf          Pwr:Usage/Cap |         Memory-Usage | GPU-Util  Compute M. |\n",
            "|                                         |                      |               MIG M. |\n",
            "|=========================================+======================+======================|\n",
            "|   0  Tesla T4                       Off | 00000000:00:04.0 Off |                    0 |\n",
            "| N/A   46C    P0              27W /  70W |   1953MiB / 15360MiB |      0%      Default |\n",
            "|                                         |                      |                  N/A |\n",
            "+-----------------------------------------+----------------------+----------------------+\n",
            "                                                                                         \n",
            "+---------------------------------------------------------------------------------------+\n",
            "| Processes:                                                                            |\n",
            "|  GPU   GI   CI        PID   Type   Process name                            GPU Memory |\n",
            "|        ID   ID                                                             Usage      |\n",
            "|=======================================================================================|\n",
            "+---------------------------------------------------------------------------------------+\n",
            "Cloning into 'rapidsai-csp-utils'...\n",
            "remote: Enumerating objects: 481, done.\u001b[K\n",
            "remote: Counting objects: 100% (212/212), done.\u001b[K\n",
            "remote: Compressing objects: 100% (121/121), done.\u001b[K\n",
            "remote: Total 481 (delta 143), reused 124 (delta 91), pack-reused 269\u001b[K\n",
            "Receiving objects: 100% (481/481), 133.58 KiB | 2.19 MiB/s, done.\n",
            "Resolving deltas: 100% (245/245), done.\n",
            "PLEASE READ FOR 21.06\n",
            "********************************************************************************************************\n",
            "Another release, another script change.  We had to revise the script, which now:\n",
            "1. Does a more comprehensive install\n",
            "2. Includes BlazingSQL\n",
            "3. is far easier for everyone to understand and maintain\n",
            "\n",
            "The script will require you to add these 5 cells to your notebook.  We have also created a new startup template: \n",
            "https://colab.research.google.com/drive/1TAAi_szMfWqRfHVfjGSqnGVLr_ztzUM9?usp=sharing\n",
            "\n",
            "CHANGES T\n",
            "CELL 1:\n",
            "    # This get the RAPIDS-Colab install files and test check your GPU.  Run cells 1 and 2 only.\n",
            "    # Please read the output of this cell.  If your Colab Instance is not RAPIDS compatible, it will warn you and give you remediation steps.\n",
            "    !git clone https://github.com/rapidsai/rapidsai-csp-utils.git\n",
            "    !python rapidsai-csp-utils/colab/env-check.py\n",
            "\n",
            "CELL 2:\n",
            "    # This will update the Colab environment and restart the kernel.\n",
            "    !bash rapidsai-csp-utils/colab/update_gcc.sh\n",
            "    import os\n",
            "    os._exit(00)\n",
            "\n",
            "CELL 3:\n",
            "    ## Installing CondaColab.  This will restart your kernel again\n",
            "    import condacolab\n",
            "    condacolab.install()\n",
            "\n",
            "CELL 4:\n",
            "    import condacolab\n",
            "    condacolab.check()\n",
            "\n",
            "CELL 5:\n",
            "    # Installing RAPIDS is now 'python rapidsai-csp-utils/colab/install_rapids.py <release> <packages>'\n",
            "    # The <release> options are 'stable' and 'nightly'.  Leaving it blank or adding any other words will default to stable.\n",
            "    # The <packages> option are default blank or 'core'.  By default, we install RAPIDSAI and BlazingSQL.  The 'core' option will install only RAPIDSAI and not include BlazingSQL, \n",
            "    !python rapidsai-csp-utils/colab/install_rapids.py nightly\n",
            "    import os\n",
            "    os.environ['NUMBAPRO_NVVM'] = '/usr/local/cuda/nvvm/lib64/libnvvm.so'\n",
            "    os.environ['NUMBAPRO_LIBDEVICE'] = '/usr/local/cuda/nvvm/libdevice/'\n",
            "    os.environ['CONDA_PREFIX'] = '/usr/local'\n",
            "\n",
            "********************************************************************************************************\n",
            "\n",
            "Enjoy using RAPIDS!  If you have any issues with or suggestions for RAPIDSAI on Colab, please create a issue on https://github.com/rapidsai/rapidsai-csp-utils/issues/new.\n",
            "No module named 'cuml'\n",
            "Failed to import RAPIDS libraries. Check installation steps.\n"
          ]
        }
      ]
    },
    {
      "cell_type": "markdown",
      "source": [
        "#### Setup Folder Structure"
      ],
      "metadata": {
        "id": "tC4gjz1j8pY6"
      },
      "id": "tC4gjz1j8pY6"
    },
    {
      "cell_type": "code",
      "source": [
        "import os\n",
        "import sys\n",
        "import shutil\n",
        "\n",
        "# Check if the environment is Google Colab\n",
        "try:\n",
        "    import google.colab\n",
        "    IN_COLAB = True\n",
        "except ImportError:\n",
        "    IN_COLAB = False\n",
        "\n",
        "if IN_COLAB:\n",
        "    # If in Google Colab\n",
        "    from google.colab import drive\n",
        "    import gdown\n",
        "\n",
        "    # Option 1: Download the file by its public link and expand it to the Colab runtime\n",
        "    import urllib.request\n",
        "    import zipfile\n",
        "\n",
        "    wavzip_file_id = '1oI1EsH1krrEPbH9MSZRzLHu-_4p6-njR' # https://drive.google.com/file/d/1oI1EsH1krrEPbH9MSZRzLHu-_4p6-njR/view?usp=sharing\n",
        "    npyzip_file_id = '1oKgurvIgT93RGkxvxq8AA423VKlEVT7O' # https://drive.google.com/file/d/1oKgurvIgT93RGkxvxq8AA423VKlEVT7O/view?usp=sharing\n",
        "    annotation_file_id = '1xLxget7c5nCkwYt9Ru2RpYi5rMkk_pl0'  # https://drive.google.com/file/d/1xLxget7c5nCkwYt9Ru2RpYi5rMkk_pl0/view?usp=sharing\n",
        "    scenes_file_id = '1xLgB7-cCz6nReyQbFJJcJGOUKCCbNhCG'  # https://drive.google.com/file/d/1xLgB7-cCz6nReyQbFJJcJGOUKCCbNhCG/view?usp=sharing\n",
        "\n",
        "    wavzip_url = f'https://drive.google.com/uc?id={wavzip_file_id}'\n",
        "    npyzip_url = f'https://drive.google.com/uc?id={npyzip_file_id}'\n",
        "    annotation_url = f'https://drive.google.com/uc?id={annotation_file_id}'\n",
        "    scenes_url = f'https://drive.google.com/uc?id={scenes_file_id}'\n",
        "\n",
        "    wavzip_path = '/content/training_data.zip'\n",
        "    npyzip_path = '/content/training_feat.zip'\n",
        "    data_dir = '/content/dataset'\n",
        "    scenes_dir = f'{data_dir}/scenes'\n",
        "    words_dir = f'{data_dir}/words'\n",
        "    scenes_wav_dir = f'{scenes_dir}/wav'\n",
        "    scenes_npy_dir = f'{scenes_dir}/npy'\n",
        "\n",
        "    # Download the WAVZIP file\n",
        "    #urllib.request.urlretrieve(wavzip_url, wavzip_path)\n",
        "    gdown.download(wavzip_url, wavzip_path, quiet=False)\n",
        "\n",
        "    # Unzip the file\n",
        "    with zipfile.ZipFile(wavzip_path, 'r') as zip_ref:\n",
        "        zip_ref.extractall(data_dir)\n",
        "\n",
        "    print(f\"Training data extracted to {data_dir}\")\n",
        "\n",
        "     # Create the 'scenes/wav' folder structure\n",
        "    os.makedirs(scenes_wav_dir, exist_ok=True)\n",
        "\n",
        "    # Copy .wav files to 'scenes/wav'\n",
        "    extracted_scenes_dir = os.path.join(data_dir, 'mlpc24_speech_commands', 'scenes')\n",
        "    for root, dirs, files in os.walk(extracted_scenes_dir):\n",
        "        for file in files:\n",
        "            if file.endswith('.wav'):\n",
        "                src_path = os.path.join(root, file)\n",
        "                dst_path = os.path.join(scenes_wav_dir, file)\n",
        "                shutil.copy(src_path, dst_path)\n",
        "\n",
        "    print(f\".wav files moved to {scenes_wav_dir}\")\n",
        "\n",
        "    # Download the NPYZIP file\n",
        "    #urllib.request.urlretrieve(npyzip_url, npyzip_path)\n",
        "    gdown.download(npyzip_urnpyl, wavzip_path, quiet=False)\n",
        "\n",
        "    # Unzip the file\n",
        "    with zipfile.ZipFile(npyzip_path, 'r') as zip_ref:\n",
        "        zip_ref.extractall(data_dir)\n",
        "\n",
        "    print(f\"Training features extracted to {data_dir}\")\n",
        "\n",
        "     # Create the 'scenes/npy' folder structure\n",
        "    os.makedirs(scenes_npy_dir, exist_ok=True)\n",
        "\n",
        "    # Copy .npy files to 'scenes/npy'\n",
        "    extracted_scenes_dir = os.path.join(data_dir, 'development_scenes', 'scenes')\n",
        "    for root, dirs, files in os.walk(extracted_scenes_dir):\n",
        "        for file in files:\n",
        "            if file.endswith('.npy'):\n",
        "                src_path = os.path.join(root, file)\n",
        "                dst_path = os.path.join(scenes_npy_dir, file)\n",
        "                shutil.copy(src_path, dst_path)\n",
        "\n",
        "    print(f\".npy files moved to {scenes_npy_dir}\")\n",
        "\n",
        "    # Download the CSV files into the data_dir\n",
        "    annotation_orig_path = os.path.join(data_dir, 'development_scene_annotations.csv.orig') # Keep a bckup copy because it needs fixing\n",
        "    annotation_path = os.path.join(data_dir, 'development_scene_annotations.csv')\n",
        "    scenes_path = os.path.join(data_dir, 'development_scenes.csv')\n",
        "\n",
        "    gdown.download(annotation_url, annotation_orig_path, quiet=False)\n",
        "    gdown.download(annotation_url, annotation_path, quiet=False)\n",
        "    gdown.download(scenes_url, scenes_path, quiet=False)\n",
        "\n",
        "    print(f\"CSV files downloaded to {scenes_dir}\")\n",
        "\n",
        "    # Option 2: Mount Google Drive and use the training data\n",
        "    # Note this really takes some time for preprocessing file by file\n",
        "    #drive.mount('/content/drive')\n",
        "    #data_dir = '/content/drive/My Drive/Dropbox/public/mlpc/dataset'\n",
        "\n",
        "    # Use this option to read from Google Drive instead\n",
        "    #print(f\"Using training data from {data_dir}\")\n",
        "else:\n",
        "    # If on local machine\n",
        "    data_dir = '../dataset'\n",
        "    print(f\"Using local training data from {data_dir}\")\n",
        "\n",
        "# Use the data_dir variable as the path to your training data"
      ],
      "metadata": {
        "colab": {
          "base_uri": "https://localhost:8080/"
        },
        "id": "D5QPan2S6YS_",
        "outputId": "3508d6b0-420c-468f-86e3-6e510e7be748"
      },
      "id": "D5QPan2S6YS_",
      "execution_count": 1,
      "outputs": [
        {
          "output_type": "stream",
          "name": "stderr",
          "text": [
            "Downloading...\n",
            "From (original): https://drive.google.com/uc?id=1oI1EsH1krrEPbH9MSZRzLHu-_4p6-njR\n",
            "From (redirected): https://drive.google.com/uc?id=1oI1EsH1krrEPbH9MSZRzLHu-_4p6-njR&confirm=t&uuid=75e1d004-8947-4efd-af7d-a1e9d7f894c1\n",
            "To: /content/training_data.zip\n",
            "100%|██████████| 305M/305M [00:10<00:00, 28.8MB/s]\n"
          ]
        },
        {
          "output_type": "stream",
          "name": "stdout",
          "text": [
            "Training data extracted to /content/dataset\n",
            ".wav files moved to /content/dataset/scenes/wav\n"
          ]
        },
        {
          "output_type": "stream",
          "name": "stderr",
          "text": [
            "Downloading...\n",
            "From: https://drive.google.com/uc?id=1xLxget7c5nCkwYt9Ru2RpYi5rMkk_pl0\n",
            "To: /content/dataset/development_scene_annotations.csv.orig\n",
            "100%|██████████| 70.4k/70.4k [00:00<00:00, 60.4MB/s]\n",
            "Downloading...\n",
            "From: https://drive.google.com/uc?id=1xLxget7c5nCkwYt9Ru2RpYi5rMkk_pl0\n",
            "To: /content/dataset/development_scene_annotations.csv\n",
            "100%|██████████| 70.4k/70.4k [00:00<00:00, 65.7MB/s]\n",
            "Downloading...\n",
            "From: https://drive.google.com/uc?id=1xLgB7-cCz6nReyQbFJJcJGOUKCCbNhCG\n",
            "To: /content/dataset/development_scenes.csv\n",
            "100%|██████████| 29.5k/29.5k [00:00<00:00, 39.6MB/s]"
          ]
        },
        {
          "output_type": "stream",
          "name": "stdout",
          "text": [
            "CSV files downloaded to /content/dataset/scenes\n"
          ]
        },
        {
          "output_type": "stream",
          "name": "stderr",
          "text": [
            "\n"
          ]
        }
      ]
    },
    {
      "cell_type": "markdown",
      "source": [
        "#### Fix Erreneous Metadata\n",
        "\n",
        "##### Before"
      ],
      "metadata": {
        "id": "Z5urRfewdki_"
      },
      "id": "Z5urRfewdki_"
    },
    {
      "metadata": {
        "ExecuteTime": {
          "end_time": "2024-05-30T04:20:19.852913Z",
          "start_time": "2024-05-30T04:20:19.831603Z"
        },
        "outputId": "ac1f5e62-9b2a-4fcc-e343-43a26095a9bb",
        "colab": {
          "base_uri": "https://localhost:8080/"
        },
        "id": "Qb8qkrK2eFtL"
      },
      "cell_type": "code",
      "source": [
        "import pandas as pd\n",
        "\n",
        "# Load the CSV files\n",
        "scene_annotations_df = pd.read_csv(f'{data_dir}/development_scene_annotations.csv')\n",
        "scenes_df = pd.read_csv(f'{data_dir}/development_scenes.csv')\n",
        "\n",
        "# Check the head of the dataframes to understand their structure\n",
        "print(scene_annotations_df.head())\n",
        "print(scenes_df.head())\n",
        "\n",
        "# Check the distribution of labels in the annotations CSV\n",
        "label_distribution_annotations = scene_annotations_df['command'].value_counts()\n",
        "print(\"Label Distribution in development_scene_annotations.csv:\")\n",
        "print(label_distribution_annotations)\n",
        "\n",
        "# Check the distribution of speaker IDs in the scenes CSV\n",
        "label_distribution_scenes = scenes_df['speaker_id'].value_counts()\n",
        "print(\"Label Distribution in development_scenes.csv:\")\n",
        "print(label_distribution_scenes)\n"
      ],
      "outputs": [
        {
          "output_type": "stream",
          "name": "stdout",
          "text": [
            "                        filename         command     start       end\n",
            "0         2_speech_true_Ofen_aus        Ofen aus  11.25230  12.07747\n",
            "1         3_speech_true_Radio_an  Staubsauger an  21.48040  23.18083\n",
            "2         4_speech_true_Alarm_an        Alarm an  14.45720  16.08301\n",
            "3        9_speech_true_Radio_aus  Staubsauger an   3.67909   5.63126\n",
            "4  11_speech_false_Fernseher_aus  Staubsauger an  10.57850  11.67886\n",
            "                        filename  speaker_id\n",
            "0         2_speech_true_Ofen_aus         132\n",
            "1         3_speech_true_Radio_an         132\n",
            "2         4_speech_true_Alarm_an         132\n",
            "3        9_speech_true_Radio_aus         132\n",
            "4  11_speech_false_Fernseher_aus         132\n",
            "Label Distribution in development_scene_annotations.csv:\n",
            "command\n",
            "Staubsauger an     288\n",
            "Licht aus           77\n",
            "Licht an            64\n",
            "Alarm an            56\n",
            "Fernseher an        56\n",
            "Heizung an          55\n",
            "Heizung aus         54\n",
            "Radio aus           53\n",
            "Radio an            52\n",
            "Ofen aus            49\n",
            "Alarm aus           47\n",
            "Lüftung an          46\n",
            "Staubsauger aus     43\n",
            "Lüftung aus         43\n",
            "Ofen an             41\n",
            "Fernseher aus       41\n",
            "Name: count, dtype: int64\n",
            "Label Distribution in development_scenes.csv:\n",
            "speaker_id\n",
            "132    244\n",
            "94       8\n",
            "240      8\n",
            "196      7\n",
            "223      7\n",
            "      ... \n",
            "233      1\n",
            "111      1\n",
            "189      1\n",
            "228      1\n",
            "105      1\n",
            "Name: count, Length: 166, dtype: int64\n"
          ]
        }
      ],
      "execution_count": 2,
      "id": "Qb8qkrK2eFtL"
    },
    {
      "cell_type": "markdown",
      "source": [
        "##### Fix"
      ],
      "metadata": {
        "id": "y3zuKsxReQCO"
      },
      "id": "y3zuKsxReQCO"
    },
    {
      "cell_type": "code",
      "source": [
        "import os\n",
        "import re\n",
        "import shutil\n",
        "import pandas as pd\n",
        "\n",
        "# Paths to the original and working copy files\n",
        "original_file_path = f'{data_dir}/development_scene_annotations.csv.orig'\n",
        "working_copy_path = f'{data_dir}/development_scene_annotations.csv.0'\n",
        "corrected_file_path = f'{data_dir}/development_scene_annotations.csv'\n",
        "\n",
        "# Step 1: Create a working copy of the original file\n",
        "shutil.copy(original_file_path, working_copy_path)\n",
        "\n",
        "# Step 2: Load the working copy into a DataFrame\n",
        "df = pd.read_csv(working_copy_path)\n",
        "\n",
        "# Define the pattern to parse the filename\n",
        "filename_pattern = re.compile(r'(\\d+)_speech_(true|false)_((?:[a-zA-ZäöüÄÖÜß]+_(?:an|aus)_?)+)', re.UNICODE)\n",
        "\n",
        "# Function to parse filename and extract commands\n",
        "def parse_filename(filename):\n",
        "    match = filename_pattern.match(filename)\n",
        "    if not match:\n",
        "        return []\n",
        "\n",
        "    commands_str = match.group(3)\n",
        "    commands = commands_str.split('_')\n",
        "\n",
        "    command_list = []\n",
        "    for i in range(0, len(commands), 2):\n",
        "        command_list.append(f\"{commands[i]} {commands[i+1]}\")\n",
        "\n",
        "    return command_list\n",
        "\n",
        "# Parse the commands from filenames and add to the DataFrame\n",
        "df['parsed_commands'] = df['filename'].apply(parse_filename)\n",
        "\n",
        "# Step 3: Group by filename and sort by start time\n",
        "grouped = df.groupby('filename').apply(lambda x: x.sort_values(by='start')).reset_index(drop=True)\n",
        "\n",
        "# Step 4: Assign the correct labels based on the order of commands in the filename\n",
        "def assign_labels(group):\n",
        "    commands = group['parsed_commands'].iloc[0]  # get the parsed commands from the first row\n",
        "    group = group.reset_index(drop=True)\n",
        "    for i in range(len(group)):\n",
        "        if i < len(commands):\n",
        "            group.at[i, 'command'] = commands[i]\n",
        "        else:\n",
        "            print(f\"Warning: More segments than commands in {group['filename'].iloc[0]}\")\n",
        "    return group\n",
        "\n",
        "# Apply the label assignment function\n",
        "corrected_df = grouped.groupby('filename').apply(assign_labels).reset_index(drop=True)\n",
        "\n",
        "# Drop the temporary column\n",
        "corrected_df = corrected_df.drop(columns=['parsed_commands'])\n",
        "\n",
        "# Step 5: Save the corrected DataFrame to a new CSV file\n",
        "corrected_df.to_csv(corrected_file_path, index=False)\n",
        "\n",
        "# Verify the saved corrections\n",
        "print(\"Label corrections applied and saved successfully.\")\n",
        "print(corrected_df.head())\n"
      ],
      "metadata": {
        "colab": {
          "base_uri": "https://localhost:8080/"
        },
        "id": "r4hi4RZIeSBq",
        "outputId": "7d9d27d0-d5ff-41ff-b59e-3b35f9dc6be5"
      },
      "id": "r4hi4RZIeSBq",
      "execution_count": 3,
      "outputs": [
        {
          "output_type": "stream",
          "name": "stdout",
          "text": [
            "Label corrections applied and saved successfully.\n",
            "                        filename       command     start       end\n",
            "0    1003_speech_false_Licht_aus     Licht aus  12.20090  13.57599\n",
            "1       1008_speech_true_Ofen_an       Ofen an   6.90112   8.52638\n",
            "2      1010_speech_true_Radio_an      Radio an  13.03100  14.03146\n",
            "3  1011_speech_true_Fernseher_an  Fernseher an  14.11030  15.36121\n",
            "4   1012_speech_true_Heizung_aus   Heizung aus  11.20520  12.70590\n"
          ]
        }
      ]
    },
    {
      "cell_type": "markdown",
      "source": [
        "##### After"
      ],
      "metadata": {
        "id": "o-KsrK3sdu46"
      },
      "id": "o-KsrK3sdu46"
    },
    {
      "metadata": {
        "ExecuteTime": {
          "end_time": "2024-05-30T04:20:19.852913Z",
          "start_time": "2024-05-30T04:20:19.831603Z"
        },
        "outputId": "dbc39835-37f3-40dd-8c56-04b2d6ddded5",
        "colab": {
          "base_uri": "https://localhost:8080/"
        },
        "id": "NFuZo2CxeJxR"
      },
      "cell_type": "code",
      "source": [
        "import pandas as pd\n",
        "\n",
        "# Load the CSV files\n",
        "scene_annotations_df = pd.read_csv(f'{data_dir}/development_scene_annotations.csv')\n",
        "scenes_df = pd.read_csv(f'{data_dir}/development_scenes.csv')\n",
        "\n",
        "# Check the head of the dataframes to understand their structure\n",
        "print(scene_annotations_df.head())\n",
        "print(scenes_df.head())\n",
        "\n",
        "# Check the distribution of labels in the annotations CSV\n",
        "label_distribution_annotations = scene_annotations_df['command'].value_counts()\n",
        "print(\"Label Distribution in development_scene_annotations.csv:\")\n",
        "print(label_distribution_annotations)\n",
        "\n",
        "# Check the distribution of speaker IDs in the scenes CSV\n",
        "label_distribution_scenes = scenes_df['speaker_id'].value_counts()\n",
        "print(\"Label Distribution in development_scenes.csv:\")\n",
        "print(label_distribution_scenes)\n"
      ],
      "outputs": [
        {
          "output_type": "stream",
          "name": "stdout",
          "text": [
            "                        filename       command     start       end\n",
            "0    1003_speech_false_Licht_aus     Licht aus  12.20090  13.57599\n",
            "1       1008_speech_true_Ofen_an       Ofen an   6.90112   8.52638\n",
            "2      1010_speech_true_Radio_an      Radio an  13.03100  14.03146\n",
            "3  1011_speech_true_Fernseher_an  Fernseher an  14.11030  15.36121\n",
            "4   1012_speech_true_Heizung_aus   Heizung aus  11.20520  12.70590\n",
            "                        filename  speaker_id\n",
            "0         2_speech_true_Ofen_aus         132\n",
            "1         3_speech_true_Radio_an         132\n",
            "2         4_speech_true_Alarm_an         132\n",
            "3        9_speech_true_Radio_aus         132\n",
            "4  11_speech_false_Fernseher_aus         132\n",
            "Label Distribution in development_scene_annotations.csv:\n",
            "command\n",
            "Licht aus          86\n",
            "Licht an           78\n",
            "Heizung an         76\n",
            "Fernseher an       74\n",
            "Radio aus          69\n",
            "Heizung aus        67\n",
            "Alarm an           66\n",
            "Radio an           65\n",
            "Lüftung aus        64\n",
            "Ofen aus           64\n",
            "Ofen an            63\n",
            "Staubsauger an     63\n",
            "Lüftung an         63\n",
            "Alarm aus          62\n",
            "Staubsauger aus    56\n",
            "Fernseher aus      49\n",
            "Name: count, dtype: int64\n",
            "Label Distribution in development_scenes.csv:\n",
            "speaker_id\n",
            "132    244\n",
            "94       8\n",
            "240      8\n",
            "196      7\n",
            "223      7\n",
            "      ... \n",
            "233      1\n",
            "111      1\n",
            "189      1\n",
            "228      1\n",
            "105      1\n",
            "Name: count, Length: 166, dtype: int64\n"
          ]
        }
      ],
      "execution_count": 4,
      "id": "NFuZo2CxeJxR"
    },
    {
      "cell_type": "markdown",
      "source": [
        "#### Determine CPU/GPU"
      ],
      "metadata": {
        "id": "9d-W4WAwgbiW"
      },
      "id": "9d-W4WAwgbiW"
    },
    {
      "cell_type": "code",
      "source": [
        "# Function to check if GPU is available\n",
        "#def is_gpu_available():\n",
        "#    try:\n",
        "#        result = subprocess.run(['nvidia-smi'], stdout=subprocess.PIPE, stderr=subprocess.PIPE)\n",
        "#        return result.returncode == 0\n",
        "#    except FileNotFoundError:\n",
        "#        return False\n",
        "\n",
        "def is_gpu_available():\n",
        "    try:\n",
        "        import torch\n",
        "        return torch.cuda.is_available()\n",
        "    except ImportError:\n",
        "        pass\n",
        "\n",
        "    try:\n",
        "        import tensorflow as tf\n",
        "        return tf.config.list_physical_devices('GPU') != []\n",
        "    except ImportError:\n",
        "        pass\n",
        "\n",
        "    return False"
      ],
      "metadata": {
        "id": "NeaPanRJggBj"
      },
      "id": "NeaPanRJggBj",
      "execution_count": 5,
      "outputs": []
    },
    {
      "metadata": {
        "id": "ba82ea33563f3f64"
      },
      "cell_type": "markdown",
      "source": [
        "### Step 1: Data Preprocessing\n",
        "\n",
        "#### Load Metadata and Annotations\n"
      ],
      "id": "ba82ea33563f3f64"
    },
    {
      "metadata": {
        "ExecuteTime": {
          "end_time": "2024-05-30T00:00:31.184808Z",
          "start_time": "2024-05-30T00:00:31.093161Z"
        },
        "colab": {
          "base_uri": "https://localhost:8080/"
        },
        "id": "e38ffe7b352698c0",
        "outputId": "1169d177-7777-4963-fc1b-e3aeedebb316"
      },
      "cell_type": "code",
      "source": [
        "import pandas as pd\n",
        "\n",
        "# Define file paths\n",
        "metadata_file = f'{data_dir}/development_scenes.csv'\n",
        "annotations_file = f'{data_dir}/development_scene_annotations.csv'\n",
        "\n",
        "# Load the CSV files\n",
        "metadata = pd.read_csv(metadata_file)\n",
        "annotations = pd.read_csv(annotations_file)\n",
        "\n",
        "print(\"Metadata:\")\n",
        "print(metadata.head())\n",
        "print(\"\\nAnnotations:\")\n",
        "print(annotations.head())\n"
      ],
      "id": "e38ffe7b352698c0",
      "outputs": [
        {
          "output_type": "stream",
          "name": "stdout",
          "text": [
            "Metadata:\n",
            "                        filename  speaker_id\n",
            "0         2_speech_true_Ofen_aus         132\n",
            "1         3_speech_true_Radio_an         132\n",
            "2         4_speech_true_Alarm_an         132\n",
            "3        9_speech_true_Radio_aus         132\n",
            "4  11_speech_false_Fernseher_aus         132\n",
            "\n",
            "Annotations:\n",
            "                        filename       command     start       end\n",
            "0    1003_speech_false_Licht_aus     Licht aus  12.20090  13.57599\n",
            "1       1008_speech_true_Ofen_an       Ofen an   6.90112   8.52638\n",
            "2      1010_speech_true_Radio_an      Radio an  13.03100  14.03146\n",
            "3  1011_speech_true_Fernseher_an  Fernseher an  14.11030  15.36121\n",
            "4   1012_speech_true_Heizung_aus   Heizung aus  11.20520  12.70590\n"
          ]
        }
      ],
      "execution_count": 6
    },
    {
      "metadata": {
        "id": "e1fc52558ddb0d5c"
      },
      "cell_type": "markdown",
      "source": [
        "#### Preprocess Audio Files (WAV) and Perform ICA\n"
      ],
      "id": "e1fc52558ddb0d5c"
    },
    {
      "metadata": {
        "ExecuteTime": {
          "end_time": "2024-05-30T06:26:08.372474Z",
          "start_time": "2024-05-30T06:25:50.615186Z"
        },
        "colab": {
          "base_uri": "https://localhost:8080/"
        },
        "id": "624c6bca8adc3478",
        "outputId": "5085573c-551f-43b8-fccf-8da040fc310c"
      },
      "cell_type": "code",
      "source": [
        "import os\n",
        "import librosa\n",
        "from sklearn.preprocessing import StandardScaler\n",
        "from sklearn.decomposition import FastICA\n",
        "import numpy as np\n",
        "from IPython.display import Audio\n",
        "\n",
        "# Define directories\n",
        "scenes_wav_dir = f'{data_dir}/scenes/wav'  # Update this path\n",
        "\n",
        "# Function to load and preprocess audio\n",
        "def load_and_preprocess_audio(file_path):\n",
        "    audio, sr = librosa.load(file_path, sr=None)\n",
        "    scaler = StandardScaler()\n",
        "    audio = scaler.fit_transform(audio.reshape(-1, 1)).flatten()\n",
        "\n",
        "    ica = FastICA(n_components=1, whiten='unit-variance')\n",
        "    audio = ica.fit_transform(audio.reshape(-1, 1)).flatten()\n",
        "\n",
        "    return audio, sr\n",
        "\n",
        "# Function to segment audio based on annotations\n",
        "def segment_audio(audio, sr, start, end):\n",
        "    start_sample = int(start * sr)\n",
        "    end_sample = int(end * sr)\n",
        "    return audio[start_sample:end_sample]\n",
        "\n",
        "# Preprocess and segment all audio files\n",
        "preprocessed_segments = []\n",
        "\n",
        "for idx, row in annotations.iterrows():\n",
        "    file_name = row['filename']\n",
        "    command = row['command']\n",
        "    start = row['start']\n",
        "    end = row['end']\n",
        "\n",
        "    file_path = os.path.join(scenes_wav_dir, file_name + '.wav')\n",
        "\n",
        "    try:\n",
        "        audio, sr = load_and_preprocess_audio(file_path)\n",
        "        segment = segment_audio(audio, sr, start, end)\n",
        "        preprocessed_segments.append((file_name, command, segment, sr))\n",
        "    except Exception as e:\n",
        "        print(f\"Error processing file {file_path}: {e}\")\n",
        "\n",
        "# Example: display the first segment\n",
        "print(f\"First segment: {preprocessed_segments[0]}\")\n"
      ],
      "id": "624c6bca8adc3478",
      "outputs": [
        {
          "output_type": "stream",
          "name": "stdout",
          "text": [
            "First segment: ('1003_speech_false_Licht_aus', 'Licht aus', array([ 0.08784055,  0.03521105,  0.16523688, ..., -0.15054016,\n",
            "       -0.34248304, -0.2650867 ], dtype=float32), 16000)\n"
          ]
        }
      ],
      "execution_count": 7
    },
    {
      "metadata": {
        "ExecuteTime": {
          "end_time": "2024-05-30T06:35:40.041831Z",
          "start_time": "2024-05-30T06:35:35.165845Z"
        },
        "colab": {
          "base_uri": "https://localhost:8080/",
          "height": 204
        },
        "id": "344029151ce8b2e5",
        "outputId": "5ec751b9-247e-4075-bb28-9d249e8d59ed"
      },
      "cell_type": "code",
      "source": [
        "import os\n",
        "import numpy as np\n",
        "import pandas as pd\n",
        "import librosa\n",
        "import soundfile as sf\n",
        "import random\n",
        "from IPython.display import Audio\n",
        "from sklearn.decomposition import FastICA\n",
        "\n",
        "# Function to apply ICA on audio segments\n",
        "def apply_ica(segment, sr):\n",
        "    ica = FastICA(n_components=1, whiten='arbitrary-variance')  # Explicitly set whiten parameter\n",
        "    segment_reshaped = segment.reshape(-1, 1)\n",
        "    segment_ica = ica.fit_transform(segment_reshaped).flatten()\n",
        "    return segment_ica\n",
        "\n",
        "# Function to preprocess segments and optionally save to the filesystem\n",
        "def preprocess_and_save_segments(scenes_dir, annotations_path, save_dir=None, save_to_filesystem=False, apply_ica_flag=False):\n",
        "    # Load the annotations\n",
        "    annotations_df = pd.read_csv(annotations_path)\n",
        "\n",
        "    # Ensure the save directory exists if saving to filesystem\n",
        "    if save_to_filesystem and save_dir is not None:\n",
        "        os.makedirs(save_dir, exist_ok=True)\n",
        "\n",
        "    preprocessed_segments = []\n",
        "\n",
        "    for index, row in annotations_df.iterrows():\n",
        "        filename = row['filename']\n",
        "        command = row['command']\n",
        "        start = row['start']\n",
        "        end = row['end']\n",
        "\n",
        "        # Load the audio file\n",
        "        file_path = os.path.join(scenes_dir, f\"{filename}.wav\")\n",
        "        y, sr = librosa.load(file_path, sr=None)\n",
        "\n",
        "        # Extract the segment\n",
        "        start_sample = int(start * sr)\n",
        "        end_sample = int(end * sr)\n",
        "        segment = y[start_sample:end_sample]\n",
        "\n",
        "        # Normalize the segment\n",
        "        segment = librosa.util.normalize(segment)\n",
        "\n",
        "        # Apply ICA if the flag is set\n",
        "        if apply_ica_flag:\n",
        "            segment = apply_ica(segment, sr)\n",
        "\n",
        "        # Add the segment to the list\n",
        "        preprocessed_segments.append((filename, command, segment, sr))\n",
        "\n",
        "        # Save the segment to the filesystem if required\n",
        "        if save_to_filesystem and save_dir is not None:\n",
        "            save_path = os.path.join(save_dir, f\"{filename}_{start}_{end}.wav\")\n",
        "            sf.write(save_path, segment, sr)\n",
        "\n",
        "    return preprocessed_segments\n",
        "\n",
        "# Function to play a random segment from preprocessed segments\n",
        "def play_random_segment(preprocessed_segments):\n",
        "    # Select a random segment\n",
        "    random_segment = random.choice(preprocessed_segments)\n",
        "\n",
        "    filename, command, audio_data, sample_rate = random_segment\n",
        "\n",
        "    # Print the command and play the audio segment\n",
        "    print(f\"Filename: {filename}\")\n",
        "    print(f\"Command: {command}\")\n",
        "\n",
        "    return Audio(audio_data, rate=sample_rate)\n",
        "\n",
        "# Function to play a random segment from the filesystem\n",
        "def play_random_segment_from_filesystem(save_dir, annotations_path):\n",
        "    # List all the preprocessed segment files\n",
        "    segment_files = [f for f in os.listdir(save_dir) if f.endswith('.wav')]\n",
        "\n",
        "    # Select a random segment file\n",
        "    random_segment_file = random.choice(segment_files)\n",
        "    random_segment_path = os.path.join(save_dir, random_segment_file)\n",
        "\n",
        "    # Extract start and end times from the file name\n",
        "    filename_parts = random_segment_file.split('_')\n",
        "    filename = '_'.join(filename_parts[:-2])\n",
        "    start_time = float(filename_parts[-2])\n",
        "    end_time = float(filename_parts[-1].replace('.wav', ''))\n",
        "\n",
        "    # Find the command in the annotations\n",
        "    annotations_df = pd.read_csv(annotations_path)\n",
        "    command_row = annotations_df[\n",
        "        (annotations_df['filename'] == filename) &\n",
        "        (annotations_df['start'] == start_time) &\n",
        "        (annotations_df['end'] == end_time)\n",
        "    ]\n",
        "\n",
        "    if command_row.empty:\n",
        "        print(f\"No matching annotation found for {random_segment_file}\")\n",
        "        return\n",
        "\n",
        "    command = command_row.iloc[0]['command']\n",
        "\n",
        "    # Load the audio segment\n",
        "    y, sr = librosa.load(random_segment_path, sr=None)\n",
        "\n",
        "    # Print the command and play the audio segment\n",
        "    print(f\"Filename: {filename}\")\n",
        "    print(f\"Command: {command}\")\n",
        "\n",
        "    return Audio(y, rate=sr)\n",
        "\n",
        "# Example usage\n",
        "scenes_dir = f'{data_dir}/scenes/wav'\n",
        "annotations_path = f'{data_dir}/development_scene_annotations.csv'\n",
        "save_dir = f'{data_dir}/scenes/preprocessed_segments'\n",
        "\n",
        "# Preprocess segments and save to filesystem with optional ICA\n",
        "preprocessed_segments = preprocess_and_save_segments(scenes_dir, annotations_path, save_dir, save_to_filesystem=True, apply_ica_flag=True)\n",
        "\n",
        "# Play a random segment from memory\n",
        "audio_memory = play_random_segment(preprocessed_segments)\n",
        "display(audio_memory)\n",
        "\n",
        "# Play a random segment from filesystem\n",
        "audio_filesystem = play_random_segment_from_filesystem(save_dir, annotations_path)\n",
        "display(audio_filesystem)\n"
      ],
      "id": "344029151ce8b2e5",
      "outputs": [
        {
          "output_type": "stream",
          "name": "stdout",
          "text": [
            "Filename: 295_speech_false_Licht_aus_Lüftung_an\n",
            "Command: Licht aus\n"
          ]
        },
        {
          "output_type": "display_data",
          "data": {
            "text/plain": [
              "<IPython.lib.display.Audio object>"
            ],
            "text/html": [
              "\n",
              "                <audio  controls=\"controls\" >\n",
              "                    <source src=\"data:audio/wav;base64,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\" type=\"audio/wav\" />\n",
              "                    Your browser does not support the audio element.\n",
              "                </audio>\n",
              "              "
            ]
          },
          "metadata": {}
        },
        {
          "output_type": "stream",
          "name": "stdout",
          "text": [
            "Filename: 1273_speech_true_Licht_an\n",
            "Command: Licht an\n"
          ]
        },
        {
          "output_type": "display_data",
          "data": {
            "text/plain": [
              "<IPython.lib.display.Audio object>"
            ],
            "text/html": [
              "\n",
              "                <audio  controls=\"controls\" >\n",
              "                    <source src=\"data:audio/wav;base64,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\" type=\"audio/wav\" />\n",
              "                    Your browser does not support the audio element.\n",
              "                </audio>\n",
              "              "
            ]
          },
          "metadata": {}
        }
      ],
      "execution_count": 8
    },
    {
      "metadata": {
        "id": "310a6e11fdef1540"
      },
      "cell_type": "markdown",
      "source": [
        "### Step 2: Data Augmentation\n",
        "\n",
        "#### Apply Data Augmentation\n"
      ],
      "id": "310a6e11fdef1540"
    },
    {
      "metadata": {
        "ExecuteTime": {
          "end_time": "2024-05-30T06:37:36.766511Z",
          "start_time": "2024-05-30T06:37:27.383568Z"
        },
        "colab": {
          "base_uri": "https://localhost:8080/"
        },
        "id": "1aae0b9e554475a7",
        "outputId": "f52722e2-ec95-48e9-8e0a-83c312285efa"
      },
      "cell_type": "code",
      "source": [
        "import librosa\n",
        "import numpy as np\n",
        "\n",
        "# Function to augment audio\n",
        "def augment_audio(audio, sr):\n",
        "    augmented = []\n",
        "    # Original length\n",
        "    original_length = len(audio)\n",
        "\n",
        "    # Shift\n",
        "    shift = int(sr * 0.5)  # shift by 0.5 seconds\n",
        "    shifted_audio = np.roll(audio, shift)\n",
        "    augmented.append(shifted_audio)\n",
        "\n",
        "    # Stretch\n",
        "    stretch = librosa.effects.time_stretch(audio, rate=0.8)\n",
        "    if len(stretch) < original_length:\n",
        "        # Pad with zeros if stretched audio is shorter\n",
        "        stretch = np.pad(stretch, (0, original_length - len(stretch)), mode='constant')\n",
        "    else:\n",
        "        stretch = stretch[:original_length]  # ensure same length\n",
        "    augmented.append(stretch)\n",
        "\n",
        "    # Debug information\n",
        "    for aug_audio in augmented:\n",
        "        #print(f\"Original length: {original_length}, Augmented length: {len(aug_audio)}\")\n",
        "        if len(aug_audio) < 2048:\n",
        "            print(f\"Warning: Augmented segment length {len(aug_audio)} is shorter than n_fft=2048\")\n",
        "\n",
        "    return augmented\n",
        "\n",
        "# Apply augmentation to all segments\n",
        "augmented_segments = []\n",
        "for file_name, command, segment, sr in preprocessed_segments:\n",
        "    augmented = augment_audio(segment, sr)\n",
        "    for aug in augmented:\n",
        "        augmented_segments.append((file_name, command, aug, sr))\n",
        "\n",
        "# Combine original and augmented data\n",
        "all_segments = preprocessed_segments + augmented_segments\n"
      ],
      "id": "1aae0b9e554475a7",
      "outputs": [
        {
          "output_type": "stream",
          "name": "stderr",
          "text": [
            "/usr/local/lib/python3.10/dist-packages/librosa/core/spectrum.py:266: UserWarning: n_fft=2048 is too large for input signal of length=800\n",
            "  warnings.warn(\n"
          ]
        },
        {
          "output_type": "stream",
          "name": "stdout",
          "text": [
            "Warning: Augmented segment length 800 is shorter than n_fft=2048\n",
            "Warning: Augmented segment length 800 is shorter than n_fft=2048\n"
          ]
        }
      ],
      "execution_count": 9
    },
    {
      "metadata": {
        "id": "e5f1ea89b26d7233"
      },
      "cell_type": "markdown",
      "source": [
        "### Step 3: Feature Extraction\n",
        "\n",
        "#### Extract Features with Padding/Truncation and Dynamic `n_fft`\n"
      ],
      "id": "e5f1ea89b26d7233"
    },
    {
      "metadata": {
        "ExecuteTime": {
          "end_time": "2024-05-30T06:39:05.151189Z",
          "start_time": "2024-05-30T06:38:42.626250Z"
        },
        "colab": {
          "base_uri": "https://localhost:8080/"
        },
        "id": "f6cee836b0ea7c1e",
        "outputId": "21bd9e2a-8efa-4ae0-8057-34c3cb604d41"
      },
      "cell_type": "code",
      "source": [
        "# Function to extract features with dynamic n_fft\n",
        "def extract_features(segment, sr, max_length):\n",
        "    n_fft = min(2048, max(256, len(segment) // 2))  # Ensure n_fft is not larger than half the segment length and at least 256\n",
        "    if len(segment) < n_fft:\n",
        "        n_fft = len(segment) // 2\n",
        "    #print(f\"Extracting features with n_fft={n_fft} for segment length={len(segment)}\")\n",
        "    hop_length = n_fft // 4  # Typical value for hop_length\n",
        "    mfccs = librosa.feature.mfcc(y=segment, sr=sr, n_mfcc=13, n_fft=n_fft, hop_length=hop_length)\n",
        "    mfccs_flat = mfccs.flatten()\n",
        "    if len(mfccs_flat) < max_length:\n",
        "        # Pad with zeros\n",
        "        padded_mfccs = np.pad(mfccs_flat, (0, max_length - len(mfccs_flat)), mode='constant')\n",
        "        return padded_mfccs\n",
        "    else:\n",
        "        # Truncate to max_length\n",
        "        return mfccs_flat[:max_length]\n",
        "\n",
        "# Determine the maximum length for padding/truncation\n",
        "max_length = 0\n",
        "for _, _, segment, sr in all_segments:\n",
        "    n_fft = min(2048, max(256, len(segment) // 2))\n",
        "    if len(segment) < n_fft:\n",
        "        n_fft = len(segment) // 2\n",
        "    hop_length = n_fft // 4\n",
        "    features = librosa.feature.mfcc(y=segment, sr=sr, n_mfcc=13, n_fft=n_fft, hop_length=hop_length).flatten()\n",
        "    if len(features) > max_length:\n",
        "        max_length = len(features)\n",
        "\n",
        "# Extract features for all segments with padding/truncation\n",
        "feature_data = []\n",
        "for file_name, command, segment, sr in all_segments:\n",
        "    features = extract_features(segment, sr, max_length)\n",
        "    feature_data.append((file_name, command, features))\n",
        "\n",
        "print(f\"Feature extraction completed with max length: {max_length}\")\n"
      ],
      "id": "f6cee836b0ea7c1e",
      "outputs": [
        {
          "output_type": "stream",
          "name": "stdout",
          "text": [
            "Feature extraction completed with max length: 1170\n"
          ]
        }
      ],
      "execution_count": 10
    },
    {
      "metadata": {
        "id": "8d0d8c3c7998e5c1"
      },
      "cell_type": "markdown",
      "source": [
        "### Step 4: Model Training and Evaluation\n",
        "\n",
        "#### Train `GradientBoostingClassifier` with Class Weights and Progress Bar\n"
      ],
      "id": "8d0d8c3c7998e5c1"
    },
    {
      "metadata": {
        "ExecuteTime": {
          "end_time": "2024-05-30T06:39:34.760729Z",
          "start_time": "2024-05-30T06:39:34.717834Z"
        },
        "colab": {
          "base_uri": "https://localhost:8080/"
        },
        "id": "ebea55587b241234",
        "outputId": "6a8d4ce0-3cdf-4fcd-9242-a44b32db289f"
      },
      "cell_type": "code",
      "source": [
        "from sklearn.model_selection import train_test_split\n",
        "from sklearn.preprocessing import LabelEncoder\n",
        "from sklearn.utils.class_weight import compute_class_weight\n",
        "\n",
        "# Prepare data for training\n",
        "X = np.array([features for _, _, features in feature_data])\n",
        "y = np.array([command for _, command, _ in feature_data])\n",
        "\n",
        "# Encode string labels to numeric labels\n",
        "label_encoder = LabelEncoder()\n",
        "y_encoded = label_encoder.fit_transform(y)\n",
        "\n",
        "# Split data into training and validation sets\n",
        "X_train, X_val, y_train, y_val = train_test_split(X, y_encoded, test_size=0.2, random_state=42)\n",
        "\n",
        "# Compute class weights\n",
        "classes = np.unique(y_train)\n",
        "class_weights = compute_class_weight('balanced', classes=classes, y=y_train)\n",
        "class_weight_dict = {cls: weight for cls, weight in zip(classes, class_weights)}\n",
        "\n",
        "# Print class weights for debugging\n",
        "print(\"Class Weights: \", class_weight_dict)\n",
        "\n",
        "# Create sample weights\n",
        "sample_weights = np.array([class_weight_dict[cls] for cls in y_train])\n",
        "\n",
        "# Print sample weights for debugging\n",
        "print(\"Sample Weights: \", sample_weights)\n"
      ],
      "id": "ebea55587b241234",
      "outputs": [
        {
          "output_type": "stream",
          "name": "stdout",
          "text": [
            "Class Weights:  {0: 0.9740853658536586, 1: 1.065, 2: 0.8729508196721312, 3: 1.298780487804878, 4: 0.9128571428571428, 5: 1.0240384615384615, 6: 0.8192307692307692, 7: 0.7717391304347826, 8: 1.0047169811320755, 9: 1.0579470198675496, 10: 1.0240384615384615, 11: 1.117132867132867, 12: 1.109375, 13: 0.9508928571428571, 14: 1.0721476510067114, 15: 1.2011278195488722}\n",
            "Sample Weights:  [1.00471698 0.77173913 1.065      ... 1.109375   1.05794702 0.97408537]\n"
          ]
        }
      ],
      "execution_count": 11
    },
    {
      "metadata": {
        "ExecuteTime": {
          "end_time": "2024-05-30T06:39:39.523735Z",
          "start_time": "2024-05-30T06:39:39.517730Z"
        },
        "colab": {
          "base_uri": "https://localhost:8080/"
        },
        "id": "da141a180ad4cd17",
        "outputId": "7b8197af-2439-42f6-a6f9-810f4e99346d"
      },
      "cell_type": "code",
      "source": [
        "# Print class distribution\n",
        "unique, counts = np.unique(y_train, return_counts=True)\n",
        "class_distribution = dict(zip(unique, counts))\n",
        "print(\"Class Distribution: \", class_distribution)\n"
      ],
      "id": "da141a180ad4cd17",
      "outputs": [
        {
          "output_type": "stream",
          "name": "stdout",
          "text": [
            "Class Distribution:  {0: 164, 1: 150, 2: 183, 3: 123, 4: 175, 5: 156, 6: 195, 7: 207, 8: 159, 9: 151, 10: 156, 11: 143, 12: 144, 13: 168, 14: 149, 15: 133}\n"
          ]
        }
      ],
      "execution_count": 12
    },
    {
      "cell_type": "code",
      "source": [
        "# Define a plot function for the confusion matrix\n",
        "import matplotlib.pyplot as plt\n",
        "import seaborn as sns\n",
        "from sklearn.metrics import confusion_matrix\n",
        "\n",
        "def plot_confusion_matrix(y_true, y_pred, labels, title='Confusion Matrix'):\n",
        "    conf_matrix = confusion_matrix(y_true, y_pred, labels=labels)\n",
        "    plt.figure(figsize=(10, 8))\n",
        "    sns.heatmap(conf_matrix, annot=True, fmt='d', cmap='Blues', xticklabels=labels, yticklabels=labels)\n",
        "    plt.title(title)\n",
        "    plt.xlabel('Predicted')\n",
        "    plt.ylabel('True')\n",
        "    plt.show()\n"
      ],
      "metadata": {
        "id": "VFNFDxQGaM3t"
      },
      "id": "VFNFDxQGaM3t",
      "execution_count": 13,
      "outputs": []
    },
    {
      "metadata": {
        "ExecuteTime": {
          "end_time": "2024-05-30T00:12:11.886240Z",
          "start_time": "2024-05-30T00:01:20.406185Z"
        },
        "colab": {
          "base_uri": "https://localhost:8080/"
        },
        "id": "878ff13809273a3a",
        "outputId": "813f2736-f2ab-465b-c4fc-7c5628d0dad7"
      },
      "cell_type": "code",
      "source": [
        "import xgboost as xgb\n",
        "from sklearn.metrics import classification_report\n",
        "from tqdm import tqdm\n",
        "import subprocess\n",
        "\n",
        "# Check if GPU is available\n",
        "gpu_available = is_gpu_available()\n",
        "\n",
        "# Define the XGBoost classifier with or without GPU support based on availability\n",
        "if gpu_available:\n",
        "    print(\"GPU detected. Training will use GPU.\")\n",
        "    gb = xgb.XGBClassifier(n_estimators=100, random_state=42, tree_method='hist', device='cuda', use_label_encoder=False)\n",
        "else:\n",
        "    print(\"No GPU detected. Training will use CPU.\")\n",
        "    gb = xgb.XGBClassifier(n_estimators=100, random_state=42, tree_method='hist', use_label_encoder=False)\n",
        "\n",
        "# Wrap the training loop with tqdm for the progress bar\n",
        "for i in tqdm(range(1, gb.n_estimators + 1), desc=\"Training Gradient Boosting Classifier\"):\n",
        "    gb.set_params(n_estimators=i)\n",
        "    gb.fit(X_train, y_train, sample_weight=sample_weights, eval_metric='logloss')\n",
        "\n",
        "# Evaluate the classifier\n",
        "y_pred_gb = gb.predict(X_val)\n",
        "print(\"Gradient Boosting Classifier Report\")\n",
        "print(classification_report(y_val, y_pred_gb, zero_division=0))\n"
      ],
      "id": "878ff13809273a3a",
      "outputs": [
        {
          "output_type": "stream",
          "name": "stdout",
          "text": [
            "No GPU detected. Training will use CPU.\n"
          ]
        },
        {
          "output_type": "stream",
          "name": "stderr",
          "text": [
            "\rTraining Gradient Boosting Classifier:   0%|          | 0/100 [00:00<?, ?it/s]/usr/local/lib/python3.10/dist-packages/xgboost/sklearn.py:889: UserWarning: `eval_metric` in `fit` method is deprecated for better compatibility with scikit-learn, use `eval_metric` in constructor or`set_params` instead.\n",
            "  warnings.warn(\n",
            "Training Gradient Boosting Classifier:  21%|██        | 21/100 [14:43<1:25:45, 65.13s/it]"
          ]
        }
      ],
      "execution_count": null
    },
    {
      "metadata": {
        "id": "bbadf8e40408ef31"
      },
      "cell_type": "markdown",
      "source": [
        "#### Train `RandomForestClassifier` with Class Weights\n"
      ],
      "id": "bbadf8e40408ef31"
    },
    {
      "metadata": {
        "ExecuteTime": {
          "end_time": "2024-05-30T06:39:53.490921Z",
          "start_time": "2024-05-30T06:39:49.127954Z"
        },
        "colab": {
          "base_uri": "https://localhost:8080/",
          "height": 392
        },
        "id": "d43d11df56a0e22f",
        "outputId": "971e161d-e8db-405e-a86a-e1b6bcd5f6ac"
      },
      "cell_type": "code",
      "source": [
        "# Train a Random Forest classifier with class weights\n",
        "#from cuml.ensemble import RandomForestClassifier as cuRF\n",
        "from sklearn.ensemble import RandomForestClassifier as skRF\n",
        "from sklearn.metrics import classification_report\n",
        "\n",
        "# RandomForest Classifier with GPU check\n",
        "if gpu_available:\n",
        "#    print(\"GPU detected. Training Random Forest Classifier will use GPU.\")\n",
        "#    rf = cuRF(n_estimators=100, random_state=42)\n",
        "#    rf.fit(X_train, y_train)\n",
        "    print(\"No cuML detected. Training Random Forest Classifier will use CPU.\")\n",
        "    rf = skRF(n_estimators=100, random_state=42, class_weight=class_weight_dict)\n",
        "    rf.fit(X_train, y_train)\n",
        "else:\n",
        "    print(\"No GPU detected. Training Random Forest Classifier will use CPU.\")\n",
        "    rf = skRF(n_estimators=100, random_state=42, class_weight=class_weight_dict)\n",
        "    rf.fit(X_train, y_train)\n",
        "\n",
        "# Evaluate Random Forest Classifier\n",
        "y_pred_rf = rf.predict(X_val)\n",
        "if gpu_available:\n",
        "    y_pred_rf = np.array(y_pred_rf)  # Ensure compatibility with scikit-learn metrics\n",
        "print(\"Random Forest Classifier Report\")\n",
        "print(classification_report(y_val, y_pred_rf, zero_division=0))"
      ],
      "id": "d43d11df56a0e22f",
      "outputs": [
        {
          "output_type": "error",
          "ename": "ModuleNotFoundError",
          "evalue": "No module named 'cuml'",
          "traceback": [
            "\u001b[0;31m---------------------------------------------------------------------------\u001b[0m",
            "\u001b[0;31mModuleNotFoundError\u001b[0m                       Traceback (most recent call last)",
            "\u001b[0;32m<ipython-input-3-87e76ad4f220>\u001b[0m in \u001b[0;36m<cell line: 2>\u001b[0;34m()\u001b[0m\n\u001b[1;32m      1\u001b[0m \u001b[0;31m# Train a Random Forest classifier with class weights\u001b[0m\u001b[0;34m\u001b[0m\u001b[0;34m\u001b[0m\u001b[0m\n\u001b[0;32m----> 2\u001b[0;31m \u001b[0;32mfrom\u001b[0m \u001b[0mcuml\u001b[0m\u001b[0;34m.\u001b[0m\u001b[0mensemble\u001b[0m \u001b[0;32mimport\u001b[0m \u001b[0mRandomForestClassifier\u001b[0m \u001b[0;32mas\u001b[0m \u001b[0mcuRF\u001b[0m\u001b[0;34m\u001b[0m\u001b[0;34m\u001b[0m\u001b[0m\n\u001b[0m\u001b[1;32m      3\u001b[0m \u001b[0;32mfrom\u001b[0m \u001b[0msklearn\u001b[0m\u001b[0;34m.\u001b[0m\u001b[0mensemble\u001b[0m \u001b[0;32mimport\u001b[0m \u001b[0mRandomForestClassifier\u001b[0m \u001b[0;32mas\u001b[0m \u001b[0mskRF\u001b[0m\u001b[0;34m\u001b[0m\u001b[0;34m\u001b[0m\u001b[0m\n\u001b[1;32m      4\u001b[0m \u001b[0;32mfrom\u001b[0m \u001b[0msklearn\u001b[0m\u001b[0;34m.\u001b[0m\u001b[0mmetrics\u001b[0m \u001b[0;32mimport\u001b[0m \u001b[0mclassification_report\u001b[0m\u001b[0;34m\u001b[0m\u001b[0;34m\u001b[0m\u001b[0m\n\u001b[1;32m      5\u001b[0m \u001b[0;34m\u001b[0m\u001b[0m\n",
            "\u001b[0;31mModuleNotFoundError\u001b[0m: No module named 'cuml'",
            "",
            "\u001b[0;31m---------------------------------------------------------------------------\u001b[0;32m\nNOTE: If your import is failing due to a missing package, you can\nmanually install dependencies using either !pip or !apt.\n\nTo view examples of installing some common dependencies, click the\n\"Open Examples\" button below.\n\u001b[0;31m---------------------------------------------------------------------------\u001b[0m\n"
          ],
          "errorDetails": {
            "actions": [
              {
                "action": "open_url",
                "actionText": "Open Examples",
                "url": "/notebooks/snippets/importing_libraries.ipynb"
              }
            ]
          }
        }
      ],
      "execution_count": null
    },
    {
      "metadata": {
        "id": "b1cb61e452c99e5"
      },
      "cell_type": "markdown",
      "source": [
        "### Step 5: Ensemble Classifiers\n"
      ],
      "id": "b1cb61e452c99e5"
    },
    {
      "metadata": {
        "ExecuteTime": {
          "end_time": "2024-05-30T00:13:10.081386Z",
          "start_time": "2024-05-30T00:12:15.805555Z"
        },
        "id": "523074258f74bd26"
      },
      "cell_type": "code",
      "source": [
        "from sklearn.ensemble import VotingClassifier\n",
        "\n",
        "# Combine Random Forest and Gradient Boosting\n",
        "ensemble = VotingClassifier(estimators=[('rf', rf), ('gb', gb)], voting='soft')\n",
        "ensemble.fit(X_train, y_train)\n",
        "\n",
        "# Evaluate the ensemble classifier\n",
        "y_pred_ensemble = ensemble.predict(X_val)\n",
        "print(\"Ensemble Classifier Report\")\n",
        "print(classification_report(y_val, y_pred_ensemble, zero_division=0))\n",
        "\n",
        "# Plot confusion matrix\n",
        "abels = np.unique(y_val)\n",
        "plot_confusion_matrix(y_val, y_pred_ensemble, labels, title='Confusion Matrix - Ensemble')\n"
      ],
      "id": "523074258f74bd26",
      "outputs": [],
      "execution_count": null
    },
    {
      "metadata": {
        "id": "c960da4eaf930b4"
      },
      "cell_type": "markdown",
      "source": [
        "### Summary\n",
        "\n",
        "We've consolidated the process into five clear steps:\n",
        "\n",
        "1. **Data Preprocessing**: Load metadata and preprocess audio files with ICA.\n",
        "2. **Data Augmentation**: Apply time-shifting and time-stretching to augment the audio data.\n",
        "3. **Feature Extraction**: Extract MFCC features with appropriate padding/truncation and dynamic `n_fft`.\n",
        "4. **Model Training and Evaluation**: Train `GradientBoostingClassifier` and `RandomForestClassifier`, handle class weights, and evaluate their performance.\n",
        "5. **Ensemble Classifiers**: Combine predictions from multiple models to improve robustness.\n",
        "\n",
        "Let's proceed with running these steps sequentially to ensure there are no errors, warnings, or obstacles. If you encounter any issues or need further adjustments, please let me know!"
      ],
      "id": "c960da4eaf930b4"
    },
    {
      "metadata": {
        "id": "88fbb72d1c1b621f"
      },
      "cell_type": "markdown",
      "source": [
        "### Alternative ensembling method: Stacking"
      ],
      "id": "88fbb72d1c1b621f"
    },
    {
      "metadata": {
        "ExecuteTime": {
          "end_time": "2024-05-30T00:13:10.084324Z",
          "start_time": "2024-05-30T00:13:10.084193Z"
        },
        "id": "becf965d82c84527"
      },
      "cell_type": "code",
      "source": [
        "from sklearn.ensemble import StackingClassifier\n",
        "from sklearn.linear_model import LogisticRegression\n",
        "\n",
        "# Define base classifiers\n",
        "estimators = [\n",
        "    ('rf', RandomForestClassifier(n_estimators=100, random_state=42, class_weight=class_weight_dict)),\n",
        "    ('gb', GradientBoostingClassifier(n_estimators=100, random_state=42))\n",
        "]\n",
        "\n",
        "# Define stacking classifier\n",
        "stacking_clf = StackingClassifier(estimators=estimators, final_estimator=LogisticRegression())\n",
        "stacking_clf.fit(X_train, y_train)\n",
        "\n",
        "# Make predictions\n",
        "y_pred_stacking = stacking_clf.predict(X_val)\n",
        "\n",
        "# Evaluate the stacking classifier\n",
        "print(\"Stacking Classifier Report\")\n",
        "print(classification_report(y_val, y_pred_stacking, zero_division=0))\n"
      ],
      "id": "becf965d82c84527",
      "outputs": [],
      "execution_count": null
    },
    {
      "metadata": {
        "id": "8a3d14eadebf565d"
      },
      "cell_type": "code",
      "source": [
        "class_weight_dict"
      ],
      "id": "8a3d14eadebf565d",
      "outputs": [],
      "execution_count": null
    },
    {
      "metadata": {
        "id": "13bef382653009d5"
      },
      "cell_type": "markdown",
      "source": [
        "### Step-by-Step Guide to Adding a CNN Classifier\n",
        "\n",
        "1. **Define the CNN Architecture**: We'll use Keras with TensorFlow backend to define the CNN.\n",
        "2. **Prepare Data for CNN**: Ensure the data is in the right shape and format for the CNN.\n",
        "3. **Train the CNN**: Train the CNN on the training data.\n",
        "4. **Evaluate the CNN**: Evaluate its performance on the validation data.\n",
        "5. **Compare with Other Classifiers**: Compare the CNN's performance with the Gradient Boosting and Random Forest classifiers.\n",
        "\n",
        "### Step 1: Define the CNN Architecture\n",
        "\n",
        "We'll use a simple CNN architecture for this example.\n"
      ],
      "id": "13bef382653009d5"
    },
    {
      "metadata": {
        "ExecuteTime": {
          "end_time": "2024-05-30T06:40:15.274238Z",
          "start_time": "2024-05-30T06:40:15.265949Z"
        },
        "id": "89338c6d77a1ece4"
      },
      "cell_type": "code",
      "source": [
        "import tensorflow as tf\n",
        "from tensorflow.keras.models import Sequential\n",
        "from tensorflow.keras.layers import Conv2D, MaxPooling2D, Flatten, Dense\n",
        "from tensorflow.keras.utils import to_categorical\n",
        "\n",
        "# Define the CNN model\n",
        "def create_cnn_model(input_shape, num_classes):\n",
        "    model = Sequential([\n",
        "        Conv2D(32, kernel_size=(3, 3), activation='relu', input_shape=input_shape),\n",
        "        MaxPooling2D(pool_size=(2, 2)),\n",
        "        Conv2D(64, kernel_size=(3, 3), activation='relu'),\n",
        "        MaxPooling2D(pool_size=(2, 2)),\n",
        "        Flatten(),\n",
        "        Dense(128, activation='relu'),\n",
        "        Dense(num_classes, activation='softmax')\n",
        "    ])\n",
        "    model.compile(optimizer='adam', loss='categorical_crossentropy', metrics=['accuracy'])\n",
        "    return model\n"
      ],
      "id": "89338c6d77a1ece4",
      "outputs": [],
      "execution_count": null
    },
    {
      "metadata": {
        "id": "f45ac65a6cbbd65b"
      },
      "cell_type": "markdown",
      "source": [
        "### Step 2: Prepare Data for CNN\n",
        "\n",
        "Ensure the data is reshaped and formatted correctly for the CNN.\n"
      ],
      "id": "f45ac65a6cbbd65b"
    },
    {
      "metadata": {
        "ExecuteTime": {
          "end_time": "2024-05-30T06:40:18.465827Z",
          "start_time": "2024-05-30T06:40:18.400251Z"
        },
        "id": "8b54ec5b1768ed35"
      },
      "cell_type": "code",
      "source": [
        "import math\n",
        "\n",
        "# Convert the feature data to a numpy array\n",
        "X_cnn = np.array([features for _, _, features in feature_data])\n",
        "y_cnn = np.array([command for _, command, _ in feature_data])\n",
        "\n",
        "# Encode string labels to numeric labels\n",
        "y_cnn_encoded = label_encoder.transform(y_cnn)\n",
        "\n",
        "# Convert labels to categorical\n",
        "y_cnn_categorical = to_categorical(y_cnn_encoded)\n",
        "\n",
        "# Determine input shape for CNN\n",
        "num_features = X_cnn.shape[1]\n",
        "# Calculate the dimensions (height and width) such that height * width = num_features\n",
        "# Here, we aim for the closest possible square dimensions\n",
        "height = int(math.sqrt(num_features))\n",
        "width = height\n",
        "if height * width < num_features:\n",
        "    width += 1\n",
        "\n",
        "# Adjust the number of features to match the closest square dimensions\n",
        "num_adjusted_features = height * width\n",
        "X_cnn_adjusted = np.zeros((X_cnn.shape[0], num_adjusted_features))\n",
        "X_cnn_adjusted[:, :num_features] = X_cnn\n",
        "\n",
        "# Reshape to (num_samples, height, width, 1)\n",
        "X_cnn_reshaped = X_cnn_adjusted.reshape(-1, height, width, 1)\n",
        "\n",
        "# Split data into training and validation sets\n",
        "X_train_cnn, X_val_cnn, y_train_cnn, y_val_cnn = train_test_split(X_cnn_reshaped, y_cnn_categorical, test_size=0.2, random_state=42)\n",
        "\n",
        "# Print shapes for debugging\n",
        "print(f\"X_cnn shape: {X_cnn.shape}\")\n",
        "print(f\"X_cnn_adjusted shape: {X_cnn_adjusted.shape}\")\n",
        "print(f\"X_cnn_reshaped shape: {X_cnn_reshaped.shape}\")\n",
        "print(f\"X_train_cnn shape: {X_train_cnn.shape}\")\n",
        "print(f\"X_val_cnn shape: {X_val_cnn.shape}\")\n"
      ],
      "id": "8b54ec5b1768ed35",
      "outputs": [],
      "execution_count": null
    },
    {
      "metadata": {
        "id": "e62bdb52806c5bb5"
      },
      "cell_type": "markdown",
      "source": [
        "### Step 3: Train the CNN\n"
      ],
      "id": "e62bdb52806c5bb5"
    },
    {
      "metadata": {
        "ExecuteTime": {
          "end_time": "2024-05-30T06:40:36.668037Z",
          "start_time": "2024-05-30T06:40:21.304415Z"
        },
        "id": "552a7c90d6611968"
      },
      "cell_type": "code",
      "source": [
        "# Create the CNN model\n",
        "input_shape = (height, width, 1)\n",
        "num_classes = len(np.unique(y_train_cnn.argmax(axis=1)))\n",
        "cnn_model = create_cnn_model(input_shape, num_classes)\n",
        "\n",
        "# Train the CNN model\n",
        "cnn_model.fit(X_train_cnn, y_train_cnn, epochs=10, batch_size=32, validation_data=(X_val_cnn, y_val_cnn))\n"
      ],
      "id": "552a7c90d6611968",
      "outputs": [],
      "execution_count": null
    },
    {
      "metadata": {
        "id": "66ff4ff67ab76137"
      },
      "cell_type": "markdown",
      "source": [
        "### Step 4: Evaluate the CNN\n"
      ],
      "id": "66ff4ff67ab76137"
    },
    {
      "metadata": {
        "ExecuteTime": {
          "end_time": "2024-05-30T06:40:44.476763Z",
          "start_time": "2024-05-30T06:40:43.047078Z"
        },
        "id": "97de3b44a664c650"
      },
      "cell_type": "code",
      "source": [
        "# Evaluate the CNN model\n",
        "cnn_eval = cnn_model.evaluate(X_val_cnn, y_val_cnn)\n",
        "print(f\"CNN Model Accuracy: {cnn_eval[1]}\")\n",
        "\n",
        "# Make predictions\n",
        "y_pred_cnn = cnn_model.predict(X_val_cnn)\n",
        "y_pred_cnn_classes = np.argmax(y_pred_cnn, axis=1)\n",
        "y_val_cnn_classes = np.argmax(y_val_cnn, axis=1)\n",
        "\n",
        "# Print classification report\n",
        "print(\"CNN Classifier Report\")\n",
        "print(classification_report(y_val_cnn_classes, y_pred_cnn_classes, zero_division=0))\n",
        "\n",
        "# Plot confusion matrix for CNN\n",
        "labels = np.unique(y_val_cnn_classes)\n",
        "plot_confusion_matrix(y_val_cnn_classes, y_pred_cnn_classes, labels, title='Confusion Matrix - CNN')\n"
      ],
      "id": "97de3b44a664c650",
      "outputs": [],
      "execution_count": null
    },
    {
      "metadata": {
        "id": "201b0e7bad982739"
      },
      "cell_type": "markdown",
      "source": [
        "### Step 5: Compare with Other Classifiers\n",
        "\n",
        "You already have the evaluation metrics for the Gradient Boosting and Random Forest classifiers. Now you can compare the performance of the CNN with these classifiers.\n",
        "\n",
        "### Summary\n",
        "\n",
        "1. **Define CNN Architecture**: Use Keras to define a simple CNN.\n",
        "2. **Prepare Data**: Reshape the feature data and convert labels to categorical format.\n",
        "3. **Train CNN**: Train the CNN model on the training data.\n",
        "4. **Evaluate CNN**: Evaluate the CNN's performance and compare it with other classifiers.\n",
        "\n",
        "Run the above code step-by-step and compare the results. Let me know if you encounter any issues or need further adjustments!"
      ],
      "id": "201b0e7bad982739"
    },
    {
      "metadata": {
        "id": "e6601a726381e609"
      },
      "cell_type": "markdown",
      "source": [],
      "id": "e6601a726381e609"
    },
    {
      "metadata": {
        "ExecuteTime": {
          "end_time": "2024-05-30T06:42:26.519332Z",
          "start_time": "2024-05-30T06:42:26.224622Z"
        },
        "id": "f125ad59301768a4"
      },
      "cell_type": "code",
      "source": [
        "from collections import Counter\n",
        "\n",
        "# Check class distribution in the training set\n",
        "y_train_labels = label_encoder.inverse_transform(y_train)\n",
        "class_distribution = Counter(y_train_labels)\n",
        "print(\"Class Distribution in Training Set:\", class_distribution)\n",
        "\n",
        "# Visualize class distribution\n",
        "import matplotlib.pyplot as plt\n",
        "\n",
        "plt.bar(class_distribution.keys(), class_distribution.values())\n",
        "plt.xlabel('Class')\n",
        "plt.ylabel('Frequency')\n",
        "plt.title('Class Distribution in Training Set')\n",
        "plt.xticks(rotation=90)\n",
        "plt.show()\n"
      ],
      "id": "f125ad59301768a4",
      "outputs": [],
      "execution_count": null
    },
    {
      "metadata": {
        "id": "f89530d54cf7a69b"
      },
      "cell_type": "markdown",
      "source": [
        "## Using Spectrograms and CNN\n",
        "\n",
        "1. **Preprocess Audio Data into Spectrograms**: Convert each audio segment into a Mel spectrogram.\n",
        "2. **Prepare Data for CNN**: Ensure the spectrograms are reshaped and formatted correctly for the CNN.\n",
        "3. **Define a More Complex CNN**: Use a more complex CNN architecture to handle the spectrogram data.\n",
        "4. **Train and Evaluate the CNN**: Train the CNN on the training data and evaluate its performance.\n",
        "\n",
        "### Step 1: Preprocess Audio Data into Spectrograms\n"
      ],
      "id": "f89530d54cf7a69b"
    },
    {
      "metadata": {
        "ExecuteTime": {
          "end_time": "2024-05-30T06:45:14.492688Z",
          "start_time": "2024-05-30T06:45:01.304745Z"
        },
        "id": "bbc104a8ee92d462"
      },
      "cell_type": "code",
      "source": [
        "import librosa\n",
        "import numpy as np\n",
        "\n",
        "# Function to extract spectrogram features\n",
        "def extract_spectrogram(segment, sr, n_mels=128, fmax=8000):\n",
        "    spectrogram = librosa.feature.melspectrogram(y=segment, sr=sr, n_mels=n_mels, fmax=fmax)\n",
        "    spectrogram_db = librosa.power_to_db(spectrogram, ref=np.max)\n",
        "    return spectrogram_db\n",
        "\n",
        "# Apply the spectrogram extraction to all segments\n",
        "spectrogram_data = []\n",
        "for file_name, command, segment, sr in all_segments:\n",
        "    spectrogram = extract_spectrogram(segment, sr)\n",
        "    spectrogram_data.append((file_name, command, spectrogram))\n",
        "\n",
        "# Determine the maximum shape for padding\n",
        "max_shape = max([s.shape for _, _, s in spectrogram_data], key=lambda x: x[1])\n",
        "print(f\"Maximum spectrogram shape: {max_shape}\")\n"
      ],
      "id": "bbc104a8ee92d462",
      "outputs": [],
      "execution_count": null
    },
    {
      "metadata": {
        "id": "b8828d80697d8aa6"
      },
      "cell_type": "markdown",
      "source": [
        "### Step 2: Prepare Data for CNN\n"
      ],
      "id": "b8828d80697d8aa6"
    },
    {
      "metadata": {
        "ExecuteTime": {
          "end_time": "2024-05-30T06:45:15.058027Z",
          "start_time": "2024-05-30T06:45:14.495021Z"
        },
        "id": "a6d97c703fb4b6c4"
      },
      "cell_type": "code",
      "source": [
        "# Pad spectrograms to have the same shape\n",
        "padded_spectrograms = []\n",
        "for file_name, command, spectrogram in spectrogram_data:\n",
        "    pad_width = max_shape[1] - spectrogram.shape[1]\n",
        "    padded_spectrogram = np.pad(spectrogram, ((0, 0), (0, pad_width)), mode='constant')\n",
        "    padded_spectrograms.append((file_name, command, padded_spectrogram))\n",
        "\n",
        "# Convert to numpy arrays and reshape\n",
        "X_spectrogram = np.array([s for _, _, s in padded_spectrograms])\n",
        "X_spectrogram = X_spectrogram[..., np.newaxis]  # Add channel dimension\n",
        "y_spectrogram = np.array([command for _, command, _ in padded_spectrograms])\n",
        "\n",
        "# Encode string labels to numeric labels\n",
        "y_encoded = label_encoder.transform(y_spectrogram)\n",
        "y_categorical = to_categorical(y_encoded)\n",
        "\n",
        "# Split data into training and validation sets\n",
        "X_train, X_val, y_train, y_val = train_test_split(X_spectrogram, y_categorical, test_size=0.2, random_state=42)\n",
        "\n",
        "# Print shapes for debugging\n",
        "print(f\"X_train shape: {X_train.shape}\")\n",
        "print(f\"X_val shape: {X_val.shape}\")\n",
        "print(f\"y_train shape: {y_train.shape}\")\n",
        "print(f\"y_val shape: {y_val.shape}\")\n"
      ],
      "id": "a6d97c703fb4b6c4",
      "outputs": [],
      "execution_count": null
    },
    {
      "metadata": {
        "id": "57837854975c594f"
      },
      "cell_type": "markdown",
      "source": [
        "### Step 3: Define a More Complex CNN\n"
      ],
      "id": "57837854975c594f"
    },
    {
      "metadata": {
        "ExecuteTime": {
          "end_time": "2024-05-30T06:45:21.029769Z",
          "start_time": "2024-05-30T06:45:20.957345Z"
        },
        "id": "b0f2f73ffb9956b7"
      },
      "cell_type": "code",
      "source": [
        "from tensorflow.keras.models import Sequential\n",
        "from tensorflow.keras.layers import Conv2D, MaxPooling2D, Flatten, Dense, Dropout\n",
        "\n",
        "# Define a more complex CNN model\n",
        "def create_complex_cnn_model(input_shape, num_classes):\n",
        "    model = Sequential([\n",
        "        Conv2D(32, kernel_size=(3, 3), activation='relu', input_shape=input_shape),\n",
        "        MaxPooling2D(pool_size=(2, 2)),\n",
        "        Dropout(0.25),\n",
        "        Conv2D(64, kernel_size=(3, 3), activation='relu'),\n",
        "        MaxPooling2D(pool_size=(2, 2)),\n",
        "        Dropout(0.25),\n",
        "        Conv2D(128, kernel_size=(3, 3), activation='relu'),\n",
        "        MaxPooling2D(pool_size=(2, 2)),\n",
        "        Flatten(),\n",
        "        Dense(256, activation='relu'),\n",
        "        Dropout(0.5),\n",
        "        Dense(num_classes, activation='softmax')\n",
        "    ])\n",
        "    model.compile(optimizer='adam', loss='categorical_crossentropy', metrics=['accuracy'])\n",
        "    return model\n",
        "\n",
        "# Create and train the complex CNN model\n",
        "input_shape = (X_train.shape[1], X_train.shape[2], X_train.shape[3])\n",
        "num_classes = y_train.shape[1]\n",
        "complex_cnn_model = create_complex_cnn_model(input_shape, num_classes)\n"
      ],
      "id": "b0f2f73ffb9956b7",
      "outputs": [],
      "execution_count": null
    },
    {
      "metadata": {
        "id": "463fef3e4c38ccdb"
      },
      "cell_type": "markdown",
      "source": [
        "### Step 4: Train and Evaluate the CNN\n"
      ],
      "id": "463fef3e4c38ccdb"
    },
    {
      "metadata": {
        "jupyter": {
          "is_executing": true
        },
        "ExecuteTime": {
          "start_time": "2024-05-30T06:45:25.232219Z"
        },
        "id": "24ac6f90c89fced1"
      },
      "cell_type": "code",
      "source": [
        "# Train the complex CNN model\n",
        "complex_cnn_model.fit(X_train, y_train, epochs=20, batch_size=32, validation_data=(X_val, y_val))\n",
        "\n",
        "# Evaluate the CNN model\n",
        "cnn_eval = complex_cnn_model.evaluate(X_val, y_val)\n",
        "print(f\"CNN Model Accuracy: {cnn_eval[1]}\")\n",
        "\n",
        "# Make predictions\n",
        "y_pred_cnn = complex_cnn_model.predict(X_val)\n",
        "y_pred_cnn_classes = np.argmax(y_pred_cnn, axis=1)\n",
        "y_val_classes = np.argmax(y_val, axis=1)\n",
        "\n",
        "# Print classification report\n",
        "print(\"CNN Classifier Report\")\n",
        "print(classification_report(y_val_classes, y_pred_cnn_classes, zero_division=0))\n",
        "\n",
        "# Plot confusion matrix for CNN\n",
        "plot_confusion_matrix(y_val_classes, y_pred_cnn_classes, labels, title='Confusion Matrix - CNN')\n"
      ],
      "id": "24ac6f90c89fced1",
      "outputs": [],
      "execution_count": null
    },
    {
      "metadata": {
        "id": "ed5251e29cef6c7f"
      },
      "cell_type": "markdown",
      "source": [
        "### Summary\n",
        "\n",
        "1. **Preprocess Audio Data**: Convert audio segments to Mel spectrograms.\n",
        "2. **Prepare Data**: Pad spectrograms to the same shape and split the data into training and validation sets.\n",
        "3. **Define CNN**: Use a more complex CNN architecture to handle the spectrogram data.\n",
        "4. **Train and Evaluate**: Train the CNN and evaluate its performance, then compare with the other classifiers.\n",
        "\n",
        "Run the above code step-by-step to see how the CNN performs with the spectrogram data. If you encounter any issues or need further adjustments, please let me know!"
      ],
      "id": "ed5251e29cef6c7f"
    },
    {
      "metadata": {
        "id": "87dac895cfaa0575"
      },
      "cell_type": "markdown",
      "source": [
        "## Variant: Spectrograms and Conv1D CNN\n",
        "\n",
        "1. **Prepare Data for Conv1D Model**: Ensure the data is in the right shape and format for the Conv1D model.\n",
        "2. **Define the Conv1D Model**: Use the provided Conv1D architecture.\n",
        "3. **Train and Evaluate the Conv1D Model**: Train the Conv1D model on the training data and evaluate its performance.\n",
        "\n",
        "### Step 1: Prepare Data for Conv1D Model\n",
        "\n",
        "The Conv1D model expects the data to have the shape `(num_samples, timesteps, features)`. Since we have spectrogram data, we can treat each column of the spectrogram as a timestep.\n"
      ],
      "id": "87dac895cfaa0575"
    },
    {
      "metadata": {
        "ExecuteTime": {
          "end_time": "2024-05-30T04:18:46.949218Z",
          "start_time": "2024-05-30T04:18:33.380233Z"
        },
        "id": "e62e9348974175c6"
      },
      "cell_type": "code",
      "source": [
        "import librosa\n",
        "import numpy as np\n",
        "from tensorflow.keras.utils import to_categorical\n",
        "\n",
        "# Function to extract spectrogram features\n",
        "def extract_spectrogram(segment, sr, n_mels=128, fmax=8000):\n",
        "    spectrogram = librosa.feature.melspectrogram(y=segment, sr=sr, n_mels=n_mels, fmax=fmax)\n",
        "    spectrogram_db = librosa.power_to_db(spectrogram, ref=np.max)\n",
        "    return spectrogram_db\n",
        "\n",
        "# Apply the spectrogram extraction to all segments\n",
        "spectrogram_data = []\n",
        "for file_name, command, segment, sr in all_segments:\n",
        "    spectrogram = extract_spectrogram(segment, sr)\n",
        "    spectrogram_data.append((file_name, command, spectrogram))\n",
        "\n",
        "# Determine the maximum shape for padding\n",
        "max_shape = max([s.shape for _, _, s in spectrogram_data], key=lambda x: x[1])\n",
        "print(f\"Maximum spectrogram shape: {max_shape}\")\n",
        "\n",
        "# Pad spectrograms to have the same shape\n",
        "padded_spectrograms = []\n",
        "for file_name, command, spectrogram in spectrogram_data:\n",
        "    pad_width = max_shape[1] - spectrogram.shape[1]\n",
        "    padded_spectrogram = np.pad(spectrogram, ((0, 0), (0, pad_width)), mode='constant')\n",
        "    padded_spectrograms.append((file_name, command, padded_spectrogram))\n",
        "\n",
        "# Convert to numpy arrays and reshape\n",
        "X_spectrogram = np.array([s for _, _, s in padded_spectrograms])\n",
        "X_spectrogram = X_spectrogram.transpose((0, 2, 1))  # Transpose to (num_samples, timesteps, n_mels)\n",
        "X_spectrogram = X_spectrogram[..., np.newaxis]  # Add channel dimension\n",
        "y_spectrogram = np.array([command for _, command, _ in padded_spectrograms])\n",
        "\n",
        "# Encode string labels to numeric labels\n",
        "y_encoded = label_encoder.transform(y_spectrogram)\n",
        "y_categorical = to_categorical(y_encoded)\n",
        "\n",
        "# Split data into training and validation sets\n",
        "X_train, X_val, y_train, y_val = train_test_split(X_spectrogram, y_categorical, test_size=0.2, random_state=42)\n",
        "\n",
        "# Print shapes for debugging\n",
        "print(f\"X_train shape: {X_train.shape}\")\n",
        "print(f\"X_val shape: {X_val.shape}\")\n",
        "print(f\"y_train shape: {y_train.shape}\")\n",
        "print(f\"y_val shape: {y_val.shape}\")\n"
      ],
      "id": "e62e9348974175c6",
      "outputs": [],
      "execution_count": null
    },
    {
      "metadata": {
        "id": "23681fa9cb36a8f0"
      },
      "cell_type": "markdown",
      "source": [
        "### Step 2: Define the Conv1D Model\n",
        "\n",
        "Use the provided Conv1D architecture:\n"
      ],
      "id": "23681fa9cb36a8f0"
    },
    {
      "metadata": {
        "ExecuteTime": {
          "end_time": "2024-05-30T04:19:16.635493Z",
          "start_time": "2024-05-30T04:19:16.554526Z"
        },
        "id": "3d3373d3d8bc42a1"
      },
      "cell_type": "code",
      "source": [
        "from tensorflow.keras.models import Sequential\n",
        "from tensorflow.keras.layers import Conv1D, MaxPooling1D, Flatten, Dense, Dropout, Input\n",
        "\n",
        "# Define the Conv1D model with Input layer\n",
        "input_shape = (X_train.shape[1], X_train.shape[2])\n",
        "\n",
        "model = Sequential([\n",
        "    Input(shape=input_shape),  # Use Input layer to define the input shape\n",
        "    # First Conv1D layer\n",
        "    Conv1D(filters=8, kernel_size=3, padding='valid', activation='relu', strides=1),\n",
        "    MaxPooling1D(pool_size=2),\n",
        "    Dropout(0.3),\n",
        "\n",
        "    # Second Conv1D layer\n",
        "    Conv1D(filters=16, kernel_size=3, padding='valid', activation='relu', strides=1),\n",
        "    MaxPooling1D(pool_size=2),\n",
        "    Dropout(0.3),\n",
        "\n",
        "    # Third Conv1D layer\n",
        "    Conv1D(filters=32, kernel_size=3, padding='valid', activation='relu', strides=1),\n",
        "    MaxPooling1D(pool_size=2),\n",
        "    Dropout(0.3),\n",
        "\n",
        "    # Fourth Conv1D layer\n",
        "    Conv1D(filters=64, kernel_size=3, padding='valid', activation='relu', strides=1),\n",
        "    MaxPooling1D(pool_size=2),\n",
        "    Dropout(0.3),\n",
        "\n",
        "    # Flatten layer\n",
        "    Flatten(),\n",
        "\n",
        "    # Dense Layer 1\n",
        "    Dense(256, activation='relu'),\n",
        "    Dropout(0.3),\n",
        "\n",
        "    # Dense Layer 2\n",
        "    Dense(128, activation='relu'),\n",
        "    Dropout(0.3),\n",
        "\n",
        "    # Output layer\n",
        "    Dense(num_classes, activation='softmax')\n",
        "])\n",
        "\n",
        "model.compile(optimizer='adam', loss='categorical_crossentropy', metrics=['accuracy'])\n",
        "\n",
        "# Print model summary for debugging\n",
        "model.summary()\n"
      ],
      "id": "3d3373d3d8bc42a1",
      "outputs": [],
      "execution_count": null
    },
    {
      "metadata": {
        "id": "1df1594a2b41af5b"
      },
      "cell_type": "markdown",
      "source": [
        "### Step 3: Train and Evaluate the Conv1D Model\n"
      ],
      "id": "1df1594a2b41af5b"
    },
    {
      "metadata": {
        "ExecuteTime": {
          "end_time": "2024-05-30T04:19:54.524356Z",
          "start_time": "2024-05-30T04:19:34.637476Z"
        },
        "id": "8e8606edbe9420e6"
      },
      "cell_type": "code",
      "source": [
        "# Train the Conv1D model\n",
        "model.fit(X_train, y_train, epochs=20, batch_size=32, validation_data=(X_val, y_val))\n",
        "\n",
        "# Evaluate the Conv1D model\n",
        "cnn_eval = model.evaluate(X_val, y_val)\n",
        "print(f\"Conv1D Model Accuracy: {cnn_eval[1]}\")\n",
        "\n",
        "# Make predictions\n",
        "y_pred_cnn = model.predict(X_val)\n",
        "y_pred_cnn_classes = np.argmax(y_pred_cnn, axis=1)\n",
        "y_val_classes = np.argmax(y_val, axis=1)\n",
        "\n",
        "# Print classification report\n",
        "print(\"Conv1D Classifier Report\")\n",
        "print(classification_report(y_val_classes, y_pred_cnn_classes, zero_division=0))\n",
        "\n",
        "# Plot confusion matrix for Conv1D\n",
        "plot_confusion_matrix(y_val_classes, y_pred_cnn_classes, labels, title='Confusion Matrix - Conv1D')\n"
      ],
      "id": "8e8606edbe9420e6",
      "outputs": [],
      "execution_count": null
    },
    {
      "metadata": {
        "id": "121f25d6ff3893b2"
      },
      "cell_type": "markdown",
      "source": [
        "### Summary\n",
        "\n",
        "1. **Prepare Data**: Reshape the spectrogram data for the Conv1D model.\n",
        "2. **Define Conv1D Model**: Use the provided Conv1D architecture.\n",
        "3. **Train and Evaluate**: Train the Conv1D model and evaluate its performance.\n",
        "\n",
        "Run the above code step-by-step to see how the Conv1D model performs with the spectrogram data. If you encounter any issues or need further adjustments, please let me know!"
      ],
      "id": "121f25d6ff3893b2"
    },
    {
      "metadata": {
        "ExecuteTime": {
          "end_time": "2024-05-30T04:20:19.852913Z",
          "start_time": "2024-05-30T04:20:19.831603Z"
        },
        "id": "354a29839e391ec1"
      },
      "cell_type": "code",
      "source": [
        "import pandas as pd\n",
        "\n",
        "# Load the CSV files\n",
        "scene_annotations_df = pd.read_csv(f'{data_dir}/development_scene_annotations.csv')\n",
        "scenes_df = pd.read_csv(f'{data_dir}/development_scenes.csv')\n",
        "\n",
        "# Check the head of the dataframes to understand their structure\n",
        "print(scene_annotations_df.head())\n",
        "print(scenes_df.head())\n",
        "\n",
        "# Check the distribution of labels in the annotations CSV\n",
        "label_distribution_annotations = scene_annotations_df['command'].value_counts()\n",
        "print(\"Label Distribution in development_scene_annotations.csv:\")\n",
        "print(label_distribution_annotations)\n",
        "\n",
        "# Check the distribution of speaker IDs in the scenes CSV\n",
        "label_distribution_scenes = scenes_df['speaker_id'].value_counts()\n",
        "print(\"Label Distribution in development_scenes.csv:\")\n",
        "print(label_distribution_scenes)\n"
      ],
      "id": "354a29839e391ec1",
      "outputs": [],
      "execution_count": null
    },
    {
      "metadata": {
        "id": "da885cc4757f4456"
      },
      "cell_type": "code",
      "source": [],
      "id": "da885cc4757f4456",
      "outputs": [],
      "execution_count": null
    }
  ],
  "metadata": {
    "kernelspec": {
      "display_name": "Python 3",
      "name": "python3"
    },
    "language_info": {
      "codemirror_mode": {
        "name": "ipython",
        "version": 2
      },
      "file_extension": ".py",
      "mimetype": "text/x-python",
      "name": "python",
      "nbconvert_exporter": "python",
      "pygments_lexer": "ipython2",
      "version": "2.7.6"
    },
    "colab": {
      "provenance": [],
      "include_colab_link": true
    }
  },
  "nbformat": 4,
  "nbformat_minor": 5
}