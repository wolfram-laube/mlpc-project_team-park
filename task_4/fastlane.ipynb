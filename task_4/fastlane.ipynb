{
  "cells": [
    {
      "cell_type": "markdown",
      "metadata": {
        "id": "view-in-github",
        "colab_type": "text"
      },
      "source": [
        "<a href=\"https://colab.research.google.com/github/wolfram-laube/mlpc-project_team-park/blob/wl/task_4/fastlane.ipynb\" target=\"_parent\"><img src=\"https://colab.research.google.com/assets/colab-badge.svg\" alt=\"Open In Colab\"/></a>"
      ]
    },
    {
      "cell_type": "markdown",
      "source": [
        "### Preparation: Distiguish Environment and Establish Prerequisites\n",
        "\n"
      ],
      "metadata": {
        "id": "82Q7nNG0dLq5"
      },
      "id": "82Q7nNG0dLq5"
    },
    {
      "cell_type": "markdown",
      "source": [
        "#### Libraries With Specific Handling"
      ],
      "metadata": {
        "id": "fBfYdrNQqfh8"
      },
      "id": "fBfYdrNQqfh8"
    },
    {
      "cell_type": "code",
      "source": [
        "import os\n",
        "import sys\n",
        "\n",
        "def is_colab():\n",
        "    try:\n",
        "        import google.colab\n",
        "        return True\n",
        "    except ImportError:\n",
        "        return False\n",
        "\n",
        "if is_colab():\n",
        "    # Installation script for Google Colab\n",
        "    print(\"Running in Google Colab. Installing RAPIDS...\")\n",
        "    !nvidia-smi\n",
        "    !git clone https://github.com/rapidsai/rapidsai-csp-utils.git\n",
        "    !bash rapidsai-csp-utils/colab/rapids-colab.sh 23.02\n",
        "    sys.path.append('/usr/local/lib/python3.8/site-packages/')\n",
        "else:\n",
        "    # Local machine setup\n",
        "    print(\"Running on local machine. Checking cuml installation...\")\n",
        "    try:\n",
        "        import cuml\n",
        "        print(\"cuml is already installed.\")\n",
        "    except ImportError:\n",
        "        # Adapt these commands to your local environment\n",
        "        print(\"Installing cuml locally using conda...\")\n",
        "        !conda create -n rapids -c rapidsai -c nvidia -c conda-forge cuml=23.02 python=3.8 cudatoolkit=11.2 -y\n",
        "        !conda activate rapids\n",
        "        sys.path.append('/path/to/conda/env/lib/python3.X/site-packages/')\n",
        "\n",
        "# Example imports for RAPIDS libraries\n",
        "try:\n",
        "    import cuml\n",
        "    import cudf\n",
        "    print(\"cuML version: \", cuml.__version__)\n",
        "    print(\"cuDF version: \", cudf.__version__)\n",
        "except ImportError as e:\n",
        "    print(e)\n",
        "    print(\"Failed to import RAPIDS libraries. Check installation steps.\")"
      ],
      "metadata": {
        "id": "8tOJ8X_OqmED",
        "outputId": "c6c88ab0-38af-45aa-b854-bf79e0caa651",
        "colab": {
          "base_uri": "https://localhost:8080/"
        }
      },
      "id": "8tOJ8X_OqmED",
      "execution_count": null,
      "outputs": [
        {
          "output_type": "stream",
          "name": "stdout",
          "text": [
            "Running in Google Colab. Installing RAPIDS...\n",
            "Thu May 30 13:22:52 2024       \n",
            "+---------------------------------------------------------------------------------------+\n",
            "| NVIDIA-SMI 535.104.05             Driver Version: 535.104.05   CUDA Version: 12.2     |\n",
            "|-----------------------------------------+----------------------+----------------------+\n",
            "| GPU  Name                 Persistence-M | Bus-Id        Disp.A | Volatile Uncorr. ECC |\n",
            "| Fan  Temp   Perf          Pwr:Usage/Cap |         Memory-Usage | GPU-Util  Compute M. |\n",
            "|                                         |                      |               MIG M. |\n",
            "|=========================================+======================+======================|\n",
            "|   0  Tesla T4                       Off | 00000000:00:04.0 Off |                    0 |\n",
            "| N/A   46C    P0              27W /  70W |   1953MiB / 15360MiB |      0%      Default |\n",
            "|                                         |                      |                  N/A |\n",
            "+-----------------------------------------+----------------------+----------------------+\n",
            "                                                                                         \n",
            "+---------------------------------------------------------------------------------------+\n",
            "| Processes:                                                                            |\n",
            "|  GPU   GI   CI        PID   Type   Process name                            GPU Memory |\n",
            "|        ID   ID                                                             Usage      |\n",
            "|=======================================================================================|\n",
            "+---------------------------------------------------------------------------------------+\n",
            "Cloning into 'rapidsai-csp-utils'...\n",
            "remote: Enumerating objects: 481, done.\u001b[K\n",
            "remote: Counting objects: 100% (212/212), done.\u001b[K\n",
            "remote: Compressing objects: 100% (121/121), done.\u001b[K\n",
            "remote: Total 481 (delta 143), reused 124 (delta 91), pack-reused 269\u001b[K\n",
            "Receiving objects: 100% (481/481), 133.58 KiB | 2.19 MiB/s, done.\n",
            "Resolving deltas: 100% (245/245), done.\n",
            "PLEASE READ FOR 21.06\n",
            "********************************************************************************************************\n",
            "Another release, another script change.  We had to revise the script, which now:\n",
            "1. Does a more comprehensive install\n",
            "2. Includes BlazingSQL\n",
            "3. is far easier for everyone to understand and maintain\n",
            "\n",
            "The script will require you to add these 5 cells to your notebook.  We have also created a new startup template: \n",
            "https://colab.research.google.com/drive/1TAAi_szMfWqRfHVfjGSqnGVLr_ztzUM9?usp=sharing\n",
            "\n",
            "CHANGES T\n",
            "CELL 1:\n",
            "    # This get the RAPIDS-Colab install files and test check your GPU.  Run cells 1 and 2 only.\n",
            "    # Please read the output of this cell.  If your Colab Instance is not RAPIDS compatible, it will warn you and give you remediation steps.\n",
            "    !git clone https://github.com/rapidsai/rapidsai-csp-utils.git\n",
            "    !python rapidsai-csp-utils/colab/env-check.py\n",
            "\n",
            "CELL 2:\n",
            "    # This will update the Colab environment and restart the kernel.\n",
            "    !bash rapidsai-csp-utils/colab/update_gcc.sh\n",
            "    import os\n",
            "    os._exit(00)\n",
            "\n",
            "CELL 3:\n",
            "    ## Installing CondaColab.  This will restart your kernel again\n",
            "    import condacolab\n",
            "    condacolab.install()\n",
            "\n",
            "CELL 4:\n",
            "    import condacolab\n",
            "    condacolab.check()\n",
            "\n",
            "CELL 5:\n",
            "    # Installing RAPIDS is now 'python rapidsai-csp-utils/colab/install_rapids.py <release> <packages>'\n",
            "    # The <release> options are 'stable' and 'nightly'.  Leaving it blank or adding any other words will default to stable.\n",
            "    # The <packages> option are default blank or 'core'.  By default, we install RAPIDSAI and BlazingSQL.  The 'core' option will install only RAPIDSAI and not include BlazingSQL, \n",
            "    !python rapidsai-csp-utils/colab/install_rapids.py nightly\n",
            "    import os\n",
            "    os.environ['NUMBAPRO_NVVM'] = '/usr/local/cuda/nvvm/lib64/libnvvm.so'\n",
            "    os.environ['NUMBAPRO_LIBDEVICE'] = '/usr/local/cuda/nvvm/libdevice/'\n",
            "    os.environ['CONDA_PREFIX'] = '/usr/local'\n",
            "\n",
            "********************************************************************************************************\n",
            "\n",
            "Enjoy using RAPIDS!  If you have any issues with or suggestions for RAPIDSAI on Colab, please create a issue on https://github.com/rapidsai/rapidsai-csp-utils/issues/new.\n",
            "No module named 'cuml'\n",
            "Failed to import RAPIDS libraries. Check installation steps.\n"
          ]
        }
      ]
    },
    {
      "cell_type": "markdown",
      "source": [
        "#### Setup Folder Structure"
      ],
      "metadata": {
        "id": "tC4gjz1j8pY6"
      },
      "id": "tC4gjz1j8pY6"
    },
    {
      "cell_type": "code",
      "source": [
        "import os\n",
        "import sys\n",
        "import shutil\n",
        "\n",
        "# Check if the environment is Google Colab\n",
        "try:\n",
        "    import google.colab\n",
        "    IN_COLAB = True\n",
        "except ImportError:\n",
        "    IN_COLAB = False\n",
        "\n",
        "if IN_COLAB:\n",
        "    # If in Google Colab\n",
        "    from google.colab import drive\n",
        "    import gdown\n",
        "\n",
        "    # Option 1: Download the file by its public link and expand it to the Colab runtime\n",
        "    import urllib.request\n",
        "    import zipfile\n",
        "\n",
        "    wavzip_file_id = '1oI1EsH1krrEPbH9MSZRzLHu-_4p6-njR' # https://drive.google.com/file/d/1oI1EsH1krrEPbH9MSZRzLHu-_4p6-njR/view?usp=sharing\n",
        "    npyzip_file_id = '1oKgurvIgT93RGkxvxq8AA423VKlEVT7O' # https://drive.google.com/file/d/1oKgurvIgT93RGkxvxq8AA423VKlEVT7O/view?usp=sharing\n",
        "    annotation_file_id = '1xLxget7c5nCkwYt9Ru2RpYi5rMkk_pl0'  # https://drive.google.com/file/d/1xLxget7c5nCkwYt9Ru2RpYi5rMkk_pl0/view?usp=sharing\n",
        "    scenes_file_id = '1xLgB7-cCz6nReyQbFJJcJGOUKCCbNhCG'  # https://drive.google.com/file/d/1xLgB7-cCz6nReyQbFJJcJGOUKCCbNhCG/view?usp=sharing\n",
        "\n",
        "    wavzip_url = f'https://drive.google.com/uc?id={wavzip_file_id}'\n",
        "    npyzip_url = f'https://drive.google.com/uc?id={npyzip_file_id}'\n",
        "    annotation_url = f'https://drive.google.com/uc?id={annotation_file_id}'\n",
        "    scenes_url = f'https://drive.google.com/uc?id={scenes_file_id}'\n",
        "\n",
        "    wavzip_path = '/content/training_data.zip'\n",
        "    npyzip_path = '/content/training_feat.zip'\n",
        "    data_dir = '/content/dataset'\n",
        "    scenes_dir = f'{data_dir}/scenes'\n",
        "    words_dir = f'{data_dir}/words'\n",
        "    scenes_wav_dir = f'{scenes_dir}/wav'\n",
        "    scenes_npy_dir = f'{scenes_dir}/npy'\n",
        "\n",
        "    # Download the WAVZIP file\n",
        "    #urllib.request.urlretrieve(wavzip_url, wavzip_path)\n",
        "    gdown.download(wavzip_url, wavzip_path, quiet=False)\n",
        "\n",
        "    # Unzip the file\n",
        "    with zipfile.ZipFile(wavzip_path, 'r') as zip_ref:\n",
        "        zip_ref.extractall(data_dir)\n",
        "\n",
        "    print(f\"Training data extracted to {data_dir}\")\n",
        "\n",
        "     # Create the 'scenes/wav' folder structure\n",
        "    os.makedirs(scenes_wav_dir, exist_ok=True)\n",
        "\n",
        "    # Copy .wav files to 'scenes/wav'\n",
        "    extracted_scenes_dir = os.path.join(data_dir, 'mlpc24_speech_commands', 'scenes')\n",
        "    for root, dirs, files in os.walk(extracted_scenes_dir):\n",
        "        for file in files:\n",
        "            if file.endswith('.wav'):\n",
        "                src_path = os.path.join(root, file)\n",
        "                dst_path = os.path.join(scenes_wav_dir, file)\n",
        "                shutil.copy(src_path, dst_path)\n",
        "\n",
        "    print(f\".wav files moved to {scenes_wav_dir}\")\n",
        "\n",
        "    # Download the NPYZIP file\n",
        "    #urllib.request.urlretrieve(npyzip_url, npyzip_path)\n",
        "    gdown.download(npyzip_url, npyzip_path, quiet=False)\n",
        "\n",
        "    # Unzip the file\n",
        "    with zipfile.ZipFile(npyzip_path, 'r') as zip_ref:\n",
        "        zip_ref.extractall(data_dir)\n",
        "\n",
        "    print(f\"Training features extracted to {data_dir}\")\n",
        "\n",
        "     # Create the 'scenes/npy' folder structure\n",
        "    os.makedirs(scenes_npy_dir, exist_ok=True)\n",
        "\n",
        "    # Copy .npy files to 'scenes/npy'\n",
        "    extracted_scenes_dir = os.path.join(data_dir, 'development_scenes')\n",
        "    for root, dirs, files in os.walk(extracted_scenes_dir):\n",
        "        for file in files:\n",
        "            if file.endswith('.npy'):\n",
        "                src_path = os.path.join(root, file)\n",
        "                dst_path = os.path.join(scenes_npy_dir, file)\n",
        "                shutil.copy(src_path, dst_path)\n",
        "\n",
        "    print(f\".npy files moved to {scenes_npy_dir}\")\n",
        "\n",
        "    # Download the CSV files into the data_dir\n",
        "    annotation_orig_path = os.path.join(data_dir, 'development_scene_annotations.csv.orig') # Keep a bckup copy because it needs fixing\n",
        "    annotation_path = os.path.join(data_dir, 'development_scene_annotations.csv')\n",
        "    scenes_path = os.path.join(data_dir, 'development_scenes.csv')\n",
        "\n",
        "    gdown.download(annotation_url, annotation_orig_path, quiet=False)\n",
        "    gdown.download(annotation_url, annotation_path, quiet=False)\n",
        "    gdown.download(scenes_url, scenes_path, quiet=False)\n",
        "\n",
        "    print(f\"CSV files downloaded to {scenes_dir}\")\n",
        "\n",
        "    # Option 2: Mount Google Drive and use the training data\n",
        "    # Note this really takes some time for preprocessing file by file\n",
        "    #drive.mount('/content/drive')\n",
        "    #data_dir = '/content/drive/My Drive/Dropbox/public/mlpc/dataset'\n",
        "\n",
        "    # Use this option to read from Google Drive instead\n",
        "    #print(f\"Using training data from {data_dir}\")\n",
        "else:\n",
        "    # If on local machine\n",
        "    data_dir = '../dataset'\n",
        "    print(f\"Using local training data from {data_dir}\")\n",
        "\n",
        "# Use the data_dir variable as the path to your training data"
      ],
      "metadata": {
        "colab": {
          "base_uri": "https://localhost:8080/"
        },
        "id": "D5QPan2S6YS_",
        "outputId": "95eed273-a0d0-4a7e-f04a-896defd56af3"
      },
      "id": "D5QPan2S6YS_",
      "execution_count": 5,
      "outputs": [
        {
          "output_type": "stream",
          "name": "stderr",
          "text": [
            "Downloading...\n",
            "From (original): https://drive.google.com/uc?id=1oI1EsH1krrEPbH9MSZRzLHu-_4p6-njR\n",
            "From (redirected): https://drive.google.com/uc?id=1oI1EsH1krrEPbH9MSZRzLHu-_4p6-njR&confirm=t&uuid=34ec30b8-67d2-4282-ab22-774ce6fd5f3b\n",
            "To: /content/training_data.zip\n",
            "100%|██████████| 305M/305M [00:13<00:00, 23.3MB/s]\n"
          ]
        },
        {
          "output_type": "stream",
          "name": "stdout",
          "text": [
            "Training data extracted to /content/dataset\n",
            ".wav files moved to /content/dataset/scenes/wav\n"
          ]
        },
        {
          "output_type": "stream",
          "name": "stderr",
          "text": [
            "Downloading...\n",
            "From (original): https://drive.google.com/uc?id=1oKgurvIgT93RGkxvxq8AA423VKlEVT7O\n",
            "From (redirected): https://drive.google.com/uc?id=1oKgurvIgT93RGkxvxq8AA423VKlEVT7O&confirm=t&uuid=929b0f75-4d73-4103-be44-3b79bb387612\n",
            "To: /content/training_feat.zip\n",
            "100%|██████████| 422M/422M [00:12<00:00, 34.2MB/s]\n"
          ]
        },
        {
          "output_type": "stream",
          "name": "stdout",
          "text": [
            "Training features extracted to /content/dataset\n",
            ".npy files moved to /content/dataset/scenes/npy\n"
          ]
        },
        {
          "output_type": "stream",
          "name": "stderr",
          "text": [
            "Downloading...\n",
            "From: https://drive.google.com/uc?id=1xLxget7c5nCkwYt9Ru2RpYi5rMkk_pl0\n",
            "To: /content/dataset/development_scene_annotations.csv.orig\n",
            "100%|██████████| 70.4k/70.4k [00:00<00:00, 60.1MB/s]\n",
            "Downloading...\n",
            "From: https://drive.google.com/uc?id=1xLxget7c5nCkwYt9Ru2RpYi5rMkk_pl0\n",
            "To: /content/dataset/development_scene_annotations.csv\n",
            "100%|██████████| 70.4k/70.4k [00:00<00:00, 53.0MB/s]\n",
            "Downloading...\n",
            "From: https://drive.google.com/uc?id=1xLgB7-cCz6nReyQbFJJcJGOUKCCbNhCG\n",
            "To: /content/dataset/development_scenes.csv\n",
            "100%|██████████| 29.5k/29.5k [00:00<00:00, 32.4MB/s]"
          ]
        },
        {
          "output_type": "stream",
          "name": "stdout",
          "text": [
            "CSV files downloaded to /content/dataset/scenes\n"
          ]
        },
        {
          "output_type": "stream",
          "name": "stderr",
          "text": [
            "\n"
          ]
        }
      ]
    },
    {
      "cell_type": "markdown",
      "source": [
        "#### Fix Erreneous Metadata\n",
        "\n",
        "##### Before"
      ],
      "metadata": {
        "id": "Z5urRfewdki_"
      },
      "id": "Z5urRfewdki_"
    },
    {
      "metadata": {
        "ExecuteTime": {
          "end_time": "2024-05-30T04:20:19.852913Z",
          "start_time": "2024-05-30T04:20:19.831603Z"
        },
        "outputId": "39cf3e2c-9096-4658-a5d6-491e239527e7",
        "colab": {
          "base_uri": "https://localhost:8080/"
        },
        "id": "Qb8qkrK2eFtL"
      },
      "cell_type": "code",
      "source": [
        "import pandas as pd\n",
        "\n",
        "# Load the CSV files\n",
        "scene_annotations_df = pd.read_csv(f'{data_dir}/development_scene_annotations.csv')\n",
        "scenes_df = pd.read_csv(f'{data_dir}/development_scenes.csv')\n",
        "\n",
        "# Check the head of the dataframes to understand their structure\n",
        "print(scene_annotations_df.head())\n",
        "print(scenes_df.head())\n",
        "\n",
        "# Check the distribution of labels in the annotations CSV\n",
        "label_distribution_annotations = scene_annotations_df['command'].value_counts()\n",
        "print(\"Label Distribution in development_scene_annotations.csv:\")\n",
        "print(label_distribution_annotations)\n",
        "\n",
        "# Check the distribution of speaker IDs in the scenes CSV\n",
        "label_distribution_scenes = scenes_df['speaker_id'].value_counts()\n",
        "print(\"Label Distribution in development_scenes.csv:\")\n",
        "print(label_distribution_scenes)\n"
      ],
      "outputs": [
        {
          "output_type": "stream",
          "name": "stdout",
          "text": [
            "                        filename         command     start       end\n",
            "0         2_speech_true_Ofen_aus        Ofen aus  11.25230  12.07747\n",
            "1         3_speech_true_Radio_an  Staubsauger an  21.48040  23.18083\n",
            "2         4_speech_true_Alarm_an        Alarm an  14.45720  16.08301\n",
            "3        9_speech_true_Radio_aus  Staubsauger an   3.67909   5.63126\n",
            "4  11_speech_false_Fernseher_aus  Staubsauger an  10.57850  11.67886\n",
            "                        filename  speaker_id\n",
            "0         2_speech_true_Ofen_aus         132\n",
            "1         3_speech_true_Radio_an         132\n",
            "2         4_speech_true_Alarm_an         132\n",
            "3        9_speech_true_Radio_aus         132\n",
            "4  11_speech_false_Fernseher_aus         132\n",
            "Label Distribution in development_scene_annotations.csv:\n",
            "command\n",
            "Staubsauger an     288\n",
            "Licht aus           77\n",
            "Licht an            64\n",
            "Alarm an            56\n",
            "Fernseher an        56\n",
            "Heizung an          55\n",
            "Heizung aus         54\n",
            "Radio aus           53\n",
            "Radio an            52\n",
            "Ofen aus            49\n",
            "Alarm aus           47\n",
            "Lüftung an          46\n",
            "Staubsauger aus     43\n",
            "Lüftung aus         43\n",
            "Ofen an             41\n",
            "Fernseher aus       41\n",
            "Name: count, dtype: int64\n",
            "Label Distribution in development_scenes.csv:\n",
            "speaker_id\n",
            "132    244\n",
            "94       8\n",
            "240      8\n",
            "196      7\n",
            "223      7\n",
            "      ... \n",
            "233      1\n",
            "111      1\n",
            "189      1\n",
            "228      1\n",
            "105      1\n",
            "Name: count, Length: 166, dtype: int64\n"
          ]
        }
      ],
      "execution_count": 6,
      "id": "Qb8qkrK2eFtL"
    },
    {
      "cell_type": "markdown",
      "source": [
        "##### Fix"
      ],
      "metadata": {
        "id": "y3zuKsxReQCO"
      },
      "id": "y3zuKsxReQCO"
    },
    {
      "cell_type": "code",
      "source": [
        "import os\n",
        "import re\n",
        "import shutil\n",
        "import pandas as pd\n",
        "\n",
        "# Paths to the original and working copy files\n",
        "original_file_path = f'{data_dir}/development_scene_annotations.csv.orig'\n",
        "working_copy_path = f'{data_dir}/development_scene_annotations.csv.0'\n",
        "corrected_file_path = f'{data_dir}/development_scene_annotations.csv'\n",
        "\n",
        "# Step 1: Create a working copy of the original file\n",
        "shutil.copy(original_file_path, working_copy_path)\n",
        "\n",
        "# Step 2: Load the working copy into a DataFrame\n",
        "df = pd.read_csv(working_copy_path)\n",
        "\n",
        "# Define the pattern to parse the filename\n",
        "filename_pattern = re.compile(r'(\\d+)_speech_(true|false)_((?:[a-zA-ZäöüÄÖÜß]+_(?:an|aus)_?)+)', re.UNICODE)\n",
        "\n",
        "# Function to parse filename and extract commands\n",
        "def parse_filename(filename):\n",
        "    match = filename_pattern.match(filename)\n",
        "    if not match:\n",
        "        return []\n",
        "\n",
        "    commands_str = match.group(3)\n",
        "    commands = commands_str.split('_')\n",
        "\n",
        "    command_list = []\n",
        "    for i in range(0, len(commands), 2):\n",
        "        command_list.append(f\"{commands[i]} {commands[i+1]}\")\n",
        "\n",
        "    return command_list\n",
        "\n",
        "# Parse the commands from filenames and add to the DataFrame\n",
        "df['parsed_commands'] = df['filename'].apply(parse_filename)\n",
        "\n",
        "# Step 3: Group by filename and sort by start time\n",
        "grouped = df.groupby('filename').apply(lambda x: x.sort_values(by='start')).reset_index(drop=True)\n",
        "\n",
        "# Step 4: Assign the correct labels based on the order of commands in the filename\n",
        "def assign_labels(group):\n",
        "    commands = group['parsed_commands'].iloc[0]  # get the parsed commands from the first row\n",
        "    group = group.reset_index(drop=True)\n",
        "    for i in range(len(group)):\n",
        "        if i < len(commands):\n",
        "            group.at[i, 'command'] = commands[i]\n",
        "        else:\n",
        "            print(f\"Warning: More segments than commands in {group['filename'].iloc[0]}\")\n",
        "    return group\n",
        "\n",
        "# Apply the label assignment function\n",
        "corrected_df = grouped.groupby('filename').apply(assign_labels).reset_index(drop=True)\n",
        "\n",
        "# Drop the temporary column\n",
        "corrected_df = corrected_df.drop(columns=['parsed_commands'])\n",
        "\n",
        "# Step 5: Save the corrected DataFrame to a new CSV file\n",
        "corrected_df.to_csv(corrected_file_path, index=False)\n",
        "\n",
        "# Verify the saved corrections\n",
        "print(\"Label corrections applied and saved successfully.\")\n",
        "print(corrected_df.head())\n"
      ],
      "metadata": {
        "colab": {
          "base_uri": "https://localhost:8080/"
        },
        "id": "r4hi4RZIeSBq",
        "outputId": "bbff6336-624d-4754-b20f-09454f9cf495"
      },
      "id": "r4hi4RZIeSBq",
      "execution_count": 7,
      "outputs": [
        {
          "output_type": "stream",
          "name": "stdout",
          "text": [
            "Label corrections applied and saved successfully.\n",
            "                        filename       command     start       end\n",
            "0    1003_speech_false_Licht_aus     Licht aus  12.20090  13.57599\n",
            "1       1008_speech_true_Ofen_an       Ofen an   6.90112   8.52638\n",
            "2      1010_speech_true_Radio_an      Radio an  13.03100  14.03146\n",
            "3  1011_speech_true_Fernseher_an  Fernseher an  14.11030  15.36121\n",
            "4   1012_speech_true_Heizung_aus   Heizung aus  11.20520  12.70590\n"
          ]
        }
      ]
    },
    {
      "cell_type": "markdown",
      "source": [
        "##### After"
      ],
      "metadata": {
        "id": "o-KsrK3sdu46"
      },
      "id": "o-KsrK3sdu46"
    },
    {
      "metadata": {
        "ExecuteTime": {
          "end_time": "2024-05-30T04:20:19.852913Z",
          "start_time": "2024-05-30T04:20:19.831603Z"
        },
        "outputId": "dbb3156a-17e3-4ac0-bad0-f081e7bb1d60",
        "colab": {
          "base_uri": "https://localhost:8080/"
        },
        "id": "NFuZo2CxeJxR"
      },
      "cell_type": "code",
      "source": [
        "import pandas as pd\n",
        "\n",
        "# Load the CSV files\n",
        "scene_annotations_df = pd.read_csv(f'{data_dir}/development_scene_annotations.csv')\n",
        "scenes_df = pd.read_csv(f'{data_dir}/development_scenes.csv')\n",
        "\n",
        "# Check the head of the dataframes to understand their structure\n",
        "print(scene_annotations_df.head())\n",
        "print(scenes_df.head())\n",
        "\n",
        "# Check the distribution of labels in the annotations CSV\n",
        "label_distribution_annotations = scene_annotations_df['command'].value_counts()\n",
        "print(\"Label Distribution in development_scene_annotations.csv:\")\n",
        "print(label_distribution_annotations)\n",
        "\n",
        "# Check the distribution of speaker IDs in the scenes CSV\n",
        "label_distribution_scenes = scenes_df['speaker_id'].value_counts()\n",
        "print(\"Label Distribution in development_scenes.csv:\")\n",
        "print(label_distribution_scenes)\n"
      ],
      "outputs": [
        {
          "output_type": "stream",
          "name": "stdout",
          "text": [
            "                        filename       command     start       end\n",
            "0    1003_speech_false_Licht_aus     Licht aus  12.20090  13.57599\n",
            "1       1008_speech_true_Ofen_an       Ofen an   6.90112   8.52638\n",
            "2      1010_speech_true_Radio_an      Radio an  13.03100  14.03146\n",
            "3  1011_speech_true_Fernseher_an  Fernseher an  14.11030  15.36121\n",
            "4   1012_speech_true_Heizung_aus   Heizung aus  11.20520  12.70590\n",
            "                        filename  speaker_id\n",
            "0         2_speech_true_Ofen_aus         132\n",
            "1         3_speech_true_Radio_an         132\n",
            "2         4_speech_true_Alarm_an         132\n",
            "3        9_speech_true_Radio_aus         132\n",
            "4  11_speech_false_Fernseher_aus         132\n",
            "Label Distribution in development_scene_annotations.csv:\n",
            "command\n",
            "Licht aus          86\n",
            "Licht an           78\n",
            "Heizung an         76\n",
            "Fernseher an       74\n",
            "Radio aus          69\n",
            "Heizung aus        67\n",
            "Alarm an           66\n",
            "Radio an           65\n",
            "Lüftung aus        64\n",
            "Ofen aus           64\n",
            "Ofen an            63\n",
            "Staubsauger an     63\n",
            "Lüftung an         63\n",
            "Alarm aus          62\n",
            "Staubsauger aus    56\n",
            "Fernseher aus      49\n",
            "Name: count, dtype: int64\n",
            "Label Distribution in development_scenes.csv:\n",
            "speaker_id\n",
            "132    244\n",
            "94       8\n",
            "240      8\n",
            "196      7\n",
            "223      7\n",
            "      ... \n",
            "233      1\n",
            "111      1\n",
            "189      1\n",
            "228      1\n",
            "105      1\n",
            "Name: count, Length: 166, dtype: int64\n"
          ]
        }
      ],
      "execution_count": 8,
      "id": "NFuZo2CxeJxR"
    },
    {
      "cell_type": "markdown",
      "source": [
        "#### Determine CPU/GPU"
      ],
      "metadata": {
        "id": "9d-W4WAwgbiW"
      },
      "id": "9d-W4WAwgbiW"
    },
    {
      "cell_type": "code",
      "source": [
        "# Function to check if GPU is available\n",
        "#def is_gpu_available():\n",
        "#    try:\n",
        "#        result = subprocess.run(['nvidia-smi'], stdout=subprocess.PIPE, stderr=subprocess.PIPE)\n",
        "#        return result.returncode == 0\n",
        "#    except FileNotFoundError:\n",
        "#        return False\n",
        "\n",
        "def is_gpu_available():\n",
        "    try:\n",
        "        import torch\n",
        "        return torch.cuda.is_available()\n",
        "    except ImportError:\n",
        "        pass\n",
        "\n",
        "    try:\n",
        "        import tensorflow as tf\n",
        "        return tf.config.list_physical_devices('GPU') != []\n",
        "    except ImportError:\n",
        "        pass\n",
        "\n",
        "    return False"
      ],
      "metadata": {
        "id": "NeaPanRJggBj"
      },
      "id": "NeaPanRJggBj",
      "execution_count": 9,
      "outputs": []
    },
    {
      "metadata": {
        "id": "ba82ea33563f3f64"
      },
      "cell_type": "markdown",
      "source": [
        "### Step 1: Data Preprocessing\n",
        "\n",
        "#### Load Metadata and Annotations\n"
      ],
      "id": "ba82ea33563f3f64"
    },
    {
      "metadata": {
        "ExecuteTime": {
          "end_time": "2024-05-30T00:00:31.184808Z",
          "start_time": "2024-05-30T00:00:31.093161Z"
        },
        "colab": {
          "base_uri": "https://localhost:8080/"
        },
        "id": "e38ffe7b352698c0",
        "outputId": "513df64d-a1f6-478e-f991-ffbcbd42f028"
      },
      "cell_type": "code",
      "source": [
        "import pandas as pd\n",
        "\n",
        "# Define file paths\n",
        "metadata_file = f'{data_dir}/development_scenes.csv'\n",
        "annotations_file = f'{data_dir}/development_scene_annotations.csv'\n",
        "\n",
        "# Load the CSV files\n",
        "metadata = pd.read_csv(metadata_file)\n",
        "annotations = pd.read_csv(annotations_file)\n",
        "\n",
        "print(\"Metadata:\")\n",
        "print(metadata.head())\n",
        "print(\"\\nAnnotations:\")\n",
        "print(annotations.head())\n"
      ],
      "id": "e38ffe7b352698c0",
      "outputs": [
        {
          "output_type": "stream",
          "name": "stdout",
          "text": [
            "Metadata:\n",
            "                        filename  speaker_id\n",
            "0         2_speech_true_Ofen_aus         132\n",
            "1         3_speech_true_Radio_an         132\n",
            "2         4_speech_true_Alarm_an         132\n",
            "3        9_speech_true_Radio_aus         132\n",
            "4  11_speech_false_Fernseher_aus         132\n",
            "\n",
            "Annotations:\n",
            "                        filename       command     start       end\n",
            "0    1003_speech_false_Licht_aus     Licht aus  12.20090  13.57599\n",
            "1       1008_speech_true_Ofen_an       Ofen an   6.90112   8.52638\n",
            "2      1010_speech_true_Radio_an      Radio an  13.03100  14.03146\n",
            "3  1011_speech_true_Fernseher_an  Fernseher an  14.11030  15.36121\n",
            "4   1012_speech_true_Heizung_aus   Heizung aus  11.20520  12.70590\n"
          ]
        }
      ],
      "execution_count": 10
    },
    {
      "metadata": {
        "id": "e1fc52558ddb0d5c"
      },
      "cell_type": "markdown",
      "source": [
        "#### Preprocess Audio Files (WAV) and Perform ICA\n"
      ],
      "id": "e1fc52558ddb0d5c"
    },
    {
      "metadata": {
        "ExecuteTime": {
          "end_time": "2024-05-30T06:26:08.372474Z",
          "start_time": "2024-05-30T06:25:50.615186Z"
        },
        "colab": {
          "base_uri": "https://localhost:8080/"
        },
        "id": "624c6bca8adc3478",
        "outputId": "5605a349-fc3b-4d79-e2a0-5a012738c2cf"
      },
      "cell_type": "code",
      "source": [
        "import os\n",
        "import librosa\n",
        "from sklearn.preprocessing import StandardScaler\n",
        "from sklearn.decomposition import FastICA\n",
        "import numpy as np\n",
        "from IPython.display import Audio\n",
        "\n",
        "# Define directories\n",
        "scenes_wav_dir = f'{data_dir}/scenes/wav'  # Update this path\n",
        "\n",
        "# Function to load and preprocess audio\n",
        "def load_and_preprocess_audio(file_path):\n",
        "    audio, sr = librosa.load(file_path, sr=None)\n",
        "    scaler = StandardScaler()\n",
        "    audio = scaler.fit_transform(audio.reshape(-1, 1)).flatten()\n",
        "\n",
        "    ica = FastICA(n_components=1, whiten='unit-variance')\n",
        "    audio = ica.fit_transform(audio.reshape(-1, 1)).flatten()\n",
        "\n",
        "    return audio, sr\n",
        "\n",
        "# Function to segment audio based on annotations\n",
        "def segment_audio(audio, sr, start, end):\n",
        "    start_sample = int(start * sr)\n",
        "    end_sample = int(end * sr)\n",
        "    return audio[start_sample:end_sample]\n",
        "\n",
        "# Preprocess and segment all audio files\n",
        "preprocessed_segments = []\n",
        "\n",
        "for idx, row in annotations.iterrows():\n",
        "    file_name = row['filename']\n",
        "    command = row['command']\n",
        "    start = row['start']\n",
        "    end = row['end']\n",
        "\n",
        "    file_path = os.path.join(scenes_wav_dir, file_name + '.wav')\n",
        "\n",
        "    try:\n",
        "        audio, sr = load_and_preprocess_audio(file_path)\n",
        "        segment = segment_audio(audio, sr, start, end)\n",
        "        preprocessed_segments.append((file_name, command, segment, sr))\n",
        "    except Exception as e:\n",
        "        print(f\"Error processing file {file_path}: {e}\")\n",
        "\n",
        "# Example: display the first segment\n",
        "print(f\"First segment: {preprocessed_segments[0]}\")\n"
      ],
      "id": "624c6bca8adc3478",
      "outputs": [
        {
          "output_type": "stream",
          "name": "stdout",
          "text": [
            "First segment: ('1003_speech_false_Licht_aus', 'Licht aus', array([-0.08784055, -0.03521105, -0.16523688, ...,  0.15054016,\n",
            "        0.34248304,  0.2650867 ], dtype=float32), 16000)\n"
          ]
        }
      ],
      "execution_count": 11
    },
    {
      "metadata": {
        "ExecuteTime": {
          "end_time": "2024-05-30T06:35:40.041831Z",
          "start_time": "2024-05-30T06:35:35.165845Z"
        },
        "colab": {
          "base_uri": "https://localhost:8080/",
          "height": 204
        },
        "id": "344029151ce8b2e5",
        "outputId": "bfe6cc7f-3ba2-412c-d9f1-00345b43c0e0"
      },
      "cell_type": "code",
      "source": [
        "import os\n",
        "import numpy as np\n",
        "import pandas as pd\n",
        "import librosa\n",
        "import soundfile as sf\n",
        "import random\n",
        "from IPython.display import Audio\n",
        "from sklearn.decomposition import FastICA\n",
        "\n",
        "# Function to apply ICA on audio segments\n",
        "def apply_ica(segment, sr):\n",
        "    ica = FastICA(n_components=1, whiten='arbitrary-variance')  # Explicitly set whiten parameter\n",
        "    segment_reshaped = segment.reshape(-1, 1)\n",
        "    segment_ica = ica.fit_transform(segment_reshaped).flatten()\n",
        "    return segment_ica\n",
        "\n",
        "# Function to preprocess segments and optionally save to the filesystem\n",
        "def preprocess_and_save_segments(scenes_dir, annotations_path, save_dir=None, save_to_filesystem=False, apply_ica_flag=False):\n",
        "    # Load the annotations\n",
        "    annotations_df = pd.read_csv(annotations_path)\n",
        "\n",
        "    # Ensure the save directory exists if saving to filesystem\n",
        "    if save_to_filesystem and save_dir is not None:\n",
        "        os.makedirs(save_dir, exist_ok=True)\n",
        "\n",
        "    preprocessed_segments = []\n",
        "\n",
        "    for index, row in annotations_df.iterrows():\n",
        "        filename = row['filename']\n",
        "        command = row['command']\n",
        "        start = row['start']\n",
        "        end = row['end']\n",
        "\n",
        "        # Load the audio file\n",
        "        file_path = os.path.join(scenes_dir, f\"{filename}.wav\")\n",
        "        y, sr = librosa.load(file_path, sr=None)\n",
        "\n",
        "        # Extract the segment\n",
        "        start_sample = int(start * sr)\n",
        "        end_sample = int(end * sr)\n",
        "        segment = y[start_sample:end_sample]\n",
        "\n",
        "        # Normalize the segment\n",
        "        segment = librosa.util.normalize(segment)\n",
        "\n",
        "        # Apply ICA if the flag is set\n",
        "        if apply_ica_flag:\n",
        "            segment = apply_ica(segment, sr)\n",
        "\n",
        "        # Add the segment to the list\n",
        "        preprocessed_segments.append((filename, command, segment, sr))\n",
        "\n",
        "        # Save the segment to the filesystem if required\n",
        "        if save_to_filesystem and save_dir is not None:\n",
        "            save_path = os.path.join(save_dir, f\"{filename}_{start}_{end}.wav\")\n",
        "            sf.write(save_path, segment, sr)\n",
        "\n",
        "    return preprocessed_segments\n",
        "\n",
        "# Function to play a random segment from preprocessed segments\n",
        "def play_random_segment(preprocessed_segments):\n",
        "    # Select a random segment\n",
        "    random_segment = random.choice(preprocessed_segments)\n",
        "\n",
        "    filename, command, audio_data, sample_rate = random_segment\n",
        "\n",
        "    # Print the command and play the audio segment\n",
        "    print(f\"Filename: {filename}\")\n",
        "    print(f\"Command: {command}\")\n",
        "\n",
        "    return Audio(audio_data, rate=sample_rate)\n",
        "\n",
        "# Function to play a random segment from the filesystem\n",
        "def play_random_segment_from_filesystem(save_dir, annotations_path):\n",
        "    # List all the preprocessed segment files\n",
        "    segment_files = [f for f in os.listdir(save_dir) if f.endswith('.wav')]\n",
        "\n",
        "    # Select a random segment file\n",
        "    random_segment_file = random.choice(segment_files)\n",
        "    random_segment_path = os.path.join(save_dir, random_segment_file)\n",
        "\n",
        "    # Extract start and end times from the file name\n",
        "    filename_parts = random_segment_file.split('_')\n",
        "    filename = '_'.join(filename_parts[:-2])\n",
        "    start_time = float(filename_parts[-2])\n",
        "    end_time = float(filename_parts[-1].replace('.wav', ''))\n",
        "\n",
        "    # Find the command in the annotations\n",
        "    annotations_df = pd.read_csv(annotations_path)\n",
        "    command_row = annotations_df[\n",
        "        (annotations_df['filename'] == filename) &\n",
        "        (annotations_df['start'] == start_time) &\n",
        "        (annotations_df['end'] == end_time)\n",
        "    ]\n",
        "\n",
        "    if command_row.empty:\n",
        "        print(f\"No matching annotation found for {random_segment_file}\")\n",
        "        return\n",
        "\n",
        "    command = command_row.iloc[0]['command']\n",
        "\n",
        "    # Load the audio segment\n",
        "    y, sr = librosa.load(random_segment_path, sr=None)\n",
        "\n",
        "    # Print the command and play the audio segment\n",
        "    print(f\"Filename: {filename}\")\n",
        "    print(f\"Command: {command}\")\n",
        "\n",
        "    return Audio(y, rate=sr)\n",
        "\n",
        "# Example usage\n",
        "scenes_dir = f'{data_dir}/scenes/wav'\n",
        "annotations_path = f'{data_dir}/development_scene_annotations.csv'\n",
        "save_dir = f'{data_dir}/scenes/preprocessed_segments'\n",
        "\n",
        "# Preprocess segments and save to filesystem with optional ICA\n",
        "preprocessed_segments = preprocess_and_save_segments(scenes_dir, annotations_path, save_dir, save_to_filesystem=True, apply_ica_flag=True)\n",
        "\n",
        "# Play a random segment from memory\n",
        "audio_memory = play_random_segment(preprocessed_segments)\n",
        "display(audio_memory)\n",
        "\n",
        "# Play a random segment from filesystem\n",
        "audio_filesystem = play_random_segment_from_filesystem(save_dir, annotations_path)\n",
        "display(audio_filesystem)\n"
      ],
      "id": "344029151ce8b2e5",
      "outputs": [
        {
          "output_type": "stream",
          "name": "stdout",
          "text": [
            "Filename: 1449_speech_true_Licht_an\n",
            "Command: Licht an\n"
          ]
        },
        {
          "output_type": "display_data",
          "data": {
            "text/plain": [
              "<IPython.lib.display.Audio object>"
            ],
            "text/html": [
              "\n",
              "                <audio  controls=\"controls\" >\n",
              "                    <source src=\"data:audio/wav;base64,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\" type=\"audio/wav\" />\n",
              "                    Your browser does not support the audio element.\n",
              "                </audio>\n",
              "              "
            ]
          },
          "metadata": {}
        },
        {
          "output_type": "stream",
          "name": "stdout",
          "text": [
            "Filename: 1438_speech_true_Fernseher_an_Licht_an\n",
            "Command: Licht an\n"
          ]
        },
        {
          "output_type": "display_data",
          "data": {
            "text/plain": [
              "<IPython.lib.display.Audio object>"
            ],
            "text/html": [
              "\n",
              "                <audio  controls=\"controls\" >\n",
              "                    <source src=\"data:audio/wav;base64,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\" type=\"audio/wav\" />\n",
              "                    Your browser does not support the audio element.\n",
              "                </audio>\n",
              "              "
            ]
          },
          "metadata": {}
        }
      ],
      "execution_count": 12
    },
    {
      "metadata": {
        "id": "310a6e11fdef1540"
      },
      "cell_type": "markdown",
      "source": [
        "### Step 2: Data Augmentation\n",
        "\n",
        "#### Apply Data Augmentation\n"
      ],
      "id": "310a6e11fdef1540"
    },
    {
      "metadata": {
        "ExecuteTime": {
          "end_time": "2024-05-30T06:37:36.766511Z",
          "start_time": "2024-05-30T06:37:27.383568Z"
        },
        "colab": {
          "base_uri": "https://localhost:8080/"
        },
        "id": "1aae0b9e554475a7",
        "outputId": "57326c54-d118-40fa-904e-0558faffe378"
      },
      "cell_type": "code",
      "source": [
        "import librosa\n",
        "import numpy as np\n",
        "\n",
        "# Function to augment audio\n",
        "def augment_audio(audio, sr):\n",
        "    augmented = []\n",
        "    # Original length\n",
        "    original_length = len(audio)\n",
        "\n",
        "    # Shift\n",
        "    shift = int(sr * 0.5)  # shift by 0.5 seconds\n",
        "    shifted_audio = np.roll(audio, shift)\n",
        "    augmented.append(shifted_audio)\n",
        "\n",
        "    # Stretch\n",
        "    stretch = librosa.effects.time_stretch(audio, rate=0.8)\n",
        "    if len(stretch) < original_length:\n",
        "        # Pad with zeros if stretched audio is shorter\n",
        "        stretch = np.pad(stretch, (0, original_length - len(stretch)), mode='constant')\n",
        "    else:\n",
        "        stretch = stretch[:original_length]  # ensure same length\n",
        "    augmented.append(stretch)\n",
        "\n",
        "    # Debug information\n",
        "    for aug_audio in augmented:\n",
        "        #print(f\"Original length: {original_length}, Augmented length: {len(aug_audio)}\")\n",
        "        if len(aug_audio) < 2048:\n",
        "            print(f\"Warning: Augmented segment length {len(aug_audio)} is shorter than n_fft=2048\")\n",
        "\n",
        "    return augmented\n",
        "\n",
        "# Apply augmentation to all segments\n",
        "augmented_segments = []\n",
        "for file_name, command, segment, sr in preprocessed_segments:\n",
        "    augmented = augment_audio(segment, sr)\n",
        "    for aug in augmented:\n",
        "        augmented_segments.append((file_name, command, aug, sr))\n",
        "\n",
        "# Combine original and augmented data\n",
        "all_segments = preprocessed_segments + augmented_segments\n"
      ],
      "id": "1aae0b9e554475a7",
      "outputs": [
        {
          "output_type": "stream",
          "name": "stderr",
          "text": [
            "/usr/local/lib/python3.10/dist-packages/librosa/core/spectrum.py:266: UserWarning: n_fft=2048 is too large for input signal of length=800\n",
            "  warnings.warn(\n"
          ]
        },
        {
          "output_type": "stream",
          "name": "stdout",
          "text": [
            "Warning: Augmented segment length 800 is shorter than n_fft=2048\n",
            "Warning: Augmented segment length 800 is shorter than n_fft=2048\n"
          ]
        }
      ],
      "execution_count": 13
    },
    {
      "metadata": {
        "id": "e5f1ea89b26d7233"
      },
      "cell_type": "markdown",
      "source": [
        "### Step 3: Feature Extraction\n",
        "\n",
        "#### Extract Features with Padding/Truncation and Dynamic `n_fft`\n"
      ],
      "id": "e5f1ea89b26d7233"
    },
    {
      "metadata": {
        "ExecuteTime": {
          "end_time": "2024-05-30T06:39:05.151189Z",
          "start_time": "2024-05-30T06:38:42.626250Z"
        },
        "colab": {
          "base_uri": "https://localhost:8080/"
        },
        "id": "f6cee836b0ea7c1e",
        "outputId": "87383367-7b34-4990-bb26-41fa4f808783"
      },
      "cell_type": "code",
      "source": [
        "# Function to extract features with dynamic n_fft\n",
        "def extract_features(segment, sr, max_length):\n",
        "    n_fft = min(2048, max(256, len(segment) // 2))  # Ensure n_fft is not larger than half the segment length and at least 256\n",
        "    if len(segment) < n_fft:\n",
        "        n_fft = len(segment) // 2\n",
        "    #print(f\"Extracting features with n_fft={n_fft} for segment length={len(segment)}\")\n",
        "    hop_length = n_fft // 4  # Typical value for hop_length\n",
        "    mfccs = librosa.feature.mfcc(y=segment, sr=sr, n_mfcc=13, n_fft=n_fft, hop_length=hop_length)\n",
        "    mfccs_flat = mfccs.flatten()\n",
        "    if len(mfccs_flat) < max_length:\n",
        "        # Pad with zeros\n",
        "        padded_mfccs = np.pad(mfccs_flat, (0, max_length - len(mfccs_flat)), mode='constant')\n",
        "        return padded_mfccs\n",
        "    else:\n",
        "        # Truncate to max_length\n",
        "        return mfccs_flat[:max_length]\n",
        "\n",
        "# Determine the maximum length for padding/truncation\n",
        "max_length = 0\n",
        "for _, _, segment, sr in all_segments:\n",
        "    n_fft = min(2048, max(256, len(segment) // 2))\n",
        "    if len(segment) < n_fft:\n",
        "        n_fft = len(segment) // 2\n",
        "    hop_length = n_fft // 4\n",
        "    features = librosa.feature.mfcc(y=segment, sr=sr, n_mfcc=13, n_fft=n_fft, hop_length=hop_length).flatten()\n",
        "    if len(features) > max_length:\n",
        "        max_length = len(features)\n",
        "\n",
        "# Extract features for all segments with padding/truncation\n",
        "feature_data = []\n",
        "for file_name, command, segment, sr in all_segments:\n",
        "    features = extract_features(segment, sr, max_length)\n",
        "    feature_data.append((file_name, command, features))\n",
        "\n",
        "print(f\"Feature extraction completed with max length: {max_length}\")\n"
      ],
      "id": "f6cee836b0ea7c1e",
      "outputs": [
        {
          "output_type": "stream",
          "name": "stdout",
          "text": [
            "Feature extraction completed with max length: 1170\n"
          ]
        }
      ],
      "execution_count": 14
    },
    {
      "metadata": {
        "id": "8d0d8c3c7998e5c1"
      },
      "cell_type": "markdown",
      "source": [
        "### Step 4: Model Training and Evaluation\n",
        "\n",
        "#### Train `GradientBoostingClassifier` with Class Weights and Progress Bar\n"
      ],
      "id": "8d0d8c3c7998e5c1"
    },
    {
      "metadata": {
        "ExecuteTime": {
          "end_time": "2024-05-30T06:39:34.760729Z",
          "start_time": "2024-05-30T06:39:34.717834Z"
        },
        "colab": {
          "base_uri": "https://localhost:8080/"
        },
        "id": "ebea55587b241234",
        "outputId": "9a29bf63-64a2-480e-a78f-11de302d360a"
      },
      "cell_type": "code",
      "source": [
        "from sklearn.model_selection import train_test_split\n",
        "from sklearn.preprocessing import LabelEncoder\n",
        "from sklearn.utils.class_weight import compute_class_weight\n",
        "\n",
        "# Prepare data for training\n",
        "X = np.array([features for _, _, features in feature_data])\n",
        "y = np.array([command for _, command, _ in feature_data])\n",
        "\n",
        "# Encode string labels to numeric labels\n",
        "label_encoder = LabelEncoder()\n",
        "y_encoded = label_encoder.fit_transform(y)\n",
        "\n",
        "# Split data into training and validation sets\n",
        "X_train, X_val, y_train, y_val = train_test_split(X, y_encoded, test_size=0.2, random_state=42)\n",
        "\n",
        "# Compute class weights\n",
        "classes = np.unique(y_train)\n",
        "class_weights = compute_class_weight('balanced', classes=classes, y=y_train)\n",
        "class_weight_dict = {cls: weight for cls, weight in zip(classes, class_weights)}\n",
        "\n",
        "# Print class weights for debugging\n",
        "print(\"Class Weights: \", class_weight_dict)\n",
        "\n",
        "# Create sample weights\n",
        "sample_weights = np.array([class_weight_dict[cls] for cls in y_train])\n",
        "\n",
        "# Print sample weights for debugging\n",
        "print(\"Sample Weights: \", sample_weights)\n"
      ],
      "id": "ebea55587b241234",
      "outputs": [
        {
          "output_type": "stream",
          "name": "stdout",
          "text": [
            "Class Weights:  {0: 0.9740853658536586, 1: 1.065, 2: 0.8729508196721312, 3: 1.298780487804878, 4: 0.9128571428571428, 5: 1.0240384615384615, 6: 0.8192307692307692, 7: 0.7717391304347826, 8: 1.0047169811320755, 9: 1.0579470198675496, 10: 1.0240384615384615, 11: 1.117132867132867, 12: 1.109375, 13: 0.9508928571428571, 14: 1.0721476510067114, 15: 1.2011278195488722}\n",
            "Sample Weights:  [1.00471698 0.77173913 1.065      ... 1.109375   1.05794702 0.97408537]\n"
          ]
        }
      ],
      "execution_count": 15
    },
    {
      "metadata": {
        "ExecuteTime": {
          "end_time": "2024-05-30T06:39:39.523735Z",
          "start_time": "2024-05-30T06:39:39.517730Z"
        },
        "colab": {
          "base_uri": "https://localhost:8080/"
        },
        "id": "da141a180ad4cd17",
        "outputId": "5843be3d-33d4-4ccd-f00f-c4491fd4d5ec"
      },
      "cell_type": "code",
      "source": [
        "# Print class distribution\n",
        "unique, counts = np.unique(y_train, return_counts=True)\n",
        "class_distribution = dict(zip(unique, counts))\n",
        "print(\"Class Distribution: \", class_distribution)\n"
      ],
      "id": "da141a180ad4cd17",
      "outputs": [
        {
          "output_type": "stream",
          "name": "stdout",
          "text": [
            "Class Distribution:  {0: 164, 1: 150, 2: 183, 3: 123, 4: 175, 5: 156, 6: 195, 7: 207, 8: 159, 9: 151, 10: 156, 11: 143, 12: 144, 13: 168, 14: 149, 15: 133}\n"
          ]
        }
      ],
      "execution_count": 16
    },
    {
      "cell_type": "code",
      "source": [
        "# Define a plot function for the confusion matrix\n",
        "import matplotlib.pyplot as plt\n",
        "import seaborn as sns\n",
        "from sklearn.metrics import confusion_matrix\n",
        "\n",
        "def plot_confusion_matrix(y_true, y_pred, labels, title='Confusion Matrix'):\n",
        "    conf_matrix = confusion_matrix(y_true, y_pred, labels=labels)\n",
        "    plt.figure(figsize=(10, 8))\n",
        "    sns.heatmap(conf_matrix, annot=True, fmt='d', cmap='Blues', xticklabels=labels, yticklabels=labels)\n",
        "    plt.title(title)\n",
        "    plt.xlabel('Predicted')\n",
        "    plt.ylabel('True')\n",
        "    plt.show()\n"
      ],
      "metadata": {
        "id": "VFNFDxQGaM3t"
      },
      "id": "VFNFDxQGaM3t",
      "execution_count": 13,
      "outputs": []
    },
    {
      "metadata": {
        "ExecuteTime": {
          "end_time": "2024-05-30T00:12:11.886240Z",
          "start_time": "2024-05-30T00:01:20.406185Z"
        },
        "colab": {
          "base_uri": "https://localhost:8080/",
          "height": 507
        },
        "id": "878ff13809273a3a",
        "outputId": "813f2736-f2ab-465b-c4fc-7c5628d0dad7"
      },
      "cell_type": "code",
      "source": [
        "import xgboost as xgb\n",
        "from sklearn.metrics import classification_report\n",
        "from tqdm import tqdm\n",
        "import subprocess\n",
        "\n",
        "# Check if GPU is available\n",
        "gpu_available = is_gpu_available()\n",
        "\n",
        "# Define the XGBoost classifier with or without GPU support based on availability\n",
        "if gpu_available:\n",
        "    print(\"GPU detected. Training will use GPU.\")\n",
        "    gb = xgb.XGBClassifier(n_estimators=100, random_state=42, tree_method='hist', device='cuda', use_label_encoder=False)\n",
        "else:\n",
        "    print(\"No GPU detected. Training will use CPU.\")\n",
        "    gb = xgb.XGBClassifier(n_estimators=100, random_state=42, tree_method='hist', use_label_encoder=False)\n",
        "\n",
        "# Wrap the training loop with tqdm for the progress bar\n",
        "for i in tqdm(range(1, gb.n_estimators + 1), desc=\"Training Gradient Boosting Classifier\"):\n",
        "    gb.set_params(n_estimators=i)\n",
        "    gb.fit(X_train, y_train, sample_weight=sample_weights, eval_metric='logloss')\n",
        "\n",
        "# Evaluate the classifier\n",
        "y_pred_gb = gb.predict(X_val)\n",
        "print(\"Gradient Boosting Classifier Report\")\n",
        "print(classification_report(y_val, y_pred_gb, zero_division=0))\n"
      ],
      "id": "878ff13809273a3a",
      "outputs": [
        {
          "output_type": "stream",
          "name": "stdout",
          "text": [
            "No GPU detected. Training will use CPU.\n"
          ]
        },
        {
          "output_type": "stream",
          "name": "stderr",
          "text": [
            "\rTraining Gradient Boosting Classifier:   0%|          | 0/100 [00:00<?, ?it/s]/usr/local/lib/python3.10/dist-packages/xgboost/sklearn.py:889: UserWarning: `eval_metric` in `fit` method is deprecated for better compatibility with scikit-learn, use `eval_metric` in constructor or`set_params` instead.\n",
            "  warnings.warn(\n",
            "Training Gradient Boosting Classifier:  21%|██        | 21/100 [15:10<57:06, 43.37s/it]  \n"
          ]
        },
        {
          "output_type": "error",
          "ename": "KeyboardInterrupt",
          "evalue": "",
          "traceback": [
            "\u001b[0;31m---------------------------------------------------------------------------\u001b[0m",
            "\u001b[0;31mKeyboardInterrupt\u001b[0m                         Traceback (most recent call last)",
            "\u001b[0;32m<ipython-input-14-bf7b7bdbbfc8>\u001b[0m in \u001b[0;36m<cell line: 18>\u001b[0;34m()\u001b[0m\n\u001b[1;32m     18\u001b[0m \u001b[0;32mfor\u001b[0m \u001b[0mi\u001b[0m \u001b[0;32min\u001b[0m \u001b[0mtqdm\u001b[0m\u001b[0;34m(\u001b[0m\u001b[0mrange\u001b[0m\u001b[0;34m(\u001b[0m\u001b[0;36m1\u001b[0m\u001b[0;34m,\u001b[0m \u001b[0mgb\u001b[0m\u001b[0;34m.\u001b[0m\u001b[0mn_estimators\u001b[0m \u001b[0;34m+\u001b[0m \u001b[0;36m1\u001b[0m\u001b[0;34m)\u001b[0m\u001b[0;34m,\u001b[0m \u001b[0mdesc\u001b[0m\u001b[0;34m=\u001b[0m\u001b[0;34m\"Training Gradient Boosting Classifier\"\u001b[0m\u001b[0;34m)\u001b[0m\u001b[0;34m:\u001b[0m\u001b[0;34m\u001b[0m\u001b[0;34m\u001b[0m\u001b[0m\n\u001b[1;32m     19\u001b[0m     \u001b[0mgb\u001b[0m\u001b[0;34m.\u001b[0m\u001b[0mset_params\u001b[0m\u001b[0;34m(\u001b[0m\u001b[0mn_estimators\u001b[0m\u001b[0;34m=\u001b[0m\u001b[0mi\u001b[0m\u001b[0;34m)\u001b[0m\u001b[0;34m\u001b[0m\u001b[0;34m\u001b[0m\u001b[0m\n\u001b[0;32m---> 20\u001b[0;31m     \u001b[0mgb\u001b[0m\u001b[0;34m.\u001b[0m\u001b[0mfit\u001b[0m\u001b[0;34m(\u001b[0m\u001b[0mX_train\u001b[0m\u001b[0;34m,\u001b[0m \u001b[0my_train\u001b[0m\u001b[0;34m,\u001b[0m \u001b[0msample_weight\u001b[0m\u001b[0;34m=\u001b[0m\u001b[0msample_weights\u001b[0m\u001b[0;34m,\u001b[0m \u001b[0meval_metric\u001b[0m\u001b[0;34m=\u001b[0m\u001b[0;34m'logloss'\u001b[0m\u001b[0;34m)\u001b[0m\u001b[0;34m\u001b[0m\u001b[0;34m\u001b[0m\u001b[0m\n\u001b[0m\u001b[1;32m     21\u001b[0m \u001b[0;34m\u001b[0m\u001b[0m\n\u001b[1;32m     22\u001b[0m \u001b[0;31m# Evaluate the classifier\u001b[0m\u001b[0;34m\u001b[0m\u001b[0;34m\u001b[0m\u001b[0m\n",
            "\u001b[0;32m/usr/local/lib/python3.10/dist-packages/xgboost/core.py\u001b[0m in \u001b[0;36minner_f\u001b[0;34m(*args, **kwargs)\u001b[0m\n\u001b[1;32m    728\u001b[0m             \u001b[0;32mfor\u001b[0m \u001b[0mk\u001b[0m\u001b[0;34m,\u001b[0m \u001b[0marg\u001b[0m \u001b[0;32min\u001b[0m \u001b[0mzip\u001b[0m\u001b[0;34m(\u001b[0m\u001b[0msig\u001b[0m\u001b[0;34m.\u001b[0m\u001b[0mparameters\u001b[0m\u001b[0;34m,\u001b[0m \u001b[0margs\u001b[0m\u001b[0;34m)\u001b[0m\u001b[0;34m:\u001b[0m\u001b[0;34m\u001b[0m\u001b[0;34m\u001b[0m\u001b[0m\n\u001b[1;32m    729\u001b[0m                 \u001b[0mkwargs\u001b[0m\u001b[0;34m[\u001b[0m\u001b[0mk\u001b[0m\u001b[0;34m]\u001b[0m \u001b[0;34m=\u001b[0m \u001b[0marg\u001b[0m\u001b[0;34m\u001b[0m\u001b[0;34m\u001b[0m\u001b[0m\n\u001b[0;32m--> 730\u001b[0;31m             \u001b[0;32mreturn\u001b[0m \u001b[0mfunc\u001b[0m\u001b[0;34m(\u001b[0m\u001b[0;34m**\u001b[0m\u001b[0mkwargs\u001b[0m\u001b[0;34m)\u001b[0m\u001b[0;34m\u001b[0m\u001b[0;34m\u001b[0m\u001b[0m\n\u001b[0m\u001b[1;32m    731\u001b[0m \u001b[0;34m\u001b[0m\u001b[0m\n\u001b[1;32m    732\u001b[0m         \u001b[0;32mreturn\u001b[0m \u001b[0minner_f\u001b[0m\u001b[0;34m\u001b[0m\u001b[0;34m\u001b[0m\u001b[0m\n",
            "\u001b[0;32m/usr/local/lib/python3.10/dist-packages/xgboost/sklearn.py\u001b[0m in \u001b[0;36mfit\u001b[0;34m(self, X, y, sample_weight, base_margin, eval_set, eval_metric, early_stopping_rounds, verbose, xgb_model, sample_weight_eval_set, base_margin_eval_set, feature_weights, callbacks)\u001b[0m\n\u001b[1;32m   1517\u001b[0m             )\n\u001b[1;32m   1518\u001b[0m \u001b[0;34m\u001b[0m\u001b[0m\n\u001b[0;32m-> 1519\u001b[0;31m             self._Booster = train(\n\u001b[0m\u001b[1;32m   1520\u001b[0m                 \u001b[0mparams\u001b[0m\u001b[0;34m,\u001b[0m\u001b[0;34m\u001b[0m\u001b[0;34m\u001b[0m\u001b[0m\n\u001b[1;32m   1521\u001b[0m                 \u001b[0mtrain_dmatrix\u001b[0m\u001b[0;34m,\u001b[0m\u001b[0;34m\u001b[0m\u001b[0;34m\u001b[0m\u001b[0m\n",
            "\u001b[0;32m/usr/local/lib/python3.10/dist-packages/xgboost/core.py\u001b[0m in \u001b[0;36minner_f\u001b[0;34m(*args, **kwargs)\u001b[0m\n\u001b[1;32m    728\u001b[0m             \u001b[0;32mfor\u001b[0m \u001b[0mk\u001b[0m\u001b[0;34m,\u001b[0m \u001b[0marg\u001b[0m \u001b[0;32min\u001b[0m \u001b[0mzip\u001b[0m\u001b[0;34m(\u001b[0m\u001b[0msig\u001b[0m\u001b[0;34m.\u001b[0m\u001b[0mparameters\u001b[0m\u001b[0;34m,\u001b[0m \u001b[0margs\u001b[0m\u001b[0;34m)\u001b[0m\u001b[0;34m:\u001b[0m\u001b[0;34m\u001b[0m\u001b[0;34m\u001b[0m\u001b[0m\n\u001b[1;32m    729\u001b[0m                 \u001b[0mkwargs\u001b[0m\u001b[0;34m[\u001b[0m\u001b[0mk\u001b[0m\u001b[0;34m]\u001b[0m \u001b[0;34m=\u001b[0m \u001b[0marg\u001b[0m\u001b[0;34m\u001b[0m\u001b[0;34m\u001b[0m\u001b[0m\n\u001b[0;32m--> 730\u001b[0;31m             \u001b[0;32mreturn\u001b[0m \u001b[0mfunc\u001b[0m\u001b[0;34m(\u001b[0m\u001b[0;34m**\u001b[0m\u001b[0mkwargs\u001b[0m\u001b[0;34m)\u001b[0m\u001b[0;34m\u001b[0m\u001b[0;34m\u001b[0m\u001b[0m\n\u001b[0m\u001b[1;32m    731\u001b[0m \u001b[0;34m\u001b[0m\u001b[0m\n\u001b[1;32m    732\u001b[0m         \u001b[0;32mreturn\u001b[0m \u001b[0minner_f\u001b[0m\u001b[0;34m\u001b[0m\u001b[0;34m\u001b[0m\u001b[0m\n",
            "\u001b[0;32m/usr/local/lib/python3.10/dist-packages/xgboost/training.py\u001b[0m in \u001b[0;36mtrain\u001b[0;34m(params, dtrain, num_boost_round, evals, obj, feval, maximize, early_stopping_rounds, evals_result, verbose_eval, xgb_model, callbacks, custom_metric)\u001b[0m\n\u001b[1;32m    179\u001b[0m         \u001b[0;32mif\u001b[0m \u001b[0mcb_container\u001b[0m\u001b[0;34m.\u001b[0m\u001b[0mbefore_iteration\u001b[0m\u001b[0;34m(\u001b[0m\u001b[0mbst\u001b[0m\u001b[0;34m,\u001b[0m \u001b[0mi\u001b[0m\u001b[0;34m,\u001b[0m \u001b[0mdtrain\u001b[0m\u001b[0;34m,\u001b[0m \u001b[0mevals\u001b[0m\u001b[0;34m)\u001b[0m\u001b[0;34m:\u001b[0m\u001b[0;34m\u001b[0m\u001b[0;34m\u001b[0m\u001b[0m\n\u001b[1;32m    180\u001b[0m             \u001b[0;32mbreak\u001b[0m\u001b[0;34m\u001b[0m\u001b[0;34m\u001b[0m\u001b[0m\n\u001b[0;32m--> 181\u001b[0;31m         \u001b[0mbst\u001b[0m\u001b[0;34m.\u001b[0m\u001b[0mupdate\u001b[0m\u001b[0;34m(\u001b[0m\u001b[0mdtrain\u001b[0m\u001b[0;34m,\u001b[0m \u001b[0mi\u001b[0m\u001b[0;34m,\u001b[0m \u001b[0mobj\u001b[0m\u001b[0;34m)\u001b[0m\u001b[0;34m\u001b[0m\u001b[0;34m\u001b[0m\u001b[0m\n\u001b[0m\u001b[1;32m    182\u001b[0m         \u001b[0;32mif\u001b[0m \u001b[0mcb_container\u001b[0m\u001b[0;34m.\u001b[0m\u001b[0mafter_iteration\u001b[0m\u001b[0;34m(\u001b[0m\u001b[0mbst\u001b[0m\u001b[0;34m,\u001b[0m \u001b[0mi\u001b[0m\u001b[0;34m,\u001b[0m \u001b[0mdtrain\u001b[0m\u001b[0;34m,\u001b[0m \u001b[0mevals\u001b[0m\u001b[0;34m)\u001b[0m\u001b[0;34m:\u001b[0m\u001b[0;34m\u001b[0m\u001b[0;34m\u001b[0m\u001b[0m\n\u001b[1;32m    183\u001b[0m             \u001b[0;32mbreak\u001b[0m\u001b[0;34m\u001b[0m\u001b[0;34m\u001b[0m\u001b[0m\n",
            "\u001b[0;32m/usr/local/lib/python3.10/dist-packages/xgboost/core.py\u001b[0m in \u001b[0;36mupdate\u001b[0;34m(self, dtrain, iteration, fobj)\u001b[0m\n\u001b[1;32m   2049\u001b[0m         \u001b[0;32mif\u001b[0m \u001b[0mfobj\u001b[0m \u001b[0;32mis\u001b[0m \u001b[0;32mNone\u001b[0m\u001b[0;34m:\u001b[0m\u001b[0;34m\u001b[0m\u001b[0;34m\u001b[0m\u001b[0m\n\u001b[1;32m   2050\u001b[0m             _check_call(\n\u001b[0;32m-> 2051\u001b[0;31m                 _LIB.XGBoosterUpdateOneIter(\n\u001b[0m\u001b[1;32m   2052\u001b[0m                     \u001b[0mself\u001b[0m\u001b[0;34m.\u001b[0m\u001b[0mhandle\u001b[0m\u001b[0;34m,\u001b[0m \u001b[0mctypes\u001b[0m\u001b[0;34m.\u001b[0m\u001b[0mc_int\u001b[0m\u001b[0;34m(\u001b[0m\u001b[0miteration\u001b[0m\u001b[0;34m)\u001b[0m\u001b[0;34m,\u001b[0m \u001b[0mdtrain\u001b[0m\u001b[0;34m.\u001b[0m\u001b[0mhandle\u001b[0m\u001b[0;34m\u001b[0m\u001b[0;34m\u001b[0m\u001b[0m\n\u001b[1;32m   2053\u001b[0m                 )\n",
            "\u001b[0;31mKeyboardInterrupt\u001b[0m: "
          ]
        }
      ],
      "execution_count": 14
    },
    {
      "metadata": {
        "id": "bbadf8e40408ef31"
      },
      "cell_type": "markdown",
      "source": [
        "#### Train `RandomForestClassifier` with Class Weights\n"
      ],
      "id": "bbadf8e40408ef31"
    },
    {
      "metadata": {
        "ExecuteTime": {
          "end_time": "2024-05-30T06:39:53.490921Z",
          "start_time": "2024-05-30T06:39:49.127954Z"
        },
        "colab": {
          "base_uri": "https://localhost:8080/",
          "height": 392
        },
        "id": "d43d11df56a0e22f",
        "outputId": "971e161d-e8db-405e-a86a-e1b6bcd5f6ac"
      },
      "cell_type": "code",
      "source": [
        "# Train a Random Forest classifier with class weights\n",
        "#from cuml.ensemble import RandomForestClassifier as cuRF\n",
        "from sklearn.ensemble import RandomForestClassifier as skRF\n",
        "from sklearn.metrics import classification_report\n",
        "\n",
        "# RandomForest Classifier with GPU check\n",
        "if gpu_available:\n",
        "#    print(\"GPU detected. Training Random Forest Classifier will use GPU.\")\n",
        "#    rf = cuRF(n_estimators=100, random_state=42)\n",
        "#    rf.fit(X_train, y_train)\n",
        "    print(\"No cuML detected. Training Random Forest Classifier will use CPU.\")\n",
        "    rf = skRF(n_estimators=100, random_state=42, class_weight=class_weight_dict)\n",
        "    rf.fit(X_train, y_train)\n",
        "else:\n",
        "    print(\"No GPU detected. Training Random Forest Classifier will use CPU.\")\n",
        "    rf = skRF(n_estimators=100, random_state=42, class_weight=class_weight_dict)\n",
        "    rf.fit(X_train, y_train)\n",
        "\n",
        "# Evaluate Random Forest Classifier\n",
        "y_pred_rf = rf.predict(X_val)\n",
        "if gpu_available:\n",
        "    y_pred_rf = np.array(y_pred_rf)  # Ensure compatibility with scikit-learn metrics\n",
        "print(\"Random Forest Classifier Report\")\n",
        "print(classification_report(y_val, y_pred_rf, zero_division=0))"
      ],
      "id": "d43d11df56a0e22f",
      "outputs": [
        {
          "output_type": "error",
          "ename": "ModuleNotFoundError",
          "evalue": "No module named 'cuml'",
          "traceback": [
            "\u001b[0;31m---------------------------------------------------------------------------\u001b[0m",
            "\u001b[0;31mModuleNotFoundError\u001b[0m                       Traceback (most recent call last)",
            "\u001b[0;32m<ipython-input-3-87e76ad4f220>\u001b[0m in \u001b[0;36m<cell line: 2>\u001b[0;34m()\u001b[0m\n\u001b[1;32m      1\u001b[0m \u001b[0;31m# Train a Random Forest classifier with class weights\u001b[0m\u001b[0;34m\u001b[0m\u001b[0;34m\u001b[0m\u001b[0m\n\u001b[0;32m----> 2\u001b[0;31m \u001b[0;32mfrom\u001b[0m \u001b[0mcuml\u001b[0m\u001b[0;34m.\u001b[0m\u001b[0mensemble\u001b[0m \u001b[0;32mimport\u001b[0m \u001b[0mRandomForestClassifier\u001b[0m \u001b[0;32mas\u001b[0m \u001b[0mcuRF\u001b[0m\u001b[0;34m\u001b[0m\u001b[0;34m\u001b[0m\u001b[0m\n\u001b[0m\u001b[1;32m      3\u001b[0m \u001b[0;32mfrom\u001b[0m \u001b[0msklearn\u001b[0m\u001b[0;34m.\u001b[0m\u001b[0mensemble\u001b[0m \u001b[0;32mimport\u001b[0m \u001b[0mRandomForestClassifier\u001b[0m \u001b[0;32mas\u001b[0m \u001b[0mskRF\u001b[0m\u001b[0;34m\u001b[0m\u001b[0;34m\u001b[0m\u001b[0m\n\u001b[1;32m      4\u001b[0m \u001b[0;32mfrom\u001b[0m \u001b[0msklearn\u001b[0m\u001b[0;34m.\u001b[0m\u001b[0mmetrics\u001b[0m \u001b[0;32mimport\u001b[0m \u001b[0mclassification_report\u001b[0m\u001b[0;34m\u001b[0m\u001b[0;34m\u001b[0m\u001b[0m\n\u001b[1;32m      5\u001b[0m \u001b[0;34m\u001b[0m\u001b[0m\n",
            "\u001b[0;31mModuleNotFoundError\u001b[0m: No module named 'cuml'",
            "",
            "\u001b[0;31m---------------------------------------------------------------------------\u001b[0;32m\nNOTE: If your import is failing due to a missing package, you can\nmanually install dependencies using either !pip or !apt.\n\nTo view examples of installing some common dependencies, click the\n\"Open Examples\" button below.\n\u001b[0;31m---------------------------------------------------------------------------\u001b[0m\n"
          ],
          "errorDetails": {
            "actions": [
              {
                "action": "open_url",
                "actionText": "Open Examples",
                "url": "/notebooks/snippets/importing_libraries.ipynb"
              }
            ]
          }
        }
      ],
      "execution_count": null
    },
    {
      "metadata": {
        "id": "b1cb61e452c99e5"
      },
      "cell_type": "markdown",
      "source": [
        "### Step 5: Ensemble Classifiers\n"
      ],
      "id": "b1cb61e452c99e5"
    },
    {
      "metadata": {
        "ExecuteTime": {
          "end_time": "2024-05-30T00:13:10.081386Z",
          "start_time": "2024-05-30T00:12:15.805555Z"
        },
        "id": "523074258f74bd26"
      },
      "cell_type": "code",
      "source": [
        "from sklearn.ensemble import VotingClassifier\n",
        "\n",
        "# Combine Random Forest and Gradient Boosting\n",
        "ensemble = VotingClassifier(estimators=[('rf', rf), ('gb', gb)], voting='soft')\n",
        "ensemble.fit(X_train, y_train)\n",
        "\n",
        "# Evaluate the ensemble classifier\n",
        "y_pred_ensemble = ensemble.predict(X_val)\n",
        "print(\"Ensemble Classifier Report\")\n",
        "print(classification_report(y_val, y_pred_ensemble, zero_division=0))\n",
        "\n",
        "# Plot confusion matrix\n",
        "abels = np.unique(y_val)\n",
        "plot_confusion_matrix(y_val, y_pred_ensemble, labels, title='Confusion Matrix - Ensemble')\n"
      ],
      "id": "523074258f74bd26",
      "outputs": [],
      "execution_count": null
    },
    {
      "metadata": {
        "id": "c960da4eaf930b4"
      },
      "cell_type": "markdown",
      "source": [
        "### Summary\n",
        "\n",
        "We've consolidated the process into five clear steps:\n",
        "\n",
        "1. **Data Preprocessing**: Load metadata and preprocess audio files with ICA.\n",
        "2. **Data Augmentation**: Apply time-shifting and time-stretching to augment the audio data.\n",
        "3. **Feature Extraction**: Extract MFCC features with appropriate padding/truncation and dynamic `n_fft`.\n",
        "4. **Model Training and Evaluation**: Train `GradientBoostingClassifier` and `RandomForestClassifier`, handle class weights, and evaluate their performance.\n",
        "5. **Ensemble Classifiers**: Combine predictions from multiple models to improve robustness.\n",
        "\n",
        "Let's proceed with running these steps sequentially to ensure there are no errors, warnings, or obstacles. If you encounter any issues or need further adjustments, please let me know!"
      ],
      "id": "c960da4eaf930b4"
    },
    {
      "metadata": {
        "id": "88fbb72d1c1b621f"
      },
      "cell_type": "markdown",
      "source": [
        "### Alternative ensembling method: Stacking"
      ],
      "id": "88fbb72d1c1b621f"
    },
    {
      "metadata": {
        "ExecuteTime": {
          "end_time": "2024-05-30T00:13:10.084324Z",
          "start_time": "2024-05-30T00:13:10.084193Z"
        },
        "id": "becf965d82c84527"
      },
      "cell_type": "code",
      "source": [
        "from sklearn.ensemble import StackingClassifier\n",
        "from sklearn.linear_model import LogisticRegression\n",
        "\n",
        "# Define base classifiers\n",
        "estimators = [\n",
        "    ('rf', RandomForestClassifier(n_estimators=100, random_state=42, class_weight=class_weight_dict)),\n",
        "    ('gb', GradientBoostingClassifier(n_estimators=100, random_state=42))\n",
        "]\n",
        "\n",
        "# Define stacking classifier\n",
        "stacking_clf = StackingClassifier(estimators=estimators, final_estimator=LogisticRegression())\n",
        "stacking_clf.fit(X_train, y_train)\n",
        "\n",
        "# Make predictions\n",
        "y_pred_stacking = stacking_clf.predict(X_val)\n",
        "\n",
        "# Evaluate the stacking classifier\n",
        "print(\"Stacking Classifier Report\")\n",
        "print(classification_report(y_val, y_pred_stacking, zero_division=0))\n"
      ],
      "id": "becf965d82c84527",
      "outputs": [],
      "execution_count": null
    },
    {
      "metadata": {
        "id": "8a3d14eadebf565d"
      },
      "cell_type": "code",
      "source": [
        "class_weight_dict"
      ],
      "id": "8a3d14eadebf565d",
      "outputs": [],
      "execution_count": null
    },
    {
      "metadata": {
        "id": "13bef382653009d5"
      },
      "cell_type": "markdown",
      "source": [
        "### Step-by-Step Guide to Adding a CNN Classifier\n",
        "\n",
        "1. **Define the CNN Architecture**: We'll use Keras with TensorFlow backend to define the CNN.\n",
        "2. **Prepare Data for CNN**: Ensure the data is in the right shape and format for the CNN.\n",
        "3. **Train the CNN**: Train the CNN on the training data.\n",
        "4. **Evaluate the CNN**: Evaluate its performance on the validation data.\n",
        "5. **Compare with Other Classifiers**: Compare the CNN's performance with the Gradient Boosting and Random Forest classifiers.\n",
        "\n",
        "### Step 1: Define the CNN Architecture\n",
        "\n",
        "We'll use a simple CNN architecture for this example.\n"
      ],
      "id": "13bef382653009d5"
    },
    {
      "metadata": {
        "ExecuteTime": {
          "end_time": "2024-05-30T06:40:15.274238Z",
          "start_time": "2024-05-30T06:40:15.265949Z"
        },
        "id": "89338c6d77a1ece4"
      },
      "cell_type": "code",
      "source": [
        "import tensorflow as tf\n",
        "from tensorflow.keras.models import Sequential\n",
        "from tensorflow.keras.layers import Conv2D, MaxPooling2D, Flatten, Dense\n",
        "from tensorflow.keras.utils import to_categorical\n",
        "\n",
        "# Define the CNN model\n",
        "def create_cnn_model(input_shape, num_classes):\n",
        "    model = Sequential([\n",
        "        Conv2D(32, kernel_size=(3, 3), activation='relu', input_shape=input_shape),\n",
        "        MaxPooling2D(pool_size=(2, 2)),\n",
        "        Conv2D(64, kernel_size=(3, 3), activation='relu'),\n",
        "        MaxPooling2D(pool_size=(2, 2)),\n",
        "        Flatten(),\n",
        "        Dense(128, activation='relu'),\n",
        "        Dense(num_classes, activation='softmax')\n",
        "    ])\n",
        "    model.compile(optimizer='adam', loss='categorical_crossentropy', metrics=['accuracy'])\n",
        "    return model\n"
      ],
      "id": "89338c6d77a1ece4",
      "outputs": [],
      "execution_count": null
    },
    {
      "metadata": {
        "id": "f45ac65a6cbbd65b"
      },
      "cell_type": "markdown",
      "source": [
        "### Step 2: Prepare Data for CNN\n",
        "\n",
        "Ensure the data is reshaped and formatted correctly for the CNN.\n"
      ],
      "id": "f45ac65a6cbbd65b"
    },
    {
      "metadata": {
        "ExecuteTime": {
          "end_time": "2024-05-30T06:40:18.465827Z",
          "start_time": "2024-05-30T06:40:18.400251Z"
        },
        "id": "8b54ec5b1768ed35"
      },
      "cell_type": "code",
      "source": [
        "import math\n",
        "\n",
        "# Convert the feature data to a numpy array\n",
        "X_cnn = np.array([features for _, _, features in feature_data])\n",
        "y_cnn = np.array([command for _, command, _ in feature_data])\n",
        "\n",
        "# Encode string labels to numeric labels\n",
        "y_cnn_encoded = label_encoder.transform(y_cnn)\n",
        "\n",
        "# Convert labels to categorical\n",
        "y_cnn_categorical = to_categorical(y_cnn_encoded)\n",
        "\n",
        "# Determine input shape for CNN\n",
        "num_features = X_cnn.shape[1]\n",
        "# Calculate the dimensions (height and width) such that height * width = num_features\n",
        "# Here, we aim for the closest possible square dimensions\n",
        "height = int(math.sqrt(num_features))\n",
        "width = height\n",
        "if height * width < num_features:\n",
        "    width += 1\n",
        "\n",
        "# Adjust the number of features to match the closest square dimensions\n",
        "num_adjusted_features = height * width\n",
        "X_cnn_adjusted = np.zeros((X_cnn.shape[0], num_adjusted_features))\n",
        "X_cnn_adjusted[:, :num_features] = X_cnn\n",
        "\n",
        "# Reshape to (num_samples, height, width, 1)\n",
        "X_cnn_reshaped = X_cnn_adjusted.reshape(-1, height, width, 1)\n",
        "\n",
        "# Split data into training and validation sets\n",
        "X_train_cnn, X_val_cnn, y_train_cnn, y_val_cnn = train_test_split(X_cnn_reshaped, y_cnn_categorical, test_size=0.2, random_state=42)\n",
        "\n",
        "# Print shapes for debugging\n",
        "print(f\"X_cnn shape: {X_cnn.shape}\")\n",
        "print(f\"X_cnn_adjusted shape: {X_cnn_adjusted.shape}\")\n",
        "print(f\"X_cnn_reshaped shape: {X_cnn_reshaped.shape}\")\n",
        "print(f\"X_train_cnn shape: {X_train_cnn.shape}\")\n",
        "print(f\"X_val_cnn shape: {X_val_cnn.shape}\")\n"
      ],
      "id": "8b54ec5b1768ed35",
      "outputs": [],
      "execution_count": null
    },
    {
      "metadata": {
        "id": "e62bdb52806c5bb5"
      },
      "cell_type": "markdown",
      "source": [
        "### Step 3: Train the CNN\n"
      ],
      "id": "e62bdb52806c5bb5"
    },
    {
      "metadata": {
        "ExecuteTime": {
          "end_time": "2024-05-30T06:40:36.668037Z",
          "start_time": "2024-05-30T06:40:21.304415Z"
        },
        "id": "552a7c90d6611968"
      },
      "cell_type": "code",
      "source": [
        "# Create the CNN model\n",
        "input_shape = (height, width, 1)\n",
        "num_classes = len(np.unique(y_train_cnn.argmax(axis=1)))\n",
        "cnn_model = create_cnn_model(input_shape, num_classes)\n",
        "\n",
        "# Train the CNN model\n",
        "cnn_model.fit(X_train_cnn, y_train_cnn, epochs=10, batch_size=32, validation_data=(X_val_cnn, y_val_cnn))\n"
      ],
      "id": "552a7c90d6611968",
      "outputs": [],
      "execution_count": null
    },
    {
      "metadata": {
        "id": "66ff4ff67ab76137"
      },
      "cell_type": "markdown",
      "source": [
        "### Step 4: Evaluate the CNN\n"
      ],
      "id": "66ff4ff67ab76137"
    },
    {
      "metadata": {
        "ExecuteTime": {
          "end_time": "2024-05-30T06:40:44.476763Z",
          "start_time": "2024-05-30T06:40:43.047078Z"
        },
        "id": "97de3b44a664c650"
      },
      "cell_type": "code",
      "source": [
        "# Evaluate the CNN model\n",
        "cnn_eval = cnn_model.evaluate(X_val_cnn, y_val_cnn)\n",
        "print(f\"CNN Model Accuracy: {cnn_eval[1]}\")\n",
        "\n",
        "# Make predictions\n",
        "y_pred_cnn = cnn_model.predict(X_val_cnn)\n",
        "y_pred_cnn_classes = np.argmax(y_pred_cnn, axis=1)\n",
        "y_val_cnn_classes = np.argmax(y_val_cnn, axis=1)\n",
        "\n",
        "# Print classification report\n",
        "print(\"CNN Classifier Report\")\n",
        "print(classification_report(y_val_cnn_classes, y_pred_cnn_classes, zero_division=0))\n",
        "\n",
        "# Plot confusion matrix for CNN\n",
        "labels = np.unique(y_val_cnn_classes)\n",
        "plot_confusion_matrix(y_val_cnn_classes, y_pred_cnn_classes, labels, title='Confusion Matrix - CNN')\n"
      ],
      "id": "97de3b44a664c650",
      "outputs": [],
      "execution_count": null
    },
    {
      "metadata": {
        "id": "201b0e7bad982739"
      },
      "cell_type": "markdown",
      "source": [
        "### Step 5: Compare with Other Classifiers\n",
        "\n",
        "You already have the evaluation metrics for the Gradient Boosting and Random Forest classifiers. Now you can compare the performance of the CNN with these classifiers.\n",
        "\n",
        "### Summary\n",
        "\n",
        "1. **Define CNN Architecture**: Use Keras to define a simple CNN.\n",
        "2. **Prepare Data**: Reshape the feature data and convert labels to categorical format.\n",
        "3. **Train CNN**: Train the CNN model on the training data.\n",
        "4. **Evaluate CNN**: Evaluate the CNN's performance and compare it with other classifiers.\n",
        "\n",
        "Run the above code step-by-step and compare the results. Let me know if you encounter any issues or need further adjustments!"
      ],
      "id": "201b0e7bad982739"
    },
    {
      "metadata": {
        "id": "e6601a726381e609"
      },
      "cell_type": "markdown",
      "source": [],
      "id": "e6601a726381e609"
    },
    {
      "metadata": {
        "ExecuteTime": {
          "end_time": "2024-05-30T06:42:26.519332Z",
          "start_time": "2024-05-30T06:42:26.224622Z"
        },
        "id": "f125ad59301768a4"
      },
      "cell_type": "code",
      "source": [
        "from collections import Counter\n",
        "\n",
        "# Check class distribution in the training set\n",
        "y_train_labels = label_encoder.inverse_transform(y_train)\n",
        "class_distribution = Counter(y_train_labels)\n",
        "print(\"Class Distribution in Training Set:\", class_distribution)\n",
        "\n",
        "# Visualize class distribution\n",
        "import matplotlib.pyplot as plt\n",
        "\n",
        "plt.bar(class_distribution.keys(), class_distribution.values())\n",
        "plt.xlabel('Class')\n",
        "plt.ylabel('Frequency')\n",
        "plt.title('Class Distribution in Training Set')\n",
        "plt.xticks(rotation=90)\n",
        "plt.show()\n"
      ],
      "id": "f125ad59301768a4",
      "outputs": [],
      "execution_count": null
    },
    {
      "metadata": {
        "id": "f89530d54cf7a69b"
      },
      "cell_type": "markdown",
      "source": [
        "## Using Spectrograms and CNN\n",
        "\n",
        "1. **Preprocess Audio Data into Spectrograms**: Convert each audio segment into a Mel spectrogram.\n",
        "2. **Prepare Data for CNN**: Ensure the spectrograms are reshaped and formatted correctly for the CNN.\n",
        "3. **Define a More Complex CNN**: Use a more complex CNN architecture to handle the spectrogram data.\n",
        "4. **Train and Evaluate the CNN**: Train the CNN on the training data and evaluate its performance.\n",
        "\n",
        "### Step 1: Preprocess Audio Data into Spectrograms\n"
      ],
      "id": "f89530d54cf7a69b"
    },
    {
      "metadata": {
        "ExecuteTime": {
          "end_time": "2024-05-30T06:45:14.492688Z",
          "start_time": "2024-05-30T06:45:01.304745Z"
        },
        "id": "bbc104a8ee92d462"
      },
      "cell_type": "code",
      "source": [
        "import librosa\n",
        "import numpy as np\n",
        "\n",
        "# Function to extract spectrogram features\n",
        "def extract_spectrogram(segment, sr, n_mels=128, fmax=8000):\n",
        "    spectrogram = librosa.feature.melspectrogram(y=segment, sr=sr, n_mels=n_mels, fmax=fmax)\n",
        "    spectrogram_db = librosa.power_to_db(spectrogram, ref=np.max)\n",
        "    return spectrogram_db\n",
        "\n",
        "# Apply the spectrogram extraction to all segments\n",
        "spectrogram_data = []\n",
        "for file_name, command, segment, sr in all_segments:\n",
        "    spectrogram = extract_spectrogram(segment, sr)\n",
        "    spectrogram_data.append((file_name, command, spectrogram))\n",
        "\n",
        "# Determine the maximum shape for padding\n",
        "max_shape = max([s.shape for _, _, s in spectrogram_data], key=lambda x: x[1])\n",
        "print(f\"Maximum spectrogram shape: {max_shape}\")\n"
      ],
      "id": "bbc104a8ee92d462",
      "outputs": [],
      "execution_count": null
    },
    {
      "metadata": {
        "id": "b8828d80697d8aa6"
      },
      "cell_type": "markdown",
      "source": [
        "### Step 2: Prepare Data for CNN\n"
      ],
      "id": "b8828d80697d8aa6"
    },
    {
      "metadata": {
        "ExecuteTime": {
          "end_time": "2024-05-30T06:45:15.058027Z",
          "start_time": "2024-05-30T06:45:14.495021Z"
        },
        "id": "a6d97c703fb4b6c4"
      },
      "cell_type": "code",
      "source": [
        "# Pad spectrograms to have the same shape\n",
        "padded_spectrograms = []\n",
        "for file_name, command, spectrogram in spectrogram_data:\n",
        "    pad_width = max_shape[1] - spectrogram.shape[1]\n",
        "    padded_spectrogram = np.pad(spectrogram, ((0, 0), (0, pad_width)), mode='constant')\n",
        "    padded_spectrograms.append((file_name, command, padded_spectrogram))\n",
        "\n",
        "# Convert to numpy arrays and reshape\n",
        "X_spectrogram = np.array([s for _, _, s in padded_spectrograms])\n",
        "X_spectrogram = X_spectrogram[..., np.newaxis]  # Add channel dimension\n",
        "y_spectrogram = np.array([command for _, command, _ in padded_spectrograms])\n",
        "\n",
        "# Encode string labels to numeric labels\n",
        "y_encoded = label_encoder.transform(y_spectrogram)\n",
        "y_categorical = to_categorical(y_encoded)\n",
        "\n",
        "# Split data into training and validation sets\n",
        "X_train, X_val, y_train, y_val = train_test_split(X_spectrogram, y_categorical, test_size=0.2, random_state=42)\n",
        "\n",
        "# Print shapes for debugging\n",
        "print(f\"X_train shape: {X_train.shape}\")\n",
        "print(f\"X_val shape: {X_val.shape}\")\n",
        "print(f\"y_train shape: {y_train.shape}\")\n",
        "print(f\"y_val shape: {y_val.shape}\")\n"
      ],
      "id": "a6d97c703fb4b6c4",
      "outputs": [],
      "execution_count": null
    },
    {
      "metadata": {
        "id": "57837854975c594f"
      },
      "cell_type": "markdown",
      "source": [
        "### Step 3: Define a More Complex CNN\n"
      ],
      "id": "57837854975c594f"
    },
    {
      "metadata": {
        "ExecuteTime": {
          "end_time": "2024-05-30T06:45:21.029769Z",
          "start_time": "2024-05-30T06:45:20.957345Z"
        },
        "id": "b0f2f73ffb9956b7"
      },
      "cell_type": "code",
      "source": [
        "from tensorflow.keras.models import Sequential\n",
        "from tensorflow.keras.layers import Conv2D, MaxPooling2D, Flatten, Dense, Dropout\n",
        "\n",
        "# Define a more complex CNN model\n",
        "def create_complex_cnn_model(input_shape, num_classes):\n",
        "    model = Sequential([\n",
        "        Conv2D(32, kernel_size=(3, 3), activation='relu', input_shape=input_shape),\n",
        "        MaxPooling2D(pool_size=(2, 2)),\n",
        "        Dropout(0.25),\n",
        "        Conv2D(64, kernel_size=(3, 3), activation='relu'),\n",
        "        MaxPooling2D(pool_size=(2, 2)),\n",
        "        Dropout(0.25),\n",
        "        Conv2D(128, kernel_size=(3, 3), activation='relu'),\n",
        "        MaxPooling2D(pool_size=(2, 2)),\n",
        "        Flatten(),\n",
        "        Dense(256, activation='relu'),\n",
        "        Dropout(0.5),\n",
        "        Dense(num_classes, activation='softmax')\n",
        "    ])\n",
        "    model.compile(optimizer='adam', loss='categorical_crossentropy', metrics=['accuracy'])\n",
        "    return model\n",
        "\n",
        "# Create and train the complex CNN model\n",
        "input_shape = (X_train.shape[1], X_train.shape[2], X_train.shape[3])\n",
        "num_classes = y_train.shape[1]\n",
        "complex_cnn_model = create_complex_cnn_model(input_shape, num_classes)\n"
      ],
      "id": "b0f2f73ffb9956b7",
      "outputs": [],
      "execution_count": null
    },
    {
      "metadata": {
        "id": "463fef3e4c38ccdb"
      },
      "cell_type": "markdown",
      "source": [
        "### Step 4: Train and Evaluate the CNN\n"
      ],
      "id": "463fef3e4c38ccdb"
    },
    {
      "metadata": {
        "jupyter": {
          "is_executing": true
        },
        "ExecuteTime": {
          "start_time": "2024-05-30T06:45:25.232219Z"
        },
        "id": "24ac6f90c89fced1"
      },
      "cell_type": "code",
      "source": [
        "# Train the complex CNN model\n",
        "complex_cnn_model.fit(X_train, y_train, epochs=20, batch_size=32, validation_data=(X_val, y_val))\n",
        "\n",
        "# Evaluate the CNN model\n",
        "cnn_eval = complex_cnn_model.evaluate(X_val, y_val)\n",
        "print(f\"CNN Model Accuracy: {cnn_eval[1]}\")\n",
        "\n",
        "# Make predictions\n",
        "y_pred_cnn = complex_cnn_model.predict(X_val)\n",
        "y_pred_cnn_classes = np.argmax(y_pred_cnn, axis=1)\n",
        "y_val_classes = np.argmax(y_val, axis=1)\n",
        "\n",
        "# Print classification report\n",
        "print(\"CNN Classifier Report\")\n",
        "print(classification_report(y_val_classes, y_pred_cnn_classes, zero_division=0))\n",
        "\n",
        "# Plot confusion matrix for CNN\n",
        "plot_confusion_matrix(y_val_classes, y_pred_cnn_classes, labels, title='Confusion Matrix - CNN')\n"
      ],
      "id": "24ac6f90c89fced1",
      "outputs": [],
      "execution_count": null
    },
    {
      "metadata": {
        "id": "ed5251e29cef6c7f"
      },
      "cell_type": "markdown",
      "source": [
        "### Summary\n",
        "\n",
        "1. **Preprocess Audio Data**: Convert audio segments to Mel spectrograms.\n",
        "2. **Prepare Data**: Pad spectrograms to the same shape and split the data into training and validation sets.\n",
        "3. **Define CNN**: Use a more complex CNN architecture to handle the spectrogram data.\n",
        "4. **Train and Evaluate**: Train the CNN and evaluate its performance, then compare with the other classifiers.\n",
        "\n",
        "Run the above code step-by-step to see how the CNN performs with the spectrogram data. If you encounter any issues or need further adjustments, please let me know!"
      ],
      "id": "ed5251e29cef6c7f"
    },
    {
      "metadata": {
        "id": "87dac895cfaa0575"
      },
      "cell_type": "markdown",
      "source": [
        "## Variant: Spectrograms and Conv1D CNN\n",
        "\n",
        "1. **Prepare Data for Conv1D Model**: Ensure the data is in the right shape and format for the Conv1D model.\n",
        "2. **Define the Conv1D Model**: Use the provided Conv1D architecture.\n",
        "3. **Train and Evaluate the Conv1D Model**: Train the Conv1D model on the training data and evaluate its performance.\n",
        "\n",
        "### Step 1: Prepare Data for Conv1D Model\n",
        "\n",
        "The Conv1D model expects the data to have the shape `(num_samples, timesteps, features)`. Since we have spectrogram data, we can treat each column of the spectrogram as a timestep.\n"
      ],
      "id": "87dac895cfaa0575"
    },
    {
      "metadata": {
        "ExecuteTime": {
          "end_time": "2024-05-30T04:18:46.949218Z",
          "start_time": "2024-05-30T04:18:33.380233Z"
        },
        "id": "e62e9348974175c6"
      },
      "cell_type": "code",
      "source": [
        "import librosa\n",
        "import numpy as np\n",
        "from tensorflow.keras.utils import to_categorical\n",
        "\n",
        "# Function to extract spectrogram features\n",
        "def extract_spectrogram(segment, sr, n_mels=128, fmax=8000):\n",
        "    spectrogram = librosa.feature.melspectrogram(y=segment, sr=sr, n_mels=n_mels, fmax=fmax)\n",
        "    spectrogram_db = librosa.power_to_db(spectrogram, ref=np.max)\n",
        "    return spectrogram_db\n",
        "\n",
        "# Apply the spectrogram extraction to all segments\n",
        "spectrogram_data = []\n",
        "for file_name, command, segment, sr in all_segments:\n",
        "    spectrogram = extract_spectrogram(segment, sr)\n",
        "    spectrogram_data.append((file_name, command, spectrogram))\n",
        "\n",
        "# Determine the maximum shape for padding\n",
        "max_shape = max([s.shape for _, _, s in spectrogram_data], key=lambda x: x[1])\n",
        "print(f\"Maximum spectrogram shape: {max_shape}\")\n",
        "\n",
        "# Pad spectrograms to have the same shape\n",
        "padded_spectrograms = []\n",
        "for file_name, command, spectrogram in spectrogram_data:\n",
        "    pad_width = max_shape[1] - spectrogram.shape[1]\n",
        "    padded_spectrogram = np.pad(spectrogram, ((0, 0), (0, pad_width)), mode='constant')\n",
        "    padded_spectrograms.append((file_name, command, padded_spectrogram))\n",
        "\n",
        "# Convert to numpy arrays and reshape\n",
        "X_spectrogram = np.array([s for _, _, s in padded_spectrograms])\n",
        "X_spectrogram = X_spectrogram.transpose((0, 2, 1))  # Transpose to (num_samples, timesteps, n_mels)\n",
        "X_spectrogram = X_spectrogram[..., np.newaxis]  # Add channel dimension\n",
        "y_spectrogram = np.array([command for _, command, _ in padded_spectrograms])\n",
        "\n",
        "# Encode string labels to numeric labels\n",
        "y_encoded = label_encoder.transform(y_spectrogram)\n",
        "y_categorical = to_categorical(y_encoded)\n",
        "\n",
        "# Split data into training and validation sets\n",
        "X_train, X_val, y_train, y_val = train_test_split(X_spectrogram, y_categorical, test_size=0.2, random_state=42)\n",
        "\n",
        "# Print shapes for debugging\n",
        "print(f\"X_train shape: {X_train.shape}\")\n",
        "print(f\"X_val shape: {X_val.shape}\")\n",
        "print(f\"y_train shape: {y_train.shape}\")\n",
        "print(f\"y_val shape: {y_val.shape}\")\n"
      ],
      "id": "e62e9348974175c6",
      "outputs": [],
      "execution_count": null
    },
    {
      "metadata": {
        "id": "23681fa9cb36a8f0"
      },
      "cell_type": "markdown",
      "source": [
        "### Step 2: Define the Conv1D Model\n",
        "\n",
        "Use the provided Conv1D architecture:\n"
      ],
      "id": "23681fa9cb36a8f0"
    },
    {
      "metadata": {
        "ExecuteTime": {
          "end_time": "2024-05-30T04:19:16.635493Z",
          "start_time": "2024-05-30T04:19:16.554526Z"
        },
        "id": "3d3373d3d8bc42a1"
      },
      "cell_type": "code",
      "source": [
        "from tensorflow.keras.models import Sequential\n",
        "from tensorflow.keras.layers import Conv1D, MaxPooling1D, Flatten, Dense, Dropout, Input\n",
        "\n",
        "# Define the Conv1D model with Input layer\n",
        "input_shape = (X_train.shape[1], X_train.shape[2])\n",
        "\n",
        "model = Sequential([\n",
        "    Input(shape=input_shape),  # Use Input layer to define the input shape\n",
        "    # First Conv1D layer\n",
        "    Conv1D(filters=8, kernel_size=3, padding='valid', activation='relu', strides=1),\n",
        "    MaxPooling1D(pool_size=2),\n",
        "    Dropout(0.3),\n",
        "\n",
        "    # Second Conv1D layer\n",
        "    Conv1D(filters=16, kernel_size=3, padding='valid', activation='relu', strides=1),\n",
        "    MaxPooling1D(pool_size=2),\n",
        "    Dropout(0.3),\n",
        "\n",
        "    # Third Conv1D layer\n",
        "    Conv1D(filters=32, kernel_size=3, padding='valid', activation='relu', strides=1),\n",
        "    MaxPooling1D(pool_size=2),\n",
        "    Dropout(0.3),\n",
        "\n",
        "    # Fourth Conv1D layer\n",
        "    Conv1D(filters=64, kernel_size=3, padding='valid', activation='relu', strides=1),\n",
        "    MaxPooling1D(pool_size=2),\n",
        "    Dropout(0.3),\n",
        "\n",
        "    # Flatten layer\n",
        "    Flatten(),\n",
        "\n",
        "    # Dense Layer 1\n",
        "    Dense(256, activation='relu'),\n",
        "    Dropout(0.3),\n",
        "\n",
        "    # Dense Layer 2\n",
        "    Dense(128, activation='relu'),\n",
        "    Dropout(0.3),\n",
        "\n",
        "    # Output layer\n",
        "    Dense(num_classes, activation='softmax')\n",
        "])\n",
        "\n",
        "model.compile(optimizer='adam', loss='categorical_crossentropy', metrics=['accuracy'])\n",
        "\n",
        "# Print model summary for debugging\n",
        "model.summary()\n"
      ],
      "id": "3d3373d3d8bc42a1",
      "outputs": [],
      "execution_count": null
    },
    {
      "metadata": {
        "id": "1df1594a2b41af5b"
      },
      "cell_type": "markdown",
      "source": [
        "### Step 3: Train and Evaluate the Conv1D Model\n"
      ],
      "id": "1df1594a2b41af5b"
    },
    {
      "metadata": {
        "ExecuteTime": {
          "end_time": "2024-05-30T04:19:54.524356Z",
          "start_time": "2024-05-30T04:19:34.637476Z"
        },
        "id": "8e8606edbe9420e6"
      },
      "cell_type": "code",
      "source": [
        "# Train the Conv1D model\n",
        "model.fit(X_train, y_train, epochs=20, batch_size=32, validation_data=(X_val, y_val))\n",
        "\n",
        "# Evaluate the Conv1D model\n",
        "cnn_eval = model.evaluate(X_val, y_val)\n",
        "print(f\"Conv1D Model Accuracy: {cnn_eval[1]}\")\n",
        "\n",
        "# Make predictions\n",
        "y_pred_cnn = model.predict(X_val)\n",
        "y_pred_cnn_classes = np.argmax(y_pred_cnn, axis=1)\n",
        "y_val_classes = np.argmax(y_val, axis=1)\n",
        "\n",
        "# Print classification report\n",
        "print(\"Conv1D Classifier Report\")\n",
        "print(classification_report(y_val_classes, y_pred_cnn_classes, zero_division=0))\n",
        "\n",
        "# Plot confusion matrix for Conv1D\n",
        "plot_confusion_matrix(y_val_classes, y_pred_cnn_classes, labels, title='Confusion Matrix - Conv1D')\n"
      ],
      "id": "8e8606edbe9420e6",
      "outputs": [],
      "execution_count": null
    },
    {
      "metadata": {
        "id": "121f25d6ff3893b2"
      },
      "cell_type": "markdown",
      "source": [
        "### Summary\n",
        "\n",
        "1. **Prepare Data**: Reshape the spectrogram data for the Conv1D model.\n",
        "2. **Define Conv1D Model**: Use the provided Conv1D architecture.\n",
        "3. **Train and Evaluate**: Train the Conv1D model and evaluate its performance.\n",
        "\n",
        "Run the above code step-by-step to see how the Conv1D model performs with the spectrogram data. If you encounter any issues or need further adjustments, please let me know!"
      ],
      "id": "121f25d6ff3893b2"
    },
    {
      "metadata": {
        "ExecuteTime": {
          "end_time": "2024-05-30T04:20:19.852913Z",
          "start_time": "2024-05-30T04:20:19.831603Z"
        },
        "id": "354a29839e391ec1"
      },
      "cell_type": "code",
      "source": [
        "import pandas as pd\n",
        "\n",
        "# Load the CSV files\n",
        "scene_annotations_df = pd.read_csv(f'{data_dir}/development_scene_annotations.csv')\n",
        "scenes_df = pd.read_csv(f'{data_dir}/development_scenes.csv')\n",
        "\n",
        "# Check the head of the dataframes to understand their structure\n",
        "print(scene_annotations_df.head())\n",
        "print(scenes_df.head())\n",
        "\n",
        "# Check the distribution of labels in the annotations CSV\n",
        "label_distribution_annotations = scene_annotations_df['command'].value_counts()\n",
        "print(\"Label Distribution in development_scene_annotations.csv:\")\n",
        "print(label_distribution_annotations)\n",
        "\n",
        "# Check the distribution of speaker IDs in the scenes CSV\n",
        "label_distribution_scenes = scenes_df['speaker_id'].value_counts()\n",
        "print(\"Label Distribution in development_scenes.csv:\")\n",
        "print(label_distribution_scenes)\n"
      ],
      "id": "354a29839e391ec1",
      "outputs": [],
      "execution_count": null
    },
    {
      "metadata": {
        "id": "da885cc4757f4456"
      },
      "cell_type": "code",
      "source": [],
      "id": "da885cc4757f4456",
      "outputs": [],
      "execution_count": null
    }
  ],
  "metadata": {
    "kernelspec": {
      "display_name": "Python 3",
      "name": "python3"
    },
    "language_info": {
      "codemirror_mode": {
        "name": "ipython",
        "version": 2
      },
      "file_extension": ".py",
      "mimetype": "text/x-python",
      "name": "python",
      "nbconvert_exporter": "python",
      "pygments_lexer": "ipython2",
      "version": "2.7.6"
    },
    "colab": {
      "provenance": [],
      "include_colab_link": true
    }
  },
  "nbformat": 4,
  "nbformat_minor": 5
}