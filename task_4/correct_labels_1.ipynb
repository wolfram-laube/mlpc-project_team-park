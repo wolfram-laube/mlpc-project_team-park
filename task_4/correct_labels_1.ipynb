{
 "cells": [
  {
   "metadata": {},
   "cell_type": "code",
   "outputs": [],
   "execution_count": null,
   "source": [
    "Sure, let's go ahead with the steps to rename the original file, apply the corrections, and save the corrected data to a new CSV file.\n",
    "\n",
    "### Step-by-Step Code to Apply Corrections and Save\n",
    "\n",
    "1. **Rename the Original File**: Rename `development_scene_annotations.csv` to `development_scene_annotations.csv.orig`.\n",
    "2. **Apply the Corrections**: Use the correction function to update the labels.\n",
    "3. **Save the Corrected Data**: Save the corrected DataFrame to a new `development_scene_annotations.csv`.\n",
    "\n",
    "### Step 1: Rename the Original File\n",
    "\n",
    "```python"
   ],
   "id": "f4f65f760eb6dad8"
  },
  {
   "metadata": {},
   "cell_type": "code",
   "outputs": [],
   "execution_count": null,
   "source": [
    "import os\n",
    "\n",
    "# Path to the original file\n",
    "original_file_path = '/path/to/development_scene_annotations.csv'\n",
    "backup_file_path = '/path/to/development_scene_annotations.csv.orig'\n",
    "\n",
    "# Rename the file\n",
    "os.rename(original_file_path, backup_file_path)"
   ],
   "id": "6c0a2e9a2a6b8042"
  },
  {
   "metadata": {},
   "cell_type": "code",
   "outputs": [],
   "execution_count": null,
   "source": [
    "```\n",
    "\n",
    "### Step 2: Apply the Corrections\n",
    "\n",
    "```python"
   ],
   "id": "30cb367829402bb4"
  },
  {
   "metadata": {},
   "cell_type": "code",
   "outputs": [],
   "execution_count": null,
   "source": [
    "import pandas as pd\n",
    "\n",
    "# Load the original annotations CSV (now renamed to .orig)\n",
    "scene_annotations_df = pd.read_csv(backup_file_path)\n",
    "\n",
    "# Define a mapping based on filename patterns\n",
    "command_mapping = {\n",
    "    'Ofen_aus': 'Ofen aus',\n",
    "    'Radio_an': 'Radio an',\n",
    "    'Alarm_an': 'Alarm an',\n",
    "    'Radio_aus': 'Radio aus',\n",
    "    'Fernseher_aus': 'Fernseher aus',\n",
    "    'Staubsauger_an': 'Staubsauger an',\n",
    "    'Staubsauger_aus': 'Staubsauger aus'\n",
    "    # Add more mappings as necessary\n",
    "}\n",
    "\n",
    "# Function to automatically correct labels\n",
    "def auto_correct_label(row):\n",
    "    filename = row['filename']\n",
    "    for key, value in command_mapping.items():\n",
    "        if key in filename:\n",
    "            return value\n",
    "    return row['command']\n",
    "\n",
    "# Apply the automatic correction\n",
    "scene_annotations_df['command'] = scene_annotations_df.apply(auto_correct_label, axis=1)"
   ],
   "id": "3f3684989b47f9f6"
  },
  {
   "metadata": {},
   "cell_type": "code",
   "outputs": [],
   "execution_count": null,
   "source": [
    "```\n",
    "\n",
    "### Step 3: Save the Corrected Data\n",
    "\n",
    "```python"
   ],
   "id": "2bebdd7565ffcb70"
  },
  {
   "metadata": {},
   "cell_type": "code",
   "outputs": [],
   "execution_count": null,
   "source": [
    "# Save the corrected DataFrame to a new CSV file\n",
    "corrected_file_path = '/path/to/development_scene_annotations.csv'\n",
    "scene_annotations_df.to_csv(corrected_file_path, index=False)"
   ],
   "id": "28057adcef7a8f98"
  },
  {
   "metadata": {},
   "cell_type": "code",
   "outputs": [],
   "execution_count": null,
   "source": [
    "```\n",
    "\n",
    "### Full Script\n",
    "\n",
    "Here is the full script combining all the steps:\n",
    "\n",
    "```python"
   ],
   "id": "c5e1f6e69da02749"
  },
  {
   "metadata": {
    "ExecuteTime": {
     "end_time": "2024-05-29T23:59:37.728140Z",
     "start_time": "2024-05-29T23:59:36.132752Z"
    }
   },
   "cell_type": "code",
   "source": [
    "import os\n",
    "import re\n",
    "import shutil\n",
    "import pandas as pd\n",
    "\n",
    "# Paths to the original and working copy files\n",
    "original_file_path = '../dataset/development_scene_annotations.csv.orig'\n",
    "working_copy_path = '../dataset/development_scene_annotations.csv.0'\n",
    "corrected_file_path = '../dataset/development_scene_annotations.csv'\n",
    "\n",
    "# Step 1: Create a working copy of the original file\n",
    "shutil.copy(original_file_path, working_copy_path)\n",
    "\n",
    "# Step 2: Load the working copy into a DataFrame\n",
    "df = pd.read_csv(working_copy_path)\n",
    "\n",
    "# Define the pattern to parse the filename\n",
    "filename_pattern = re.compile(r'(\\d+)_speech_(true|false)_((?:[a-zA-ZäöüÄÖÜß]+_(?:an|aus)_?)+)', re.UNICODE)\n",
    "\n",
    "# Function to parse filename and extract commands\n",
    "def parse_filename(filename):\n",
    "    match = filename_pattern.match(filename)\n",
    "    if not match:\n",
    "        return []\n",
    "    \n",
    "    commands_str = match.group(3)\n",
    "    commands = commands_str.split('_')\n",
    "    \n",
    "    command_list = []\n",
    "    for i in range(0, len(commands), 2):\n",
    "        command_list.append(f\"{commands[i]} {commands[i+1]}\")\n",
    "    \n",
    "    return command_list\n",
    "\n",
    "# Parse the commands from filenames and add to the DataFrame\n",
    "df['parsed_commands'] = df['filename'].apply(parse_filename)\n",
    "\n",
    "# Step 3: Group by filename and sort by start time\n",
    "grouped = df.groupby('filename').apply(lambda x: x.sort_values(by='start')).reset_index(drop=True)\n",
    "\n",
    "# Step 4: Assign the correct labels based on the order of commands in the filename\n",
    "def assign_labels(group):\n",
    "    commands = group['parsed_commands'].iloc[0]  # get the parsed commands from the first row\n",
    "    group = group.reset_index(drop=True)\n",
    "    for i in range(len(group)):\n",
    "        if i < len(commands):\n",
    "            group.at[i, 'command'] = commands[i]\n",
    "        else:\n",
    "            print(f\"Warning: More segments than commands in {group['filename'].iloc[0]}\")\n",
    "    return group\n",
    "\n",
    "# Apply the label assignment function\n",
    "corrected_df = grouped.groupby('filename').apply(assign_labels).reset_index(drop=True)\n",
    "\n",
    "# Drop the temporary column\n",
    "corrected_df = corrected_df.drop(columns=['parsed_commands'])\n",
    "\n",
    "# Step 5: Save the corrected DataFrame to a new CSV file\n",
    "corrected_df.to_csv(corrected_file_path, index=False)\n",
    "\n",
    "# Verify the saved corrections\n",
    "print(\"Label corrections applied and saved successfully.\")\n",
    "print(corrected_df.head())\n"
   ],
   "id": "ae28b29921ffac68",
   "outputs": [
    {
     "name": "stdout",
     "output_type": "stream",
     "text": [
      "Label corrections applied and saved successfully.\n",
      "                        filename       command     start       end\n",
      "0    1003_speech_false_Licht_aus     Licht aus  12.20090  13.57599\n",
      "1       1008_speech_true_Ofen_an       Ofen an   6.90112   8.52638\n",
      "2      1010_speech_true_Radio_an      Radio an  13.03100  14.03146\n",
      "3  1011_speech_true_Fernseher_an  Fernseher an  14.11030  15.36121\n",
      "4   1012_speech_true_Heizung_aus   Heizung aus  11.20520  12.70590\n"
     ]
    }
   ],
   "execution_count": 22
  },
  {
   "metadata": {
    "ExecuteTime": {
     "end_time": "2024-05-29T23:20:52.921863Z",
     "start_time": "2024-05-29T23:20:52.918280Z"
    }
   },
   "cell_type": "code",
   "source": [
    "``\n",
    "\n",
    "Run this script to apply the corrections and save the updated labels to `development_scene_annotations.csv`. Let me know if you need any further assistance!"
   ],
   "id": "ac1a0faf08627c2b",
   "outputs": [
    {
     "ename": "SyntaxError",
     "evalue": "invalid syntax (954856008.py, line 1)",
     "output_type": "error",
     "traceback": [
      "\u001B[0;36m  Cell \u001B[0;32mIn[17], line 1\u001B[0;36m\u001B[0m\n\u001B[0;31m    ``\u001B[0m\n\u001B[0m    ^\u001B[0m\n\u001B[0;31mSyntaxError\u001B[0m\u001B[0;31m:\u001B[0m invalid syntax\n"
     ]
    }
   ],
   "execution_count": 17
  },
  {
   "metadata": {},
   "cell_type": "code",
   "outputs": [],
   "execution_count": null,
   "source": "",
   "id": "16e7a3de93e47056"
  }
 ],
 "metadata": {
  "kernelspec": {
   "display_name": "Python 3",
   "language": "python",
   "name": "python3"
  },
  "language_info": {
   "codemirror_mode": {
    "name": "ipython",
    "version": 2
   },
   "file_extension": ".py",
   "mimetype": "text/x-python",
   "name": "python",
   "nbconvert_exporter": "python",
   "pygments_lexer": "ipython2",
   "version": "2.7.6"
  }
 },
 "nbformat": 4,
 "nbformat_minor": 5
}
